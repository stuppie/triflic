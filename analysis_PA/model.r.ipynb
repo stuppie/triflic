{
 "cells": [
  {
   "cell_type": "code",
   "execution_count": 13,
   "metadata": {
    "collapsed": false,
    "deletable": true,
    "editable": true
   },
   "outputs": [
    {
     "data": {
      "text/html": [
       "<table>\n",
       "<thead><tr><th scope=col>X</th><th scope=col>files</th><th scope=col>membrane</th><th scope=col>method</th><th scope=col>non.membrane</th><th scope=col>ratio</th><th scope=col>type</th></tr></thead>\n",
       "<tbody>\n",
       "\t<tr><td>2                                          </td><td>data/Sonic/PA sonic 3.txt                  </td><td> 783.0333                                  </td><td>sonic                                      </td><td>19677.97                                   </td><td>3.224080                                   </td><td>Sonic                                      </td></tr>\n",
       "\t<tr><td>5                                          </td><td>data/Sonic/PA sonic 1.txt                  </td><td> 947.7000                                  </td><td>sonic                                      </td><td>23975.30                                   </td><td>3.230741                                   </td><td>Sonic                                      </td></tr>\n",
       "\t<tr><td>6                                          </td><td>data/Sonic/PA sonic 4.txt                  </td><td> 502.2167                                  </td><td>sonic                                      </td><td>13770.78                                   </td><td>3.311273                                   </td><td>Sonic                                      </td></tr>\n",
       "\t<tr><td>1                                          </td><td>data/Triflic/PA triflic 5.txt              </td><td>1983.4333                                  </td><td>tri                                        </td><td>16527.57                                   </td><td>2.120200                                   </td><td>Triflic                                    </td></tr>\n",
       "\t<tr><td>3                                          </td><td>data/Triflic/PA triflic 3.txt              </td><td>2181.5667                                  </td><td>tri                                        </td><td>16562.43                                   </td><td>2.027094                                   </td><td>Triflic                                    </td></tr>\n",
       "\t<tr><td>8                                          </td><td>data/Triflic/PA triflic 4.txt              </td><td>2022.0167                                  </td><td>tri                                        </td><td>16973.98                                   </td><td>2.127586                                   </td><td>Triflic                                    </td></tr>\n",
       "\t<tr><td>0                                          </td><td>data/pellet triflic/PA pellet triflic 3.txt</td><td>4465.4667                                  </td><td>tri                                        </td><td>14729.53                                   </td><td>1.193481                                   </td><td>pellet triflic                             </td></tr>\n",
       "\t<tr><td>4                                          </td><td>data/pellet triflic/PA pellet triflic 4.txt</td><td>4086.5500                                  </td><td>tri                                        </td><td>14027.45                                   </td><td>1.233315                                   </td><td>pellet triflic                             </td></tr>\n",
       "\t<tr><td>7                                          </td><td>data/pellet triflic/PA pellet triflic 2.txt</td><td>5504.2833                                  </td><td>tri                                        </td><td>18435.72                                   </td><td>1.208763                                   </td><td>pellet triflic                             </td></tr>\n",
       "</tbody>\n",
       "</table>\n"
      ],
      "text/latex": [
       "\\begin{tabular}{r|lllllll}\n",
       " X & files & membrane & method & non.membrane & ratio & type\\\\\n",
       "\\hline\n",
       "\t 2                                           & data/Sonic/PA sonic 3.txt                   &  783.0333                                   & sonic                                       & 19677.97                                    & 3.224080                                    & Sonic                                      \\\\\n",
       "\t 5                                           & data/Sonic/PA sonic 1.txt                   &  947.7000                                   & sonic                                       & 23975.30                                    & 3.230741                                    & Sonic                                      \\\\\n",
       "\t 6                                           & data/Sonic/PA sonic 4.txt                   &  502.2167                                   & sonic                                       & 13770.78                                    & 3.311273                                    & Sonic                                      \\\\\n",
       "\t 1                                           & data/Triflic/PA triflic 5.txt               & 1983.4333                                   & tri                                         & 16527.57                                    & 2.120200                                    & Triflic                                    \\\\\n",
       "\t 3                                           & data/Triflic/PA triflic 3.txt               & 2181.5667                                   & tri                                         & 16562.43                                    & 2.027094                                    & Triflic                                    \\\\\n",
       "\t 8                                           & data/Triflic/PA triflic 4.txt               & 2022.0167                                   & tri                                         & 16973.98                                    & 2.127586                                    & Triflic                                    \\\\\n",
       "\t 0                                           & data/pellet triflic/PA pellet triflic 3.txt & 4465.4667                                   & tri                                         & 14729.53                                    & 1.193481                                    & pellet triflic                             \\\\\n",
       "\t 4                                           & data/pellet triflic/PA pellet triflic 4.txt & 4086.5500                                   & tri                                         & 14027.45                                    & 1.233315                                    & pellet triflic                             \\\\\n",
       "\t 7                                           & data/pellet triflic/PA pellet triflic 2.txt & 5504.2833                                   & tri                                         & 18435.72                                    & 1.208763                                    & pellet triflic                             \\\\\n",
       "\\end{tabular}\n"
      ],
      "text/markdown": [
       "\n",
       "X | files | membrane | method | non.membrane | ratio | type | \n",
       "|---|---|---|---|---|---|---|---|---|\n",
       "| 2                                           | data/Sonic/PA sonic 3.txt                   |  783.0333                                   | sonic                                       | 19677.97                                    | 3.224080                                    | Sonic                                       | \n",
       "| 5                                           | data/Sonic/PA sonic 1.txt                   |  947.7000                                   | sonic                                       | 23975.30                                    | 3.230741                                    | Sonic                                       | \n",
       "| 6                                           | data/Sonic/PA sonic 4.txt                   |  502.2167                                   | sonic                                       | 13770.78                                    | 3.311273                                    | Sonic                                       | \n",
       "| 1                                           | data/Triflic/PA triflic 5.txt               | 1983.4333                                   | tri                                         | 16527.57                                    | 2.120200                                    | Triflic                                     | \n",
       "| 3                                           | data/Triflic/PA triflic 3.txt               | 2181.5667                                   | tri                                         | 16562.43                                    | 2.027094                                    | Triflic                                     | \n",
       "| 8                                           | data/Triflic/PA triflic 4.txt               | 2022.0167                                   | tri                                         | 16973.98                                    | 2.127586                                    | Triflic                                     | \n",
       "| 0                                           | data/pellet triflic/PA pellet triflic 3.txt | 4465.4667                                   | tri                                         | 14729.53                                    | 1.193481                                    | pellet triflic                              | \n",
       "| 4                                           | data/pellet triflic/PA pellet triflic 4.txt | 4086.5500                                   | tri                                         | 14027.45                                    | 1.233315                                    | pellet triflic                              | \n",
       "| 7                                           | data/pellet triflic/PA pellet triflic 2.txt | 5504.2833                                   | tri                                         | 18435.72                                    | 1.208763                                    | pellet triflic                              | \n",
       "\n",
       "\n"
      ],
      "text/plain": [
       "  X files                                       membrane  method non.membrane\n",
       "1 2 data/Sonic/PA sonic 3.txt                    783.0333 sonic  19677.97    \n",
       "2 5 data/Sonic/PA sonic 1.txt                    947.7000 sonic  23975.30    \n",
       "3 6 data/Sonic/PA sonic 4.txt                    502.2167 sonic  13770.78    \n",
       "4 1 data/Triflic/PA triflic 5.txt               1983.4333 tri    16527.57    \n",
       "5 3 data/Triflic/PA triflic 3.txt               2181.5667 tri    16562.43    \n",
       "6 8 data/Triflic/PA triflic 4.txt               2022.0167 tri    16973.98    \n",
       "7 0 data/pellet triflic/PA pellet triflic 3.txt 4465.4667 tri    14729.53    \n",
       "8 4 data/pellet triflic/PA pellet triflic 4.txt 4086.5500 tri    14027.45    \n",
       "9 7 data/pellet triflic/PA pellet triflic 2.txt 5504.2833 tri    18435.72    \n",
       "  ratio    type          \n",
       "1 3.224080 Sonic         \n",
       "2 3.230741 Sonic         \n",
       "3 3.311273 Sonic         \n",
       "4 2.120200 Triflic       \n",
       "5 2.027094 Triflic       \n",
       "6 2.127586 Triflic       \n",
       "7 1.193481 pellet triflic\n",
       "8 1.233315 pellet triflic\n",
       "9 1.208763 pellet triflic"
      ]
     },
     "metadata": {},
     "output_type": "display_data"
    }
   ],
   "source": [
    "df = as.data.frame(read.csv(\"df_out.csv\"))\n",
    "df$method = as.factor(df$method)\n",
    "df$type = as.factor(df$type)\n",
    "df$type = relevel(df$type, \"Sonic\")\n",
    "df"
   ]
  },
  {
   "cell_type": "code",
   "execution_count": 14,
   "metadata": {
    "collapsed": false,
    "deletable": true,
    "editable": true
   },
   "outputs": [
    {
     "data": {
      "text/plain": [
       "\n",
       "Call:\n",
       "lm(formula = ratio ~ type, data = df)\n",
       "\n",
       "Residuals:\n",
       "     Min       1Q   Median       3Q      Max \n",
       "-0.06453 -0.02462 -0.00309  0.02857  0.05591 \n",
       "\n",
       "Coefficients:\n",
       "                   Estimate Std. Error t value Pr(>|t|)    \n",
       "(Intercept)          3.2554     0.0256  127.18 1.59e-11 ***\n",
       "typepellet triflic  -2.0435     0.0362  -56.45 2.07e-09 ***\n",
       "typeTriflic         -1.1637     0.0362  -32.15 6.02e-08 ***\n",
       "---\n",
       "Signif. codes:  0 ‘***’ 0.001 ‘**’ 0.01 ‘*’ 0.05 ‘.’ 0.1 ‘ ’ 1\n",
       "\n",
       "Residual standard error: 0.04433 on 6 degrees of freedom\n",
       "Multiple R-squared:  0.9981,\tAdjusted R-squared:  0.9975 \n",
       "F-statistic:  1604 on 2 and 6 DF,  p-value: 6.509e-09\n"
      ]
     },
     "metadata": {},
     "output_type": "display_data"
    }
   ],
   "source": [
    "lmfit = lm( ratio ~ type, data = df )\n",
    "summary(lmfit)"
   ]
  },
  {
   "cell_type": "code",
   "execution_count": 15,
   "metadata": {
    "collapsed": false,
    "deletable": true,
    "editable": true
   },
   "outputs": [
    {
     "data": {
      "text/html": [
       "<table>\n",
       "<thead><tr><th></th><th scope=col>Df</th><th scope=col>Sum Sq</th><th scope=col>Mean Sq</th><th scope=col>F value</th><th scope=col>Pr(&gt;F)</th></tr></thead>\n",
       "<tbody>\n",
       "\t<tr><th scope=row>type</th><td>2           </td><td>6.30422696  </td><td>3.152113480 </td><td>1603.784    </td><td>6.508655e-09</td></tr>\n",
       "\t<tr><th scope=row>Residuals</th><td>6           </td><td>0.01179254  </td><td>0.001965423 </td><td>      NA    </td><td>          NA</td></tr>\n",
       "</tbody>\n",
       "</table>\n"
      ],
      "text/latex": [
       "\\begin{tabular}{r|lllll}\n",
       "  & Df & Sum Sq & Mean Sq & F value & Pr(>F)\\\\\n",
       "\\hline\n",
       "\ttype & 2            & 6.30422696   & 3.152113480  & 1603.784     & 6.508655e-09\\\\\n",
       "\tResiduals & 6            & 0.01179254   & 0.001965423  &       NA     &           NA\\\\\n",
       "\\end{tabular}\n"
      ],
      "text/markdown": [
       "\n",
       "| <!--/--> | Df | Sum Sq | Mean Sq | F value | Pr(>F) | \n",
       "|---|---|\n",
       "| type | 2            | 6.30422696   | 3.152113480  | 1603.784     | 6.508655e-09 | \n",
       "| Residuals | 6            | 0.01179254   | 0.001965423  |       NA     |           NA | \n",
       "\n",
       "\n"
      ],
      "text/plain": [
       "          Df Sum Sq     Mean Sq     F value  Pr(>F)      \n",
       "type      2  6.30422696 3.152113480 1603.784 6.508655e-09\n",
       "Residuals 6  0.01179254 0.001965423       NA           NA"
      ]
     },
     "metadata": {},
     "output_type": "display_data"
    }
   ],
   "source": [
    "anova(lmfit)"
   ]
  },
  {
   "cell_type": "code",
   "execution_count": 16,
   "metadata": {
    "collapsed": false,
    "deletable": true,
    "editable": true
   },
   "outputs": [
    {
     "data": {
      "text/html": [
       "<dl class=dl-horizontal>\n",
       "\t<dt>(Intercept)</dt>\n",
       "\t\t<dd>3.25536461296674</dd>\n",
       "\t<dt>typepellet triflic</dt>\n",
       "\t\t<dd>-2.04351155188034</dd>\n",
       "\t<dt>typeTriflic</dt>\n",
       "\t\t<dd>-1.16373775763629</dd>\n",
       "</dl>\n"
      ],
      "text/latex": [
       "\\begin{description*}\n",
       "\\item[(Intercept)] 3.25536461296674\n",
       "\\item[typepellet triflic] -2.04351155188034\n",
       "\\item[typeTriflic] -1.16373775763629\n",
       "\\end{description*}\n"
      ],
      "text/markdown": [
       "(Intercept)\n",
       ":   3.25536461296674typepellet triflic\n",
       ":   -2.04351155188034typeTriflic\n",
       ":   -1.16373775763629\n",
       "\n"
      ],
      "text/plain": [
       "       (Intercept) typepellet triflic        typeTriflic \n",
       "          3.255365          -2.043512          -1.163738 "
      ]
     },
     "metadata": {},
     "output_type": "display_data"
    }
   ],
   "source": [
    "coefficients(lmfit)"
   ]
  }
 ],
 "metadata": {
  "kernelspec": {
   "display_name": "R",
   "language": "R",
   "name": "ir"
  },
  "language_info": {
   "codemirror_mode": "r",
   "file_extension": ".r",
   "mimetype": "text/x-r-source",
   "name": "R",
   "pygments_lexer": "r",
   "version": "3.4.0"
  }
 },
 "nbformat": 4,
 "nbformat_minor": 2
}
