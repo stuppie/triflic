{
 "cells": [
  {
   "cell_type": "code",
   "execution_count": 1,
   "metadata": {
    "collapsed": false,
    "deletable": true,
    "editable": true
   },
   "outputs": [],
   "source": [
    "df = as.data.frame(read.csv(\"df_out.csv\"))\n",
    "df$method = as.factor(df$method)\n",
    "df$cell = as.factor(df$cell)\n",
    "df1 = df[!grepl(\"pellet\", df$files),]\n",
    "dfPA = df[df$cell == \"PA\",]\n",
    "dfPA['pellet'] = grepl(\"pellet\", dfPA$files)"
   ]
  },
  {
   "cell_type": "code",
   "execution_count": 2,
   "metadata": {
    "collapsed": false,
    "deletable": true,
    "editable": true
   },
   "outputs": [
    {
     "data": {
      "text/html": [
       "<table>\n",
       "<thead><tr><th></th><th scope=col>X</th><th scope=col>cell</th><th scope=col>files</th><th scope=col>membrane</th><th scope=col>method</th><th scope=col>non.membrane</th><th scope=col>pellet</th><th scope=col>ratio</th></tr></thead>\n",
       "<tbody>\n",
       "\t<tr><th scope=row>1</th><td> 2                                      </td><td>BS                                      </td><td>data/BS/Sonic/BS sonic 3.txt            </td><td>2278.9581                               </td><td>sonic                                   </td><td>16131.042                               </td><td>False                                   </td><td>-1.957027                               </td></tr>\n",
       "\t<tr><th scope=row>2</th><td> 6                                      </td><td>BS                                      </td><td>data/BS/Sonic/BS sonic 2.txt            </td><td>2174.9803                               </td><td>sonic                                   </td><td>15481.020                               </td><td>False                                   </td><td>-1.962595                               </td></tr>\n",
       "\t<tr><th scope=row>3</th><td> 9                                      </td><td>BS                                      </td><td>data/BS/Sonic/BS sonic 1.txt            </td><td>2489.6558                               </td><td>sonic                                   </td><td>17154.344                               </td><td>False                                   </td><td>-1.930107                               </td></tr>\n",
       "\t<tr><th scope=row>4</th><td>15                                      </td><td>BS                                      </td><td>data/BS/Triflic/BS triflic 1.txt        </td><td>1962.4172                               </td><td>tri                                     </td><td>14580.583                               </td><td>False                                   </td><td>-2.005514                               </td></tr>\n",
       "\t<tr><th scope=row>5</th><td>16                                      </td><td>BS                                      </td><td>data/BS/Triflic/BS triflic 2.txt        </td><td>2788.6124                               </td><td>tri                                     </td><td>22864.388                               </td><td>False                                   </td><td>-2.104036                               </td></tr>\n",
       "\t<tr><th scope=row>6</th><td>18                                      </td><td>BS                                      </td><td>data/BS/Triflic/BS triflic 3.txt        </td><td>3573.8364                               </td><td>tri                                     </td><td>29967.164                               </td><td>False                                   </td><td>-2.126463                               </td></tr>\n",
       "\t<tr><th scope=row>7</th><td> 3                                      </td><td>Jurkat                                  </td><td>data/Jurkat/Sonic/Jurkat sonic 1.txt    </td><td>3056.2162                               </td><td>sonic                                   </td><td>20697.073                               </td><td>False                                   </td><td>-1.912815                               </td></tr>\n",
       "\t<tr><th scope=row>8</th><td> 4                                      </td><td>Jurkat                                  </td><td>data/Jurkat/Sonic/Jurkat sonic 2.txt    </td><td>3448.6773                               </td><td>sonic                                   </td><td>22604.037                               </td><td>False                                   </td><td>-1.880138                               </td></tr>\n",
       "\t<tr><th scope=row>9</th><td>17                                      </td><td>Jurkat                                  </td><td>data/Jurkat/Sonic/Jurkat sonic 3.txt    </td><td>2723.5681                               </td><td>sonic                                   </td><td>23469.153                               </td><td>False                                   </td><td>-2.153744                               </td></tr>\n",
       "\t<tr><th scope=row>10</th><td> 7                                      </td><td>Jurkat                                  </td><td>data/Jurkat/Triflic/Jurkat triflic 3.txt</td><td>1286.5667                               </td><td>tri                                     </td><td>11603.477                               </td><td>False                                   </td><td>-2.199328                               </td></tr>\n",
       "\t<tr><th scope=row>11</th><td>11                                      </td><td>Jurkat                                  </td><td>data/Jurkat/Triflic/Jurkat triflic 1.txt</td><td> 811.0731                               </td><td>tri                                     </td><td> 7254.551                               </td><td>False                                   </td><td>-2.191026                               </td></tr>\n",
       "\t<tr><th scope=row>12</th><td>12                                      </td><td>Jurkat                                  </td><td>data/Jurkat/Triflic/Jurkat triflic 2.txt</td><td> 806.4181                               </td><td>tri                                     </td><td> 7795.464                               </td><td>False                                   </td><td>-2.268695                               </td></tr>\n",
       "\t<tr><th scope=row>13</th><td> 5                                      </td><td>PA                                      </td><td>data/PA/Sonic/PA sonic 3.txt            </td><td>1023.0118                               </td><td>sonic                                   </td><td>14050.988                               </td><td>False                                   </td><td>-2.619942                               </td></tr>\n",
       "\t<tr><th scope=row>14</th><td> 8                                      </td><td>PA                                      </td><td>data/PA/Sonic/PA sonic 2.txt            </td><td>1578.2241                               </td><td>sonic                                   </td><td>20568.776                               </td><td>False                                   </td><td>-2.567474                               </td></tr>\n",
       "\t<tr><th scope=row>15</th><td>10                                      </td><td>PA                                      </td><td>data/PA/Sonic/PA sonic 1.txt            </td><td>2165.1115                               </td><td>sonic                                   </td><td>26329.888                               </td><td>False                                   </td><td>-2.498233                               </td></tr>\n",
       "\t<tr><th scope=row>18</th><td>13                                      </td><td>PA                                      </td><td>data/PA/Triflic/PA triflic 2.txt        </td><td>4784.2360                               </td><td>tri                                     </td><td>16420.764                               </td><td>False                                   </td><td>-1.233220                               </td></tr>\n",
       "\t<tr><th scope=row>20</th><td>19                                      </td><td>PA                                      </td><td>data/PA/Triflic/PA triflic 1.txt        </td><td>5126.5845                               </td><td>tri                                     </td><td>15657.416                               </td><td>False                                   </td><td>-1.116505                               </td></tr>\n",
       "\t<tr><th scope=row>21</th><td>20                                      </td><td>PA                                      </td><td>data/PA/Triflic/PA triflic 3.txt        </td><td>5076.7978                               </td><td>tri                                     </td><td>16792.202                               </td><td>False                                   </td><td>-1.196234                               </td></tr>\n",
       "</tbody>\n",
       "</table>\n"
      ],
      "text/latex": [
       "\\begin{tabular}{r|llllllll}\n",
       "  & X & cell & files & membrane & method & non.membrane & pellet & ratio\\\\\n",
       "\\hline\n",
       "\t1 &  2                                       & BS                                       & data/BS/Sonic/BS sonic 3.txt             & 2278.9581                                & sonic                                    & 16131.042                                & False                                    & -1.957027                               \\\\\n",
       "\t2 &  6                                       & BS                                       & data/BS/Sonic/BS sonic 2.txt             & 2174.9803                                & sonic                                    & 15481.020                                & False                                    & -1.962595                               \\\\\n",
       "\t3 &  9                                       & BS                                       & data/BS/Sonic/BS sonic 1.txt             & 2489.6558                                & sonic                                    & 17154.344                                & False                                    & -1.930107                               \\\\\n",
       "\t4 & 15                                       & BS                                       & data/BS/Triflic/BS triflic 1.txt         & 1962.4172                                & tri                                      & 14580.583                                & False                                    & -2.005514                               \\\\\n",
       "\t5 & 16                                       & BS                                       & data/BS/Triflic/BS triflic 2.txt         & 2788.6124                                & tri                                      & 22864.388                                & False                                    & -2.104036                               \\\\\n",
       "\t6 & 18                                       & BS                                       & data/BS/Triflic/BS triflic 3.txt         & 3573.8364                                & tri                                      & 29967.164                                & False                                    & -2.126463                               \\\\\n",
       "\t7 &  3                                       & Jurkat                                   & data/Jurkat/Sonic/Jurkat sonic 1.txt     & 3056.2162                                & sonic                                    & 20697.073                                & False                                    & -1.912815                               \\\\\n",
       "\t8 &  4                                       & Jurkat                                   & data/Jurkat/Sonic/Jurkat sonic 2.txt     & 3448.6773                                & sonic                                    & 22604.037                                & False                                    & -1.880138                               \\\\\n",
       "\t9 & 17                                       & Jurkat                                   & data/Jurkat/Sonic/Jurkat sonic 3.txt     & 2723.5681                                & sonic                                    & 23469.153                                & False                                    & -2.153744                               \\\\\n",
       "\t10 &  7                                       & Jurkat                                   & data/Jurkat/Triflic/Jurkat triflic 3.txt & 1286.5667                                & tri                                      & 11603.477                                & False                                    & -2.199328                               \\\\\n",
       "\t11 & 11                                       & Jurkat                                   & data/Jurkat/Triflic/Jurkat triflic 1.txt &  811.0731                                & tri                                      &  7254.551                                & False                                    & -2.191026                               \\\\\n",
       "\t12 & 12                                       & Jurkat                                   & data/Jurkat/Triflic/Jurkat triflic 2.txt &  806.4181                                & tri                                      &  7795.464                                & False                                    & -2.268695                               \\\\\n",
       "\t13 &  5                                       & PA                                       & data/PA/Sonic/PA sonic 3.txt             & 1023.0118                                & sonic                                    & 14050.988                                & False                                    & -2.619942                               \\\\\n",
       "\t14 &  8                                       & PA                                       & data/PA/Sonic/PA sonic 2.txt             & 1578.2241                                & sonic                                    & 20568.776                                & False                                    & -2.567474                               \\\\\n",
       "\t15 & 10                                       & PA                                       & data/PA/Sonic/PA sonic 1.txt             & 2165.1115                                & sonic                                    & 26329.888                                & False                                    & -2.498233                               \\\\\n",
       "\t18 & 13                                       & PA                                       & data/PA/Triflic/PA triflic 2.txt         & 4784.2360                                & tri                                      & 16420.764                                & False                                    & -1.233220                               \\\\\n",
       "\t20 & 19                                       & PA                                       & data/PA/Triflic/PA triflic 1.txt         & 5126.5845                                & tri                                      & 15657.416                                & False                                    & -1.116505                               \\\\\n",
       "\t21 & 20                                       & PA                                       & data/PA/Triflic/PA triflic 3.txt         & 5076.7978                                & tri                                      & 16792.202                                & False                                    & -1.196234                               \\\\\n",
       "\\end{tabular}\n"
      ],
      "text/markdown": [
       "\n",
       "| <!--/--> | X | cell | files | membrane | method | non.membrane | pellet | ratio | \n",
       "|---|---|---|---|---|---|---|---|---|---|---|---|---|---|---|---|---|---|\n",
       "| 1 |  2                                       | BS                                       | data/BS/Sonic/BS sonic 3.txt             | 2278.9581                                | sonic                                    | 16131.042                                | False                                    | -1.957027                                | \n",
       "| 2 |  6                                       | BS                                       | data/BS/Sonic/BS sonic 2.txt             | 2174.9803                                | sonic                                    | 15481.020                                | False                                    | -1.962595                                | \n",
       "| 3 |  9                                       | BS                                       | data/BS/Sonic/BS sonic 1.txt             | 2489.6558                                | sonic                                    | 17154.344                                | False                                    | -1.930107                                | \n",
       "| 4 | 15                                       | BS                                       | data/BS/Triflic/BS triflic 1.txt         | 1962.4172                                | tri                                      | 14580.583                                | False                                    | -2.005514                                | \n",
       "| 5 | 16                                       | BS                                       | data/BS/Triflic/BS triflic 2.txt         | 2788.6124                                | tri                                      | 22864.388                                | False                                    | -2.104036                                | \n",
       "| 6 | 18                                       | BS                                       | data/BS/Triflic/BS triflic 3.txt         | 3573.8364                                | tri                                      | 29967.164                                | False                                    | -2.126463                                | \n",
       "| 7 |  3                                       | Jurkat                                   | data/Jurkat/Sonic/Jurkat sonic 1.txt     | 3056.2162                                | sonic                                    | 20697.073                                | False                                    | -1.912815                                | \n",
       "| 8 |  4                                       | Jurkat                                   | data/Jurkat/Sonic/Jurkat sonic 2.txt     | 3448.6773                                | sonic                                    | 22604.037                                | False                                    | -1.880138                                | \n",
       "| 9 | 17                                       | Jurkat                                   | data/Jurkat/Sonic/Jurkat sonic 3.txt     | 2723.5681                                | sonic                                    | 23469.153                                | False                                    | -2.153744                                | \n",
       "| 10 |  7                                       | Jurkat                                   | data/Jurkat/Triflic/Jurkat triflic 3.txt | 1286.5667                                | tri                                      | 11603.477                                | False                                    | -2.199328                                | \n",
       "| 11 | 11                                       | Jurkat                                   | data/Jurkat/Triflic/Jurkat triflic 1.txt |  811.0731                                | tri                                      |  7254.551                                | False                                    | -2.191026                                | \n",
       "| 12 | 12                                       | Jurkat                                   | data/Jurkat/Triflic/Jurkat triflic 2.txt |  806.4181                                | tri                                      |  7795.464                                | False                                    | -2.268695                                | \n",
       "| 13 |  5                                       | PA                                       | data/PA/Sonic/PA sonic 3.txt             | 1023.0118                                | sonic                                    | 14050.988                                | False                                    | -2.619942                                | \n",
       "| 14 |  8                                       | PA                                       | data/PA/Sonic/PA sonic 2.txt             | 1578.2241                                | sonic                                    | 20568.776                                | False                                    | -2.567474                                | \n",
       "| 15 | 10                                       | PA                                       | data/PA/Sonic/PA sonic 1.txt             | 2165.1115                                | sonic                                    | 26329.888                                | False                                    | -2.498233                                | \n",
       "| 18 | 13                                       | PA                                       | data/PA/Triflic/PA triflic 2.txt         | 4784.2360                                | tri                                      | 16420.764                                | False                                    | -1.233220                                | \n",
       "| 20 | 19                                       | PA                                       | data/PA/Triflic/PA triflic 1.txt         | 5126.5845                                | tri                                      | 15657.416                                | False                                    | -1.116505                                | \n",
       "| 21 | 20                                       | PA                                       | data/PA/Triflic/PA triflic 3.txt         | 5076.7978                                | tri                                      | 16792.202                                | False                                    | -1.196234                                | \n",
       "\n",
       "\n"
      ],
      "text/plain": [
       "   X  cell   files                                    membrane  method\n",
       "1   2 BS     data/BS/Sonic/BS sonic 3.txt             2278.9581 sonic \n",
       "2   6 BS     data/BS/Sonic/BS sonic 2.txt             2174.9803 sonic \n",
       "3   9 BS     data/BS/Sonic/BS sonic 1.txt             2489.6558 sonic \n",
       "4  15 BS     data/BS/Triflic/BS triflic 1.txt         1962.4172 tri   \n",
       "5  16 BS     data/BS/Triflic/BS triflic 2.txt         2788.6124 tri   \n",
       "6  18 BS     data/BS/Triflic/BS triflic 3.txt         3573.8364 tri   \n",
       "7   3 Jurkat data/Jurkat/Sonic/Jurkat sonic 1.txt     3056.2162 sonic \n",
       "8   4 Jurkat data/Jurkat/Sonic/Jurkat sonic 2.txt     3448.6773 sonic \n",
       "9  17 Jurkat data/Jurkat/Sonic/Jurkat sonic 3.txt     2723.5681 sonic \n",
       "10  7 Jurkat data/Jurkat/Triflic/Jurkat triflic 3.txt 1286.5667 tri   \n",
       "11 11 Jurkat data/Jurkat/Triflic/Jurkat triflic 1.txt  811.0731 tri   \n",
       "12 12 Jurkat data/Jurkat/Triflic/Jurkat triflic 2.txt  806.4181 tri   \n",
       "13  5 PA     data/PA/Sonic/PA sonic 3.txt             1023.0118 sonic \n",
       "14  8 PA     data/PA/Sonic/PA sonic 2.txt             1578.2241 sonic \n",
       "15 10 PA     data/PA/Sonic/PA sonic 1.txt             2165.1115 sonic \n",
       "18 13 PA     data/PA/Triflic/PA triflic 2.txt         4784.2360 tri   \n",
       "20 19 PA     data/PA/Triflic/PA triflic 1.txt         5126.5845 tri   \n",
       "21 20 PA     data/PA/Triflic/PA triflic 3.txt         5076.7978 tri   \n",
       "   non.membrane pellet ratio    \n",
       "1  16131.042    False  -1.957027\n",
       "2  15481.020    False  -1.962595\n",
       "3  17154.344    False  -1.930107\n",
       "4  14580.583    False  -2.005514\n",
       "5  22864.388    False  -2.104036\n",
       "6  29967.164    False  -2.126463\n",
       "7  20697.073    False  -1.912815\n",
       "8  22604.037    False  -1.880138\n",
       "9  23469.153    False  -2.153744\n",
       "10 11603.477    False  -2.199328\n",
       "11  7254.551    False  -2.191026\n",
       "12  7795.464    False  -2.268695\n",
       "13 14050.988    False  -2.619942\n",
       "14 20568.776    False  -2.567474\n",
       "15 26329.888    False  -2.498233\n",
       "18 16420.764    False  -1.233220\n",
       "20 15657.416    False  -1.116505\n",
       "21 16792.202    False  -1.196234"
      ]
     },
     "metadata": {},
     "output_type": "display_data"
    }
   ],
   "source": [
    "df1"
   ]
  },
  {
   "cell_type": "code",
   "execution_count": 3,
   "metadata": {
    "collapsed": false,
    "deletable": true,
    "editable": true
   },
   "outputs": [
    {
     "data": {
      "text/html": [
       "<table>\n",
       "<thead><tr><th></th><th scope=col>X</th><th scope=col>cell</th><th scope=col>files</th><th scope=col>membrane</th><th scope=col>method</th><th scope=col>non.membrane</th><th scope=col>pellet</th><th scope=col>ratio</th></tr></thead>\n",
       "<tbody>\n",
       "\t<tr><th scope=row>13</th><td> 5                              </td><td>PA                              </td><td>data/PA/Sonic/PA sonic 3.txt    </td><td> 1023.012                       </td><td>sonic                           </td><td>14050.99                        </td><td>FALSE                           </td><td>-2.61994174                     </td></tr>\n",
       "\t<tr><th scope=row>14</th><td> 8                              </td><td>PA                              </td><td>data/PA/Sonic/PA sonic 2.txt    </td><td> 1578.224                       </td><td>sonic                           </td><td>20568.78                        </td><td>FALSE                           </td><td>-2.56747399                     </td></tr>\n",
       "\t<tr><th scope=row>15</th><td>10                              </td><td>PA                              </td><td>data/PA/Sonic/PA sonic 1.txt    </td><td> 2165.112                       </td><td>sonic                           </td><td>26329.89                        </td><td>FALSE                           </td><td>-2.49823286                     </td></tr>\n",
       "\t<tr><th scope=row>16</th><td> 0                              </td><td>PA                              </td><td>data/PA/Pellet/PA pellet 3.txt  </td><td>10519.924                       </td><td>tri                             </td><td>10757.08                        </td><td> TRUE                           </td><td>-0.02229286                     </td></tr>\n",
       "\t<tr><th scope=row>17</th><td> 1                              </td><td>PA                              </td><td>data/PA/Pellet/PA pellet 1.txt  </td><td>13638.322                       </td><td>tri                             </td><td>13408.68                        </td><td> TRUE                           </td><td> 0.01698150                     </td></tr>\n",
       "\t<tr><th scope=row>18</th><td>13                              </td><td>PA                              </td><td>data/PA/Triflic/PA triflic 2.txt</td><td> 4784.236                       </td><td>tri                             </td><td>16420.76                        </td><td>FALSE                           </td><td>-1.23322029                     </td></tr>\n",
       "\t<tr><th scope=row>19</th><td>14                              </td><td>PA                              </td><td>data/PA/Pellet/PA pellet 2.txt  </td><td>11107.147                       </td><td>tri                             </td><td>10567.85                        </td><td> TRUE                           </td><td> 0.04977221                     </td></tr>\n",
       "\t<tr><th scope=row>20</th><td>19                              </td><td>PA                              </td><td>data/PA/Triflic/PA triflic 1.txt</td><td> 5126.584                       </td><td>tri                             </td><td>15657.42                        </td><td>FALSE                           </td><td>-1.11650499                     </td></tr>\n",
       "\t<tr><th scope=row>21</th><td>20                              </td><td>PA                              </td><td>data/PA/Triflic/PA triflic 3.txt</td><td> 5076.798                       </td><td>tri                             </td><td>16792.20                        </td><td>FALSE                           </td><td>-1.19623391                     </td></tr>\n",
       "</tbody>\n",
       "</table>\n"
      ],
      "text/latex": [
       "\\begin{tabular}{r|llllllll}\n",
       "  & X & cell & files & membrane & method & non.membrane & pellet & ratio\\\\\n",
       "\\hline\n",
       "\t13 &  5                               & PA                               & data/PA/Sonic/PA sonic 3.txt     &  1023.012                        & sonic                            & 14050.99                         & FALSE                            & -2.61994174                     \\\\\n",
       "\t14 &  8                               & PA                               & data/PA/Sonic/PA sonic 2.txt     &  1578.224                        & sonic                            & 20568.78                         & FALSE                            & -2.56747399                     \\\\\n",
       "\t15 & 10                               & PA                               & data/PA/Sonic/PA sonic 1.txt     &  2165.112                        & sonic                            & 26329.89                         & FALSE                            & -2.49823286                     \\\\\n",
       "\t16 &  0                               & PA                               & data/PA/Pellet/PA pellet 3.txt   & 10519.924                        & tri                              & 10757.08                         &  TRUE                            & -0.02229286                     \\\\\n",
       "\t17 &  1                               & PA                               & data/PA/Pellet/PA pellet 1.txt   & 13638.322                        & tri                              & 13408.68                         &  TRUE                            &  0.01698150                     \\\\\n",
       "\t18 & 13                               & PA                               & data/PA/Triflic/PA triflic 2.txt &  4784.236                        & tri                              & 16420.76                         & FALSE                            & -1.23322029                     \\\\\n",
       "\t19 & 14                               & PA                               & data/PA/Pellet/PA pellet 2.txt   & 11107.147                        & tri                              & 10567.85                         &  TRUE                            &  0.04977221                     \\\\\n",
       "\t20 & 19                               & PA                               & data/PA/Triflic/PA triflic 1.txt &  5126.584                        & tri                              & 15657.42                         & FALSE                            & -1.11650499                     \\\\\n",
       "\t21 & 20                               & PA                               & data/PA/Triflic/PA triflic 3.txt &  5076.798                        & tri                              & 16792.20                         & FALSE                            & -1.19623391                     \\\\\n",
       "\\end{tabular}\n"
      ],
      "text/markdown": [
       "\n",
       "| <!--/--> | X | cell | files | membrane | method | non.membrane | pellet | ratio | \n",
       "|---|---|---|---|---|---|---|---|---|\n",
       "| 13 |  5                               | PA                               | data/PA/Sonic/PA sonic 3.txt     |  1023.012                        | sonic                            | 14050.99                         | FALSE                            | -2.61994174                      | \n",
       "| 14 |  8                               | PA                               | data/PA/Sonic/PA sonic 2.txt     |  1578.224                        | sonic                            | 20568.78                         | FALSE                            | -2.56747399                      | \n",
       "| 15 | 10                               | PA                               | data/PA/Sonic/PA sonic 1.txt     |  2165.112                        | sonic                            | 26329.89                         | FALSE                            | -2.49823286                      | \n",
       "| 16 |  0                               | PA                               | data/PA/Pellet/PA pellet 3.txt   | 10519.924                        | tri                              | 10757.08                         |  TRUE                            | -0.02229286                      | \n",
       "| 17 |  1                               | PA                               | data/PA/Pellet/PA pellet 1.txt   | 13638.322                        | tri                              | 13408.68                         |  TRUE                            |  0.01698150                      | \n",
       "| 18 | 13                               | PA                               | data/PA/Triflic/PA triflic 2.txt |  4784.236                        | tri                              | 16420.76                         | FALSE                            | -1.23322029                      | \n",
       "| 19 | 14                               | PA                               | data/PA/Pellet/PA pellet 2.txt   | 11107.147                        | tri                              | 10567.85                         |  TRUE                            |  0.04977221                      | \n",
       "| 20 | 19                               | PA                               | data/PA/Triflic/PA triflic 1.txt |  5126.584                        | tri                              | 15657.42                         | FALSE                            | -1.11650499                      | \n",
       "| 21 | 20                               | PA                               | data/PA/Triflic/PA triflic 3.txt |  5076.798                        | tri                              | 16792.20                         | FALSE                            | -1.19623391                      | \n",
       "\n",
       "\n"
      ],
      "text/plain": [
       "   X  cell files                            membrane  method non.membrane\n",
       "13  5 PA   data/PA/Sonic/PA sonic 3.txt      1023.012 sonic  14050.99    \n",
       "14  8 PA   data/PA/Sonic/PA sonic 2.txt      1578.224 sonic  20568.78    \n",
       "15 10 PA   data/PA/Sonic/PA sonic 1.txt      2165.112 sonic  26329.89    \n",
       "16  0 PA   data/PA/Pellet/PA pellet 3.txt   10519.924 tri    10757.08    \n",
       "17  1 PA   data/PA/Pellet/PA pellet 1.txt   13638.322 tri    13408.68    \n",
       "18 13 PA   data/PA/Triflic/PA triflic 2.txt  4784.236 tri    16420.76    \n",
       "19 14 PA   data/PA/Pellet/PA pellet 2.txt   11107.147 tri    10567.85    \n",
       "20 19 PA   data/PA/Triflic/PA triflic 1.txt  5126.584 tri    15657.42    \n",
       "21 20 PA   data/PA/Triflic/PA triflic 3.txt  5076.798 tri    16792.20    \n",
       "   pellet ratio      \n",
       "13 FALSE  -2.61994174\n",
       "14 FALSE  -2.56747399\n",
       "15 FALSE  -2.49823286\n",
       "16  TRUE  -0.02229286\n",
       "17  TRUE   0.01698150\n",
       "18 FALSE  -1.23322029\n",
       "19  TRUE   0.04977221\n",
       "20 FALSE  -1.11650499\n",
       "21 FALSE  -1.19623391"
      ]
     },
     "metadata": {},
     "output_type": "display_data"
    }
   ],
   "source": [
    "dfPA"
   ]
  },
  {
   "cell_type": "code",
   "execution_count": 4,
   "metadata": {
    "collapsed": false,
    "deletable": true,
    "editable": true
   },
   "outputs": [],
   "source": [
    "pa_sonic = df1[df1$cell == \"PA\" & df1$method == \"sonic\",\"ratio\"]\n",
    "pa_tri = df1[df1$cell == \"PA\" & df1$method == \"tri\",\"ratio\"]\n",
    "pa_pellet_tri = df[df$cell == \"PA\" & df$method == \"tri\" & grepl(\"pellet\", df$files), \"ratio\"]\n",
    "jurkat_sonic = df1[df1$cell == \"Jurkat\" & df1$method == \"sonic\",\"ratio\"]\n",
    "jurkat_tri = df1[df1$cell == \"Jurkat\" & df1$method == \"tri\",\"ratio\"]\n",
    "bs_sonic = df1[df1$cell == \"BS\" & df1$method == \"sonic\",\"ratio\"]\n",
    "bs_tri = df1[df1$cell == \"BS\" & df1$method == \"tri\",\"ratio\"]"
   ]
  },
  {
   "cell_type": "code",
   "execution_count": 5,
   "metadata": {
    "collapsed": false,
    "deletable": true,
    "editable": true
   },
   "outputs": [
    {
     "data": {
      "text/plain": [
       "\n",
       "\tWelch Two Sample t-test\n",
       "\n",
       "data:  pa_sonic and pa_tri\n",
       "t = -28.003, df = 3.9979, p-value = 9.722e-06\n",
       "alternative hypothesis: true difference in means is not equal to 0\n",
       "95 percent confidence interval:\n",
       " -1.516739 -1.243054\n",
       "sample estimates:\n",
       "mean of x mean of y \n",
       "-2.561883 -1.181986 \n"
      ]
     },
     "metadata": {},
     "output_type": "display_data"
    }
   ],
   "source": [
    "t.test(pa_sonic, pa_tri, var.equal = FALSE, alternative=\"two.sided\")"
   ]
  },
  {
   "cell_type": "code",
   "execution_count": 6,
   "metadata": {
    "collapsed": false,
    "deletable": true,
    "editable": true
   },
   "outputs": [
    {
     "data": {
      "text/plain": [
       "\n",
       "\tWelch Two Sample t-test\n",
       "\n",
       "data:  jurkat_sonic and jurkat_tri\n",
       "t = 2.6466, df = 2.3237, p-value = 0.101\n",
       "alternative hypothesis: true difference in means is not equal to 0\n",
       "95 percent confidence interval:\n",
       " -0.1013604  0.5762618\n",
       "sample estimates:\n",
       "mean of x mean of y \n",
       "-1.982232 -2.219683 \n"
      ]
     },
     "metadata": {},
     "output_type": "display_data"
    }
   ],
   "source": [
    "t.test(jurkat_sonic, jurkat_tri, var.equal = FALSE, alternative=\"two.sided\")"
   ]
  },
  {
   "cell_type": "code",
   "execution_count": 7,
   "metadata": {
    "collapsed": false,
    "deletable": true,
    "editable": true
   },
   "outputs": [
    {
     "data": {
      "text/plain": [
       "\n",
       "\tWelch Two Sample t-test\n",
       "\n",
       "data:  bs_sonic and bs_tri\n",
       "t = 3.3464, df = 2.2901, p-value = 0.06533\n",
       "alternative hypothesis: true difference in means is not equal to 0\n",
       "95 percent confidence interval:\n",
       " -0.01823404  0.27575640\n",
       "sample estimates:\n",
       "mean of x mean of y \n",
       "-1.949910 -2.078671 \n"
      ]
     },
     "metadata": {},
     "output_type": "display_data"
    }
   ],
   "source": [
    "t.test(bs_sonic, bs_tri, var.equal = FALSE, alternative=\"two.sided\")"
   ]
  },
  {
   "cell_type": "code",
   "execution_count": 8,
   "metadata": {
    "collapsed": false,
    "deletable": true,
    "editable": true
   },
   "outputs": [
    {
     "data": {
      "text/plain": [
       "\n",
       "\tWelch Two Sample t-test\n",
       "\n",
       "data:  pa_sonic and pa_pellet_tri\n",
       "t = -62.937, df = 3.2453, p-value = 4.022e-06\n",
       "alternative hypothesis: true difference in means is not equal to 0\n",
       "95 percent confidence interval:\n",
       " -2.701597 -2.451809\n",
       "sample estimates:\n",
       "  mean of x   mean of y \n",
       "-2.56188286  0.01482028 \n"
      ]
     },
     "metadata": {},
     "output_type": "display_data"
    }
   ],
   "source": [
    "t.test(pa_sonic, pa_pellet_tri, var.equal = FALSE, alternative=\"two.sided\")"
   ]
  },
  {
   "cell_type": "code",
   "execution_count": 9,
   "metadata": {
    "collapsed": false,
    "deletable": true,
    "editable": true
   },
   "outputs": [
    {
     "data": {
      "text/plain": [
       "\n",
       "\tWelch Two Sample t-test\n",
       "\n",
       "data:  pa_tri and pa_pellet_tri\n",
       "t = -29.736, df = 3.2908, p-value = 4.088e-05\n",
       "alternative hypothesis: true difference in means is not equal to 0\n",
       "95 percent confidence interval:\n",
       " -1.318723 -1.074891\n",
       "sample estimates:\n",
       "  mean of x   mean of y \n",
       "-1.18198640  0.01482028 \n"
      ]
     },
     "metadata": {},
     "output_type": "display_data"
    }
   ],
   "source": [
    "t.test(pa_tri, pa_pellet_tri, var.equal = FALSE, alternative=\"two.sided\")"
   ]
  }
 ],
 "metadata": {
  "kernelspec": {
   "display_name": "R",
   "language": "R",
   "name": "ir"
  },
  "language_info": {
   "codemirror_mode": "r",
   "file_extension": ".r",
   "mimetype": "text/x-r-source",
   "name": "R",
   "pygments_lexer": "r",
   "version": "3.4.0"
  }
 },
 "nbformat": 4,
 "nbformat_minor": 2
}
