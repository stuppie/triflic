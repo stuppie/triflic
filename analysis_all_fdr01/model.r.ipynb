{
 "cells": [
  {
   "cell_type": "code",
   "execution_count": 2,
   "metadata": {},
   "outputs": [],
   "source": [
    "df = as.data.frame(read.csv(\"df_out.csv\"))\n",
    "df$method = as.factor(df$method)\n",
    "df$cell = as.factor(df$cell)\n",
    "df1 = df[!grepl(\"pellet\", df$files),]\n",
    "dfPA = df[df$cell == \"PA\",]\n",
    "dfPA['pellet'] = grepl(\"pellet\", dfPA$files)"
   ]
  },
  {
   "cell_type": "code",
   "execution_count": 8,
   "metadata": {},
   "outputs": [
    {
     "data": {
      "text/html": [
       "<table>\n",
       "<thead><tr><th scope=col>X</th><th scope=col>cell</th><th scope=col>files</th><th scope=col>membrane</th><th scope=col>method</th><th scope=col>non.membrane</th><th scope=col>pellet</th><th scope=col>ratio</th></tr></thead>\n",
       "<tbody>\n",
       "\t<tr><td>10                                      </td><td>BS                                      </td><td>data/BS/Sonic/BS sonic 1.txt            </td><td> 2985.767                               </td><td>sonic                                   </td><td>16658.233                               </td><td>False                                   </td><td>-1.7190477                              </td></tr>\n",
       "\t<tr><td>15                                      </td><td>BS                                      </td><td>data/BS/Sonic/BS sonic 3.txt            </td><td> 2721.506                               </td><td>sonic                                   </td><td>15688.494                               </td><td>False                                   </td><td>-1.7517423                              </td></tr>\n",
       "\t<tr><td>16                                      </td><td>BS                                      </td><td>data/BS/Sonic/BS sonic 2.txt            </td><td> 2624.989                               </td><td>sonic                                   </td><td>15031.011                               </td><td>False                                   </td><td>-1.7450388                              </td></tr>\n",
       "\t<tr><td> 3                                      </td><td>BS                                      </td><td>data/BS/Pellet/BS pellet 2.txt          </td><td> 5116.177                               </td><td>tri                                     </td><td>42418.823                               </td><td>True                                    </td><td>-2.1151848                              </td></tr>\n",
       "\t<tr><td> 5                                      </td><td>BS                                      </td><td>data/BS/Pellet/BS pellet 1.txt          </td><td> 5722.964                               </td><td>tri                                     </td><td>51368.036                               </td><td>True                                    </td><td>-2.1945292                              </td></tr>\n",
       "\t<tr><td> 6                                      </td><td>BS                                      </td><td>data/BS/Pellet/BS pellet 3.txt          </td><td> 4264.003                               </td><td>tri                                     </td><td>29390.997                               </td><td>True                                    </td><td>-1.9304800                              </td></tr>\n",
       "\t<tr><td> 7                                      </td><td>BS                                      </td><td>data/BS/Triflic/BS triflic 2.txt        </td><td> 3600.799                               </td><td>tri                                     </td><td>22052.201                               </td><td>False                                   </td><td>-1.8122567                              </td></tr>\n",
       "\t<tr><td> 9                                      </td><td>BS                                      </td><td>data/BS/Triflic/BS triflic 1.txt        </td><td> 2731.537                               </td><td>tri                                     </td><td>13811.463                               </td><td>False                                   </td><td>-1.6206345                              </td></tr>\n",
       "\t<tr><td>20                                      </td><td>BS                                      </td><td>data/BS/Triflic/BS triflic 3.txt        </td><td> 5098.263                               </td><td>tri                                     </td><td>28442.737                               </td><td>False                                   </td><td>-1.7189928                              </td></tr>\n",
       "\t<tr><td> 4                                      </td><td>Jurkat                                  </td><td>data/Jurkat/Sonic/Jurkat sonic 2.txt    </td><td>11159.491                               </td><td>sonic                                   </td><td>14893.223                               </td><td>False                                   </td><td>-0.2886160                              </td></tr>\n",
       "\t<tr><td>18                                      </td><td>Jurkat                                  </td><td>data/Jurkat/Sonic/Jurkat sonic 3.txt    </td><td>12228.055                               </td><td>sonic                                   </td><td>13964.666                               </td><td>False                                   </td><td>-0.1327973                              </td></tr>\n",
       "\t<tr><td>19                                      </td><td>Jurkat                                  </td><td>data/Jurkat/Sonic/Jurkat sonic 1.txt    </td><td>10993.340                               </td><td>sonic                                   </td><td>12759.949                               </td><td>False                                   </td><td>-0.1490217                              </td></tr>\n",
       "\t<tr><td>14                                      </td><td>Jurkat                                  </td><td>data/Jurkat/Triflic/Jurkat triflic 1.txt</td><td> 3588.671                               </td><td>tri                                     </td><td> 4476.953                               </td><td>False                                   </td><td>-0.2211608                              </td></tr>\n",
       "\t<tr><td>17                                      </td><td>Jurkat                                  </td><td>data/Jurkat/Triflic/Jurkat triflic 3.txt</td><td> 5733.558                               </td><td>tri                                     </td><td> 7156.485                               </td><td>False                                   </td><td>-0.2216826                              </td></tr>\n",
       "\t<tr><td>21                                      </td><td>Jurkat                                  </td><td>data/Jurkat/Triflic/Jurkat triflic 2.txt</td><td> 3892.999                               </td><td>tri                                     </td><td> 4708.882                               </td><td>False                                   </td><td>-0.1902707                              </td></tr>\n",
       "\t<tr><td> 1                                      </td><td>PA                                      </td><td>data/PA/Sonic/PA sonic 2.txt            </td><td> 3017.576                               </td><td>sonic                                   </td><td>19129.424                               </td><td>False                                   </td><td>-1.8467739                              </td></tr>\n",
       "\t<tr><td>22                                      </td><td>PA                                      </td><td>data/PA/Sonic/PA sonic 1.txt            </td><td> 3993.659                               </td><td>sonic                                   </td><td>24501.341                               </td><td>False                                   </td><td>-1.8140201                              </td></tr>\n",
       "\t<tr><td>23                                      </td><td>PA                                      </td><td>data/PA/Sonic/PA sonic 3.txt            </td><td> 2076.735                               </td><td>sonic                                   </td><td>12997.265                               </td><td>False                                   </td><td>-1.8339417                              </td></tr>\n",
       "\t<tr><td> 0                                      </td><td>PA                                      </td><td>data/PA/Triflic/PA triflic 1.txt        </td><td> 6346.363                               </td><td>tri                                     </td><td>14437.637                               </td><td>False                                   </td><td>-0.8219566                              </td></tr>\n",
       "\t<tr><td> 2                                      </td><td>PA                                      </td><td>data/PA/Triflic/PA triflic 3.txt        </td><td> 6385.187                               </td><td>tri                                     </td><td>15483.813                               </td><td>False                                   </td><td>-0.8858145                              </td></tr>\n",
       "\t<tr><td> 8                                      </td><td>PA                                      </td><td>data/PA/Pellet/PA pellet 1.txt          </td><td>14665.309                               </td><td>tri                                     </td><td>12381.691                               </td><td>True                                    </td><td> 0.1692660                              </td></tr>\n",
       "\t<tr><td>11                                      </td><td>PA                                      </td><td>data/PA/Pellet/PA pellet 2.txt          </td><td>11866.469                               </td><td>tri                                     </td><td> 9808.531                               </td><td>True                                    </td><td> 0.1904641                              </td></tr>\n",
       "\t<tr><td>12                                      </td><td>PA                                      </td><td>data/PA/Triflic/PA triflic 2.txt        </td><td> 6029.063                               </td><td>tri                                     </td><td>15175.937                               </td><td>False                                   </td><td>-0.9231195                              </td></tr>\n",
       "\t<tr><td>13                                      </td><td>PA                                      </td><td>data/PA/Pellet/PA pellet 3.txt          </td><td>11173.426                               </td><td>tri                                     </td><td>10103.574                               </td><td>True                                    </td><td> 0.1006491                              </td></tr>\n",
       "</tbody>\n",
       "</table>\n"
      ],
      "text/latex": [
       "\\begin{tabular}{r|llllllll}\n",
       " X & cell & files & membrane & method & non.membrane & pellet & ratio\\\\\n",
       "\\hline\n",
       "\t 10                                       & BS                                       & data/BS/Sonic/BS sonic 1.txt             &  2985.767                                & sonic                                    & 16658.233                                & False                                    & -1.7190477                              \\\\\n",
       "\t 15                                       & BS                                       & data/BS/Sonic/BS sonic 3.txt             &  2721.506                                & sonic                                    & 15688.494                                & False                                    & -1.7517423                              \\\\\n",
       "\t 16                                       & BS                                       & data/BS/Sonic/BS sonic 2.txt             &  2624.989                                & sonic                                    & 15031.011                                & False                                    & -1.7450388                              \\\\\n",
       "\t  3                                       & BS                                       & data/BS/Pellet/BS pellet 2.txt           &  5116.177                                & tri                                      & 42418.823                                & True                                     & -2.1151848                              \\\\\n",
       "\t  5                                       & BS                                       & data/BS/Pellet/BS pellet 1.txt           &  5722.964                                & tri                                      & 51368.036                                & True                                     & -2.1945292                              \\\\\n",
       "\t  6                                       & BS                                       & data/BS/Pellet/BS pellet 3.txt           &  4264.003                                & tri                                      & 29390.997                                & True                                     & -1.9304800                              \\\\\n",
       "\t  7                                       & BS                                       & data/BS/Triflic/BS triflic 2.txt         &  3600.799                                & tri                                      & 22052.201                                & False                                    & -1.8122567                              \\\\\n",
       "\t  9                                       & BS                                       & data/BS/Triflic/BS triflic 1.txt         &  2731.537                                & tri                                      & 13811.463                                & False                                    & -1.6206345                              \\\\\n",
       "\t 20                                       & BS                                       & data/BS/Triflic/BS triflic 3.txt         &  5098.263                                & tri                                      & 28442.737                                & False                                    & -1.7189928                              \\\\\n",
       "\t  4                                       & Jurkat                                   & data/Jurkat/Sonic/Jurkat sonic 2.txt     & 11159.491                                & sonic                                    & 14893.223                                & False                                    & -0.2886160                              \\\\\n",
       "\t 18                                       & Jurkat                                   & data/Jurkat/Sonic/Jurkat sonic 3.txt     & 12228.055                                & sonic                                    & 13964.666                                & False                                    & -0.1327973                              \\\\\n",
       "\t 19                                       & Jurkat                                   & data/Jurkat/Sonic/Jurkat sonic 1.txt     & 10993.340                                & sonic                                    & 12759.949                                & False                                    & -0.1490217                              \\\\\n",
       "\t 14                                       & Jurkat                                   & data/Jurkat/Triflic/Jurkat triflic 1.txt &  3588.671                                & tri                                      &  4476.953                                & False                                    & -0.2211608                              \\\\\n",
       "\t 17                                       & Jurkat                                   & data/Jurkat/Triflic/Jurkat triflic 3.txt &  5733.558                                & tri                                      &  7156.485                                & False                                    & -0.2216826                              \\\\\n",
       "\t 21                                       & Jurkat                                   & data/Jurkat/Triflic/Jurkat triflic 2.txt &  3892.999                                & tri                                      &  4708.882                                & False                                    & -0.1902707                              \\\\\n",
       "\t  1                                       & PA                                       & data/PA/Sonic/PA sonic 2.txt             &  3017.576                                & sonic                                    & 19129.424                                & False                                    & -1.8467739                              \\\\\n",
       "\t 22                                       & PA                                       & data/PA/Sonic/PA sonic 1.txt             &  3993.659                                & sonic                                    & 24501.341                                & False                                    & -1.8140201                              \\\\\n",
       "\t 23                                       & PA                                       & data/PA/Sonic/PA sonic 3.txt             &  2076.735                                & sonic                                    & 12997.265                                & False                                    & -1.8339417                              \\\\\n",
       "\t  0                                       & PA                                       & data/PA/Triflic/PA triflic 1.txt         &  6346.363                                & tri                                      & 14437.637                                & False                                    & -0.8219566                              \\\\\n",
       "\t  2                                       & PA                                       & data/PA/Triflic/PA triflic 3.txt         &  6385.187                                & tri                                      & 15483.813                                & False                                    & -0.8858145                              \\\\\n",
       "\t  8                                       & PA                                       & data/PA/Pellet/PA pellet 1.txt           & 14665.309                                & tri                                      & 12381.691                                & True                                     &  0.1692660                              \\\\\n",
       "\t 11                                       & PA                                       & data/PA/Pellet/PA pellet 2.txt           & 11866.469                                & tri                                      &  9808.531                                & True                                     &  0.1904641                              \\\\\n",
       "\t 12                                       & PA                                       & data/PA/Triflic/PA triflic 2.txt         &  6029.063                                & tri                                      & 15175.937                                & False                                    & -0.9231195                              \\\\\n",
       "\t 13                                       & PA                                       & data/PA/Pellet/PA pellet 3.txt           & 11173.426                                & tri                                      & 10103.574                                & True                                     &  0.1006491                              \\\\\n",
       "\\end{tabular}\n"
      ],
      "text/markdown": [
       "\n",
       "X | cell | files | membrane | method | non.membrane | pellet | ratio | \n",
       "|---|---|---|---|---|---|---|---|---|---|---|---|---|---|---|---|---|---|---|---|---|---|---|---|\n",
       "| 10                                       | BS                                       | data/BS/Sonic/BS sonic 1.txt             |  2985.767                                | sonic                                    | 16658.233                                | False                                    | -1.7190477                               | \n",
       "| 15                                       | BS                                       | data/BS/Sonic/BS sonic 3.txt             |  2721.506                                | sonic                                    | 15688.494                                | False                                    | -1.7517423                               | \n",
       "| 16                                       | BS                                       | data/BS/Sonic/BS sonic 2.txt             |  2624.989                                | sonic                                    | 15031.011                                | False                                    | -1.7450388                               | \n",
       "|  3                                       | BS                                       | data/BS/Pellet/BS pellet 2.txt           |  5116.177                                | tri                                      | 42418.823                                | True                                     | -2.1151848                               | \n",
       "|  5                                       | BS                                       | data/BS/Pellet/BS pellet 1.txt           |  5722.964                                | tri                                      | 51368.036                                | True                                     | -2.1945292                               | \n",
       "|  6                                       | BS                                       | data/BS/Pellet/BS pellet 3.txt           |  4264.003                                | tri                                      | 29390.997                                | True                                     | -1.9304800                               | \n",
       "|  7                                       | BS                                       | data/BS/Triflic/BS triflic 2.txt         |  3600.799                                | tri                                      | 22052.201                                | False                                    | -1.8122567                               | \n",
       "|  9                                       | BS                                       | data/BS/Triflic/BS triflic 1.txt         |  2731.537                                | tri                                      | 13811.463                                | False                                    | -1.6206345                               | \n",
       "| 20                                       | BS                                       | data/BS/Triflic/BS triflic 3.txt         |  5098.263                                | tri                                      | 28442.737                                | False                                    | -1.7189928                               | \n",
       "|  4                                       | Jurkat                                   | data/Jurkat/Sonic/Jurkat sonic 2.txt     | 11159.491                                | sonic                                    | 14893.223                                | False                                    | -0.2886160                               | \n",
       "| 18                                       | Jurkat                                   | data/Jurkat/Sonic/Jurkat sonic 3.txt     | 12228.055                                | sonic                                    | 13964.666                                | False                                    | -0.1327973                               | \n",
       "| 19                                       | Jurkat                                   | data/Jurkat/Sonic/Jurkat sonic 1.txt     | 10993.340                                | sonic                                    | 12759.949                                | False                                    | -0.1490217                               | \n",
       "| 14                                       | Jurkat                                   | data/Jurkat/Triflic/Jurkat triflic 1.txt |  3588.671                                | tri                                      |  4476.953                                | False                                    | -0.2211608                               | \n",
       "| 17                                       | Jurkat                                   | data/Jurkat/Triflic/Jurkat triflic 3.txt |  5733.558                                | tri                                      |  7156.485                                | False                                    | -0.2216826                               | \n",
       "| 21                                       | Jurkat                                   | data/Jurkat/Triflic/Jurkat triflic 2.txt |  3892.999                                | tri                                      |  4708.882                                | False                                    | -0.1902707                               | \n",
       "|  1                                       | PA                                       | data/PA/Sonic/PA sonic 2.txt             |  3017.576                                | sonic                                    | 19129.424                                | False                                    | -1.8467739                               | \n",
       "| 22                                       | PA                                       | data/PA/Sonic/PA sonic 1.txt             |  3993.659                                | sonic                                    | 24501.341                                | False                                    | -1.8140201                               | \n",
       "| 23                                       | PA                                       | data/PA/Sonic/PA sonic 3.txt             |  2076.735                                | sonic                                    | 12997.265                                | False                                    | -1.8339417                               | \n",
       "|  0                                       | PA                                       | data/PA/Triflic/PA triflic 1.txt         |  6346.363                                | tri                                      | 14437.637                                | False                                    | -0.8219566                               | \n",
       "|  2                                       | PA                                       | data/PA/Triflic/PA triflic 3.txt         |  6385.187                                | tri                                      | 15483.813                                | False                                    | -0.8858145                               | \n",
       "|  8                                       | PA                                       | data/PA/Pellet/PA pellet 1.txt           | 14665.309                                | tri                                      | 12381.691                                | True                                     |  0.1692660                               | \n",
       "| 11                                       | PA                                       | data/PA/Pellet/PA pellet 2.txt           | 11866.469                                | tri                                      |  9808.531                                | True                                     |  0.1904641                               | \n",
       "| 12                                       | PA                                       | data/PA/Triflic/PA triflic 2.txt         |  6029.063                                | tri                                      | 15175.937                                | False                                    | -0.9231195                               | \n",
       "| 13                                       | PA                                       | data/PA/Pellet/PA pellet 3.txt           | 11173.426                                | tri                                      | 10103.574                                | True                                     |  0.1006491                               | \n",
       "\n",
       "\n"
      ],
      "text/plain": [
       "   X  cell   files                                    membrane  method\n",
       "1  10 BS     data/BS/Sonic/BS sonic 1.txt              2985.767 sonic \n",
       "2  15 BS     data/BS/Sonic/BS sonic 3.txt              2721.506 sonic \n",
       "3  16 BS     data/BS/Sonic/BS sonic 2.txt              2624.989 sonic \n",
       "4   3 BS     data/BS/Pellet/BS pellet 2.txt            5116.177 tri   \n",
       "5   5 BS     data/BS/Pellet/BS pellet 1.txt            5722.964 tri   \n",
       "6   6 BS     data/BS/Pellet/BS pellet 3.txt            4264.003 tri   \n",
       "7   7 BS     data/BS/Triflic/BS triflic 2.txt          3600.799 tri   \n",
       "8   9 BS     data/BS/Triflic/BS triflic 1.txt          2731.537 tri   \n",
       "9  20 BS     data/BS/Triflic/BS triflic 3.txt          5098.263 tri   \n",
       "10  4 Jurkat data/Jurkat/Sonic/Jurkat sonic 2.txt     11159.491 sonic \n",
       "11 18 Jurkat data/Jurkat/Sonic/Jurkat sonic 3.txt     12228.055 sonic \n",
       "12 19 Jurkat data/Jurkat/Sonic/Jurkat sonic 1.txt     10993.340 sonic \n",
       "13 14 Jurkat data/Jurkat/Triflic/Jurkat triflic 1.txt  3588.671 tri   \n",
       "14 17 Jurkat data/Jurkat/Triflic/Jurkat triflic 3.txt  5733.558 tri   \n",
       "15 21 Jurkat data/Jurkat/Triflic/Jurkat triflic 2.txt  3892.999 tri   \n",
       "16  1 PA     data/PA/Sonic/PA sonic 2.txt              3017.576 sonic \n",
       "17 22 PA     data/PA/Sonic/PA sonic 1.txt              3993.659 sonic \n",
       "18 23 PA     data/PA/Sonic/PA sonic 3.txt              2076.735 sonic \n",
       "19  0 PA     data/PA/Triflic/PA triflic 1.txt          6346.363 tri   \n",
       "20  2 PA     data/PA/Triflic/PA triflic 3.txt          6385.187 tri   \n",
       "21  8 PA     data/PA/Pellet/PA pellet 1.txt           14665.309 tri   \n",
       "22 11 PA     data/PA/Pellet/PA pellet 2.txt           11866.469 tri   \n",
       "23 12 PA     data/PA/Triflic/PA triflic 2.txt          6029.063 tri   \n",
       "24 13 PA     data/PA/Pellet/PA pellet 3.txt           11173.426 tri   \n",
       "   non.membrane pellet ratio     \n",
       "1  16658.233    False  -1.7190477\n",
       "2  15688.494    False  -1.7517423\n",
       "3  15031.011    False  -1.7450388\n",
       "4  42418.823    True   -2.1151848\n",
       "5  51368.036    True   -2.1945292\n",
       "6  29390.997    True   -1.9304800\n",
       "7  22052.201    False  -1.8122567\n",
       "8  13811.463    False  -1.6206345\n",
       "9  28442.737    False  -1.7189928\n",
       "10 14893.223    False  -0.2886160\n",
       "11 13964.666    False  -0.1327973\n",
       "12 12759.949    False  -0.1490217\n",
       "13  4476.953    False  -0.2211608\n",
       "14  7156.485    False  -0.2216826\n",
       "15  4708.882    False  -0.1902707\n",
       "16 19129.424    False  -1.8467739\n",
       "17 24501.341    False  -1.8140201\n",
       "18 12997.265    False  -1.8339417\n",
       "19 14437.637    False  -0.8219566\n",
       "20 15483.813    False  -0.8858145\n",
       "21 12381.691    True    0.1692660\n",
       "22  9808.531    True    0.1904641\n",
       "23 15175.937    False  -0.9231195\n",
       "24 10103.574    True    0.1006491"
      ]
     },
     "metadata": {},
     "output_type": "display_data"
    }
   ],
   "source": [
    "df"
   ]
  },
  {
   "cell_type": "code",
   "execution_count": 11,
   "metadata": {},
   "outputs": [
    {
     "data": {
      "text/html": [
       "<table>\n",
       "<thead><tr><th scope=col>X</th><th scope=col>cell</th><th scope=col>files</th><th scope=col>membrane</th><th scope=col>method</th><th scope=col>non.membrane</th><th scope=col>pellet</th><th scope=col>ratio</th><th scope=col>sample_type</th></tr></thead>\n",
       "<tbody>\n",
       "\t<tr><td>10                                      </td><td>BS                                      </td><td>data/BS/Sonic/BS sonic 1.txt            </td><td> 2985.767                               </td><td>sonic                                   </td><td>16658.233                               </td><td>False                                   </td><td>-1.7190477                              </td><td>BS sonic False                          </td></tr>\n",
       "\t<tr><td>15                                      </td><td>BS                                      </td><td>data/BS/Sonic/BS sonic 3.txt            </td><td> 2721.506                               </td><td>sonic                                   </td><td>15688.494                               </td><td>False                                   </td><td>-1.7517423                              </td><td>BS sonic False                          </td></tr>\n",
       "\t<tr><td>16                                      </td><td>BS                                      </td><td>data/BS/Sonic/BS sonic 2.txt            </td><td> 2624.989                               </td><td>sonic                                   </td><td>15031.011                               </td><td>False                                   </td><td>-1.7450388                              </td><td>BS sonic False                          </td></tr>\n",
       "\t<tr><td> 3                                      </td><td>BS                                      </td><td>data/BS/Pellet/BS pellet 2.txt          </td><td> 5116.177                               </td><td>tri                                     </td><td>42418.823                               </td><td>True                                    </td><td>-2.1151848                              </td><td>BS tri True                             </td></tr>\n",
       "\t<tr><td> 5                                      </td><td>BS                                      </td><td>data/BS/Pellet/BS pellet 1.txt          </td><td> 5722.964                               </td><td>tri                                     </td><td>51368.036                               </td><td>True                                    </td><td>-2.1945292                              </td><td>BS tri True                             </td></tr>\n",
       "\t<tr><td> 6                                      </td><td>BS                                      </td><td>data/BS/Pellet/BS pellet 3.txt          </td><td> 4264.003                               </td><td>tri                                     </td><td>29390.997                               </td><td>True                                    </td><td>-1.9304800                              </td><td>BS tri True                             </td></tr>\n",
       "\t<tr><td> 7                                      </td><td>BS                                      </td><td>data/BS/Triflic/BS triflic 2.txt        </td><td> 3600.799                               </td><td>tri                                     </td><td>22052.201                               </td><td>False                                   </td><td>-1.8122567                              </td><td>BS tri False                            </td></tr>\n",
       "\t<tr><td> 9                                      </td><td>BS                                      </td><td>data/BS/Triflic/BS triflic 1.txt        </td><td> 2731.537                               </td><td>tri                                     </td><td>13811.463                               </td><td>False                                   </td><td>-1.6206345                              </td><td>BS tri False                            </td></tr>\n",
       "\t<tr><td>20                                      </td><td>BS                                      </td><td>data/BS/Triflic/BS triflic 3.txt        </td><td> 5098.263                               </td><td>tri                                     </td><td>28442.737                               </td><td>False                                   </td><td>-1.7189928                              </td><td>BS tri False                            </td></tr>\n",
       "\t<tr><td> 4                                      </td><td>Jurkat                                  </td><td>data/Jurkat/Sonic/Jurkat sonic 2.txt    </td><td>11159.491                               </td><td>sonic                                   </td><td>14893.223                               </td><td>False                                   </td><td>-0.2886160                              </td><td>Jurkat sonic False                      </td></tr>\n",
       "\t<tr><td>18                                      </td><td>Jurkat                                  </td><td>data/Jurkat/Sonic/Jurkat sonic 3.txt    </td><td>12228.055                               </td><td>sonic                                   </td><td>13964.666                               </td><td>False                                   </td><td>-0.1327973                              </td><td>Jurkat sonic False                      </td></tr>\n",
       "\t<tr><td>19                                      </td><td>Jurkat                                  </td><td>data/Jurkat/Sonic/Jurkat sonic 1.txt    </td><td>10993.340                               </td><td>sonic                                   </td><td>12759.949                               </td><td>False                                   </td><td>-0.1490217                              </td><td>Jurkat sonic False                      </td></tr>\n",
       "\t<tr><td>14                                      </td><td>Jurkat                                  </td><td>data/Jurkat/Triflic/Jurkat triflic 1.txt</td><td> 3588.671                               </td><td>tri                                     </td><td> 4476.953                               </td><td>False                                   </td><td>-0.2211608                              </td><td>Jurkat tri False                        </td></tr>\n",
       "\t<tr><td>17                                      </td><td>Jurkat                                  </td><td>data/Jurkat/Triflic/Jurkat triflic 3.txt</td><td> 5733.558                               </td><td>tri                                     </td><td> 7156.485                               </td><td>False                                   </td><td>-0.2216826                              </td><td>Jurkat tri False                        </td></tr>\n",
       "\t<tr><td>21                                      </td><td>Jurkat                                  </td><td>data/Jurkat/Triflic/Jurkat triflic 2.txt</td><td> 3892.999                               </td><td>tri                                     </td><td> 4708.882                               </td><td>False                                   </td><td>-0.1902707                              </td><td>Jurkat tri False                        </td></tr>\n",
       "\t<tr><td> 1                                      </td><td>PA                                      </td><td>data/PA/Sonic/PA sonic 2.txt            </td><td> 3017.576                               </td><td>sonic                                   </td><td>19129.424                               </td><td>False                                   </td><td>-1.8467739                              </td><td>PA sonic False                          </td></tr>\n",
       "\t<tr><td>22                                      </td><td>PA                                      </td><td>data/PA/Sonic/PA sonic 1.txt            </td><td> 3993.659                               </td><td>sonic                                   </td><td>24501.341                               </td><td>False                                   </td><td>-1.8140201                              </td><td>PA sonic False                          </td></tr>\n",
       "\t<tr><td>23                                      </td><td>PA                                      </td><td>data/PA/Sonic/PA sonic 3.txt            </td><td> 2076.735                               </td><td>sonic                                   </td><td>12997.265                               </td><td>False                                   </td><td>-1.8339417                              </td><td>PA sonic False                          </td></tr>\n",
       "\t<tr><td> 0                                      </td><td>PA                                      </td><td>data/PA/Triflic/PA triflic 1.txt        </td><td> 6346.363                               </td><td>tri                                     </td><td>14437.637                               </td><td>False                                   </td><td>-0.8219566                              </td><td>PA tri False                            </td></tr>\n",
       "\t<tr><td> 2                                      </td><td>PA                                      </td><td>data/PA/Triflic/PA triflic 3.txt        </td><td> 6385.187                               </td><td>tri                                     </td><td>15483.813                               </td><td>False                                   </td><td>-0.8858145                              </td><td>PA tri False                            </td></tr>\n",
       "\t<tr><td> 8                                      </td><td>PA                                      </td><td>data/PA/Pellet/PA pellet 1.txt          </td><td>14665.309                               </td><td>tri                                     </td><td>12381.691                               </td><td>True                                    </td><td> 0.1692660                              </td><td>PA tri True                             </td></tr>\n",
       "\t<tr><td>11                                      </td><td>PA                                      </td><td>data/PA/Pellet/PA pellet 2.txt          </td><td>11866.469                               </td><td>tri                                     </td><td> 9808.531                               </td><td>True                                    </td><td> 0.1904641                              </td><td>PA tri True                             </td></tr>\n",
       "\t<tr><td>12                                      </td><td>PA                                      </td><td>data/PA/Triflic/PA triflic 2.txt        </td><td> 6029.063                               </td><td>tri                                     </td><td>15175.937                               </td><td>False                                   </td><td>-0.9231195                              </td><td>PA tri False                            </td></tr>\n",
       "\t<tr><td>13                                      </td><td>PA                                      </td><td>data/PA/Pellet/PA pellet 3.txt          </td><td>11173.426                               </td><td>tri                                     </td><td>10103.574                               </td><td>True                                    </td><td> 0.1006491                              </td><td>PA tri True                             </td></tr>\n",
       "</tbody>\n",
       "</table>\n"
      ],
      "text/latex": [
       "\\begin{tabular}{r|lllllllll}\n",
       " X & cell & files & membrane & method & non.membrane & pellet & ratio & sample\\_type\\\\\n",
       "\\hline\n",
       "\t 10                                       & BS                                       & data/BS/Sonic/BS sonic 1.txt             &  2985.767                                & sonic                                    & 16658.233                                & False                                    & -1.7190477                               & BS sonic False                          \\\\\n",
       "\t 15                                       & BS                                       & data/BS/Sonic/BS sonic 3.txt             &  2721.506                                & sonic                                    & 15688.494                                & False                                    & -1.7517423                               & BS sonic False                          \\\\\n",
       "\t 16                                       & BS                                       & data/BS/Sonic/BS sonic 2.txt             &  2624.989                                & sonic                                    & 15031.011                                & False                                    & -1.7450388                               & BS sonic False                          \\\\\n",
       "\t  3                                       & BS                                       & data/BS/Pellet/BS pellet 2.txt           &  5116.177                                & tri                                      & 42418.823                                & True                                     & -2.1151848                               & BS tri True                             \\\\\n",
       "\t  5                                       & BS                                       & data/BS/Pellet/BS pellet 1.txt           &  5722.964                                & tri                                      & 51368.036                                & True                                     & -2.1945292                               & BS tri True                             \\\\\n",
       "\t  6                                       & BS                                       & data/BS/Pellet/BS pellet 3.txt           &  4264.003                                & tri                                      & 29390.997                                & True                                     & -1.9304800                               & BS tri True                             \\\\\n",
       "\t  7                                       & BS                                       & data/BS/Triflic/BS triflic 2.txt         &  3600.799                                & tri                                      & 22052.201                                & False                                    & -1.8122567                               & BS tri False                            \\\\\n",
       "\t  9                                       & BS                                       & data/BS/Triflic/BS triflic 1.txt         &  2731.537                                & tri                                      & 13811.463                                & False                                    & -1.6206345                               & BS tri False                            \\\\\n",
       "\t 20                                       & BS                                       & data/BS/Triflic/BS triflic 3.txt         &  5098.263                                & tri                                      & 28442.737                                & False                                    & -1.7189928                               & BS tri False                            \\\\\n",
       "\t  4                                       & Jurkat                                   & data/Jurkat/Sonic/Jurkat sonic 2.txt     & 11159.491                                & sonic                                    & 14893.223                                & False                                    & -0.2886160                               & Jurkat sonic False                      \\\\\n",
       "\t 18                                       & Jurkat                                   & data/Jurkat/Sonic/Jurkat sonic 3.txt     & 12228.055                                & sonic                                    & 13964.666                                & False                                    & -0.1327973                               & Jurkat sonic False                      \\\\\n",
       "\t 19                                       & Jurkat                                   & data/Jurkat/Sonic/Jurkat sonic 1.txt     & 10993.340                                & sonic                                    & 12759.949                                & False                                    & -0.1490217                               & Jurkat sonic False                      \\\\\n",
       "\t 14                                       & Jurkat                                   & data/Jurkat/Triflic/Jurkat triflic 1.txt &  3588.671                                & tri                                      &  4476.953                                & False                                    & -0.2211608                               & Jurkat tri False                        \\\\\n",
       "\t 17                                       & Jurkat                                   & data/Jurkat/Triflic/Jurkat triflic 3.txt &  5733.558                                & tri                                      &  7156.485                                & False                                    & -0.2216826                               & Jurkat tri False                        \\\\\n",
       "\t 21                                       & Jurkat                                   & data/Jurkat/Triflic/Jurkat triflic 2.txt &  3892.999                                & tri                                      &  4708.882                                & False                                    & -0.1902707                               & Jurkat tri False                        \\\\\n",
       "\t  1                                       & PA                                       & data/PA/Sonic/PA sonic 2.txt             &  3017.576                                & sonic                                    & 19129.424                                & False                                    & -1.8467739                               & PA sonic False                          \\\\\n",
       "\t 22                                       & PA                                       & data/PA/Sonic/PA sonic 1.txt             &  3993.659                                & sonic                                    & 24501.341                                & False                                    & -1.8140201                               & PA sonic False                          \\\\\n",
       "\t 23                                       & PA                                       & data/PA/Sonic/PA sonic 3.txt             &  2076.735                                & sonic                                    & 12997.265                                & False                                    & -1.8339417                               & PA sonic False                          \\\\\n",
       "\t  0                                       & PA                                       & data/PA/Triflic/PA triflic 1.txt         &  6346.363                                & tri                                      & 14437.637                                & False                                    & -0.8219566                               & PA tri False                            \\\\\n",
       "\t  2                                       & PA                                       & data/PA/Triflic/PA triflic 3.txt         &  6385.187                                & tri                                      & 15483.813                                & False                                    & -0.8858145                               & PA tri False                            \\\\\n",
       "\t  8                                       & PA                                       & data/PA/Pellet/PA pellet 1.txt           & 14665.309                                & tri                                      & 12381.691                                & True                                     &  0.1692660                               & PA tri True                             \\\\\n",
       "\t 11                                       & PA                                       & data/PA/Pellet/PA pellet 2.txt           & 11866.469                                & tri                                      &  9808.531                                & True                                     &  0.1904641                               & PA tri True                             \\\\\n",
       "\t 12                                       & PA                                       & data/PA/Triflic/PA triflic 2.txt         &  6029.063                                & tri                                      & 15175.937                                & False                                    & -0.9231195                               & PA tri False                            \\\\\n",
       "\t 13                                       & PA                                       & data/PA/Pellet/PA pellet 3.txt           & 11173.426                                & tri                                      & 10103.574                                & True                                     &  0.1006491                               & PA tri True                             \\\\\n",
       "\\end{tabular}\n"
      ],
      "text/markdown": [
       "\n",
       "X | cell | files | membrane | method | non.membrane | pellet | ratio | sample_type | \n",
       "|---|---|---|---|---|---|---|---|---|---|---|---|---|---|---|---|---|---|---|---|---|---|---|---|\n",
       "| 10                                       | BS                                       | data/BS/Sonic/BS sonic 1.txt             |  2985.767                                | sonic                                    | 16658.233                                | False                                    | -1.7190477                               | BS sonic False                           | \n",
       "| 15                                       | BS                                       | data/BS/Sonic/BS sonic 3.txt             |  2721.506                                | sonic                                    | 15688.494                                | False                                    | -1.7517423                               | BS sonic False                           | \n",
       "| 16                                       | BS                                       | data/BS/Sonic/BS sonic 2.txt             |  2624.989                                | sonic                                    | 15031.011                                | False                                    | -1.7450388                               | BS sonic False                           | \n",
       "|  3                                       | BS                                       | data/BS/Pellet/BS pellet 2.txt           |  5116.177                                | tri                                      | 42418.823                                | True                                     | -2.1151848                               | BS tri True                              | \n",
       "|  5                                       | BS                                       | data/BS/Pellet/BS pellet 1.txt           |  5722.964                                | tri                                      | 51368.036                                | True                                     | -2.1945292                               | BS tri True                              | \n",
       "|  6                                       | BS                                       | data/BS/Pellet/BS pellet 3.txt           |  4264.003                                | tri                                      | 29390.997                                | True                                     | -1.9304800                               | BS tri True                              | \n",
       "|  7                                       | BS                                       | data/BS/Triflic/BS triflic 2.txt         |  3600.799                                | tri                                      | 22052.201                                | False                                    | -1.8122567                               | BS tri False                             | \n",
       "|  9                                       | BS                                       | data/BS/Triflic/BS triflic 1.txt         |  2731.537                                | tri                                      | 13811.463                                | False                                    | -1.6206345                               | BS tri False                             | \n",
       "| 20                                       | BS                                       | data/BS/Triflic/BS triflic 3.txt         |  5098.263                                | tri                                      | 28442.737                                | False                                    | -1.7189928                               | BS tri False                             | \n",
       "|  4                                       | Jurkat                                   | data/Jurkat/Sonic/Jurkat sonic 2.txt     | 11159.491                                | sonic                                    | 14893.223                                | False                                    | -0.2886160                               | Jurkat sonic False                       | \n",
       "| 18                                       | Jurkat                                   | data/Jurkat/Sonic/Jurkat sonic 3.txt     | 12228.055                                | sonic                                    | 13964.666                                | False                                    | -0.1327973                               | Jurkat sonic False                       | \n",
       "| 19                                       | Jurkat                                   | data/Jurkat/Sonic/Jurkat sonic 1.txt     | 10993.340                                | sonic                                    | 12759.949                                | False                                    | -0.1490217                               | Jurkat sonic False                       | \n",
       "| 14                                       | Jurkat                                   | data/Jurkat/Triflic/Jurkat triflic 1.txt |  3588.671                                | tri                                      |  4476.953                                | False                                    | -0.2211608                               | Jurkat tri False                         | \n",
       "| 17                                       | Jurkat                                   | data/Jurkat/Triflic/Jurkat triflic 3.txt |  5733.558                                | tri                                      |  7156.485                                | False                                    | -0.2216826                               | Jurkat tri False                         | \n",
       "| 21                                       | Jurkat                                   | data/Jurkat/Triflic/Jurkat triflic 2.txt |  3892.999                                | tri                                      |  4708.882                                | False                                    | -0.1902707                               | Jurkat tri False                         | \n",
       "|  1                                       | PA                                       | data/PA/Sonic/PA sonic 2.txt             |  3017.576                                | sonic                                    | 19129.424                                | False                                    | -1.8467739                               | PA sonic False                           | \n",
       "| 22                                       | PA                                       | data/PA/Sonic/PA sonic 1.txt             |  3993.659                                | sonic                                    | 24501.341                                | False                                    | -1.8140201                               | PA sonic False                           | \n",
       "| 23                                       | PA                                       | data/PA/Sonic/PA sonic 3.txt             |  2076.735                                | sonic                                    | 12997.265                                | False                                    | -1.8339417                               | PA sonic False                           | \n",
       "|  0                                       | PA                                       | data/PA/Triflic/PA triflic 1.txt         |  6346.363                                | tri                                      | 14437.637                                | False                                    | -0.8219566                               | PA tri False                             | \n",
       "|  2                                       | PA                                       | data/PA/Triflic/PA triflic 3.txt         |  6385.187                                | tri                                      | 15483.813                                | False                                    | -0.8858145                               | PA tri False                             | \n",
       "|  8                                       | PA                                       | data/PA/Pellet/PA pellet 1.txt           | 14665.309                                | tri                                      | 12381.691                                | True                                     |  0.1692660                               | PA tri True                              | \n",
       "| 11                                       | PA                                       | data/PA/Pellet/PA pellet 2.txt           | 11866.469                                | tri                                      |  9808.531                                | True                                     |  0.1904641                               | PA tri True                              | \n",
       "| 12                                       | PA                                       | data/PA/Triflic/PA triflic 2.txt         |  6029.063                                | tri                                      | 15175.937                                | False                                    | -0.9231195                               | PA tri False                             | \n",
       "| 13                                       | PA                                       | data/PA/Pellet/PA pellet 3.txt           | 11173.426                                | tri                                      | 10103.574                                | True                                     |  0.1006491                               | PA tri True                              | \n",
       "\n",
       "\n"
      ],
      "text/plain": [
       "   X  cell   files                                    membrane  method\n",
       "1  10 BS     data/BS/Sonic/BS sonic 1.txt              2985.767 sonic \n",
       "2  15 BS     data/BS/Sonic/BS sonic 3.txt              2721.506 sonic \n",
       "3  16 BS     data/BS/Sonic/BS sonic 2.txt              2624.989 sonic \n",
       "4   3 BS     data/BS/Pellet/BS pellet 2.txt            5116.177 tri   \n",
       "5   5 BS     data/BS/Pellet/BS pellet 1.txt            5722.964 tri   \n",
       "6   6 BS     data/BS/Pellet/BS pellet 3.txt            4264.003 tri   \n",
       "7   7 BS     data/BS/Triflic/BS triflic 2.txt          3600.799 tri   \n",
       "8   9 BS     data/BS/Triflic/BS triflic 1.txt          2731.537 tri   \n",
       "9  20 BS     data/BS/Triflic/BS triflic 3.txt          5098.263 tri   \n",
       "10  4 Jurkat data/Jurkat/Sonic/Jurkat sonic 2.txt     11159.491 sonic \n",
       "11 18 Jurkat data/Jurkat/Sonic/Jurkat sonic 3.txt     12228.055 sonic \n",
       "12 19 Jurkat data/Jurkat/Sonic/Jurkat sonic 1.txt     10993.340 sonic \n",
       "13 14 Jurkat data/Jurkat/Triflic/Jurkat triflic 1.txt  3588.671 tri   \n",
       "14 17 Jurkat data/Jurkat/Triflic/Jurkat triflic 3.txt  5733.558 tri   \n",
       "15 21 Jurkat data/Jurkat/Triflic/Jurkat triflic 2.txt  3892.999 tri   \n",
       "16  1 PA     data/PA/Sonic/PA sonic 2.txt              3017.576 sonic \n",
       "17 22 PA     data/PA/Sonic/PA sonic 1.txt              3993.659 sonic \n",
       "18 23 PA     data/PA/Sonic/PA sonic 3.txt              2076.735 sonic \n",
       "19  0 PA     data/PA/Triflic/PA triflic 1.txt          6346.363 tri   \n",
       "20  2 PA     data/PA/Triflic/PA triflic 3.txt          6385.187 tri   \n",
       "21  8 PA     data/PA/Pellet/PA pellet 1.txt           14665.309 tri   \n",
       "22 11 PA     data/PA/Pellet/PA pellet 2.txt           11866.469 tri   \n",
       "23 12 PA     data/PA/Triflic/PA triflic 2.txt          6029.063 tri   \n",
       "24 13 PA     data/PA/Pellet/PA pellet 3.txt           11173.426 tri   \n",
       "   non.membrane pellet ratio      sample_type       \n",
       "1  16658.233    False  -1.7190477 BS sonic False    \n",
       "2  15688.494    False  -1.7517423 BS sonic False    \n",
       "3  15031.011    False  -1.7450388 BS sonic False    \n",
       "4  42418.823    True   -2.1151848 BS tri True       \n",
       "5  51368.036    True   -2.1945292 BS tri True       \n",
       "6  29390.997    True   -1.9304800 BS tri True       \n",
       "7  22052.201    False  -1.8122567 BS tri False      \n",
       "8  13811.463    False  -1.6206345 BS tri False      \n",
       "9  28442.737    False  -1.7189928 BS tri False      \n",
       "10 14893.223    False  -0.2886160 Jurkat sonic False\n",
       "11 13964.666    False  -0.1327973 Jurkat sonic False\n",
       "12 12759.949    False  -0.1490217 Jurkat sonic False\n",
       "13  4476.953    False  -0.2211608 Jurkat tri False  \n",
       "14  7156.485    False  -0.2216826 Jurkat tri False  \n",
       "15  4708.882    False  -0.1902707 Jurkat tri False  \n",
       "16 19129.424    False  -1.8467739 PA sonic False    \n",
       "17 24501.341    False  -1.8140201 PA sonic False    \n",
       "18 12997.265    False  -1.8339417 PA sonic False    \n",
       "19 14437.637    False  -0.8219566 PA tri False      \n",
       "20 15483.813    False  -0.8858145 PA tri False      \n",
       "21 12381.691    True    0.1692660 PA tri True       \n",
       "22  9808.531    True    0.1904641 PA tri True       \n",
       "23 15175.937    False  -0.9231195 PA tri False      \n",
       "24 10103.574    True    0.1006491 PA tri True       "
      ]
     },
     "metadata": {},
     "output_type": "display_data"
    }
   ],
   "source": [
    "df$sample_type = paste(df$cell,df$method, df$pellet)\n",
    "df"
   ]
  },
  {
   "cell_type": "code",
   "execution_count": 14,
   "metadata": {},
   "outputs": [],
   "source": [
    "pa_sonic = df1[df1$cell == \"PA\" & df1$method == \"sonic\",\"ratio\"]\n",
    "pa_tri = df1[df1$cell == \"PA\" & df1$method == \"tri\",\"ratio\"]\n",
    "pa_pellet_tri = df[df$cell == \"PA\" & df$method == \"tri\" & grepl(\"pellet\", df$files), \"ratio\"]\n",
    "jurkat_sonic = df1[df1$cell == \"Jurkat\" & df1$method == \"sonic\",\"ratio\"]\n",
    "jurkat_tri = df1[df1$cell == \"Jurkat\" & df1$method == \"tri\",\"ratio\"]\n",
    "bs_sonic = df1[df1$cell == \"BS\" & df1$method == \"sonic\",\"ratio\"]\n",
    "bs_tri = df1[df1$cell == \"BS\" & df1$method == \"tri\",\"ratio\"]\n",
    "bs_pellet_tri = df[df$cell == \"BS\" & df$method == \"tri\" & grepl(\"pellet\", df$files), \"ratio\"]"
   ]
  },
  {
   "cell_type": "code",
   "execution_count": 19,
   "metadata": {},
   "outputs": [],
   "source": [
    "options(width = 200)"
   ]
  },
  {
   "cell_type": "code",
   "execution_count": 23,
   "metadata": {},
   "outputs": [],
   "source": [
    "dfPA = df[df$cell == \"PA\",]\n",
    "dfBS = df[df$cell == \"BS\",]\n",
    "dfJurkat = df[df$cell == \"Jurkat\",]"
   ]
  },
  {
   "cell_type": "code",
   "execution_count": 25,
   "metadata": {},
   "outputs": [
    {
     "data": {
      "text/plain": [
       "\n",
       "\tPairwise comparisons using t tests with non-pooled SD \n",
       "\n",
       "data:  dfPA$ratio and dfPA$sample_type \n",
       "\n",
       "             PA sonic False PA tri False\n",
       "PA tri False 0.00035        -           \n",
       "PA tri True  7.6e-05        4.3e-05     \n",
       "\n",
       "P value adjustment method: holm "
      ]
     },
     "metadata": {},
     "output_type": "display_data"
    }
   ],
   "source": [
    "pairwise.t.test(dfPA$ratio, dfPA$sample_type, pool.sd=FALSE, var.equal = FALSE)"
   ]
  },
  {
   "cell_type": "code",
   "execution_count": 24,
   "metadata": {},
   "outputs": [
    {
     "data": {
      "text/plain": [
       "\n",
       "\tPairwise comparisons using t tests with non-pooled SD \n",
       "\n",
       "data:  dfBS$ratio and dfBS$sample_type \n",
       "\n",
       "             BS sonic False BS tri False\n",
       "BS tri False 0.739          -           \n",
       "BS tri True  0.093          0.070       \n",
       "\n",
       "P value adjustment method: holm "
      ]
     },
     "metadata": {},
     "output_type": "display_data"
    }
   ],
   "source": [
    "pairwise.t.test(dfBS$ratio, dfBS$sample_type, pool.sd=FALSE, var.equal = FALSE)"
   ]
  },
  {
   "cell_type": "code",
   "execution_count": 26,
   "metadata": {},
   "outputs": [
    {
     "data": {
      "text/plain": [
       "\n",
       "\tPairwise comparisons using t tests with non-pooled SD \n",
       "\n",
       "data:  dfJurkat$ratio and dfJurkat$sample_type \n",
       "\n",
       "                 Jurkat sonic False\n",
       "Jurkat tri False 0.72              \n",
       "\n",
       "P value adjustment method: holm "
      ]
     },
     "metadata": {},
     "output_type": "display_data"
    }
   ],
   "source": [
    "pairwise.t.test(dfJurkat$ratio, dfJurkat$sample_type, pool.sd=FALSE, var.equal = FALSE)"
   ]
  },
  {
   "cell_type": "code",
   "execution_count": null,
   "metadata": {},
   "outputs": [],
   "source": []
  }
 ],
 "metadata": {
  "kernelspec": {
   "display_name": "R",
   "language": "R",
   "name": "ir"
  },
  "language_info": {
   "codemirror_mode": "r",
   "file_extension": ".r",
   "mimetype": "text/x-r-source",
   "name": "R",
   "pygments_lexer": "r",
   "version": "3.4.3"
  }
 },
 "nbformat": 4,
 "nbformat_minor": 2
}
