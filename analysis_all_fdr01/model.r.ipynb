{
 "cells": [
  {
   "cell_type": "code",
   "execution_count": 11,
   "metadata": {},
   "outputs": [],
   "source": [
    "df = as.data.frame(read.csv(\"df_out.csv\"))\n",
    "df$method = as.factor(df$method)\n",
    "df$cell = as.factor(df$cell)\n",
    "df1 = df[!grepl(\"pellet\", df$files),]\n",
    "dfPA = df[df$cell == \"PA\",]\n",
    "dfPA['pellet'] = grepl(\"pellet\", dfPA$files)"
   ]
  },
  {
   "cell_type": "code",
   "execution_count": 12,
   "metadata": {},
   "outputs": [
    {
     "data": {
      "text/html": [
       "<table>\n",
       "<thead><tr><th></th><th scope=col>X</th><th scope=col>cell</th><th scope=col>files</th><th scope=col>membrane</th><th scope=col>method</th><th scope=col>non.membrane</th><th scope=col>pellet</th><th scope=col>ratio</th></tr></thead>\n",
       "<tbody>\n",
       "\t<tr><th scope=row>1</th><td>10                                      </td><td>BS                                      </td><td>data/BS/Sonic/BS sonic 1.txt            </td><td> 2985.767                               </td><td>sonic                                   </td><td>16658.233                               </td><td>False                                   </td><td>-1.7190477                              </td></tr>\n",
       "\t<tr><th scope=row>2</th><td>15                                      </td><td>BS                                      </td><td>data/BS/Sonic/BS sonic 3.txt            </td><td> 2721.506                               </td><td>sonic                                   </td><td>15688.494                               </td><td>False                                   </td><td>-1.7517423                              </td></tr>\n",
       "\t<tr><th scope=row>3</th><td>16                                      </td><td>BS                                      </td><td>data/BS/Sonic/BS sonic 2.txt            </td><td> 2624.989                               </td><td>sonic                                   </td><td>15031.011                               </td><td>False                                   </td><td>-1.7450388                              </td></tr>\n",
       "\t<tr><th scope=row>7</th><td> 7                                      </td><td>BS                                      </td><td>data/BS/Triflic/BS triflic 2.txt        </td><td> 3600.799                               </td><td>tri                                     </td><td>22052.201                               </td><td>False                                   </td><td>-1.8122567                              </td></tr>\n",
       "\t<tr><th scope=row>8</th><td> 9                                      </td><td>BS                                      </td><td>data/BS/Triflic/BS triflic 1.txt        </td><td> 2731.537                               </td><td>tri                                     </td><td>13811.463                               </td><td>False                                   </td><td>-1.6206345                              </td></tr>\n",
       "\t<tr><th scope=row>9</th><td>20                                      </td><td>BS                                      </td><td>data/BS/Triflic/BS triflic 3.txt        </td><td> 5098.263                               </td><td>tri                                     </td><td>28442.737                               </td><td>False                                   </td><td>-1.7189928                              </td></tr>\n",
       "\t<tr><th scope=row>10</th><td> 4                                      </td><td>Jurkat                                  </td><td>data/Jurkat/Sonic/Jurkat sonic 2.txt    </td><td>11159.491                               </td><td>sonic                                   </td><td>14893.223                               </td><td>False                                   </td><td>-0.2886160                              </td></tr>\n",
       "\t<tr><th scope=row>11</th><td>18                                      </td><td>Jurkat                                  </td><td>data/Jurkat/Sonic/Jurkat sonic 3.txt    </td><td>12228.055                               </td><td>sonic                                   </td><td>13964.666                               </td><td>False                                   </td><td>-0.1327973                              </td></tr>\n",
       "\t<tr><th scope=row>12</th><td>19                                      </td><td>Jurkat                                  </td><td>data/Jurkat/Sonic/Jurkat sonic 1.txt    </td><td>10993.340                               </td><td>sonic                                   </td><td>12759.949                               </td><td>False                                   </td><td>-0.1490217                              </td></tr>\n",
       "\t<tr><th scope=row>13</th><td>14                                      </td><td>Jurkat                                  </td><td>data/Jurkat/Triflic/Jurkat triflic 1.txt</td><td> 3588.671                               </td><td>tri                                     </td><td> 4476.953                               </td><td>False                                   </td><td>-0.2211608                              </td></tr>\n",
       "\t<tr><th scope=row>14</th><td>17                                      </td><td>Jurkat                                  </td><td>data/Jurkat/Triflic/Jurkat triflic 3.txt</td><td> 5733.558                               </td><td>tri                                     </td><td> 7156.485                               </td><td>False                                   </td><td>-0.2216826                              </td></tr>\n",
       "\t<tr><th scope=row>15</th><td>21                                      </td><td>Jurkat                                  </td><td>data/Jurkat/Triflic/Jurkat triflic 2.txt</td><td> 3892.999                               </td><td>tri                                     </td><td> 4708.882                               </td><td>False                                   </td><td>-0.1902707                              </td></tr>\n",
       "\t<tr><th scope=row>16</th><td> 1                                      </td><td>PA                                      </td><td>data/PA/Sonic/PA sonic 2.txt            </td><td> 3017.576                               </td><td>sonic                                   </td><td>19129.424                               </td><td>False                                   </td><td>-1.8467739                              </td></tr>\n",
       "\t<tr><th scope=row>17</th><td>22                                      </td><td>PA                                      </td><td>data/PA/Sonic/PA sonic 1.txt            </td><td> 3993.659                               </td><td>sonic                                   </td><td>24501.341                               </td><td>False                                   </td><td>-1.8140201                              </td></tr>\n",
       "\t<tr><th scope=row>18</th><td>23                                      </td><td>PA                                      </td><td>data/PA/Sonic/PA sonic 3.txt            </td><td> 2076.735                               </td><td>sonic                                   </td><td>12997.265                               </td><td>False                                   </td><td>-1.8339417                              </td></tr>\n",
       "\t<tr><th scope=row>19</th><td> 0                                      </td><td>PA                                      </td><td>data/PA/Triflic/PA triflic 1.txt        </td><td> 6346.363                               </td><td>tri                                     </td><td>14437.637                               </td><td>False                                   </td><td>-0.8219566                              </td></tr>\n",
       "\t<tr><th scope=row>20</th><td> 2                                      </td><td>PA                                      </td><td>data/PA/Triflic/PA triflic 3.txt        </td><td> 6385.187                               </td><td>tri                                     </td><td>15483.813                               </td><td>False                                   </td><td>-0.8858145                              </td></tr>\n",
       "\t<tr><th scope=row>23</th><td>12                                      </td><td>PA                                      </td><td>data/PA/Triflic/PA triflic 2.txt        </td><td> 6029.063                               </td><td>tri                                     </td><td>15175.937                               </td><td>False                                   </td><td>-0.9231195                              </td></tr>\n",
       "</tbody>\n",
       "</table>\n"
      ],
      "text/latex": [
       "\\begin{tabular}{r|llllllll}\n",
       "  & X & cell & files & membrane & method & non.membrane & pellet & ratio\\\\\n",
       "\\hline\n",
       "\t1 & 10                                       & BS                                       & data/BS/Sonic/BS sonic 1.txt             &  2985.767                                & sonic                                    & 16658.233                                & False                                    & -1.7190477                              \\\\\n",
       "\t2 & 15                                       & BS                                       & data/BS/Sonic/BS sonic 3.txt             &  2721.506                                & sonic                                    & 15688.494                                & False                                    & -1.7517423                              \\\\\n",
       "\t3 & 16                                       & BS                                       & data/BS/Sonic/BS sonic 2.txt             &  2624.989                                & sonic                                    & 15031.011                                & False                                    & -1.7450388                              \\\\\n",
       "\t7 &  7                                       & BS                                       & data/BS/Triflic/BS triflic 2.txt         &  3600.799                                & tri                                      & 22052.201                                & False                                    & -1.8122567                              \\\\\n",
       "\t8 &  9                                       & BS                                       & data/BS/Triflic/BS triflic 1.txt         &  2731.537                                & tri                                      & 13811.463                                & False                                    & -1.6206345                              \\\\\n",
       "\t9 & 20                                       & BS                                       & data/BS/Triflic/BS triflic 3.txt         &  5098.263                                & tri                                      & 28442.737                                & False                                    & -1.7189928                              \\\\\n",
       "\t10 &  4                                       & Jurkat                                   & data/Jurkat/Sonic/Jurkat sonic 2.txt     & 11159.491                                & sonic                                    & 14893.223                                & False                                    & -0.2886160                              \\\\\n",
       "\t11 & 18                                       & Jurkat                                   & data/Jurkat/Sonic/Jurkat sonic 3.txt     & 12228.055                                & sonic                                    & 13964.666                                & False                                    & -0.1327973                              \\\\\n",
       "\t12 & 19                                       & Jurkat                                   & data/Jurkat/Sonic/Jurkat sonic 1.txt     & 10993.340                                & sonic                                    & 12759.949                                & False                                    & -0.1490217                              \\\\\n",
       "\t13 & 14                                       & Jurkat                                   & data/Jurkat/Triflic/Jurkat triflic 1.txt &  3588.671                                & tri                                      &  4476.953                                & False                                    & -0.2211608                              \\\\\n",
       "\t14 & 17                                       & Jurkat                                   & data/Jurkat/Triflic/Jurkat triflic 3.txt &  5733.558                                & tri                                      &  7156.485                                & False                                    & -0.2216826                              \\\\\n",
       "\t15 & 21                                       & Jurkat                                   & data/Jurkat/Triflic/Jurkat triflic 2.txt &  3892.999                                & tri                                      &  4708.882                                & False                                    & -0.1902707                              \\\\\n",
       "\t16 &  1                                       & PA                                       & data/PA/Sonic/PA sonic 2.txt             &  3017.576                                & sonic                                    & 19129.424                                & False                                    & -1.8467739                              \\\\\n",
       "\t17 & 22                                       & PA                                       & data/PA/Sonic/PA sonic 1.txt             &  3993.659                                & sonic                                    & 24501.341                                & False                                    & -1.8140201                              \\\\\n",
       "\t18 & 23                                       & PA                                       & data/PA/Sonic/PA sonic 3.txt             &  2076.735                                & sonic                                    & 12997.265                                & False                                    & -1.8339417                              \\\\\n",
       "\t19 &  0                                       & PA                                       & data/PA/Triflic/PA triflic 1.txt         &  6346.363                                & tri                                      & 14437.637                                & False                                    & -0.8219566                              \\\\\n",
       "\t20 &  2                                       & PA                                       & data/PA/Triflic/PA triflic 3.txt         &  6385.187                                & tri                                      & 15483.813                                & False                                    & -0.8858145                              \\\\\n",
       "\t23 & 12                                       & PA                                       & data/PA/Triflic/PA triflic 2.txt         &  6029.063                                & tri                                      & 15175.937                                & False                                    & -0.9231195                              \\\\\n",
       "\\end{tabular}\n"
      ],
      "text/markdown": [
       "\n",
       "| <!--/--> | X | cell | files | membrane | method | non.membrane | pellet | ratio | \n",
       "|---|---|---|---|---|---|---|---|---|---|---|---|---|---|---|---|---|---|\n",
       "| 1 | 10                                       | BS                                       | data/BS/Sonic/BS sonic 1.txt             |  2985.767                                | sonic                                    | 16658.233                                | False                                    | -1.7190477                               | \n",
       "| 2 | 15                                       | BS                                       | data/BS/Sonic/BS sonic 3.txt             |  2721.506                                | sonic                                    | 15688.494                                | False                                    | -1.7517423                               | \n",
       "| 3 | 16                                       | BS                                       | data/BS/Sonic/BS sonic 2.txt             |  2624.989                                | sonic                                    | 15031.011                                | False                                    | -1.7450388                               | \n",
       "| 7 |  7                                       | BS                                       | data/BS/Triflic/BS triflic 2.txt         |  3600.799                                | tri                                      | 22052.201                                | False                                    | -1.8122567                               | \n",
       "| 8 |  9                                       | BS                                       | data/BS/Triflic/BS triflic 1.txt         |  2731.537                                | tri                                      | 13811.463                                | False                                    | -1.6206345                               | \n",
       "| 9 | 20                                       | BS                                       | data/BS/Triflic/BS triflic 3.txt         |  5098.263                                | tri                                      | 28442.737                                | False                                    | -1.7189928                               | \n",
       "| 10 |  4                                       | Jurkat                                   | data/Jurkat/Sonic/Jurkat sonic 2.txt     | 11159.491                                | sonic                                    | 14893.223                                | False                                    | -0.2886160                               | \n",
       "| 11 | 18                                       | Jurkat                                   | data/Jurkat/Sonic/Jurkat sonic 3.txt     | 12228.055                                | sonic                                    | 13964.666                                | False                                    | -0.1327973                               | \n",
       "| 12 | 19                                       | Jurkat                                   | data/Jurkat/Sonic/Jurkat sonic 1.txt     | 10993.340                                | sonic                                    | 12759.949                                | False                                    | -0.1490217                               | \n",
       "| 13 | 14                                       | Jurkat                                   | data/Jurkat/Triflic/Jurkat triflic 1.txt |  3588.671                                | tri                                      |  4476.953                                | False                                    | -0.2211608                               | \n",
       "| 14 | 17                                       | Jurkat                                   | data/Jurkat/Triflic/Jurkat triflic 3.txt |  5733.558                                | tri                                      |  7156.485                                | False                                    | -0.2216826                               | \n",
       "| 15 | 21                                       | Jurkat                                   | data/Jurkat/Triflic/Jurkat triflic 2.txt |  3892.999                                | tri                                      |  4708.882                                | False                                    | -0.1902707                               | \n",
       "| 16 |  1                                       | PA                                       | data/PA/Sonic/PA sonic 2.txt             |  3017.576                                | sonic                                    | 19129.424                                | False                                    | -1.8467739                               | \n",
       "| 17 | 22                                       | PA                                       | data/PA/Sonic/PA sonic 1.txt             |  3993.659                                | sonic                                    | 24501.341                                | False                                    | -1.8140201                               | \n",
       "| 18 | 23                                       | PA                                       | data/PA/Sonic/PA sonic 3.txt             |  2076.735                                | sonic                                    | 12997.265                                | False                                    | -1.8339417                               | \n",
       "| 19 |  0                                       | PA                                       | data/PA/Triflic/PA triflic 1.txt         |  6346.363                                | tri                                      | 14437.637                                | False                                    | -0.8219566                               | \n",
       "| 20 |  2                                       | PA                                       | data/PA/Triflic/PA triflic 3.txt         |  6385.187                                | tri                                      | 15483.813                                | False                                    | -0.8858145                               | \n",
       "| 23 | 12                                       | PA                                       | data/PA/Triflic/PA triflic 2.txt         |  6029.063                                | tri                                      | 15175.937                                | False                                    | -0.9231195                               | \n",
       "\n",
       "\n"
      ],
      "text/plain": [
       "   X  cell   files                                    membrane  method\n",
       "1  10 BS     data/BS/Sonic/BS sonic 1.txt              2985.767 sonic \n",
       "2  15 BS     data/BS/Sonic/BS sonic 3.txt              2721.506 sonic \n",
       "3  16 BS     data/BS/Sonic/BS sonic 2.txt              2624.989 sonic \n",
       "7   7 BS     data/BS/Triflic/BS triflic 2.txt          3600.799 tri   \n",
       "8   9 BS     data/BS/Triflic/BS triflic 1.txt          2731.537 tri   \n",
       "9  20 BS     data/BS/Triflic/BS triflic 3.txt          5098.263 tri   \n",
       "10  4 Jurkat data/Jurkat/Sonic/Jurkat sonic 2.txt     11159.491 sonic \n",
       "11 18 Jurkat data/Jurkat/Sonic/Jurkat sonic 3.txt     12228.055 sonic \n",
       "12 19 Jurkat data/Jurkat/Sonic/Jurkat sonic 1.txt     10993.340 sonic \n",
       "13 14 Jurkat data/Jurkat/Triflic/Jurkat triflic 1.txt  3588.671 tri   \n",
       "14 17 Jurkat data/Jurkat/Triflic/Jurkat triflic 3.txt  5733.558 tri   \n",
       "15 21 Jurkat data/Jurkat/Triflic/Jurkat triflic 2.txt  3892.999 tri   \n",
       "16  1 PA     data/PA/Sonic/PA sonic 2.txt              3017.576 sonic \n",
       "17 22 PA     data/PA/Sonic/PA sonic 1.txt              3993.659 sonic \n",
       "18 23 PA     data/PA/Sonic/PA sonic 3.txt              2076.735 sonic \n",
       "19  0 PA     data/PA/Triflic/PA triflic 1.txt          6346.363 tri   \n",
       "20  2 PA     data/PA/Triflic/PA triflic 3.txt          6385.187 tri   \n",
       "23 12 PA     data/PA/Triflic/PA triflic 2.txt          6029.063 tri   \n",
       "   non.membrane pellet ratio     \n",
       "1  16658.233    False  -1.7190477\n",
       "2  15688.494    False  -1.7517423\n",
       "3  15031.011    False  -1.7450388\n",
       "7  22052.201    False  -1.8122567\n",
       "8  13811.463    False  -1.6206345\n",
       "9  28442.737    False  -1.7189928\n",
       "10 14893.223    False  -0.2886160\n",
       "11 13964.666    False  -0.1327973\n",
       "12 12759.949    False  -0.1490217\n",
       "13  4476.953    False  -0.2211608\n",
       "14  7156.485    False  -0.2216826\n",
       "15  4708.882    False  -0.1902707\n",
       "16 19129.424    False  -1.8467739\n",
       "17 24501.341    False  -1.8140201\n",
       "18 12997.265    False  -1.8339417\n",
       "19 14437.637    False  -0.8219566\n",
       "20 15483.813    False  -0.8858145\n",
       "23 15175.937    False  -0.9231195"
      ]
     },
     "metadata": {},
     "output_type": "display_data"
    }
   ],
   "source": [
    "df1"
   ]
  },
  {
   "cell_type": "code",
   "execution_count": 13,
   "metadata": {},
   "outputs": [
    {
     "data": {
      "text/html": [
       "<table>\n",
       "<thead><tr><th></th><th scope=col>X</th><th scope=col>cell</th><th scope=col>files</th><th scope=col>membrane</th><th scope=col>method</th><th scope=col>non.membrane</th><th scope=col>pellet</th><th scope=col>ratio</th></tr></thead>\n",
       "<tbody>\n",
       "\t<tr><th scope=row>16</th><td> 1                              </td><td>PA                              </td><td>data/PA/Sonic/PA sonic 2.txt    </td><td> 3017.576                       </td><td>sonic                           </td><td>19129.424                       </td><td>FALSE                           </td><td>-1.8467739                      </td></tr>\n",
       "\t<tr><th scope=row>17</th><td>22                              </td><td>PA                              </td><td>data/PA/Sonic/PA sonic 1.txt    </td><td> 3993.659                       </td><td>sonic                           </td><td>24501.341                       </td><td>FALSE                           </td><td>-1.8140201                      </td></tr>\n",
       "\t<tr><th scope=row>18</th><td>23                              </td><td>PA                              </td><td>data/PA/Sonic/PA sonic 3.txt    </td><td> 2076.735                       </td><td>sonic                           </td><td>12997.265                       </td><td>FALSE                           </td><td>-1.8339417                      </td></tr>\n",
       "\t<tr><th scope=row>19</th><td> 0                              </td><td>PA                              </td><td>data/PA/Triflic/PA triflic 1.txt</td><td> 6346.363                       </td><td>tri                             </td><td>14437.637                       </td><td>FALSE                           </td><td>-0.8219566                      </td></tr>\n",
       "\t<tr><th scope=row>20</th><td> 2                              </td><td>PA                              </td><td>data/PA/Triflic/PA triflic 3.txt</td><td> 6385.187                       </td><td>tri                             </td><td>15483.813                       </td><td>FALSE                           </td><td>-0.8858145                      </td></tr>\n",
       "\t<tr><th scope=row>21</th><td> 8                              </td><td>PA                              </td><td>data/PA/Pellet/PA pellet 1.txt  </td><td>14665.309                       </td><td>tri                             </td><td>12381.691                       </td><td> TRUE                           </td><td> 0.1692660                      </td></tr>\n",
       "\t<tr><th scope=row>22</th><td>11                              </td><td>PA                              </td><td>data/PA/Pellet/PA pellet 2.txt  </td><td>11866.469                       </td><td>tri                             </td><td> 9808.531                       </td><td> TRUE                           </td><td> 0.1904641                      </td></tr>\n",
       "\t<tr><th scope=row>23</th><td>12                              </td><td>PA                              </td><td>data/PA/Triflic/PA triflic 2.txt</td><td> 6029.063                       </td><td>tri                             </td><td>15175.937                       </td><td>FALSE                           </td><td>-0.9231195                      </td></tr>\n",
       "\t<tr><th scope=row>24</th><td>13                              </td><td>PA                              </td><td>data/PA/Pellet/PA pellet 3.txt  </td><td>11173.426                       </td><td>tri                             </td><td>10103.574                       </td><td> TRUE                           </td><td> 0.1006491                      </td></tr>\n",
       "</tbody>\n",
       "</table>\n"
      ],
      "text/latex": [
       "\\begin{tabular}{r|llllllll}\n",
       "  & X & cell & files & membrane & method & non.membrane & pellet & ratio\\\\\n",
       "\\hline\n",
       "\t16 &  1                               & PA                               & data/PA/Sonic/PA sonic 2.txt     &  3017.576                        & sonic                            & 19129.424                        & FALSE                            & -1.8467739                      \\\\\n",
       "\t17 & 22                               & PA                               & data/PA/Sonic/PA sonic 1.txt     &  3993.659                        & sonic                            & 24501.341                        & FALSE                            & -1.8140201                      \\\\\n",
       "\t18 & 23                               & PA                               & data/PA/Sonic/PA sonic 3.txt     &  2076.735                        & sonic                            & 12997.265                        & FALSE                            & -1.8339417                      \\\\\n",
       "\t19 &  0                               & PA                               & data/PA/Triflic/PA triflic 1.txt &  6346.363                        & tri                              & 14437.637                        & FALSE                            & -0.8219566                      \\\\\n",
       "\t20 &  2                               & PA                               & data/PA/Triflic/PA triflic 3.txt &  6385.187                        & tri                              & 15483.813                        & FALSE                            & -0.8858145                      \\\\\n",
       "\t21 &  8                               & PA                               & data/PA/Pellet/PA pellet 1.txt   & 14665.309                        & tri                              & 12381.691                        &  TRUE                            &  0.1692660                      \\\\\n",
       "\t22 & 11                               & PA                               & data/PA/Pellet/PA pellet 2.txt   & 11866.469                        & tri                              &  9808.531                        &  TRUE                            &  0.1904641                      \\\\\n",
       "\t23 & 12                               & PA                               & data/PA/Triflic/PA triflic 2.txt &  6029.063                        & tri                              & 15175.937                        & FALSE                            & -0.9231195                      \\\\\n",
       "\t24 & 13                               & PA                               & data/PA/Pellet/PA pellet 3.txt   & 11173.426                        & tri                              & 10103.574                        &  TRUE                            &  0.1006491                      \\\\\n",
       "\\end{tabular}\n"
      ],
      "text/markdown": [
       "\n",
       "| <!--/--> | X | cell | files | membrane | method | non.membrane | pellet | ratio | \n",
       "|---|---|---|---|---|---|---|---|---|\n",
       "| 16 |  1                               | PA                               | data/PA/Sonic/PA sonic 2.txt     |  3017.576                        | sonic                            | 19129.424                        | FALSE                            | -1.8467739                       | \n",
       "| 17 | 22                               | PA                               | data/PA/Sonic/PA sonic 1.txt     |  3993.659                        | sonic                            | 24501.341                        | FALSE                            | -1.8140201                       | \n",
       "| 18 | 23                               | PA                               | data/PA/Sonic/PA sonic 3.txt     |  2076.735                        | sonic                            | 12997.265                        | FALSE                            | -1.8339417                       | \n",
       "| 19 |  0                               | PA                               | data/PA/Triflic/PA triflic 1.txt |  6346.363                        | tri                              | 14437.637                        | FALSE                            | -0.8219566                       | \n",
       "| 20 |  2                               | PA                               | data/PA/Triflic/PA triflic 3.txt |  6385.187                        | tri                              | 15483.813                        | FALSE                            | -0.8858145                       | \n",
       "| 21 |  8                               | PA                               | data/PA/Pellet/PA pellet 1.txt   | 14665.309                        | tri                              | 12381.691                        |  TRUE                            |  0.1692660                       | \n",
       "| 22 | 11                               | PA                               | data/PA/Pellet/PA pellet 2.txt   | 11866.469                        | tri                              |  9808.531                        |  TRUE                            |  0.1904641                       | \n",
       "| 23 | 12                               | PA                               | data/PA/Triflic/PA triflic 2.txt |  6029.063                        | tri                              | 15175.937                        | FALSE                            | -0.9231195                       | \n",
       "| 24 | 13                               | PA                               | data/PA/Pellet/PA pellet 3.txt   | 11173.426                        | tri                              | 10103.574                        |  TRUE                            |  0.1006491                       | \n",
       "\n",
       "\n"
      ],
      "text/plain": [
       "   X  cell files                            membrane  method non.membrane\n",
       "16  1 PA   data/PA/Sonic/PA sonic 2.txt      3017.576 sonic  19129.424   \n",
       "17 22 PA   data/PA/Sonic/PA sonic 1.txt      3993.659 sonic  24501.341   \n",
       "18 23 PA   data/PA/Sonic/PA sonic 3.txt      2076.735 sonic  12997.265   \n",
       "19  0 PA   data/PA/Triflic/PA triflic 1.txt  6346.363 tri    14437.637   \n",
       "20  2 PA   data/PA/Triflic/PA triflic 3.txt  6385.187 tri    15483.813   \n",
       "21  8 PA   data/PA/Pellet/PA pellet 1.txt   14665.309 tri    12381.691   \n",
       "22 11 PA   data/PA/Pellet/PA pellet 2.txt   11866.469 tri     9808.531   \n",
       "23 12 PA   data/PA/Triflic/PA triflic 2.txt  6029.063 tri    15175.937   \n",
       "24 13 PA   data/PA/Pellet/PA pellet 3.txt   11173.426 tri    10103.574   \n",
       "   pellet ratio     \n",
       "16 FALSE  -1.8467739\n",
       "17 FALSE  -1.8140201\n",
       "18 FALSE  -1.8339417\n",
       "19 FALSE  -0.8219566\n",
       "20 FALSE  -0.8858145\n",
       "21  TRUE   0.1692660\n",
       "22  TRUE   0.1904641\n",
       "23 FALSE  -0.9231195\n",
       "24  TRUE   0.1006491"
      ]
     },
     "metadata": {},
     "output_type": "display_data"
    }
   ],
   "source": [
    "dfPA"
   ]
  },
  {
   "cell_type": "code",
   "execution_count": 14,
   "metadata": {},
   "outputs": [],
   "source": [
    "pa_sonic = df1[df1$cell == \"PA\" & df1$method == \"sonic\",\"ratio\"]\n",
    "pa_tri = df1[df1$cell == \"PA\" & df1$method == \"tri\",\"ratio\"]\n",
    "pa_pellet_tri = df[df$cell == \"PA\" & df$method == \"tri\" & grepl(\"pellet\", df$files), \"ratio\"]\n",
    "jurkat_sonic = df1[df1$cell == \"Jurkat\" & df1$method == \"sonic\",\"ratio\"]\n",
    "jurkat_tri = df1[df1$cell == \"Jurkat\" & df1$method == \"tri\",\"ratio\"]\n",
    "bs_sonic = df1[df1$cell == \"BS\" & df1$method == \"sonic\",\"ratio\"]\n",
    "bs_tri = df1[df1$cell == \"BS\" & df1$method == \"tri\",\"ratio\"]\n",
    "bs_pellet_tri = df[df$cell == \"BS\" & df$method == \"tri\" & grepl(\"pellet\", df$files), \"ratio\"]"
   ]
  },
  {
   "cell_type": "code",
   "execution_count": 15,
   "metadata": {},
   "outputs": [
    {
     "data": {
      "text/plain": [
       "\n",
       "\tWelch Two Sample t-test\n",
       "\n",
       "data:  pa_sonic and pa_tri\n",
       "t = -30.759, df = 2.4118, p-value = 0.0003453\n",
       "alternative hypothesis: true difference in means is not equal to 0\n",
       "95 percent confidence interval:\n",
       " -1.0685125 -0.8407177\n",
       "sample estimates:\n",
       " mean of x  mean of y \n",
       "-1.8315786 -0.8769635 \n"
      ]
     },
     "metadata": {},
     "output_type": "display_data"
    }
   ],
   "source": [
    "t.test(pa_sonic, pa_tri, var.equal = FALSE, alternative=\"two.sided\")"
   ]
  },
  {
   "cell_type": "code",
   "execution_count": 16,
   "metadata": {},
   "outputs": [
    {
     "data": {
      "text/plain": [
       "\n",
       "\tWelch Two Sample t-test\n",
       "\n",
       "data:  jurkat_sonic and jurkat_tri\n",
       "t = 0.41343, df = 2.176, p-value = 0.7165\n",
       "alternative hypothesis: true difference in means is not equal to 0\n",
       "95 percent confidence interval:\n",
       " -0.1805322  0.2223183\n",
       "sample estimates:\n",
       "mean of x mean of y \n",
       "-0.190145 -0.211038 \n"
      ]
     },
     "metadata": {},
     "output_type": "display_data"
    }
   ],
   "source": [
    "t.test(jurkat_sonic, jurkat_tri, var.equal = FALSE, alternative=\"two.sided\")"
   ]
  },
  {
   "cell_type": "code",
   "execution_count": 17,
   "metadata": {},
   "outputs": [
    {
     "data": {
      "text/plain": [
       "\n",
       "\tWelch Two Sample t-test\n",
       "\n",
       "data:  bs_sonic and bs_tri\n",
       "t = -0.37917, df = 2.1298, p-value = 0.7391\n",
       "alternative hypothesis: true difference in means is not equal to 0\n",
       "95 percent confidence interval:\n",
       " -0.2495962  0.2069662\n",
       "sample estimates:\n",
       "mean of x mean of y \n",
       "-1.738610 -1.717295 \n"
      ]
     },
     "metadata": {},
     "output_type": "display_data"
    }
   ],
   "source": [
    "t.test(bs_sonic, bs_tri, var.equal = FALSE, alternative=\"two.sided\")"
   ]
  },
  {
   "cell_type": "code",
   "execution_count": 18,
   "metadata": {},
   "outputs": [
    {
     "data": {
      "text/plain": [
       "\n",
       "\tWelch Two Sample t-test\n",
       "\n",
       "data:  pa_sonic and pa_pellet_tri\n",
       "t = -69.09, df = 2.4869, p-value = 3.791e-05\n",
       "alternative hypothesis: true difference in means is not equal to 0\n",
       "95 percent confidence interval:\n",
       " -2.088130 -1.881946\n",
       "sample estimates:\n",
       " mean of x  mean of y \n",
       "-1.8315786  0.1534597 \n"
      ]
     },
     "metadata": {},
     "output_type": "display_data"
    }
   ],
   "source": [
    "t.test(pa_sonic, pa_pellet_tri, var.equal = FALSE, alternative=\"two.sided\")"
   ]
  },
  {
   "cell_type": "code",
   "execution_count": 19,
   "metadata": {},
   "outputs": [
    {
     "data": {
      "text/plain": [
       "\n",
       "\tWelch Two Sample t-test\n",
       "\n",
       "data:  pa_tri and pa_pellet_tri\n",
       "t = -25.704, df = 3.9708, p-value = 1.45e-05\n",
       "alternative hypothesis: true difference in means is not equal to 0\n",
       "95 percent confidence interval:\n",
       " -1.1420503 -0.9187962\n",
       "sample estimates:\n",
       " mean of x  mean of y \n",
       "-0.8769635  0.1534597 \n"
      ]
     },
     "metadata": {},
     "output_type": "display_data"
    }
   ],
   "source": [
    "t.test(pa_tri, pa_pellet_tri, var.equal = FALSE, alternative=\"two.sided\")"
   ]
  },
  {
   "cell_type": "code",
   "execution_count": 20,
   "metadata": {},
   "outputs": [
    {
     "data": {
      "text/plain": [
       "\n",
       "\tWelch Two Sample t-test\n",
       "\n",
       "data:  bs_sonic and bs_pellet_tri\n",
       "t = 4.3302, df = 2.065, p-value = 0.04665\n",
       "alternative hypothesis: true difference in means is not equal to 0\n",
       "95 percent confidence interval:\n",
       " 0.01220171 0.67070839\n",
       "sample estimates:\n",
       "mean of x mean of y \n",
       "-1.738610 -2.080065 \n"
      ]
     },
     "metadata": {},
     "output_type": "display_data"
    }
   ],
   "source": [
    "t.test(bs_sonic, bs_pellet_tri, var.equal = FALSE, alternative=\"two.sided\")"
   ]
  },
  {
   "cell_type": "code",
   "execution_count": 21,
   "metadata": {},
   "outputs": [
    {
     "data": {
      "text/plain": [
       "\n",
       "\tWelch Two Sample t-test\n",
       "\n",
       "data:  bs_tri and bs_pellet_tri\n",
       "t = 3.7864, df = 3.6004, p-value = 0.02339\n",
       "alternative hypothesis: true difference in means is not equal to 0\n",
       "95 percent confidence interval:\n",
       " 0.08470769 0.64083233\n",
       "sample estimates:\n",
       "mean of x mean of y \n",
       "-1.717295 -2.080065 \n"
      ]
     },
     "metadata": {},
     "output_type": "display_data"
    }
   ],
   "source": [
    "t.test(bs_tri, bs_pellet_tri, var.equal = FALSE, alternative=\"two.sided\")"
   ]
  },
  {
   "cell_type": "code",
   "execution_count": null,
   "metadata": {},
   "outputs": [],
   "source": []
  }
 ],
 "metadata": {
  "kernelspec": {
   "display_name": "R",
   "language": "R",
   "name": "ir"
  },
  "language_info": {
   "codemirror_mode": "r",
   "file_extension": ".r",
   "mimetype": "text/x-r-source",
   "name": "R",
   "pygments_lexer": "r",
   "version": "3.4.3"
  }
 },
 "nbformat": 4,
 "nbformat_minor": 2
}
