{
 "cells": [
  {
   "cell_type": "code",
   "execution_count": 64,
   "metadata": {
    "collapsed": false,
    "deletable": true,
    "editable": true
   },
   "outputs": [],
   "source": [
    "df = as.data.frame(read.csv(\"df_out.csv\"))\n",
    "df$method = as.factor(df$method)\n",
    "df$cell = as.factor(df$cell)\n",
    "df1 = df[!grepl(\"pellet\", df$files),]\n",
    "dfPA = df[df$cell == \"PA\",]\n",
    "dfPA['pellet'] = grepl(\"pellet\", dfPA$files)"
   ]
  },
  {
   "cell_type": "code",
   "execution_count": 65,
   "metadata": {
    "collapsed": false
   },
   "outputs": [
    {
     "data": {
      "text/html": [
       "<table>\n",
       "<thead><tr><th></th><th scope=col>X</th><th scope=col>cell</th><th scope=col>files</th><th scope=col>membrane</th><th scope=col>method</th><th scope=col>non.membrane</th><th scope=col>ratio</th></tr></thead>\n",
       "<tbody>\n",
       "\t<tr><th scope=row>1</th><td> 0                                         </td><td>BS                                         </td><td>data/BS/Sonic/BS sonic 2.txt               </td><td>2147.9005                                  </td><td>sonic                                      </td><td>15042.099                                  </td><td>-1.946362                                  </td></tr>\n",
       "\t<tr><th scope=row>2</th><td> 1                                         </td><td>BS                                         </td><td>data/BS/Sonic/BS sonic 3.txt               </td><td>1810.1140                                  </td><td>sonic                                      </td><td>13497.886                                  </td><td>-2.009143                                  </td></tr>\n",
       "\t<tr><th scope=row>3</th><td>11                                         </td><td>BS                                         </td><td>data/BS/Sonic/BS sonic 4.txt               </td><td>1938.0279                                  </td><td>sonic                                      </td><td>13957.972                                  </td><td>-1.974380                                  </td></tr>\n",
       "\t<tr><th scope=row>4</th><td> 5                                         </td><td>BS                                         </td><td>data/BS/Triflic/BS triflic 1.txt           </td><td>1582.9369                                  </td><td>tri                                        </td><td>11859.063                                  </td><td>-2.013811                                  </td></tr>\n",
       "\t<tr><th scope=row>5</th><td> 9                                         </td><td>BS                                         </td><td>data/BS/Triflic/BS triflic 3.txt           </td><td>2918.9662                                  </td><td>tri                                        </td><td>24296.034                                  </td><td>-2.119084                                  </td></tr>\n",
       "\t<tr><th scope=row>6</th><td>12                                         </td><td>BS                                         </td><td>data/BS/Triflic/BS triflic 2.txt           </td><td>2440.7648                                  </td><td>tri                                        </td><td>20389.235                                  </td><td>-2.122696                                  </td></tr>\n",
       "\t<tr><th scope=row>7</th><td> 3                                         </td><td>Jurkat                                     </td><td>data/Jurkat/Sonic/Jurkat sonic 8.txt       </td><td>2297.3431                                  </td><td>sonic                                      </td><td>19091.923                                  </td><td>-2.117512                                  </td></tr>\n",
       "\t<tr><th scope=row>8</th><td> 7                                         </td><td>Jurkat                                     </td><td>data/Jurkat/Sonic/Jurkat sonic 1.txt       </td><td>2609.5090                                  </td><td>sonic                                      </td><td>17737.064                                  </td><td>-1.916494                                  </td></tr>\n",
       "\t<tr><th scope=row>9</th><td>14                                         </td><td>Jurkat                                     </td><td>data/Jurkat/Sonic/Jurkat sonic 7.txt       </td><td>3182.1843                                  </td><td>sonic                                      </td><td>20449.608                                  </td><td>-1.860396                                  </td></tr>\n",
       "\t<tr><th scope=row>10</th><td>16                                         </td><td>Jurkat                                     </td><td>data/Jurkat/Triflic/Jurkat triflic test.txt</td><td> 772.3662                                  </td><td>tri                                        </td><td> 7299.670                                  </td><td>-2.246126                                  </td></tr>\n",
       "\t<tr><th scope=row>11</th><td>18                                         </td><td>Jurkat                                     </td><td>data/Jurkat/Triflic/Jurkat triflic 2.txt   </td><td> 525.2129                                  </td><td>tri                                        </td><td> 4393.911                                  </td><td>-2.124171                                  </td></tr>\n",
       "\t<tr><th scope=row>12</th><td>20                                         </td><td>Jurkat                                     </td><td>data/Jurkat/Triflic/Jurkat triflic 1.txt   </td><td> 494.0861                                  </td><td>tri                                        </td><td> 4267.349                                  </td><td>-2.156038                                  </td></tr>\n",
       "\t<tr><th scope=row>13</th><td>10                                         </td><td>PA                                         </td><td>data/PA/Sonic/PA sonic 3.txt               </td><td>1276.4486                                  </td><td>sonic                                      </td><td>17116.551                                  </td><td>-2.595964                                  </td></tr>\n",
       "\t<tr><th scope=row>14</th><td>15                                         </td><td>PA                                         </td><td>data/PA/Sonic/PA sonic 4.txt               </td><td> 848.7054                                  </td><td>sonic                                      </td><td>11826.295                                  </td><td>-2.634369                                  </td></tr>\n",
       "\t<tr><th scope=row>15</th><td>17                                         </td><td>PA                                         </td><td>data/PA/Sonic/PA sonic 1.txt               </td><td>1613.9268                                  </td><td>sonic                                      </td><td>20090.073                                  </td><td>-2.521556                                  </td></tr>\n",
       "\t<tr><th scope=row>16</th><td> 2                                         </td><td>PA                                         </td><td>data/PA/Triflic/PA triflic 3.txt           </td><td>4404.3149                                  </td><td>tri                                        </td><td>12535.685                                  </td><td>-1.045995                                  </td></tr>\n",
       "\t<tr><th scope=row>17</th><td> 4                                         </td><td>PA                                         </td><td>data/PA/Triflic/PA triflic 5.txt           </td><td>4056.9522                                  </td><td>tri                                        </td><td>13015.048                                  </td><td>-1.165674                                  </td></tr>\n",
       "\t<tr><th scope=row>20</th><td>13                                         </td><td>PA                                         </td><td>data/PA/Triflic/PA triflic 4.txt           </td><td>3729.7150                                  </td><td>tri                                        </td><td>12304.285                                  </td><td>-1.193616                                  </td></tr>\n",
       "</tbody>\n",
       "</table>\n"
      ],
      "text/latex": [
       "\\begin{tabular}{r|lllllll}\n",
       "  & X & cell & files & membrane & method & non.membrane & ratio\\\\\n",
       "\\hline\n",
       "\t1 &  0                                          & BS                                          & data/BS/Sonic/BS sonic 2.txt                & 2147.9005                                   & sonic                                       & 15042.099                                   & -1.946362                                  \\\\\n",
       "\t2 &  1                                          & BS                                          & data/BS/Sonic/BS sonic 3.txt                & 1810.1140                                   & sonic                                       & 13497.886                                   & -2.009143                                  \\\\\n",
       "\t3 & 11                                          & BS                                          & data/BS/Sonic/BS sonic 4.txt                & 1938.0279                                   & sonic                                       & 13957.972                                   & -1.974380                                  \\\\\n",
       "\t4 &  5                                          & BS                                          & data/BS/Triflic/BS triflic 1.txt            & 1582.9369                                   & tri                                         & 11859.063                                   & -2.013811                                  \\\\\n",
       "\t5 &  9                                          & BS                                          & data/BS/Triflic/BS triflic 3.txt            & 2918.9662                                   & tri                                         & 24296.034                                   & -2.119084                                  \\\\\n",
       "\t6 & 12                                          & BS                                          & data/BS/Triflic/BS triflic 2.txt            & 2440.7648                                   & tri                                         & 20389.235                                   & -2.122696                                  \\\\\n",
       "\t7 &  3                                          & Jurkat                                      & data/Jurkat/Sonic/Jurkat sonic 8.txt        & 2297.3431                                   & sonic                                       & 19091.923                                   & -2.117512                                  \\\\\n",
       "\t8 &  7                                          & Jurkat                                      & data/Jurkat/Sonic/Jurkat sonic 1.txt        & 2609.5090                                   & sonic                                       & 17737.064                                   & -1.916494                                  \\\\\n",
       "\t9 & 14                                          & Jurkat                                      & data/Jurkat/Sonic/Jurkat sonic 7.txt        & 3182.1843                                   & sonic                                       & 20449.608                                   & -1.860396                                  \\\\\n",
       "\t10 & 16                                          & Jurkat                                      & data/Jurkat/Triflic/Jurkat triflic test.txt &  772.3662                                   & tri                                         &  7299.670                                   & -2.246126                                  \\\\\n",
       "\t11 & 18                                          & Jurkat                                      & data/Jurkat/Triflic/Jurkat triflic 2.txt    &  525.2129                                   & tri                                         &  4393.911                                   & -2.124171                                  \\\\\n",
       "\t12 & 20                                          & Jurkat                                      & data/Jurkat/Triflic/Jurkat triflic 1.txt    &  494.0861                                   & tri                                         &  4267.349                                   & -2.156038                                  \\\\\n",
       "\t13 & 10                                          & PA                                          & data/PA/Sonic/PA sonic 3.txt                & 1276.4486                                   & sonic                                       & 17116.551                                   & -2.595964                                  \\\\\n",
       "\t14 & 15                                          & PA                                          & data/PA/Sonic/PA sonic 4.txt                &  848.7054                                   & sonic                                       & 11826.295                                   & -2.634369                                  \\\\\n",
       "\t15 & 17                                          & PA                                          & data/PA/Sonic/PA sonic 1.txt                & 1613.9268                                   & sonic                                       & 20090.073                                   & -2.521556                                  \\\\\n",
       "\t16 &  2                                          & PA                                          & data/PA/Triflic/PA triflic 3.txt            & 4404.3149                                   & tri                                         & 12535.685                                   & -1.045995                                  \\\\\n",
       "\t17 &  4                                          & PA                                          & data/PA/Triflic/PA triflic 5.txt            & 4056.9522                                   & tri                                         & 13015.048                                   & -1.165674                                  \\\\\n",
       "\t20 & 13                                          & PA                                          & data/PA/Triflic/PA triflic 4.txt            & 3729.7150                                   & tri                                         & 12304.285                                   & -1.193616                                  \\\\\n",
       "\\end{tabular}\n"
      ],
      "text/markdown": [
       "\n",
       "| <!--/--> | X | cell | files | membrane | method | non.membrane | ratio | \n",
       "|---|---|---|---|---|---|---|---|---|---|---|---|---|---|---|---|---|---|\n",
       "| 1 |  0                                          | BS                                          | data/BS/Sonic/BS sonic 2.txt                | 2147.9005                                   | sonic                                       | 15042.099                                   | -1.946362                                   | \n",
       "| 2 |  1                                          | BS                                          | data/BS/Sonic/BS sonic 3.txt                | 1810.1140                                   | sonic                                       | 13497.886                                   | -2.009143                                   | \n",
       "| 3 | 11                                          | BS                                          | data/BS/Sonic/BS sonic 4.txt                | 1938.0279                                   | sonic                                       | 13957.972                                   | -1.974380                                   | \n",
       "| 4 |  5                                          | BS                                          | data/BS/Triflic/BS triflic 1.txt            | 1582.9369                                   | tri                                         | 11859.063                                   | -2.013811                                   | \n",
       "| 5 |  9                                          | BS                                          | data/BS/Triflic/BS triflic 3.txt            | 2918.9662                                   | tri                                         | 24296.034                                   | -2.119084                                   | \n",
       "| 6 | 12                                          | BS                                          | data/BS/Triflic/BS triflic 2.txt            | 2440.7648                                   | tri                                         | 20389.235                                   | -2.122696                                   | \n",
       "| 7 |  3                                          | Jurkat                                      | data/Jurkat/Sonic/Jurkat sonic 8.txt        | 2297.3431                                   | sonic                                       | 19091.923                                   | -2.117512                                   | \n",
       "| 8 |  7                                          | Jurkat                                      | data/Jurkat/Sonic/Jurkat sonic 1.txt        | 2609.5090                                   | sonic                                       | 17737.064                                   | -1.916494                                   | \n",
       "| 9 | 14                                          | Jurkat                                      | data/Jurkat/Sonic/Jurkat sonic 7.txt        | 3182.1843                                   | sonic                                       | 20449.608                                   | -1.860396                                   | \n",
       "| 10 | 16                                          | Jurkat                                      | data/Jurkat/Triflic/Jurkat triflic test.txt |  772.3662                                   | tri                                         |  7299.670                                   | -2.246126                                   | \n",
       "| 11 | 18                                          | Jurkat                                      | data/Jurkat/Triflic/Jurkat triflic 2.txt    |  525.2129                                   | tri                                         |  4393.911                                   | -2.124171                                   | \n",
       "| 12 | 20                                          | Jurkat                                      | data/Jurkat/Triflic/Jurkat triflic 1.txt    |  494.0861                                   | tri                                         |  4267.349                                   | -2.156038                                   | \n",
       "| 13 | 10                                          | PA                                          | data/PA/Sonic/PA sonic 3.txt                | 1276.4486                                   | sonic                                       | 17116.551                                   | -2.595964                                   | \n",
       "| 14 | 15                                          | PA                                          | data/PA/Sonic/PA sonic 4.txt                |  848.7054                                   | sonic                                       | 11826.295                                   | -2.634369                                   | \n",
       "| 15 | 17                                          | PA                                          | data/PA/Sonic/PA sonic 1.txt                | 1613.9268                                   | sonic                                       | 20090.073                                   | -2.521556                                   | \n",
       "| 16 |  2                                          | PA                                          | data/PA/Triflic/PA triflic 3.txt            | 4404.3149                                   | tri                                         | 12535.685                                   | -1.045995                                   | \n",
       "| 17 |  4                                          | PA                                          | data/PA/Triflic/PA triflic 5.txt            | 4056.9522                                   | tri                                         | 13015.048                                   | -1.165674                                   | \n",
       "| 20 | 13                                          | PA                                          | data/PA/Triflic/PA triflic 4.txt            | 3729.7150                                   | tri                                         | 12304.285                                   | -1.193616                                   | \n",
       "\n",
       "\n"
      ],
      "text/plain": [
       "   X  cell   files                                       membrane  method\n",
       "1   0 BS     data/BS/Sonic/BS sonic 2.txt                2147.9005 sonic \n",
       "2   1 BS     data/BS/Sonic/BS sonic 3.txt                1810.1140 sonic \n",
       "3  11 BS     data/BS/Sonic/BS sonic 4.txt                1938.0279 sonic \n",
       "4   5 BS     data/BS/Triflic/BS triflic 1.txt            1582.9369 tri   \n",
       "5   9 BS     data/BS/Triflic/BS triflic 3.txt            2918.9662 tri   \n",
       "6  12 BS     data/BS/Triflic/BS triflic 2.txt            2440.7648 tri   \n",
       "7   3 Jurkat data/Jurkat/Sonic/Jurkat sonic 8.txt        2297.3431 sonic \n",
       "8   7 Jurkat data/Jurkat/Sonic/Jurkat sonic 1.txt        2609.5090 sonic \n",
       "9  14 Jurkat data/Jurkat/Sonic/Jurkat sonic 7.txt        3182.1843 sonic \n",
       "10 16 Jurkat data/Jurkat/Triflic/Jurkat triflic test.txt  772.3662 tri   \n",
       "11 18 Jurkat data/Jurkat/Triflic/Jurkat triflic 2.txt     525.2129 tri   \n",
       "12 20 Jurkat data/Jurkat/Triflic/Jurkat triflic 1.txt     494.0861 tri   \n",
       "13 10 PA     data/PA/Sonic/PA sonic 3.txt                1276.4486 sonic \n",
       "14 15 PA     data/PA/Sonic/PA sonic 4.txt                 848.7054 sonic \n",
       "15 17 PA     data/PA/Sonic/PA sonic 1.txt                1613.9268 sonic \n",
       "16  2 PA     data/PA/Triflic/PA triflic 3.txt            4404.3149 tri   \n",
       "17  4 PA     data/PA/Triflic/PA triflic 5.txt            4056.9522 tri   \n",
       "20 13 PA     data/PA/Triflic/PA triflic 4.txt            3729.7150 tri   \n",
       "   non.membrane ratio    \n",
       "1  15042.099    -1.946362\n",
       "2  13497.886    -2.009143\n",
       "3  13957.972    -1.974380\n",
       "4  11859.063    -2.013811\n",
       "5  24296.034    -2.119084\n",
       "6  20389.235    -2.122696\n",
       "7  19091.923    -2.117512\n",
       "8  17737.064    -1.916494\n",
       "9  20449.608    -1.860396\n",
       "10  7299.670    -2.246126\n",
       "11  4393.911    -2.124171\n",
       "12  4267.349    -2.156038\n",
       "13 17116.551    -2.595964\n",
       "14 11826.295    -2.634369\n",
       "15 20090.073    -2.521556\n",
       "16 12535.685    -1.045995\n",
       "17 13015.048    -1.165674\n",
       "20 12304.285    -1.193616"
      ]
     },
     "metadata": {},
     "output_type": "display_data"
    }
   ],
   "source": [
    "df1"
   ]
  },
  {
   "cell_type": "code",
   "execution_count": 67,
   "metadata": {
    "collapsed": false
   },
   "outputs": [
    {
     "data": {
      "text/html": [
       "<table>\n",
       "<thead><tr><th></th><th scope=col>X</th><th scope=col>cell</th><th scope=col>files</th><th scope=col>membrane</th><th scope=col>method</th><th scope=col>non.membrane</th><th scope=col>ratio</th><th scope=col>pellet</th></tr></thead>\n",
       "<tbody>\n",
       "\t<tr><th scope=row>13</th><td>10                                            </td><td>PA                                            </td><td>data/PA/Sonic/PA sonic 3.txt                  </td><td> 1276.4486                                    </td><td>sonic                                         </td><td>17116.55                                      </td><td>-2.59596419                                   </td><td>FALSE                                         </td></tr>\n",
       "\t<tr><th scope=row>14</th><td>15                                            </td><td>PA                                            </td><td>data/PA/Sonic/PA sonic 4.txt                  </td><td>  848.7054                                    </td><td>sonic                                         </td><td>11826.29                                      </td><td>-2.63436860                                   </td><td>FALSE                                         </td></tr>\n",
       "\t<tr><th scope=row>15</th><td>17                                            </td><td>PA                                            </td><td>data/PA/Sonic/PA sonic 1.txt                  </td><td> 1613.9268                                    </td><td>sonic                                         </td><td>20090.07                                      </td><td>-2.52155561                                   </td><td>FALSE                                         </td></tr>\n",
       "\t<tr><th scope=row>16</th><td> 2                                            </td><td>PA                                            </td><td>data/PA/Triflic/PA triflic 3.txt              </td><td> 4404.3149                                    </td><td>tri                                           </td><td>12535.69                                      </td><td>-1.04599467                                   </td><td>FALSE                                         </td></tr>\n",
       "\t<tr><th scope=row>17</th><td> 4                                            </td><td>PA                                            </td><td>data/PA/Triflic/PA triflic 5.txt              </td><td> 4056.9522                                    </td><td>tri                                           </td><td>13015.05                                      </td><td>-1.16567421                                   </td><td>FALSE                                         </td></tr>\n",
       "\t<tr><th scope=row>18</th><td> 6                                            </td><td>PA                                            </td><td>data/PA/pellet triflic/PA pellet triflic 3.txt</td><td>11023.7570                                    </td><td>tri                                           </td><td>10108.24                                      </td><td> 0.08670145                                   </td><td> TRUE                                         </td></tr>\n",
       "\t<tr><th scope=row>19</th><td> 8                                            </td><td>PA                                            </td><td>data/PA/pellet triflic/PA pellet triflic 2.txt</td><td>13515.8624                                    </td><td>tri                                           </td><td>12789.14                                      </td><td> 0.05526781                                   </td><td> TRUE                                         </td></tr>\n",
       "\t<tr><th scope=row>20</th><td>13                                            </td><td>PA                                            </td><td>data/PA/Triflic/PA triflic 4.txt              </td><td> 3729.7150                                    </td><td>tri                                           </td><td>12304.29                                      </td><td>-1.19361576                                   </td><td>FALSE                                         </td></tr>\n",
       "\t<tr><th scope=row>21</th><td>19                                            </td><td>PA                                            </td><td>data/PA/pellet triflic/PA pellet triflic 4.txt</td><td> 9812.5658                                    </td><td>tri                                           </td><td>10127.43                                      </td><td>-0.03158421                                   </td><td> TRUE                                         </td></tr>\n",
       "</tbody>\n",
       "</table>\n"
      ],
      "text/latex": [
       "\\begin{tabular}{r|llllllll}\n",
       "  & X & cell & files & membrane & method & non.membrane & ratio & pellet\\\\\n",
       "\\hline\n",
       "\t13 & 10                                             & PA                                             & data/PA/Sonic/PA sonic 3.txt                   &  1276.4486                                     & sonic                                          & 17116.55                                       & -2.59596419                                    & FALSE                                         \\\\\n",
       "\t14 & 15                                             & PA                                             & data/PA/Sonic/PA sonic 4.txt                   &   848.7054                                     & sonic                                          & 11826.29                                       & -2.63436860                                    & FALSE                                         \\\\\n",
       "\t15 & 17                                             & PA                                             & data/PA/Sonic/PA sonic 1.txt                   &  1613.9268                                     & sonic                                          & 20090.07                                       & -2.52155561                                    & FALSE                                         \\\\\n",
       "\t16 &  2                                             & PA                                             & data/PA/Triflic/PA triflic 3.txt               &  4404.3149                                     & tri                                            & 12535.69                                       & -1.04599467                                    & FALSE                                         \\\\\n",
       "\t17 &  4                                             & PA                                             & data/PA/Triflic/PA triflic 5.txt               &  4056.9522                                     & tri                                            & 13015.05                                       & -1.16567421                                    & FALSE                                         \\\\\n",
       "\t18 &  6                                             & PA                                             & data/PA/pellet triflic/PA pellet triflic 3.txt & 11023.7570                                     & tri                                            & 10108.24                                       &  0.08670145                                    &  TRUE                                         \\\\\n",
       "\t19 &  8                                             & PA                                             & data/PA/pellet triflic/PA pellet triflic 2.txt & 13515.8624                                     & tri                                            & 12789.14                                       &  0.05526781                                    &  TRUE                                         \\\\\n",
       "\t20 & 13                                             & PA                                             & data/PA/Triflic/PA triflic 4.txt               &  3729.7150                                     & tri                                            & 12304.29                                       & -1.19361576                                    & FALSE                                         \\\\\n",
       "\t21 & 19                                             & PA                                             & data/PA/pellet triflic/PA pellet triflic 4.txt &  9812.5658                                     & tri                                            & 10127.43                                       & -0.03158421                                    &  TRUE                                         \\\\\n",
       "\\end{tabular}\n"
      ],
      "text/markdown": [
       "\n",
       "| <!--/--> | X | cell | files | membrane | method | non.membrane | ratio | pellet | \n",
       "|---|---|---|---|---|---|---|---|---|\n",
       "| 13 | 10                                             | PA                                             | data/PA/Sonic/PA sonic 3.txt                   |  1276.4486                                     | sonic                                          | 17116.55                                       | -2.59596419                                    | FALSE                                          | \n",
       "| 14 | 15                                             | PA                                             | data/PA/Sonic/PA sonic 4.txt                   |   848.7054                                     | sonic                                          | 11826.29                                       | -2.63436860                                    | FALSE                                          | \n",
       "| 15 | 17                                             | PA                                             | data/PA/Sonic/PA sonic 1.txt                   |  1613.9268                                     | sonic                                          | 20090.07                                       | -2.52155561                                    | FALSE                                          | \n",
       "| 16 |  2                                             | PA                                             | data/PA/Triflic/PA triflic 3.txt               |  4404.3149                                     | tri                                            | 12535.69                                       | -1.04599467                                    | FALSE                                          | \n",
       "| 17 |  4                                             | PA                                             | data/PA/Triflic/PA triflic 5.txt               |  4056.9522                                     | tri                                            | 13015.05                                       | -1.16567421                                    | FALSE                                          | \n",
       "| 18 |  6                                             | PA                                             | data/PA/pellet triflic/PA pellet triflic 3.txt | 11023.7570                                     | tri                                            | 10108.24                                       |  0.08670145                                    |  TRUE                                          | \n",
       "| 19 |  8                                             | PA                                             | data/PA/pellet triflic/PA pellet triflic 2.txt | 13515.8624                                     | tri                                            | 12789.14                                       |  0.05526781                                    |  TRUE                                          | \n",
       "| 20 | 13                                             | PA                                             | data/PA/Triflic/PA triflic 4.txt               |  3729.7150                                     | tri                                            | 12304.29                                       | -1.19361576                                    | FALSE                                          | \n",
       "| 21 | 19                                             | PA                                             | data/PA/pellet triflic/PA pellet triflic 4.txt |  9812.5658                                     | tri                                            | 10127.43                                       | -0.03158421                                    |  TRUE                                          | \n",
       "\n",
       "\n"
      ],
      "text/plain": [
       "   X  cell files                                          membrane   method\n",
       "13 10 PA   data/PA/Sonic/PA sonic 3.txt                    1276.4486 sonic \n",
       "14 15 PA   data/PA/Sonic/PA sonic 4.txt                     848.7054 sonic \n",
       "15 17 PA   data/PA/Sonic/PA sonic 1.txt                    1613.9268 sonic \n",
       "16  2 PA   data/PA/Triflic/PA triflic 3.txt                4404.3149 tri   \n",
       "17  4 PA   data/PA/Triflic/PA triflic 5.txt                4056.9522 tri   \n",
       "18  6 PA   data/PA/pellet triflic/PA pellet triflic 3.txt 11023.7570 tri   \n",
       "19  8 PA   data/PA/pellet triflic/PA pellet triflic 2.txt 13515.8624 tri   \n",
       "20 13 PA   data/PA/Triflic/PA triflic 4.txt                3729.7150 tri   \n",
       "21 19 PA   data/PA/pellet triflic/PA pellet triflic 4.txt  9812.5658 tri   \n",
       "   non.membrane ratio       pellet\n",
       "13 17116.55     -2.59596419 FALSE \n",
       "14 11826.29     -2.63436860 FALSE \n",
       "15 20090.07     -2.52155561 FALSE \n",
       "16 12535.69     -1.04599467 FALSE \n",
       "17 13015.05     -1.16567421 FALSE \n",
       "18 10108.24      0.08670145  TRUE \n",
       "19 12789.14      0.05526781  TRUE \n",
       "20 12304.29     -1.19361576 FALSE \n",
       "21 10127.43     -0.03158421  TRUE "
      ]
     },
     "metadata": {},
     "output_type": "display_data"
    }
   ],
   "source": [
    "dfPA"
   ]
  },
  {
   "cell_type": "code",
   "execution_count": 68,
   "metadata": {
    "collapsed": false,
    "deletable": true,
    "editable": true
   },
   "outputs": [],
   "source": [
    "pa_sonic = df1[df1$cell == \"PA\" & df1$method == \"sonic\",\"ratio\"]\n",
    "pa_tri = df1[df1$cell == \"PA\" & df1$method == \"tri\",\"ratio\"]\n",
    "pa_pellet_tri = df[df$cell == \"PA\" & df$method == \"tri\" & grepl(\"pellet\", df$files), \"ratio\"]\n",
    "jurkat_sonic = df1[df1$cell == \"Jurkat\" & df1$method == \"sonic\",\"ratio\"]\n",
    "jurkat_tri = df1[df1$cell == \"Jurkat\" & df1$method == \"tri\",\"ratio\"]\n",
    "bs_sonic = df1[df1$cell == \"BS\" & df1$method == \"sonic\",\"ratio\"]\n",
    "bs_tri = df1[df1$cell == \"BS\" & df1$method == \"tri\",\"ratio\"]"
   ]
  },
  {
   "cell_type": "code",
   "execution_count": 69,
   "metadata": {
    "collapsed": false,
    "deletable": true,
    "editable": true
   },
   "outputs": [
    {
     "data": {
      "text/plain": [
       "\n",
       "\tWelch Two Sample t-test\n",
       "\n",
       "data:  pa_sonic and pa_tri\n",
       "t = -25.83, df = 3.6637, p-value = 2.796e-05\n",
       "alternative hypothesis: true difference in means is not equal to 0\n",
       "95 percent confidence interval:\n",
       " -1.610408 -1.287328\n",
       "sample estimates:\n",
       "mean of x mean of y \n",
       "-2.583963 -1.135095 \n"
      ]
     },
     "metadata": {},
     "output_type": "display_data"
    }
   ],
   "source": [
    "t.test(pa_sonic, pa_tri, var.equal = FALSE, alternative=\"two.sided\")"
   ]
  },
  {
   "cell_type": "code",
   "execution_count": 70,
   "metadata": {
    "collapsed": false
   },
   "outputs": [
    {
     "data": {
      "text/plain": [
       "\n",
       "\tWelch Two Sample t-test\n",
       "\n",
       "data:  jurkat_sonic and jurkat_tri\n",
       "t = 2.4444, df = 2.8355, p-value = 0.09709\n",
       "alternative hypothesis: true difference in means is not equal to 0\n",
       "95 percent confidence interval:\n",
       " -0.07282352  0.49411221\n",
       "sample estimates:\n",
       "mean of x mean of y \n",
       "-1.964801 -2.175445 \n"
      ]
     },
     "metadata": {},
     "output_type": "display_data"
    }
   ],
   "source": [
    "t.test(jurkat_sonic, jurkat_tri, var.equal = FALSE, alternative=\"two.sided\")"
   ]
  },
  {
   "cell_type": "code",
   "execution_count": 71,
   "metadata": {
    "collapsed": false
   },
   "outputs": [
    {
     "data": {
      "text/plain": [
       "\n",
       "\tWelch Two Sample t-test\n",
       "\n",
       "data:  bs_sonic and bs_tri\n",
       "t = 2.7101, df = 2.9695, p-value = 0.07398\n",
       "alternative hypothesis: true difference in means is not equal to 0\n",
       "95 percent confidence interval:\n",
       " -0.01966395  0.23680033\n",
       "sample estimates:\n",
       "mean of x mean of y \n",
       "-1.976628 -2.085197 \n"
      ]
     },
     "metadata": {},
     "output_type": "display_data"
    }
   ],
   "source": [
    "t.test(bs_sonic, bs_tri, var.equal = FALSE, alternative=\"two.sided\")"
   ]
  },
  {
   "cell_type": "code",
   "execution_count": 76,
   "metadata": {
    "collapsed": false
   },
   "outputs": [
    {
     "data": {
      "text/plain": [
       "\n",
       "\tWelch Two Sample t-test\n",
       "\n",
       "data:  pa_sonic and pa_pellet_tri\n",
       "t = -54.087, df = 3.9827, p-value = 7.356e-07\n",
       "alternative hypothesis: true difference in means is not equal to 0\n",
       "95 percent confidence interval:\n",
       " -2.755520 -2.485996\n",
       "sample estimates:\n",
       "  mean of x   mean of y \n",
       "-2.58396280  0.03679502 \n"
      ]
     },
     "metadata": {},
     "output_type": "display_data"
    }
   ],
   "source": [
    "t.test(pa_sonic, pa_pellet_tri, var.equal = FALSE, alternative=\"two.sided\")"
   ]
  },
  {
   "cell_type": "code",
   "execution_count": 77,
   "metadata": {
    "collapsed": false
   },
   "outputs": [
    {
     "data": {
      "text/plain": [
       "\n",
       "\tWelch Two Sample t-test\n",
       "\n",
       "data:  pa_tri and pa_pellet_tri\n",
       "t = -20.397, df = 3.7789, p-value = 5.259e-05\n",
       "alternative hypothesis: true difference in means is not equal to 0\n",
       "95 percent confidence interval:\n",
       " -1.335159 -1.008621\n",
       "sample estimates:\n",
       "  mean of x   mean of y \n",
       "-1.13509488  0.03679502 \n"
      ]
     },
     "metadata": {},
     "output_type": "display_data"
    }
   ],
   "source": [
    "t.test(pa_tri, pa_pellet_tri, var.equal = FALSE, alternative=\"two.sided\")"
   ]
  }
 ],
 "metadata": {
  "kernelspec": {
   "display_name": "R",
   "language": "R",
   "name": "ir"
  },
  "language_info": {
   "codemirror_mode": "r",
   "file_extension": ".r",
   "mimetype": "text/x-r-source",
   "name": "R",
   "pygments_lexer": "r",
   "version": "3.4.0"
  }
 },
 "nbformat": 4,
 "nbformat_minor": 2
}
