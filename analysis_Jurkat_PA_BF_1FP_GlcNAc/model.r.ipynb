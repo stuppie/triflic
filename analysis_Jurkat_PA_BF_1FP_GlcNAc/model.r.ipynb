{
 "cells": [
  {
   "cell_type": "code",
   "execution_count": 1,
   "metadata": {
    "collapsed": false,
    "deletable": true,
    "editable": true
   },
   "outputs": [
    {
     "data": {
      "text/html": [
       "<table>\n",
       "<thead><tr><th scope=col>X</th><th scope=col>cell</th><th scope=col>files</th><th scope=col>membrane</th><th scope=col>method</th><th scope=col>non.membrane</th><th scope=col>ratio</th></tr></thead>\n",
       "<tbody>\n",
       "\t<tr><td> 1                                         </td><td>BS                                         </td><td>data/BS/Sonic/BS sonic 4.txt               </td><td> 784.7500                                  </td><td>sonic                                      </td><td>15111.250                                  </td><td>2.957830                                   </td></tr>\n",
       "\t<tr><td> 7                                         </td><td>BS                                         </td><td>data/BS/Sonic/BS sonic 2.txt               </td><td> 897.7143                                  </td><td>sonic                                      </td><td>16292.286                                  </td><td>2.898595                                   </td></tr>\n",
       "\t<tr><td>10                                         </td><td>BS                                         </td><td>data/BS/Sonic/BS sonic 3.txt               </td><td> 743.8810                                  </td><td>sonic                                      </td><td>14564.119                                  </td><td>2.974435                                   </td></tr>\n",
       "\t<tr><td> 2                                         </td><td>BS                                         </td><td>data/BS/Triflic/BS triflic 1.txt           </td><td> 721.3452                                  </td><td>tri                                        </td><td>12720.655                                  </td><td>2.869864                                   </td></tr>\n",
       "\t<tr><td> 5                                         </td><td>BS                                         </td><td>data/BS/Triflic/BS triflic 3.txt           </td><td>1355.5000                                  </td><td>tri                                        </td><td>25859.500                                  </td><td>2.948508                                   </td></tr>\n",
       "\t<tr><td> 9                                         </td><td>BS                                         </td><td>data/BS/Triflic/BS triflic 2.txt           </td><td>1088.7857                                  </td><td>tri                                        </td><td>21741.214                                  </td><td>2.994147                                   </td></tr>\n",
       "\t<tr><td> 0                                         </td><td>Jurkat                                     </td><td>data/Jurkat/Sonic/Jurkat sonic 1.txt       </td><td> 978.5117                                  </td><td>sonic                                      </td><td>20908.488                                  </td><td>3.061878                                   </td></tr>\n",
       "\t<tr><td> 4                                         </td><td>Jurkat                                     </td><td>data/Jurkat/Sonic/Jurkat sonic 8.txt       </td><td> 765.9678                                  </td><td>sonic                                      </td><td>21727.032                                  </td><td>3.345172                                   </td></tr>\n",
       "\t<tr><td>12                                         </td><td>Jurkat                                     </td><td>data/Jurkat/Sonic/Jurkat sonic 7.txt       </td><td>1193.2116                                  </td><td>sonic                                      </td><td>23654.788                                  </td><td>2.986917                                   </td></tr>\n",
       "\t<tr><td>13                                         </td><td>Jurkat                                     </td><td>data/Jurkat/Triflic/Jurkat triflic test.txt</td><td> 311.4342                                  </td><td>tri                                        </td><td> 8308.566                                  </td><td>3.283854                                   </td></tr>\n",
       "\t<tr><td>15                                         </td><td>Jurkat                                     </td><td>data/Jurkat/Triflic/Jurkat triflic 1.txt   </td><td> 189.2422                                  </td><td>tri                                        </td><td> 4937.758                                  </td><td>3.261639                                   </td></tr>\n",
       "\t<tr><td>17                                         </td><td>Jurkat                                     </td><td>data/Jurkat/Triflic/Jurkat triflic 2.txt   </td><td> 212.2427                                  </td><td>tri                                        </td><td> 5290.757                                  </td><td>3.215986                                   </td></tr>\n",
       "\t<tr><td> 6                                         </td><td>PA                                         </td><td>data/PA/Sonic/PA sonic 3.txt               </td><td> 506.5500                                  </td><td>sonic                                      </td><td>17886.450                                  </td><td>3.564176                                   </td></tr>\n",
       "\t<tr><td> 8                                         </td><td>PA                                         </td><td>data/PA/Sonic/PA sonic 4.txt               </td><td> 337.5167                                  </td><td>sonic                                      </td><td>12337.483                                  </td><td>3.598782                                   </td></tr>\n",
       "\t<tr><td>16                                         </td><td>PA                                         </td><td>data/PA/Sonic/PA sonic 1.txt               </td><td> 602.8167                                  </td><td>sonic                                      </td><td>21101.183                                  </td><td>3.555471                                   </td></tr>\n",
       "\t<tr><td> 3                                         </td><td>PA                                         </td><td>data/PA/Triflic/PA triflic 3.txt           </td><td>1301.4000                                  </td><td>tri                                        </td><td>15638.600                                  </td><td>2.486302                                   </td></tr>\n",
       "\t<tr><td>11                                         </td><td>PA                                         </td><td>data/PA/Triflic/PA triflic 4.txt           </td><td>1174.6667                                  </td><td>tri                                        </td><td>14859.333                                  </td><td>2.537644                                   </td></tr>\n",
       "\t<tr><td>14                                         </td><td>PA                                         </td><td>data/PA/Triflic/PA triflic 5.txt           </td><td>1203.7167                                  </td><td>tri                                        </td><td>15868.283                                  </td><td>2.578908                                   </td></tr>\n",
       "</tbody>\n",
       "</table>\n"
      ],
      "text/latex": [
       "\\begin{tabular}{r|lllllll}\n",
       " X & cell & files & membrane & method & non.membrane & ratio\\\\\n",
       "\\hline\n",
       "\t  1                                          & BS                                          & data/BS/Sonic/BS sonic 4.txt                &  784.7500                                   & sonic                                       & 15111.250                                   & 2.957830                                   \\\\\n",
       "\t  7                                          & BS                                          & data/BS/Sonic/BS sonic 2.txt                &  897.7143                                   & sonic                                       & 16292.286                                   & 2.898595                                   \\\\\n",
       "\t 10                                          & BS                                          & data/BS/Sonic/BS sonic 3.txt                &  743.8810                                   & sonic                                       & 14564.119                                   & 2.974435                                   \\\\\n",
       "\t  2                                          & BS                                          & data/BS/Triflic/BS triflic 1.txt            &  721.3452                                   & tri                                         & 12720.655                                   & 2.869864                                   \\\\\n",
       "\t  5                                          & BS                                          & data/BS/Triflic/BS triflic 3.txt            & 1355.5000                                   & tri                                         & 25859.500                                   & 2.948508                                   \\\\\n",
       "\t  9                                          & BS                                          & data/BS/Triflic/BS triflic 2.txt            & 1088.7857                                   & tri                                         & 21741.214                                   & 2.994147                                   \\\\\n",
       "\t  0                                          & Jurkat                                      & data/Jurkat/Sonic/Jurkat sonic 1.txt        &  978.5117                                   & sonic                                       & 20908.488                                   & 3.061878                                   \\\\\n",
       "\t  4                                          & Jurkat                                      & data/Jurkat/Sonic/Jurkat sonic 8.txt        &  765.9678                                   & sonic                                       & 21727.032                                   & 3.345172                                   \\\\\n",
       "\t 12                                          & Jurkat                                      & data/Jurkat/Sonic/Jurkat sonic 7.txt        & 1193.2116                                   & sonic                                       & 23654.788                                   & 2.986917                                   \\\\\n",
       "\t 13                                          & Jurkat                                      & data/Jurkat/Triflic/Jurkat triflic test.txt &  311.4342                                   & tri                                         &  8308.566                                   & 3.283854                                   \\\\\n",
       "\t 15                                          & Jurkat                                      & data/Jurkat/Triflic/Jurkat triflic 1.txt    &  189.2422                                   & tri                                         &  4937.758                                   & 3.261639                                   \\\\\n",
       "\t 17                                          & Jurkat                                      & data/Jurkat/Triflic/Jurkat triflic 2.txt    &  212.2427                                   & tri                                         &  5290.757                                   & 3.215986                                   \\\\\n",
       "\t  6                                          & PA                                          & data/PA/Sonic/PA sonic 3.txt                &  506.5500                                   & sonic                                       & 17886.450                                   & 3.564176                                   \\\\\n",
       "\t  8                                          & PA                                          & data/PA/Sonic/PA sonic 4.txt                &  337.5167                                   & sonic                                       & 12337.483                                   & 3.598782                                   \\\\\n",
       "\t 16                                          & PA                                          & data/PA/Sonic/PA sonic 1.txt                &  602.8167                                   & sonic                                       & 21101.183                                   & 3.555471                                   \\\\\n",
       "\t  3                                          & PA                                          & data/PA/Triflic/PA triflic 3.txt            & 1301.4000                                   & tri                                         & 15638.600                                   & 2.486302                                   \\\\\n",
       "\t 11                                          & PA                                          & data/PA/Triflic/PA triflic 4.txt            & 1174.6667                                   & tri                                         & 14859.333                                   & 2.537644                                   \\\\\n",
       "\t 14                                          & PA                                          & data/PA/Triflic/PA triflic 5.txt            & 1203.7167                                   & tri                                         & 15868.283                                   & 2.578908                                   \\\\\n",
       "\\end{tabular}\n"
      ],
      "text/markdown": [
       "\n",
       "X | cell | files | membrane | method | non.membrane | ratio | \n",
       "|---|---|---|---|---|---|---|---|---|---|---|---|---|---|---|---|---|---|\n",
       "|  1                                          | BS                                          | data/BS/Sonic/BS sonic 4.txt                |  784.7500                                   | sonic                                       | 15111.250                                   | 2.957830                                    | \n",
       "|  7                                          | BS                                          | data/BS/Sonic/BS sonic 2.txt                |  897.7143                                   | sonic                                       | 16292.286                                   | 2.898595                                    | \n",
       "| 10                                          | BS                                          | data/BS/Sonic/BS sonic 3.txt                |  743.8810                                   | sonic                                       | 14564.119                                   | 2.974435                                    | \n",
       "|  2                                          | BS                                          | data/BS/Triflic/BS triflic 1.txt            |  721.3452                                   | tri                                         | 12720.655                                   | 2.869864                                    | \n",
       "|  5                                          | BS                                          | data/BS/Triflic/BS triflic 3.txt            | 1355.5000                                   | tri                                         | 25859.500                                   | 2.948508                                    | \n",
       "|  9                                          | BS                                          | data/BS/Triflic/BS triflic 2.txt            | 1088.7857                                   | tri                                         | 21741.214                                   | 2.994147                                    | \n",
       "|  0                                          | Jurkat                                      | data/Jurkat/Sonic/Jurkat sonic 1.txt        |  978.5117                                   | sonic                                       | 20908.488                                   | 3.061878                                    | \n",
       "|  4                                          | Jurkat                                      | data/Jurkat/Sonic/Jurkat sonic 8.txt        |  765.9678                                   | sonic                                       | 21727.032                                   | 3.345172                                    | \n",
       "| 12                                          | Jurkat                                      | data/Jurkat/Sonic/Jurkat sonic 7.txt        | 1193.2116                                   | sonic                                       | 23654.788                                   | 2.986917                                    | \n",
       "| 13                                          | Jurkat                                      | data/Jurkat/Triflic/Jurkat triflic test.txt |  311.4342                                   | tri                                         |  8308.566                                   | 3.283854                                    | \n",
       "| 15                                          | Jurkat                                      | data/Jurkat/Triflic/Jurkat triflic 1.txt    |  189.2422                                   | tri                                         |  4937.758                                   | 3.261639                                    | \n",
       "| 17                                          | Jurkat                                      | data/Jurkat/Triflic/Jurkat triflic 2.txt    |  212.2427                                   | tri                                         |  5290.757                                   | 3.215986                                    | \n",
       "|  6                                          | PA                                          | data/PA/Sonic/PA sonic 3.txt                |  506.5500                                   | sonic                                       | 17886.450                                   | 3.564176                                    | \n",
       "|  8                                          | PA                                          | data/PA/Sonic/PA sonic 4.txt                |  337.5167                                   | sonic                                       | 12337.483                                   | 3.598782                                    | \n",
       "| 16                                          | PA                                          | data/PA/Sonic/PA sonic 1.txt                |  602.8167                                   | sonic                                       | 21101.183                                   | 3.555471                                    | \n",
       "|  3                                          | PA                                          | data/PA/Triflic/PA triflic 3.txt            | 1301.4000                                   | tri                                         | 15638.600                                   | 2.486302                                    | \n",
       "| 11                                          | PA                                          | data/PA/Triflic/PA triflic 4.txt            | 1174.6667                                   | tri                                         | 14859.333                                   | 2.537644                                    | \n",
       "| 14                                          | PA                                          | data/PA/Triflic/PA triflic 5.txt            | 1203.7167                                   | tri                                         | 15868.283                                   | 2.578908                                    | \n",
       "\n",
       "\n"
      ],
      "text/plain": [
       "   X  cell   files                                       membrane  method\n",
       "1   1 BS     data/BS/Sonic/BS sonic 4.txt                 784.7500 sonic \n",
       "2   7 BS     data/BS/Sonic/BS sonic 2.txt                 897.7143 sonic \n",
       "3  10 BS     data/BS/Sonic/BS sonic 3.txt                 743.8810 sonic \n",
       "4   2 BS     data/BS/Triflic/BS triflic 1.txt             721.3452 tri   \n",
       "5   5 BS     data/BS/Triflic/BS triflic 3.txt            1355.5000 tri   \n",
       "6   9 BS     data/BS/Triflic/BS triflic 2.txt            1088.7857 tri   \n",
       "7   0 Jurkat data/Jurkat/Sonic/Jurkat sonic 1.txt         978.5117 sonic \n",
       "8   4 Jurkat data/Jurkat/Sonic/Jurkat sonic 8.txt         765.9678 sonic \n",
       "9  12 Jurkat data/Jurkat/Sonic/Jurkat sonic 7.txt        1193.2116 sonic \n",
       "10 13 Jurkat data/Jurkat/Triflic/Jurkat triflic test.txt  311.4342 tri   \n",
       "11 15 Jurkat data/Jurkat/Triflic/Jurkat triflic 1.txt     189.2422 tri   \n",
       "12 17 Jurkat data/Jurkat/Triflic/Jurkat triflic 2.txt     212.2427 tri   \n",
       "13  6 PA     data/PA/Sonic/PA sonic 3.txt                 506.5500 sonic \n",
       "14  8 PA     data/PA/Sonic/PA sonic 4.txt                 337.5167 sonic \n",
       "15 16 PA     data/PA/Sonic/PA sonic 1.txt                 602.8167 sonic \n",
       "16  3 PA     data/PA/Triflic/PA triflic 3.txt            1301.4000 tri   \n",
       "17 11 PA     data/PA/Triflic/PA triflic 4.txt            1174.6667 tri   \n",
       "18 14 PA     data/PA/Triflic/PA triflic 5.txt            1203.7167 tri   \n",
       "   non.membrane ratio   \n",
       "1  15111.250    2.957830\n",
       "2  16292.286    2.898595\n",
       "3  14564.119    2.974435\n",
       "4  12720.655    2.869864\n",
       "5  25859.500    2.948508\n",
       "6  21741.214    2.994147\n",
       "7  20908.488    3.061878\n",
       "8  21727.032    3.345172\n",
       "9  23654.788    2.986917\n",
       "10  8308.566    3.283854\n",
       "11  4937.758    3.261639\n",
       "12  5290.757    3.215986\n",
       "13 17886.450    3.564176\n",
       "14 12337.483    3.598782\n",
       "15 21101.183    3.555471\n",
       "16 15638.600    2.486302\n",
       "17 14859.333    2.537644\n",
       "18 15868.283    2.578908"
      ]
     },
     "metadata": {},
     "output_type": "display_data"
    }
   ],
   "source": [
    "df = as.data.frame(read.csv(\"df_out.csv\"))\n",
    "df$method = as.factor(df$method)\n",
    "df$cell = as.factor(df$cell)\n",
    "df"
   ]
  },
  {
   "cell_type": "code",
   "execution_count": 2,
   "metadata": {
    "collapsed": false,
    "deletable": true,
    "editable": true
   },
   "outputs": [
    {
     "data": {
      "text/plain": [
       "\n",
       "Call:\n",
       "lm(formula = ratio ~ method * cell, data = df)\n",
       "\n",
       "Residuals:\n",
       "      Min        1Q    Median        3Q       Max \n",
       "-0.144405 -0.043229  0.005586  0.029014  0.213850 \n",
       "\n",
       "Coefficients:\n",
       "                      Estimate Std. Error t value Pr(>|t|)    \n",
       "(Intercept)           2.943620   0.050067  58.794 3.87e-16 ***\n",
       "methodtri            -0.006114   0.070805  -0.086   0.9326    \n",
       "cellJurkat            0.187702   0.070805   2.651   0.0211 *  \n",
       "cellPA                0.629190   0.070805   8.886 1.26e-06 ***\n",
       "methodtri:cellJurkat  0.128618   0.100133   1.284   0.2232    \n",
       "methodtri:cellPA     -1.032412   0.100133 -10.310 2.57e-07 ***\n",
       "---\n",
       "Signif. codes:  0 ‘***’ 0.001 ‘**’ 0.01 ‘*’ 0.05 ‘.’ 0.1 ‘ ’ 1\n",
       "\n",
       "Residual standard error: 0.08672 on 12 degrees of freedom\n",
       "Multiple R-squared:  0.953,\tAdjusted R-squared:  0.9335 \n",
       "F-statistic: 48.71 on 5 and 12 DF,  p-value: 1.478e-07\n"
      ]
     },
     "metadata": {},
     "output_type": "display_data"
    }
   ],
   "source": [
    "lmfit = lm( ratio ~ method * cell, data = df )\n",
    "summary(lmfit)"
   ]
  },
  {
   "cell_type": "code",
   "execution_count": 3,
   "metadata": {
    "collapsed": false,
    "deletable": true,
    "editable": true
   },
   "outputs": [
    {
     "data": {
      "text/html": [
       "<table>\n",
       "<thead><tr><th></th><th scope=col>Df</th><th scope=col>Sum Sq</th><th scope=col>Mean Sq</th><th scope=col>F value</th><th scope=col>Pr(&gt;F)</th></tr></thead>\n",
       "<tbody>\n",
       "\t<tr><th scope=row>method</th><td> 1          </td><td>0.42516633  </td><td>0.425166329 </td><td>56.53815    </td><td>7.050463e-06</td></tr>\n",
       "\t<tr><th scope=row>cell</th><td> 2          </td><td>0.19120738  </td><td>0.095603691 </td><td>12.71327    </td><td>1.086448e-03</td></tr>\n",
       "\t<tr><th scope=row>method:cell</th><td> 2          </td><td>1.21520259  </td><td>0.607601295 </td><td>80.79815    </td><td>1.091050e-07</td></tr>\n",
       "\t<tr><th scope=row>Residuals</th><td>12          </td><td>0.09023989  </td><td>0.007519991 </td><td>      NA    </td><td>          NA</td></tr>\n",
       "</tbody>\n",
       "</table>\n"
      ],
      "text/latex": [
       "\\begin{tabular}{r|lllll}\n",
       "  & Df & Sum Sq & Mean Sq & F value & Pr(>F)\\\\\n",
       "\\hline\n",
       "\tmethod &  1           & 0.42516633   & 0.425166329  & 56.53815     & 7.050463e-06\\\\\n",
       "\tcell &  2           & 0.19120738   & 0.095603691  & 12.71327     & 1.086448e-03\\\\\n",
       "\tmethod:cell &  2           & 1.21520259   & 0.607601295  & 80.79815     & 1.091050e-07\\\\\n",
       "\tResiduals & 12           & 0.09023989   & 0.007519991  &       NA     &           NA\\\\\n",
       "\\end{tabular}\n"
      ],
      "text/markdown": [
       "\n",
       "| <!--/--> | Df | Sum Sq | Mean Sq | F value | Pr(>F) | \n",
       "|---|---|---|---|\n",
       "| method |  1           | 0.42516633   | 0.425166329  | 56.53815     | 7.050463e-06 | \n",
       "| cell |  2           | 0.19120738   | 0.095603691  | 12.71327     | 1.086448e-03 | \n",
       "| method:cell |  2           | 1.21520259   | 0.607601295  | 80.79815     | 1.091050e-07 | \n",
       "| Residuals | 12           | 0.09023989   | 0.007519991  |       NA     |           NA | \n",
       "\n",
       "\n"
      ],
      "text/plain": [
       "            Df Sum Sq     Mean Sq     F value  Pr(>F)      \n",
       "method       1 0.42516633 0.425166329 56.53815 7.050463e-06\n",
       "cell         2 0.19120738 0.095603691 12.71327 1.086448e-03\n",
       "method:cell  2 1.21520259 0.607601295 80.79815 1.091050e-07\n",
       "Residuals   12 0.09023989 0.007519991       NA           NA"
      ]
     },
     "metadata": {},
     "output_type": "display_data"
    }
   ],
   "source": [
    "anova(lmfit)"
   ]
  },
  {
   "cell_type": "code",
   "execution_count": null,
   "metadata": {
    "collapsed": true,
    "deletable": true,
    "editable": true
   },
   "outputs": [],
   "source": []
  }
 ],
 "metadata": {
  "kernelspec": {
   "display_name": "R",
   "language": "R",
   "name": "ir"
  },
  "language_info": {
   "codemirror_mode": "r",
   "file_extension": ".r",
   "mimetype": "text/x-r-source",
   "name": "R",
   "pygments_lexer": "r",
   "version": "3.4.0"
  }
 },
 "nbformat": 4,
 "nbformat_minor": 2
}
