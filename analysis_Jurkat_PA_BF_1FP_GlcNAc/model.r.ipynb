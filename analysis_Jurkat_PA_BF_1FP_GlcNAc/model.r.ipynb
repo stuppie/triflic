{
 "cells": [
  {
   "cell_type": "code",
   "execution_count": 4,
   "metadata": {
    "collapsed": false,
    "deletable": true,
    "editable": true
   },
   "outputs": [
    {
     "data": {
      "text/html": [
       "<table>\n",
       "<thead><tr><th scope=col>X</th><th scope=col>cell</th><th scope=col>files</th><th scope=col>membrane</th><th scope=col>method</th><th scope=col>non.membrane</th><th scope=col>ratio</th></tr></thead>\n",
       "<tbody>\n",
       "\t<tr><td> 1                                         </td><td>BS                                         </td><td>data/BS/Sonic/BS sonic 4.txt               </td><td>1262.1333                                  </td><td>sonic                                      </td><td>14513.867                                  </td><td>2.442301                                   </td></tr>\n",
       "\t<tr><td> 7                                         </td><td>BS                                         </td><td>data/BS/Sonic/BS sonic 2.txt               </td><td>1474.4167                                  </td><td>sonic                                      </td><td>15578.583                                  </td><td>2.357635                                   </td></tr>\n",
       "\t<tr><td>10                                         </td><td>BS                                         </td><td>data/BS/Sonic/BS sonic 3.txt               </td><td>1222.3167                                  </td><td>sonic                                      </td><td>13971.683                                  </td><td>2.436285                                   </td></tr>\n",
       "\t<tr><td> 2                                         </td><td>BS                                         </td><td>data/BS/Triflic/BS triflic 1.txt           </td><td>1112.2333                                  </td><td>tri                                        </td><td>12265.767                                  </td><td>2.400442                                   </td></tr>\n",
       "\t<tr><td> 5                                         </td><td>BS                                         </td><td>data/BS/Triflic/BS triflic 3.txt           </td><td>2092.1167                                  </td><td>tri                                        </td><td>24973.883                                  </td><td>2.479654                                   </td></tr>\n",
       "\t<tr><td> 9                                         </td><td>BS                                         </td><td>data/BS/Triflic/BS triflic 2.txt           </td><td>1733.8833                                  </td><td>tri                                        </td><td>21035.117                                  </td><td>2.495830                                   </td></tr>\n",
       "\t<tr><td> 0                                         </td><td>Jurkat                                     </td><td>data/Jurkat/Sonic/Jurkat sonic 1.txt       </td><td>1076.2078                                  </td><td>sonic                                      </td><td>20761.792                                  </td><td>2.959671                                   </td></tr>\n",
       "\t<tr><td> 4                                         </td><td>Jurkat                                     </td><td>data/Jurkat/Sonic/Jurkat sonic 8.txt       </td><td> 843.3565                                  </td><td>sonic                                      </td><td>21610.644                                  </td><td>3.243551                                   </td></tr>\n",
       "\t<tr><td>12                                         </td><td>Jurkat                                     </td><td>data/Jurkat/Sonic/Jurkat sonic 7.txt       </td><td>1302.4213                                  </td><td>sonic                                      </td><td>23534.579                                  </td><td>2.894246                                   </td></tr>\n",
       "\t<tr><td>13                                         </td><td>Jurkat                                     </td><td>data/Jurkat/Triflic/Jurkat triflic test.txt</td><td> 335.5605                                  </td><td>tri                                        </td><td> 8279.439                                  </td><td>3.205728                                   </td></tr>\n",
       "\t<tr><td>15                                         </td><td>Jurkat                                     </td><td>data/Jurkat/Triflic/Jurkat triflic 1.txt   </td><td> 206.2724                                  </td><td>tri                                        </td><td> 4914.728                                  </td><td>3.170794                                   </td></tr>\n",
       "\t<tr><td>17                                         </td><td>Jurkat                                     </td><td>data/Jurkat/Triflic/Jurkat triflic 2.txt   </td><td> 230.2981                                  </td><td>tri                                        </td><td> 5257.702                                  </td><td>3.128075                                   </td></tr>\n",
       "\t<tr><td> 6                                         </td><td>PA                                         </td><td>data/PA/Sonic/PA sonic 3.txt               </td><td> 636.3333                                  </td><td>sonic                                      </td><td>17354.667                                  </td><td>3.305894                                   </td></tr>\n",
       "\t<tr><td> 8                                         </td><td>PA                                         </td><td>data/PA/Sonic/PA sonic 4.txt               </td><td> 412.6167                                  </td><td>sonic                                      </td><td>12046.383                                  </td><td>3.374001                                   </td></tr>\n",
       "\t<tr><td>16                                         </td><td>PA                                         </td><td>data/PA/Sonic/PA sonic 1.txt               </td><td> 751.2500                                  </td><td>sonic                                      </td><td>20435.750                                  </td><td>3.303303                                   </td></tr>\n",
       "\t<tr><td> 3                                         </td><td>PA                                         </td><td>data/PA/Triflic/PA triflic 3.txt           </td><td>1876.5667                                  </td><td>tri                                        </td><td>14420.433                                  </td><td>2.039202                                   </td></tr>\n",
       "\t<tr><td>11                                         </td><td>PA                                         </td><td>data/PA/Triflic/PA triflic 4.txt           </td><td>1672.4667                                  </td><td>tri                                        </td><td>13673.533                                  </td><td>2.101163                                   </td></tr>\n",
       "\t<tr><td>14                                         </td><td>PA                                         </td><td>data/PA/Triflic/PA triflic 5.txt           </td><td>1708.7333                                  </td><td>tri                                        </td><td>14512.267                                  </td><td>2.139242                                   </td></tr>\n",
       "</tbody>\n",
       "</table>\n"
      ],
      "text/latex": [
       "\\begin{tabular}{r|lllllll}\n",
       " X & cell & files & membrane & method & non.membrane & ratio\\\\\n",
       "\\hline\n",
       "\t  1                                          & BS                                          & data/BS/Sonic/BS sonic 4.txt                & 1262.1333                                   & sonic                                       & 14513.867                                   & 2.442301                                   \\\\\n",
       "\t  7                                          & BS                                          & data/BS/Sonic/BS sonic 2.txt                & 1474.4167                                   & sonic                                       & 15578.583                                   & 2.357635                                   \\\\\n",
       "\t 10                                          & BS                                          & data/BS/Sonic/BS sonic 3.txt                & 1222.3167                                   & sonic                                       & 13971.683                                   & 2.436285                                   \\\\\n",
       "\t  2                                          & BS                                          & data/BS/Triflic/BS triflic 1.txt            & 1112.2333                                   & tri                                         & 12265.767                                   & 2.400442                                   \\\\\n",
       "\t  5                                          & BS                                          & data/BS/Triflic/BS triflic 3.txt            & 2092.1167                                   & tri                                         & 24973.883                                   & 2.479654                                   \\\\\n",
       "\t  9                                          & BS                                          & data/BS/Triflic/BS triflic 2.txt            & 1733.8833                                   & tri                                         & 21035.117                                   & 2.495830                                   \\\\\n",
       "\t  0                                          & Jurkat                                      & data/Jurkat/Sonic/Jurkat sonic 1.txt        & 1076.2078                                   & sonic                                       & 20761.792                                   & 2.959671                                   \\\\\n",
       "\t  4                                          & Jurkat                                      & data/Jurkat/Sonic/Jurkat sonic 8.txt        &  843.3565                                   & sonic                                       & 21610.644                                   & 3.243551                                   \\\\\n",
       "\t 12                                          & Jurkat                                      & data/Jurkat/Sonic/Jurkat sonic 7.txt        & 1302.4213                                   & sonic                                       & 23534.579                                   & 2.894246                                   \\\\\n",
       "\t 13                                          & Jurkat                                      & data/Jurkat/Triflic/Jurkat triflic test.txt &  335.5605                                   & tri                                         &  8279.439                                   & 3.205728                                   \\\\\n",
       "\t 15                                          & Jurkat                                      & data/Jurkat/Triflic/Jurkat triflic 1.txt    &  206.2724                                   & tri                                         &  4914.728                                   & 3.170794                                   \\\\\n",
       "\t 17                                          & Jurkat                                      & data/Jurkat/Triflic/Jurkat triflic 2.txt    &  230.2981                                   & tri                                         &  5257.702                                   & 3.128075                                   \\\\\n",
       "\t  6                                          & PA                                          & data/PA/Sonic/PA sonic 3.txt                &  636.3333                                   & sonic                                       & 17354.667                                   & 3.305894                                   \\\\\n",
       "\t  8                                          & PA                                          & data/PA/Sonic/PA sonic 4.txt                &  412.6167                                   & sonic                                       & 12046.383                                   & 3.374001                                   \\\\\n",
       "\t 16                                          & PA                                          & data/PA/Sonic/PA sonic 1.txt                &  751.2500                                   & sonic                                       & 20435.750                                   & 3.303303                                   \\\\\n",
       "\t  3                                          & PA                                          & data/PA/Triflic/PA triflic 3.txt            & 1876.5667                                   & tri                                         & 14420.433                                   & 2.039202                                   \\\\\n",
       "\t 11                                          & PA                                          & data/PA/Triflic/PA triflic 4.txt            & 1672.4667                                   & tri                                         & 13673.533                                   & 2.101163                                   \\\\\n",
       "\t 14                                          & PA                                          & data/PA/Triflic/PA triflic 5.txt            & 1708.7333                                   & tri                                         & 14512.267                                   & 2.139242                                   \\\\\n",
       "\\end{tabular}\n"
      ],
      "text/markdown": [
       "\n",
       "X | cell | files | membrane | method | non.membrane | ratio | \n",
       "|---|---|---|---|---|---|---|---|---|---|---|---|---|---|---|---|---|---|\n",
       "|  1                                          | BS                                          | data/BS/Sonic/BS sonic 4.txt                | 1262.1333                                   | sonic                                       | 14513.867                                   | 2.442301                                    | \n",
       "|  7                                          | BS                                          | data/BS/Sonic/BS sonic 2.txt                | 1474.4167                                   | sonic                                       | 15578.583                                   | 2.357635                                    | \n",
       "| 10                                          | BS                                          | data/BS/Sonic/BS sonic 3.txt                | 1222.3167                                   | sonic                                       | 13971.683                                   | 2.436285                                    | \n",
       "|  2                                          | BS                                          | data/BS/Triflic/BS triflic 1.txt            | 1112.2333                                   | tri                                         | 12265.767                                   | 2.400442                                    | \n",
       "|  5                                          | BS                                          | data/BS/Triflic/BS triflic 3.txt            | 2092.1167                                   | tri                                         | 24973.883                                   | 2.479654                                    | \n",
       "|  9                                          | BS                                          | data/BS/Triflic/BS triflic 2.txt            | 1733.8833                                   | tri                                         | 21035.117                                   | 2.495830                                    | \n",
       "|  0                                          | Jurkat                                      | data/Jurkat/Sonic/Jurkat sonic 1.txt        | 1076.2078                                   | sonic                                       | 20761.792                                   | 2.959671                                    | \n",
       "|  4                                          | Jurkat                                      | data/Jurkat/Sonic/Jurkat sonic 8.txt        |  843.3565                                   | sonic                                       | 21610.644                                   | 3.243551                                    | \n",
       "| 12                                          | Jurkat                                      | data/Jurkat/Sonic/Jurkat sonic 7.txt        | 1302.4213                                   | sonic                                       | 23534.579                                   | 2.894246                                    | \n",
       "| 13                                          | Jurkat                                      | data/Jurkat/Triflic/Jurkat triflic test.txt |  335.5605                                   | tri                                         |  8279.439                                   | 3.205728                                    | \n",
       "| 15                                          | Jurkat                                      | data/Jurkat/Triflic/Jurkat triflic 1.txt    |  206.2724                                   | tri                                         |  4914.728                                   | 3.170794                                    | \n",
       "| 17                                          | Jurkat                                      | data/Jurkat/Triflic/Jurkat triflic 2.txt    |  230.2981                                   | tri                                         |  5257.702                                   | 3.128075                                    | \n",
       "|  6                                          | PA                                          | data/PA/Sonic/PA sonic 3.txt                |  636.3333                                   | sonic                                       | 17354.667                                   | 3.305894                                    | \n",
       "|  8                                          | PA                                          | data/PA/Sonic/PA sonic 4.txt                |  412.6167                                   | sonic                                       | 12046.383                                   | 3.374001                                    | \n",
       "| 16                                          | PA                                          | data/PA/Sonic/PA sonic 1.txt                |  751.2500                                   | sonic                                       | 20435.750                                   | 3.303303                                    | \n",
       "|  3                                          | PA                                          | data/PA/Triflic/PA triflic 3.txt            | 1876.5667                                   | tri                                         | 14420.433                                   | 2.039202                                    | \n",
       "| 11                                          | PA                                          | data/PA/Triflic/PA triflic 4.txt            | 1672.4667                                   | tri                                         | 13673.533                                   | 2.101163                                    | \n",
       "| 14                                          | PA                                          | data/PA/Triflic/PA triflic 5.txt            | 1708.7333                                   | tri                                         | 14512.267                                   | 2.139242                                    | \n",
       "\n",
       "\n"
      ],
      "text/plain": [
       "   X  cell   files                                       membrane  method\n",
       "1   1 BS     data/BS/Sonic/BS sonic 4.txt                1262.1333 sonic \n",
       "2   7 BS     data/BS/Sonic/BS sonic 2.txt                1474.4167 sonic \n",
       "3  10 BS     data/BS/Sonic/BS sonic 3.txt                1222.3167 sonic \n",
       "4   2 BS     data/BS/Triflic/BS triflic 1.txt            1112.2333 tri   \n",
       "5   5 BS     data/BS/Triflic/BS triflic 3.txt            2092.1167 tri   \n",
       "6   9 BS     data/BS/Triflic/BS triflic 2.txt            1733.8833 tri   \n",
       "7   0 Jurkat data/Jurkat/Sonic/Jurkat sonic 1.txt        1076.2078 sonic \n",
       "8   4 Jurkat data/Jurkat/Sonic/Jurkat sonic 8.txt         843.3565 sonic \n",
       "9  12 Jurkat data/Jurkat/Sonic/Jurkat sonic 7.txt        1302.4213 sonic \n",
       "10 13 Jurkat data/Jurkat/Triflic/Jurkat triflic test.txt  335.5605 tri   \n",
       "11 15 Jurkat data/Jurkat/Triflic/Jurkat triflic 1.txt     206.2724 tri   \n",
       "12 17 Jurkat data/Jurkat/Triflic/Jurkat triflic 2.txt     230.2981 tri   \n",
       "13  6 PA     data/PA/Sonic/PA sonic 3.txt                 636.3333 sonic \n",
       "14  8 PA     data/PA/Sonic/PA sonic 4.txt                 412.6167 sonic \n",
       "15 16 PA     data/PA/Sonic/PA sonic 1.txt                 751.2500 sonic \n",
       "16  3 PA     data/PA/Triflic/PA triflic 3.txt            1876.5667 tri   \n",
       "17 11 PA     data/PA/Triflic/PA triflic 4.txt            1672.4667 tri   \n",
       "18 14 PA     data/PA/Triflic/PA triflic 5.txt            1708.7333 tri   \n",
       "   non.membrane ratio   \n",
       "1  14513.867    2.442301\n",
       "2  15578.583    2.357635\n",
       "3  13971.683    2.436285\n",
       "4  12265.767    2.400442\n",
       "5  24973.883    2.479654\n",
       "6  21035.117    2.495830\n",
       "7  20761.792    2.959671\n",
       "8  21610.644    3.243551\n",
       "9  23534.579    2.894246\n",
       "10  8279.439    3.205728\n",
       "11  4914.728    3.170794\n",
       "12  5257.702    3.128075\n",
       "13 17354.667    3.305894\n",
       "14 12046.383    3.374001\n",
       "15 20435.750    3.303303\n",
       "16 14420.433    2.039202\n",
       "17 13673.533    2.101163\n",
       "18 14512.267    2.139242"
      ]
     },
     "metadata": {},
     "output_type": "display_data"
    }
   ],
   "source": [
    "df = as.data.frame(read.csv(\"df_out.csv\"))\n",
    "df$method = as.factor(df$method)\n",
    "df$cell = as.factor(df$cell)\n",
    "df"
   ]
  },
  {
   "cell_type": "code",
   "execution_count": 5,
   "metadata": {
    "collapsed": false,
    "deletable": true,
    "editable": true
   },
   "outputs": [
    {
     "data": {
      "text/plain": [
       "\n",
       "Call:\n",
       "lm(formula = ratio ~ method * cell, data = df)\n",
       "\n",
       "Residuals:\n",
       "      Min        1Q    Median        3Q       Max \n",
       "-0.138244 -0.050531  0.005278  0.035448  0.211062 \n",
       "\n",
       "Coefficients:\n",
       "                     Estimate Std. Error t value Pr(>|t|)    \n",
       "(Intercept)           2.41207    0.04999  48.248 4.11e-15 ***\n",
       "methodtri             0.04657    0.07070   0.659    0.523    \n",
       "cellJurkat            0.62042    0.07070   8.775 1.44e-06 ***\n",
       "cellPA                0.91566    0.07070  12.951 2.06e-08 ***\n",
       "methodtri:cellJurkat  0.08914    0.09999   0.892    0.390    \n",
       "methodtri:cellPA     -1.28110    0.09999 -12.813 2.32e-08 ***\n",
       "---\n",
       "Signif. codes:  0 ‘***’ 0.001 ‘**’ 0.01 ‘*’ 0.05 ‘.’ 0.1 ‘ ’ 1\n",
       "\n",
       "Residual standard error: 0.08659 on 12 degrees of freedom\n",
       "Multiple R-squared:  0.976,\tAdjusted R-squared:  0.966 \n",
       "F-statistic: 97.54 on 5 and 12 DF,  p-value: 2.726e-09\n"
      ]
     },
     "metadata": {},
     "output_type": "display_data"
    }
   ],
   "source": [
    "lmfit = lm( ratio ~ method * cell, data = df )\n",
    "summary(lmfit)"
   ]
  },
  {
   "cell_type": "code",
   "execution_count": 6,
   "metadata": {
    "collapsed": false,
    "deletable": true,
    "editable": true
   },
   "outputs": [
    {
     "data": {
      "text/html": [
       "<table>\n",
       "<thead><tr><th></th><th scope=col>Df</th><th scope=col>Sum Sq</th><th scope=col>Mean Sq</th><th scope=col>F value</th><th scope=col>Pr(&gt;F)</th></tr></thead>\n",
       "<tbody>\n",
       "\t<tr><th scope=row>method</th><td> 1          </td><td>0.55361716  </td><td>0.553617158 </td><td> 73.83628   </td><td>1.795364e-06</td></tr>\n",
       "\t<tr><th scope=row>cell</th><td> 2          </td><td>1.33979225  </td><td>0.669896126 </td><td> 89.34448   </td><td>6.210610e-08</td></tr>\n",
       "\t<tr><th scope=row>method:cell</th><td> 2          </td><td>1.76335897  </td><td>0.881679483 </td><td>117.59016   </td><td>1.309194e-08</td></tr>\n",
       "\t<tr><th scope=row>Residuals</th><td>12          </td><td>0.08997482  </td><td>0.007497902 </td><td>       NA   </td><td>          NA</td></tr>\n",
       "</tbody>\n",
       "</table>\n"
      ],
      "text/latex": [
       "\\begin{tabular}{r|lllll}\n",
       "  & Df & Sum Sq & Mean Sq & F value & Pr(>F)\\\\\n",
       "\\hline\n",
       "\tmethod &  1           & 0.55361716   & 0.553617158  &  73.83628    & 1.795364e-06\\\\\n",
       "\tcell &  2           & 1.33979225   & 0.669896126  &  89.34448    & 6.210610e-08\\\\\n",
       "\tmethod:cell &  2           & 1.76335897   & 0.881679483  & 117.59016    & 1.309194e-08\\\\\n",
       "\tResiduals & 12           & 0.08997482   & 0.007497902  &        NA    &           NA\\\\\n",
       "\\end{tabular}\n"
      ],
      "text/markdown": [
       "\n",
       "| <!--/--> | Df | Sum Sq | Mean Sq | F value | Pr(>F) | \n",
       "|---|---|---|---|\n",
       "| method |  1           | 0.55361716   | 0.553617158  |  73.83628    | 1.795364e-06 | \n",
       "| cell |  2           | 1.33979225   | 0.669896126  |  89.34448    | 6.210610e-08 | \n",
       "| method:cell |  2           | 1.76335897   | 0.881679483  | 117.59016    | 1.309194e-08 | \n",
       "| Residuals | 12           | 0.08997482   | 0.007497902  |        NA    |           NA | \n",
       "\n",
       "\n"
      ],
      "text/plain": [
       "            Df Sum Sq     Mean Sq     F value   Pr(>F)      \n",
       "method       1 0.55361716 0.553617158  73.83628 1.795364e-06\n",
       "cell         2 1.33979225 0.669896126  89.34448 6.210610e-08\n",
       "method:cell  2 1.76335897 0.881679483 117.59016 1.309194e-08\n",
       "Residuals   12 0.08997482 0.007497902        NA           NA"
      ]
     },
     "metadata": {},
     "output_type": "display_data"
    }
   ],
   "source": [
    "anova(lmfit)"
   ]
  }
 ],
 "metadata": {
  "kernelspec": {
   "display_name": "R",
   "language": "R",
   "name": "ir"
  },
  "language_info": {
   "codemirror_mode": "r",
   "file_extension": ".r",
   "mimetype": "text/x-r-source",
   "name": "R",
   "pygments_lexer": "r",
   "version": "3.4.0"
  }
 },
 "nbformat": 4,
 "nbformat_minor": 2
}
