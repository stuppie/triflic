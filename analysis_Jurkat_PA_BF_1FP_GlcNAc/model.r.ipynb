{
 "cells": [
  {
   "cell_type": "code",
   "execution_count": 7,
   "metadata": {
    "collapsed": false,
    "deletable": true,
    "editable": true
   },
   "outputs": [
    {
     "data": {
      "text/html": [
       "<table>\n",
       "<thead><tr><th scope=col>X</th><th scope=col>cell</th><th scope=col>files</th><th scope=col>membrane</th><th scope=col>method</th><th scope=col>non.membrane</th><th scope=col>ratio</th></tr></thead>\n",
       "<tbody>\n",
       "\t<tr><td> 2                                         </td><td>BS                                         </td><td>data/BS/Sonic/BS sonic 4.txt               </td><td>1262.1333                                  </td><td>sonic                                      </td><td>14513.867                                  </td><td>2.442301                                   </td></tr>\n",
       "\t<tr><td> 7                                         </td><td>BS                                         </td><td>data/BS/Sonic/BS sonic 2.txt               </td><td>1474.4167                                  </td><td>sonic                                      </td><td>15578.583                                  </td><td>2.357635                                   </td></tr>\n",
       "\t<tr><td>17                                         </td><td>BS                                         </td><td>data/BS/Sonic/BS sonic 3.txt               </td><td>1222.3167                                  </td><td>sonic                                      </td><td>13971.683                                  </td><td>2.436285                                   </td></tr>\n",
       "\t<tr><td> 0                                         </td><td>BS                                         </td><td>data/BS/Triflic/BS triflic 1.txt           </td><td>1112.2333                                  </td><td>tri                                        </td><td>12265.767                                  </td><td>2.400442                                   </td></tr>\n",
       "\t<tr><td> 5                                         </td><td>BS                                         </td><td>data/BS/Triflic/BS triflic 2.txt           </td><td>1733.8833                                  </td><td>tri                                        </td><td>21035.117                                  </td><td>2.495830                                   </td></tr>\n",
       "\t<tr><td> 9                                         </td><td>BS                                         </td><td>data/BS/Triflic/BS triflic 3.txt           </td><td>2092.1167                                  </td><td>tri                                        </td><td>24973.883                                  </td><td>2.479654                                   </td></tr>\n",
       "\t<tr><td>13                                         </td><td>Jurkat                                     </td><td>data/Jurkat/Sonic/Jurkat sonic 1.txt       </td><td>1033.1526                                  </td><td>sonic                                      </td><td>19283.168                                  </td><td>2.926618                                   </td></tr>\n",
       "\t<tr><td>14                                         </td><td>Jurkat                                     </td><td>data/Jurkat/Sonic/Jurkat sonic 7.txt       </td><td>1270.5535                                  </td><td>sonic                                      </td><td>22353.406                                  </td><td>2.867526                                   </td></tr>\n",
       "\t<tr><td>16                                         </td><td>Jurkat                                     </td><td>data/Jurkat/Sonic/Jurkat sonic 8.txt       </td><td> 795.4492                                  </td><td>sonic                                      </td><td>20567.650                                  </td><td>3.252568                                   </td></tr>\n",
       "\t<tr><td> 3                                         </td><td>Jurkat                                     </td><td>data/Jurkat/Triflic/Jurkat triflic test.txt</td><td> 303.1361                                  </td><td>tri                                        </td><td> 7763.900                                  </td><td>3.243058                                   </td></tr>\n",
       "\t<tr><td>10                                         </td><td>Jurkat                                     </td><td>data/Jurkat/Triflic/Jurkat triflic 1.txt   </td><td> 181.4508                                  </td><td>tri                                        </td><td> 4573.651                                  </td><td>3.227082                                   </td></tr>\n",
       "\t<tr><td>11                                         </td><td>Jurkat                                     </td><td>data/Jurkat/Triflic/Jurkat triflic 2.txt   </td><td> 204.6059                                  </td><td>tri                                        </td><td> 4704.918                                  </td><td>3.135278                                   </td></tr>\n",
       "\t<tr><td> 1                                         </td><td>PA                                         </td><td>data/PA/Sonic/PA sonic 1.txt               </td><td> 751.2500                                  </td><td>sonic                                      </td><td>20435.750                                  </td><td>3.303303                                   </td></tr>\n",
       "\t<tr><td> 6                                         </td><td>PA                                         </td><td>data/PA/Sonic/PA sonic 3.txt               </td><td> 636.3333                                  </td><td>sonic                                      </td><td>17354.667                                  </td><td>3.305894                                   </td></tr>\n",
       "\t<tr><td> 8                                         </td><td>PA                                         </td><td>data/PA/Sonic/PA sonic 4.txt               </td><td> 412.6167                                  </td><td>sonic                                      </td><td>12046.383                                  </td><td>3.374001                                   </td></tr>\n",
       "\t<tr><td> 4                                         </td><td>PA                                         </td><td>data/PA/Triflic/PA triflic 5.txt           </td><td>1709.7333                                  </td><td>tri                                        </td><td>14512.267                                  </td><td>2.138657                                   </td></tr>\n",
       "\t<tr><td>12                                         </td><td>PA                                         </td><td>data/PA/Triflic/PA triflic 4.txt           </td><td>1672.4667                                  </td><td>tri                                        </td><td>13673.533                                  </td><td>2.101163                                   </td></tr>\n",
       "\t<tr><td>15                                         </td><td>PA                                         </td><td>data/PA/Triflic/PA triflic 3.txt           </td><td>1876.5667                                  </td><td>tri                                        </td><td>14421.433                                  </td><td>2.039272                                   </td></tr>\n",
       "</tbody>\n",
       "</table>\n"
      ],
      "text/latex": [
       "\\begin{tabular}{r|lllllll}\n",
       " X & cell & files & membrane & method & non.membrane & ratio\\\\\n",
       "\\hline\n",
       "\t  2                                          & BS                                          & data/BS/Sonic/BS sonic 4.txt                & 1262.1333                                   & sonic                                       & 14513.867                                   & 2.442301                                   \\\\\n",
       "\t  7                                          & BS                                          & data/BS/Sonic/BS sonic 2.txt                & 1474.4167                                   & sonic                                       & 15578.583                                   & 2.357635                                   \\\\\n",
       "\t 17                                          & BS                                          & data/BS/Sonic/BS sonic 3.txt                & 1222.3167                                   & sonic                                       & 13971.683                                   & 2.436285                                   \\\\\n",
       "\t  0                                          & BS                                          & data/BS/Triflic/BS triflic 1.txt            & 1112.2333                                   & tri                                         & 12265.767                                   & 2.400442                                   \\\\\n",
       "\t  5                                          & BS                                          & data/BS/Triflic/BS triflic 2.txt            & 1733.8833                                   & tri                                         & 21035.117                                   & 2.495830                                   \\\\\n",
       "\t  9                                          & BS                                          & data/BS/Triflic/BS triflic 3.txt            & 2092.1167                                   & tri                                         & 24973.883                                   & 2.479654                                   \\\\\n",
       "\t 13                                          & Jurkat                                      & data/Jurkat/Sonic/Jurkat sonic 1.txt        & 1033.1526                                   & sonic                                       & 19283.168                                   & 2.926618                                   \\\\\n",
       "\t 14                                          & Jurkat                                      & data/Jurkat/Sonic/Jurkat sonic 7.txt        & 1270.5535                                   & sonic                                       & 22353.406                                   & 2.867526                                   \\\\\n",
       "\t 16                                          & Jurkat                                      & data/Jurkat/Sonic/Jurkat sonic 8.txt        &  795.4492                                   & sonic                                       & 20567.650                                   & 3.252568                                   \\\\\n",
       "\t  3                                          & Jurkat                                      & data/Jurkat/Triflic/Jurkat triflic test.txt &  303.1361                                   & tri                                         &  7763.900                                   & 3.243058                                   \\\\\n",
       "\t 10                                          & Jurkat                                      & data/Jurkat/Triflic/Jurkat triflic 1.txt    &  181.4508                                   & tri                                         &  4573.651                                   & 3.227082                                   \\\\\n",
       "\t 11                                          & Jurkat                                      & data/Jurkat/Triflic/Jurkat triflic 2.txt    &  204.6059                                   & tri                                         &  4704.918                                   & 3.135278                                   \\\\\n",
       "\t  1                                          & PA                                          & data/PA/Sonic/PA sonic 1.txt                &  751.2500                                   & sonic                                       & 20435.750                                   & 3.303303                                   \\\\\n",
       "\t  6                                          & PA                                          & data/PA/Sonic/PA sonic 3.txt                &  636.3333                                   & sonic                                       & 17354.667                                   & 3.305894                                   \\\\\n",
       "\t  8                                          & PA                                          & data/PA/Sonic/PA sonic 4.txt                &  412.6167                                   & sonic                                       & 12046.383                                   & 3.374001                                   \\\\\n",
       "\t  4                                          & PA                                          & data/PA/Triflic/PA triflic 5.txt            & 1709.7333                                   & tri                                         & 14512.267                                   & 2.138657                                   \\\\\n",
       "\t 12                                          & PA                                          & data/PA/Triflic/PA triflic 4.txt            & 1672.4667                                   & tri                                         & 13673.533                                   & 2.101163                                   \\\\\n",
       "\t 15                                          & PA                                          & data/PA/Triflic/PA triflic 3.txt            & 1876.5667                                   & tri                                         & 14421.433                                   & 2.039272                                   \\\\\n",
       "\\end{tabular}\n"
      ],
      "text/markdown": [
       "\n",
       "X | cell | files | membrane | method | non.membrane | ratio | \n",
       "|---|---|---|---|---|---|---|---|---|---|---|---|---|---|---|---|---|---|\n",
       "|  2                                          | BS                                          | data/BS/Sonic/BS sonic 4.txt                | 1262.1333                                   | sonic                                       | 14513.867                                   | 2.442301                                    | \n",
       "|  7                                          | BS                                          | data/BS/Sonic/BS sonic 2.txt                | 1474.4167                                   | sonic                                       | 15578.583                                   | 2.357635                                    | \n",
       "| 17                                          | BS                                          | data/BS/Sonic/BS sonic 3.txt                | 1222.3167                                   | sonic                                       | 13971.683                                   | 2.436285                                    | \n",
       "|  0                                          | BS                                          | data/BS/Triflic/BS triflic 1.txt            | 1112.2333                                   | tri                                         | 12265.767                                   | 2.400442                                    | \n",
       "|  5                                          | BS                                          | data/BS/Triflic/BS triflic 2.txt            | 1733.8833                                   | tri                                         | 21035.117                                   | 2.495830                                    | \n",
       "|  9                                          | BS                                          | data/BS/Triflic/BS triflic 3.txt            | 2092.1167                                   | tri                                         | 24973.883                                   | 2.479654                                    | \n",
       "| 13                                          | Jurkat                                      | data/Jurkat/Sonic/Jurkat sonic 1.txt        | 1033.1526                                   | sonic                                       | 19283.168                                   | 2.926618                                    | \n",
       "| 14                                          | Jurkat                                      | data/Jurkat/Sonic/Jurkat sonic 7.txt        | 1270.5535                                   | sonic                                       | 22353.406                                   | 2.867526                                    | \n",
       "| 16                                          | Jurkat                                      | data/Jurkat/Sonic/Jurkat sonic 8.txt        |  795.4492                                   | sonic                                       | 20567.650                                   | 3.252568                                    | \n",
       "|  3                                          | Jurkat                                      | data/Jurkat/Triflic/Jurkat triflic test.txt |  303.1361                                   | tri                                         |  7763.900                                   | 3.243058                                    | \n",
       "| 10                                          | Jurkat                                      | data/Jurkat/Triflic/Jurkat triflic 1.txt    |  181.4508                                   | tri                                         |  4573.651                                   | 3.227082                                    | \n",
       "| 11                                          | Jurkat                                      | data/Jurkat/Triflic/Jurkat triflic 2.txt    |  204.6059                                   | tri                                         |  4704.918                                   | 3.135278                                    | \n",
       "|  1                                          | PA                                          | data/PA/Sonic/PA sonic 1.txt                |  751.2500                                   | sonic                                       | 20435.750                                   | 3.303303                                    | \n",
       "|  6                                          | PA                                          | data/PA/Sonic/PA sonic 3.txt                |  636.3333                                   | sonic                                       | 17354.667                                   | 3.305894                                    | \n",
       "|  8                                          | PA                                          | data/PA/Sonic/PA sonic 4.txt                |  412.6167                                   | sonic                                       | 12046.383                                   | 3.374001                                    | \n",
       "|  4                                          | PA                                          | data/PA/Triflic/PA triflic 5.txt            | 1709.7333                                   | tri                                         | 14512.267                                   | 2.138657                                    | \n",
       "| 12                                          | PA                                          | data/PA/Triflic/PA triflic 4.txt            | 1672.4667                                   | tri                                         | 13673.533                                   | 2.101163                                    | \n",
       "| 15                                          | PA                                          | data/PA/Triflic/PA triflic 3.txt            | 1876.5667                                   | tri                                         | 14421.433                                   | 2.039272                                    | \n",
       "\n",
       "\n"
      ],
      "text/plain": [
       "   X  cell   files                                       membrane  method\n",
       "1   2 BS     data/BS/Sonic/BS sonic 4.txt                1262.1333 sonic \n",
       "2   7 BS     data/BS/Sonic/BS sonic 2.txt                1474.4167 sonic \n",
       "3  17 BS     data/BS/Sonic/BS sonic 3.txt                1222.3167 sonic \n",
       "4   0 BS     data/BS/Triflic/BS triflic 1.txt            1112.2333 tri   \n",
       "5   5 BS     data/BS/Triflic/BS triflic 2.txt            1733.8833 tri   \n",
       "6   9 BS     data/BS/Triflic/BS triflic 3.txt            2092.1167 tri   \n",
       "7  13 Jurkat data/Jurkat/Sonic/Jurkat sonic 1.txt        1033.1526 sonic \n",
       "8  14 Jurkat data/Jurkat/Sonic/Jurkat sonic 7.txt        1270.5535 sonic \n",
       "9  16 Jurkat data/Jurkat/Sonic/Jurkat sonic 8.txt         795.4492 sonic \n",
       "10  3 Jurkat data/Jurkat/Triflic/Jurkat triflic test.txt  303.1361 tri   \n",
       "11 10 Jurkat data/Jurkat/Triflic/Jurkat triflic 1.txt     181.4508 tri   \n",
       "12 11 Jurkat data/Jurkat/Triflic/Jurkat triflic 2.txt     204.6059 tri   \n",
       "13  1 PA     data/PA/Sonic/PA sonic 1.txt                 751.2500 sonic \n",
       "14  6 PA     data/PA/Sonic/PA sonic 3.txt                 636.3333 sonic \n",
       "15  8 PA     data/PA/Sonic/PA sonic 4.txt                 412.6167 sonic \n",
       "16  4 PA     data/PA/Triflic/PA triflic 5.txt            1709.7333 tri   \n",
       "17 12 PA     data/PA/Triflic/PA triflic 4.txt            1672.4667 tri   \n",
       "18 15 PA     data/PA/Triflic/PA triflic 3.txt            1876.5667 tri   \n",
       "   non.membrane ratio   \n",
       "1  14513.867    2.442301\n",
       "2  15578.583    2.357635\n",
       "3  13971.683    2.436285\n",
       "4  12265.767    2.400442\n",
       "5  21035.117    2.495830\n",
       "6  24973.883    2.479654\n",
       "7  19283.168    2.926618\n",
       "8  22353.406    2.867526\n",
       "9  20567.650    3.252568\n",
       "10  7763.900    3.243058\n",
       "11  4573.651    3.227082\n",
       "12  4704.918    3.135278\n",
       "13 20435.750    3.303303\n",
       "14 17354.667    3.305894\n",
       "15 12046.383    3.374001\n",
       "16 14512.267    2.138657\n",
       "17 13673.533    2.101163\n",
       "18 14421.433    2.039272"
      ]
     },
     "metadata": {},
     "output_type": "display_data"
    }
   ],
   "source": [
    "df = as.data.frame(read.csv(\"df_out.csv\"))\n",
    "df$method = as.factor(df$method)\n",
    "df$cell = as.factor(df$cell)\n",
    "df"
   ]
  },
  {
   "cell_type": "code",
   "execution_count": 8,
   "metadata": {
    "collapsed": false,
    "deletable": true,
    "editable": true
   },
   "outputs": [
    {
     "data": {
      "text/plain": [
       "\n",
       "Call:\n",
       "lm(formula = ratio ~ method * cell, data = df)\n",
       "\n",
       "Residuals:\n",
       "     Min       1Q   Median       3Q      Max \n",
       "-0.14804 -0.05427  0.01457  0.03545  0.23700 \n",
       "\n",
       "Coefficients:\n",
       "                     Estimate Std. Error t value Pr(>|t|)    \n",
       "(Intercept)           2.41207    0.05545  43.500 1.42e-14 ***\n",
       "methodtri             0.04657    0.07842   0.594    0.564    \n",
       "cellJurkat            0.60350    0.07842   7.696 5.58e-06 ***\n",
       "cellPA                0.91566    0.07842  11.676 6.55e-08 ***\n",
       "methodtri:cellJurkat  0.13967    0.11090   1.259    0.232    \n",
       "methodtri:cellPA     -1.28127    0.11090 -11.553 7.37e-08 ***\n",
       "---\n",
       "Signif. codes:  0 ‘***’ 0.001 ‘**’ 0.01 ‘*’ 0.05 ‘.’ 0.1 ‘ ’ 1\n",
       "\n",
       "Residual standard error: 0.09604 on 12 degrees of freedom\n",
       "Multiple R-squared:  0.9711,\tAdjusted R-squared:  0.959 \n",
       "F-statistic:  80.6 on 5 and 12 DF,  p-value: 8.255e-09\n"
      ]
     },
     "metadata": {},
     "output_type": "display_data"
    }
   ],
   "source": [
    "lmfit = lm( ratio ~ method * cell, data = df )\n",
    "summary(lmfit)"
   ]
  },
  {
   "cell_type": "code",
   "execution_count": 9,
   "metadata": {
    "collapsed": false,
    "deletable": true,
    "editable": true
   },
   "outputs": [
    {
     "data": {
      "text/html": [
       "<table>\n",
       "<thead><tr><th></th><th scope=col>Df</th><th scope=col>Sum Sq</th><th scope=col>Mean Sq</th><th scope=col>F value</th><th scope=col>Pr(&gt;F)</th></tr></thead>\n",
       "<tbody>\n",
       "\t<tr><th scope=row>method</th><td> 1          </td><td>0.5018998   </td><td>0.501899802 </td><td>54.41058    </td><td>8.543339e-06</td></tr>\n",
       "\t<tr><th scope=row>cell</th><td> 2          </td><td>1.3753208   </td><td>0.687660415 </td><td>74.54875    </td><td>1.708262e-07</td></tr>\n",
       "\t<tr><th scope=row>method:cell</th><td> 2          </td><td>1.8401129   </td><td>0.920056454 </td><td>99.74264    </td><td>3.337388e-08</td></tr>\n",
       "\t<tr><th scope=row>Residuals</th><td>12          </td><td>0.1106917   </td><td>0.009224305 </td><td>      NA    </td><td>          NA</td></tr>\n",
       "</tbody>\n",
       "</table>\n"
      ],
      "text/latex": [
       "\\begin{tabular}{r|lllll}\n",
       "  & Df & Sum Sq & Mean Sq & F value & Pr(>F)\\\\\n",
       "\\hline\n",
       "\tmethod &  1           & 0.5018998    & 0.501899802  & 54.41058     & 8.543339e-06\\\\\n",
       "\tcell &  2           & 1.3753208    & 0.687660415  & 74.54875     & 1.708262e-07\\\\\n",
       "\tmethod:cell &  2           & 1.8401129    & 0.920056454  & 99.74264     & 3.337388e-08\\\\\n",
       "\tResiduals & 12           & 0.1106917    & 0.009224305  &       NA     &           NA\\\\\n",
       "\\end{tabular}\n"
      ],
      "text/markdown": [
       "\n",
       "| <!--/--> | Df | Sum Sq | Mean Sq | F value | Pr(>F) | \n",
       "|---|---|---|---|\n",
       "| method |  1           | 0.5018998    | 0.501899802  | 54.41058     | 8.543339e-06 | \n",
       "| cell |  2           | 1.3753208    | 0.687660415  | 74.54875     | 1.708262e-07 | \n",
       "| method:cell |  2           | 1.8401129    | 0.920056454  | 99.74264     | 3.337388e-08 | \n",
       "| Residuals | 12           | 0.1106917    | 0.009224305  |       NA     |           NA | \n",
       "\n",
       "\n"
      ],
      "text/plain": [
       "            Df Sum Sq    Mean Sq     F value  Pr(>F)      \n",
       "method       1 0.5018998 0.501899802 54.41058 8.543339e-06\n",
       "cell         2 1.3753208 0.687660415 74.54875 1.708262e-07\n",
       "method:cell  2 1.8401129 0.920056454 99.74264 3.337388e-08\n",
       "Residuals   12 0.1106917 0.009224305       NA           NA"
      ]
     },
     "metadata": {},
     "output_type": "display_data"
    }
   ],
   "source": [
    "anova(lmfit)"
   ]
  },
  {
   "cell_type": "code",
   "execution_count": null,
   "metadata": {
    "collapsed": true
   },
   "outputs": [],
   "source": []
  }
 ],
 "metadata": {
  "kernelspec": {
   "display_name": "R",
   "language": "R",
   "name": "ir"
  },
  "language_info": {
   "codemirror_mode": "r",
   "file_extension": ".r",
   "mimetype": "text/x-r-source",
   "name": "R",
   "pygments_lexer": "r",
   "version": "3.4.0"
  }
 },
 "nbformat": 4,
 "nbformat_minor": 2
}
