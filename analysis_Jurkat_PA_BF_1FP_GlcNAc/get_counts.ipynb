{
 "cells": [
  {
   "cell_type": "code",
   "execution_count": 1,
   "metadata": {
    "collapsed": true,
    "deletable": true,
    "editable": true
   },
   "outputs": [],
   "source": [
    "import sys\n",
    "sys.path.insert(0, \"/home/gstupp/projects/metaproteomics\")"
   ]
  },
  {
   "cell_type": "code",
   "execution_count": 2,
   "metadata": {
    "collapsed": true,
    "deletable": true,
    "editable": true
   },
   "outputs": [],
   "source": [
    "import os\n",
    "import requests\n",
    "import pandas as pd\n",
    "from tqdm import tqdm\n",
    "from collections import defaultdict\n",
    "from glob import glob\n",
    "import numpy as np"
   ]
  },
  {
   "cell_type": "code",
   "execution_count": 3,
   "metadata": {
    "collapsed": false,
    "deletable": true,
    "editable": true
   },
   "outputs": [
    {
     "name": "stderr",
     "output_type": "stream",
     "text": [
      "load obo file /home/gstupp/projects/metaproteomics/metaproteomics/goatools/go-basic.obo\n",
      "48437 nodes imported\n"
     ]
    }
   ],
   "source": [
    "from metaproteomics.file_processing.blazmass_tools import dta_select_parser\n",
    "from metaproteomics.goatools import obo_parser\n",
    "goa = obo_parser.GODag()"
   ]
  },
  {
   "cell_type": "code",
   "execution_count": 4,
   "metadata": {
    "collapsed": false,
    "deletable": true,
    "editable": true
   },
   "outputs": [],
   "source": [
    "files = glob(\"data/*/*/*.txt\")"
   ]
  },
  {
   "cell_type": "code",
   "execution_count": 5,
   "metadata": {
    "collapsed": false,
    "deletable": true,
    "editable": true
   },
   "outputs": [
    {
     "data": {
      "text/plain": [
       "['data/PA/Triflic/PA triflic 4.txt',\n",
       " 'data/PA/Triflic/PA triflic 3.txt',\n",
       " 'data/PA/Triflic/PA triflic 5.txt',\n",
       " 'data/PA/Sonic/PA sonic 1.txt',\n",
       " 'data/PA/Sonic/PA sonic 3.txt',\n",
       " 'data/PA/Sonic/PA sonic 4.txt',\n",
       " 'data/Jurkat/Triflic/Jurkat triflic 1.txt',\n",
       " 'data/Jurkat/Triflic/Jurkat triflic test.txt',\n",
       " 'data/Jurkat/Triflic/Jurkat triflic 2.txt',\n",
       " 'data/Jurkat/Sonic/Jurkat sonic 7.txt',\n",
       " 'data/Jurkat/Sonic/Jurkat sonic 1.txt',\n",
       " 'data/Jurkat/Sonic/Jurkat sonic 8.txt',\n",
       " 'data/BS/Triflic/BS triflic 3.txt',\n",
       " 'data/BS/Triflic/BS triflic 1.txt',\n",
       " 'data/BS/Triflic/BS triflic 2.txt',\n",
       " 'data/BS/Sonic/BS sonic 3.txt',\n",
       " 'data/BS/Sonic/BS sonic 4.txt',\n",
       " 'data/BS/Sonic/BS sonic 2.txt']"
      ]
     },
     "execution_count": 5,
     "metadata": {},
     "output_type": "execute_result"
    }
   ],
   "source": [
    "files"
   ]
  },
  {
   "cell_type": "code",
   "execution_count": 7,
   "metadata": {
    "collapsed": false,
    "deletable": true,
    "editable": true
   },
   "outputs": [
    {
     "data": {
      "text/html": [
       "<div>\n",
       "<table border=\"1\" class=\"dataframe\">\n",
       "  <thead>\n",
       "    <tr style=\"text-align: right;\">\n",
       "      <th></th>\n",
       "      <th>0</th>\n",
       "      <th>id</th>\n",
       "      <th>2</th>\n",
       "      <th>3</th>\n",
       "      <th>go_id</th>\n",
       "      <th>5</th>\n",
       "      <th>6</th>\n",
       "      <th>7</th>\n",
       "      <th>aspect</th>\n",
       "      <th>9</th>\n",
       "      <th>10</th>\n",
       "      <th>11</th>\n",
       "      <th>12</th>\n",
       "      <th>13</th>\n",
       "      <th>14</th>\n",
       "      <th>15</th>\n",
       "      <th>16</th>\n",
       "    </tr>\n",
       "  </thead>\n",
       "  <tbody>\n",
       "    <tr>\n",
       "      <th>2</th>\n",
       "      <td>UniProtKB</td>\n",
       "      <td>A0A024R161</td>\n",
       "      <td>DNAJC25-GNG10</td>\n",
       "      <td>NaN</td>\n",
       "      <td>GO:0043234</td>\n",
       "      <td>GO_REF:0000002</td>\n",
       "      <td>IEA</td>\n",
       "      <td>InterPro:IPR001770|InterPro:IPR015898</td>\n",
       "      <td>C</td>\n",
       "      <td>Guanine nucleotide-binding protein subunit gamma</td>\n",
       "      <td>A0A024R161_HUMAN|hCG_1994888</td>\n",
       "      <td>protein</td>\n",
       "      <td>taxon:9606</td>\n",
       "      <td>20170603</td>\n",
       "      <td>InterPro</td>\n",
       "      <td>NaN</td>\n",
       "      <td>NaN</td>\n",
       "    </tr>\n",
       "    <tr>\n",
       "      <th>3</th>\n",
       "      <td>UniProtKB</td>\n",
       "      <td>A0A024R161</td>\n",
       "      <td>DNAJC25-GNG10</td>\n",
       "      <td>NaN</td>\n",
       "      <td>GO:0005622</td>\n",
       "      <td>GO_REF:0000002</td>\n",
       "      <td>IEA</td>\n",
       "      <td>InterPro:IPR001770|InterPro:IPR015898</td>\n",
       "      <td>C</td>\n",
       "      <td>Guanine nucleotide-binding protein subunit gamma</td>\n",
       "      <td>A0A024R161_HUMAN|hCG_1994888</td>\n",
       "      <td>protein</td>\n",
       "      <td>taxon:9606</td>\n",
       "      <td>20170603</td>\n",
       "      <td>InterPro</td>\n",
       "      <td>NaN</td>\n",
       "      <td>NaN</td>\n",
       "    </tr>\n",
       "  </tbody>\n",
       "</table>\n",
       "</div>"
      ],
      "text/plain": [
       "           0          id              2    3       go_id               5    6  \\\n",
       "2  UniProtKB  A0A024R161  DNAJC25-GNG10  NaN  GO:0043234  GO_REF:0000002  IEA   \n",
       "3  UniProtKB  A0A024R161  DNAJC25-GNG10  NaN  GO:0005622  GO_REF:0000002  IEA   \n",
       "\n",
       "                                       7 aspect  \\\n",
       "2  InterPro:IPR001770|InterPro:IPR015898      C   \n",
       "3  InterPro:IPR001770|InterPro:IPR015898      C   \n",
       "\n",
       "                                                  9  \\\n",
       "2  Guanine nucleotide-binding protein subunit gamma   \n",
       "3  Guanine nucleotide-binding protein subunit gamma   \n",
       "\n",
       "                             10       11          12        13        14   15  \\\n",
       "2  A0A024R161_HUMAN|hCG_1994888  protein  taxon:9606  20170603  InterPro  NaN   \n",
       "3  A0A024R161_HUMAN|hCG_1994888  protein  taxon:9606  20170603  InterPro  NaN   \n",
       "\n",
       "    16  \n",
       "2  NaN  \n",
       "3  NaN  "
      ]
     },
     "execution_count": 7,
     "metadata": {},
     "output_type": "execute_result"
    }
   ],
   "source": [
    "df = pd.read_csv(\"annotations.mapped.gaf\", sep=\"\\t\", comment=\"!\", header=None)\n",
    "df = df.rename(columns={1:\"id\", 4:\"go_id\", 8:'aspect'})\n",
    "df = df.query(\"aspect == 'C'\")\n",
    "df.head(2)"
   ]
  },
  {
   "cell_type": "code",
   "execution_count": 8,
   "metadata": {
    "collapsed": false,
    "deletable": true,
    "editable": true
   },
   "outputs": [
    {
     "data": {
      "text/plain": [
       "{'GO:0005575', 'GO:0005622', 'GO:0005886', 'GO:0043234'}"
      ]
     },
     "execution_count": 8,
     "metadata": {},
     "output_type": "execute_result"
    }
   ],
   "source": [
    "go_annot = df.groupby(\"id\").agg({'go_id': lambda x: set(x)}).to_dict()['go_id']\n",
    "go_annot['A0A024R161']"
   ]
  },
  {
   "cell_type": "code",
   "execution_count": 10,
   "metadata": {
    "collapsed": false,
    "deletable": true,
    "editable": true
   },
   "outputs": [],
   "source": [
    "#{goa[x].name: x for x in set(df[df['aspect'] == 'C']['go_id'])}"
   ]
  },
  {
   "cell_type": "code",
   "execution_count": 11,
   "metadata": {
    "collapsed": false,
    "deletable": true,
    "editable": true
   },
   "outputs": [],
   "source": [
    "def get_go_count(file):\n",
    "    p = dict()\n",
    "    d = defaultdict(int)\n",
    "    for locus in dta_select_parser(file, return_reverse=False):\n",
    "        if '|' in locus['name']:\n",
    "            uniprot = locus['name'].split('|')[1]\n",
    "            this_go = go_annot.get(uniprot, [])\n",
    "            p[uniprot] = {'go': \";\".join(this_go), 'q': locus['quantification'], \n",
    "                          'go_name': \";\".join([goa[x].name for x in this_go]), \n",
    "                          'name': locus['loci'][0]['Descriptive Name']}\n",
    "            for go in this_go:\n",
    "                d[go]+=locus['quantification']\n",
    "    d = dict(d)\n",
    "    return d, p\n",
    "def get_go_count2(file):\n",
    "    \"\"\"\n",
    "    version 2: if a protein has multiple go terms, give those go terms the number of spectrral counts/# Go terms\n",
    "    \"\"\"\n",
    "    p = dict()\n",
    "    d = defaultdict(int)\n",
    "    for locus in dta_select_parser(file, return_reverse=False):\n",
    "        if '|' in locus['name']:\n",
    "            uniprot = locus['name'].split('|')[1]\n",
    "            this_go = go_annot.get(uniprot, [])\n",
    "            p[uniprot] = {'go': \";\".join(this_go), 'q': locus['quantification'], \n",
    "                          'go_name': \";\".join([goa[x].name for x in this_go]), \n",
    "                          'name': locus['loci'][0]['Descriptive Name']}\n",
    "            for go in this_go:\n",
    "                d[go]+=locus['quantification']/len(this_go)\n",
    "    d = dict(d)\n",
    "    return d, p\n",
    "d,p = get_go_count(files[0])\n",
    "d2,p = get_go_count2(files[0])"
   ]
  },
  {
   "cell_type": "code",
   "execution_count": 12,
   "metadata": {
    "collapsed": true,
    "deletable": true,
    "editable": true
   },
   "outputs": [],
   "source": [
    "def get_membrane_count(d):\n",
    "    # cell wall, plasma membrane\n",
    "    membrane = {'GO:0005618', 'GO:0005886'}\n",
    "    membrane_count = sum(count for go,count in d.items() if go in membrane)\n",
    "    not_membrane_count = sum(count for go,count in d.items() if go not in membrane)\n",
    "    return membrane_count, not_membrane_count"
   ]
  },
  {
   "cell_type": "code",
   "execution_count": 13,
   "metadata": {
    "collapsed": false,
    "deletable": true,
    "editable": true
   },
   "outputs": [
    {
     "name": "stderr",
     "output_type": "stream",
     "text": [
      "100%|██████████| 18/18 [00:03<00:00,  4.96it/s]\n"
     ]
    }
   ],
   "source": [
    "counts = dict()\n",
    "for file in tqdm(files):\n",
    "    d,p = get_go_count2(file)\n",
    "    membrane_count, not_membrane_count = get_membrane_count(d)\n",
    "    counts[file] = (membrane_count, not_membrane_count, np.log(not_membrane_count)-np.log(membrane_count))\n",
    "    pd.DataFrame(p).T.to_csv(file + \"_go_counts.csv\")"
   ]
  },
  {
   "cell_type": "code",
   "execution_count": 16,
   "metadata": {
    "collapsed": false,
    "deletable": true,
    "editable": true
   },
   "outputs": [
    {
     "data": {
      "text/html": [
       "<div>\n",
       "<table border=\"1\" class=\"dataframe\">\n",
       "  <thead>\n",
       "    <tr style=\"text-align: right;\">\n",
       "      <th></th>\n",
       "      <th>cell</th>\n",
       "      <th>files</th>\n",
       "      <th>membrane</th>\n",
       "      <th>method</th>\n",
       "      <th>non-membrane</th>\n",
       "      <th>ratio</th>\n",
       "    </tr>\n",
       "  </thead>\n",
       "  <tbody>\n",
       "    <tr>\n",
       "      <th>1</th>\n",
       "      <td>BS</td>\n",
       "      <td>data/BS/Sonic/BS sonic 4.txt</td>\n",
       "      <td>784.750000</td>\n",
       "      <td>sonic</td>\n",
       "      <td>15111.250000</td>\n",
       "      <td>2.957830</td>\n",
       "    </tr>\n",
       "    <tr>\n",
       "      <th>7</th>\n",
       "      <td>BS</td>\n",
       "      <td>data/BS/Sonic/BS sonic 2.txt</td>\n",
       "      <td>897.714286</td>\n",
       "      <td>sonic</td>\n",
       "      <td>16292.285714</td>\n",
       "      <td>2.898595</td>\n",
       "    </tr>\n",
       "    <tr>\n",
       "      <th>10</th>\n",
       "      <td>BS</td>\n",
       "      <td>data/BS/Sonic/BS sonic 3.txt</td>\n",
       "      <td>743.880952</td>\n",
       "      <td>sonic</td>\n",
       "      <td>14564.119048</td>\n",
       "      <td>2.974435</td>\n",
       "    </tr>\n",
       "    <tr>\n",
       "      <th>2</th>\n",
       "      <td>BS</td>\n",
       "      <td>data/BS/Triflic/BS triflic 1.txt</td>\n",
       "      <td>721.345238</td>\n",
       "      <td>tri</td>\n",
       "      <td>12720.654762</td>\n",
       "      <td>2.869864</td>\n",
       "    </tr>\n",
       "    <tr>\n",
       "      <th>5</th>\n",
       "      <td>BS</td>\n",
       "      <td>data/BS/Triflic/BS triflic 3.txt</td>\n",
       "      <td>1355.500000</td>\n",
       "      <td>tri</td>\n",
       "      <td>25859.500000</td>\n",
       "      <td>2.948508</td>\n",
       "    </tr>\n",
       "    <tr>\n",
       "      <th>9</th>\n",
       "      <td>BS</td>\n",
       "      <td>data/BS/Triflic/BS triflic 2.txt</td>\n",
       "      <td>1088.785714</td>\n",
       "      <td>tri</td>\n",
       "      <td>21741.214286</td>\n",
       "      <td>2.994147</td>\n",
       "    </tr>\n",
       "    <tr>\n",
       "      <th>0</th>\n",
       "      <td>Jurkat</td>\n",
       "      <td>data/Jurkat/Sonic/Jurkat sonic 1.txt</td>\n",
       "      <td>978.511701</td>\n",
       "      <td>sonic</td>\n",
       "      <td>20908.488299</td>\n",
       "      <td>3.061878</td>\n",
       "    </tr>\n",
       "    <tr>\n",
       "      <th>4</th>\n",
       "      <td>Jurkat</td>\n",
       "      <td>data/Jurkat/Sonic/Jurkat sonic 8.txt</td>\n",
       "      <td>765.967763</td>\n",
       "      <td>sonic</td>\n",
       "      <td>21727.032237</td>\n",
       "      <td>3.345172</td>\n",
       "    </tr>\n",
       "    <tr>\n",
       "      <th>12</th>\n",
       "      <td>Jurkat</td>\n",
       "      <td>data/Jurkat/Sonic/Jurkat sonic 7.txt</td>\n",
       "      <td>1193.211630</td>\n",
       "      <td>sonic</td>\n",
       "      <td>23654.788370</td>\n",
       "      <td>2.986917</td>\n",
       "    </tr>\n",
       "    <tr>\n",
       "      <th>13</th>\n",
       "      <td>Jurkat</td>\n",
       "      <td>data/Jurkat/Triflic/Jurkat triflic test.txt</td>\n",
       "      <td>311.434155</td>\n",
       "      <td>tri</td>\n",
       "      <td>8308.565845</td>\n",
       "      <td>3.283854</td>\n",
       "    </tr>\n",
       "    <tr>\n",
       "      <th>15</th>\n",
       "      <td>Jurkat</td>\n",
       "      <td>data/Jurkat/Triflic/Jurkat triflic 1.txt</td>\n",
       "      <td>189.242176</td>\n",
       "      <td>tri</td>\n",
       "      <td>4937.757824</td>\n",
       "      <td>3.261639</td>\n",
       "    </tr>\n",
       "    <tr>\n",
       "      <th>17</th>\n",
       "      <td>Jurkat</td>\n",
       "      <td>data/Jurkat/Triflic/Jurkat triflic 2.txt</td>\n",
       "      <td>212.242737</td>\n",
       "      <td>tri</td>\n",
       "      <td>5290.757263</td>\n",
       "      <td>3.215986</td>\n",
       "    </tr>\n",
       "    <tr>\n",
       "      <th>6</th>\n",
       "      <td>PA</td>\n",
       "      <td>data/PA/Sonic/PA sonic 3.txt</td>\n",
       "      <td>506.550000</td>\n",
       "      <td>sonic</td>\n",
       "      <td>17886.450000</td>\n",
       "      <td>3.564176</td>\n",
       "    </tr>\n",
       "    <tr>\n",
       "      <th>8</th>\n",
       "      <td>PA</td>\n",
       "      <td>data/PA/Sonic/PA sonic 4.txt</td>\n",
       "      <td>337.516667</td>\n",
       "      <td>sonic</td>\n",
       "      <td>12337.483333</td>\n",
       "      <td>3.598782</td>\n",
       "    </tr>\n",
       "    <tr>\n",
       "      <th>16</th>\n",
       "      <td>PA</td>\n",
       "      <td>data/PA/Sonic/PA sonic 1.txt</td>\n",
       "      <td>602.816667</td>\n",
       "      <td>sonic</td>\n",
       "      <td>21101.183333</td>\n",
       "      <td>3.555471</td>\n",
       "    </tr>\n",
       "    <tr>\n",
       "      <th>3</th>\n",
       "      <td>PA</td>\n",
       "      <td>data/PA/Triflic/PA triflic 3.txt</td>\n",
       "      <td>1301.400000</td>\n",
       "      <td>tri</td>\n",
       "      <td>15638.600000</td>\n",
       "      <td>2.486302</td>\n",
       "    </tr>\n",
       "    <tr>\n",
       "      <th>11</th>\n",
       "      <td>PA</td>\n",
       "      <td>data/PA/Triflic/PA triflic 4.txt</td>\n",
       "      <td>1174.666667</td>\n",
       "      <td>tri</td>\n",
       "      <td>14859.333333</td>\n",
       "      <td>2.537644</td>\n",
       "    </tr>\n",
       "    <tr>\n",
       "      <th>14</th>\n",
       "      <td>PA</td>\n",
       "      <td>data/PA/Triflic/PA triflic 5.txt</td>\n",
       "      <td>1203.716667</td>\n",
       "      <td>tri</td>\n",
       "      <td>15868.283333</td>\n",
       "      <td>2.578908</td>\n",
       "    </tr>\n",
       "  </tbody>\n",
       "</table>\n",
       "</div>"
      ],
      "text/plain": [
       "      cell                                        files     membrane method  \\\n",
       "1       BS                 data/BS/Sonic/BS sonic 4.txt   784.750000  sonic   \n",
       "7       BS                 data/BS/Sonic/BS sonic 2.txt   897.714286  sonic   \n",
       "10      BS                 data/BS/Sonic/BS sonic 3.txt   743.880952  sonic   \n",
       "2       BS             data/BS/Triflic/BS triflic 1.txt   721.345238    tri   \n",
       "5       BS             data/BS/Triflic/BS triflic 3.txt  1355.500000    tri   \n",
       "9       BS             data/BS/Triflic/BS triflic 2.txt  1088.785714    tri   \n",
       "0   Jurkat         data/Jurkat/Sonic/Jurkat sonic 1.txt   978.511701  sonic   \n",
       "4   Jurkat         data/Jurkat/Sonic/Jurkat sonic 8.txt   765.967763  sonic   \n",
       "12  Jurkat         data/Jurkat/Sonic/Jurkat sonic 7.txt  1193.211630  sonic   \n",
       "13  Jurkat  data/Jurkat/Triflic/Jurkat triflic test.txt   311.434155    tri   \n",
       "15  Jurkat     data/Jurkat/Triflic/Jurkat triflic 1.txt   189.242176    tri   \n",
       "17  Jurkat     data/Jurkat/Triflic/Jurkat triflic 2.txt   212.242737    tri   \n",
       "6       PA                 data/PA/Sonic/PA sonic 3.txt   506.550000  sonic   \n",
       "8       PA                 data/PA/Sonic/PA sonic 4.txt   337.516667  sonic   \n",
       "16      PA                 data/PA/Sonic/PA sonic 1.txt   602.816667  sonic   \n",
       "3       PA             data/PA/Triflic/PA triflic 3.txt  1301.400000    tri   \n",
       "11      PA             data/PA/Triflic/PA triflic 4.txt  1174.666667    tri   \n",
       "14      PA             data/PA/Triflic/PA triflic 5.txt  1203.716667    tri   \n",
       "\n",
       "    non-membrane     ratio  \n",
       "1   15111.250000  2.957830  \n",
       "7   16292.285714  2.898595  \n",
       "10  14564.119048  2.974435  \n",
       "2   12720.654762  2.869864  \n",
       "5   25859.500000  2.948508  \n",
       "9   21741.214286  2.994147  \n",
       "0   20908.488299  3.061878  \n",
       "4   21727.032237  3.345172  \n",
       "12  23654.788370  2.986917  \n",
       "13   8308.565845  3.283854  \n",
       "15   4937.757824  3.261639  \n",
       "17   5290.757263  3.215986  \n",
       "6   17886.450000  3.564176  \n",
       "8   12337.483333  3.598782  \n",
       "16  21101.183333  3.555471  \n",
       "3   15638.600000  2.486302  \n",
       "11  14859.333333  2.537644  \n",
       "14  15868.283333  2.578908  "
      ]
     },
     "execution_count": 16,
     "metadata": {},
     "output_type": "execute_result"
    }
   ],
   "source": [
    "df_out = pd.DataFrame({'files': list(counts.keys()),\n",
    " 'membrane': [x[0] for x in counts.values()],\n",
    " 'non-membrane': [x[1] for x in counts.values()],\n",
    " 'ratio': [x[2] for x in counts.values()],\n",
    " 'method': [\"sonic\" if \"sonic\" in file else \"tri\" for file in counts],\n",
    " 'cell': [file.split(\"/\")[1] for file in counts]})\n",
    "df_out = df_out.sort_values([\"cell\", \"method\"])\n",
    "df_out"
   ]
  },
  {
   "cell_type": "code",
   "execution_count": 17,
   "metadata": {
    "collapsed": true,
    "deletable": true,
    "editable": true
   },
   "outputs": [],
   "source": [
    "df_out.to_csv(\"df_out.csv\")"
   ]
  },
  {
   "cell_type": "code",
   "execution_count": null,
   "metadata": {
    "collapsed": true,
    "deletable": true,
    "editable": true
   },
   "outputs": [],
   "source": []
  }
 ],
 "metadata": {
  "kernelspec": {
   "display_name": "Python 3",
   "language": "python",
   "name": "python3"
  },
  "language_info": {
   "codemirror_mode": {
    "name": "ipython",
    "version": 3
   },
   "file_extension": ".py",
   "mimetype": "text/x-python",
   "name": "python",
   "nbconvert_exporter": "python",
   "pygments_lexer": "ipython3",
   "version": "3.5.2"
  }
 },
 "nbformat": 4,
 "nbformat_minor": 2
}
