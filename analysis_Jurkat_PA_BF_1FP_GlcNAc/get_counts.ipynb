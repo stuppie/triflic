{
 "cells": [
  {
   "cell_type": "code",
   "execution_count": 1,
   "metadata": {
    "collapsed": true,
    "deletable": true,
    "editable": true
   },
   "outputs": [],
   "source": [
    "import sys\n",
    "sys.path.insert(0, \"/home/gstupp/projects/metaproteomics\")"
   ]
  },
  {
   "cell_type": "code",
   "execution_count": 2,
   "metadata": {
    "collapsed": true,
    "deletable": true,
    "editable": true
   },
   "outputs": [],
   "source": [
    "import os\n",
    "import requests\n",
    "import pandas as pd\n",
    "from tqdm import tqdm\n",
    "from collections import defaultdict\n",
    "from glob import glob\n",
    "import numpy as np"
   ]
  },
  {
   "cell_type": "code",
   "execution_count": 3,
   "metadata": {
    "collapsed": false,
    "deletable": true,
    "editable": true
   },
   "outputs": [
    {
     "name": "stderr",
     "output_type": "stream",
     "text": [
      "load obo file /home/gstupp/projects/metaproteomics/metaproteomics/goatools/go-basic.obo\n",
      "48437 nodes imported\n"
     ]
    }
   ],
   "source": [
    "from metaproteomics.file_processing.blazmass_tools import dta_select_parser\n",
    "from metaproteomics.goatools import obo_parser\n",
    "goa = obo_parser.GODag()"
   ]
  },
  {
   "cell_type": "code",
   "execution_count": 4,
   "metadata": {
    "collapsed": false,
    "deletable": true,
    "editable": true
   },
   "outputs": [],
   "source": [
    "files = glob(\"data/*/*/*.txt\")"
   ]
  },
  {
   "cell_type": "code",
   "execution_count": 5,
   "metadata": {
    "collapsed": false,
    "deletable": true,
    "editable": true
   },
   "outputs": [
    {
     "data": {
      "text/plain": [
       "['data/PA/Triflic/PA triflic 4.txt',\n",
       " 'data/PA/Triflic/PA triflic 3.txt',\n",
       " 'data/PA/Triflic/PA triflic 5.txt',\n",
       " 'data/PA/Sonic/PA sonic 1.txt',\n",
       " 'data/PA/Sonic/PA sonic 3.txt',\n",
       " 'data/PA/Sonic/PA sonic 4.txt',\n",
       " 'data/Jurkat/Triflic/Jurkat triflic 1.txt',\n",
       " 'data/Jurkat/Triflic/Jurkat triflic test.txt',\n",
       " 'data/Jurkat/Triflic/Jurkat triflic 2.txt',\n",
       " 'data/Jurkat/Sonic/Jurkat sonic 7.txt',\n",
       " 'data/Jurkat/Sonic/Jurkat sonic 1.txt',\n",
       " 'data/Jurkat/Sonic/Jurkat sonic 8.txt',\n",
       " 'data/BS/Triflic/BS triflic 3.txt',\n",
       " 'data/BS/Triflic/BS triflic 1.txt',\n",
       " 'data/BS/Triflic/BS triflic 2.txt',\n",
       " 'data/BS/Sonic/BS sonic 3.txt',\n",
       " 'data/BS/Sonic/BS sonic 4.txt',\n",
       " 'data/BS/Sonic/BS sonic 2.txt']"
      ]
     },
     "execution_count": 5,
     "metadata": {},
     "output_type": "execute_result"
    }
   ],
   "source": [
    "files"
   ]
  },
  {
   "cell_type": "code",
   "execution_count": 19,
   "metadata": {
    "collapsed": false,
    "deletable": true,
    "editable": true
   },
   "outputs": [
    {
     "data": {
      "text/html": [
       "<div>\n",
       "<table border=\"1\" class=\"dataframe\">\n",
       "  <thead>\n",
       "    <tr style=\"text-align: right;\">\n",
       "      <th></th>\n",
       "      <th>0</th>\n",
       "      <th>id</th>\n",
       "      <th>2</th>\n",
       "      <th>3</th>\n",
       "      <th>go_id</th>\n",
       "      <th>5</th>\n",
       "      <th>6</th>\n",
       "      <th>7</th>\n",
       "      <th>aspect</th>\n",
       "      <th>9</th>\n",
       "      <th>10</th>\n",
       "      <th>11</th>\n",
       "      <th>12</th>\n",
       "      <th>13</th>\n",
       "      <th>14</th>\n",
       "      <th>15</th>\n",
       "      <th>16</th>\n",
       "    </tr>\n",
       "  </thead>\n",
       "  <tbody>\n",
       "    <tr>\n",
       "      <th>2</th>\n",
       "      <td>UniProtKB</td>\n",
       "      <td>A0A024R161</td>\n",
       "      <td>DNAJC25-GNG10</td>\n",
       "      <td>NaN</td>\n",
       "      <td>GO:0043234</td>\n",
       "      <td>GO_REF:0000002</td>\n",
       "      <td>IEA</td>\n",
       "      <td>InterPro:IPR001770|InterPro:IPR015898</td>\n",
       "      <td>C</td>\n",
       "      <td>Guanine nucleotide-binding protein subunit gamma</td>\n",
       "      <td>A0A024R161_HUMAN|hCG_1994888</td>\n",
       "      <td>protein</td>\n",
       "      <td>taxon:9606</td>\n",
       "      <td>20170603</td>\n",
       "      <td>InterPro</td>\n",
       "      <td>NaN</td>\n",
       "      <td>NaN</td>\n",
       "    </tr>\n",
       "    <tr>\n",
       "      <th>3</th>\n",
       "      <td>UniProtKB</td>\n",
       "      <td>A0A024R161</td>\n",
       "      <td>DNAJC25-GNG10</td>\n",
       "      <td>NaN</td>\n",
       "      <td>GO:0005622</td>\n",
       "      <td>GO_REF:0000002</td>\n",
       "      <td>IEA</td>\n",
       "      <td>InterPro:IPR001770|InterPro:IPR015898</td>\n",
       "      <td>C</td>\n",
       "      <td>Guanine nucleotide-binding protein subunit gamma</td>\n",
       "      <td>A0A024R161_HUMAN|hCG_1994888</td>\n",
       "      <td>protein</td>\n",
       "      <td>taxon:9606</td>\n",
       "      <td>20170603</td>\n",
       "      <td>InterPro</td>\n",
       "      <td>NaN</td>\n",
       "      <td>NaN</td>\n",
       "    </tr>\n",
       "  </tbody>\n",
       "</table>\n",
       "</div>"
      ],
      "text/plain": [
       "           0          id              2    3       go_id               5    6  \\\n",
       "2  UniProtKB  A0A024R161  DNAJC25-GNG10  NaN  GO:0043234  GO_REF:0000002  IEA   \n",
       "3  UniProtKB  A0A024R161  DNAJC25-GNG10  NaN  GO:0005622  GO_REF:0000002  IEA   \n",
       "\n",
       "                                       7 aspect  \\\n",
       "2  InterPro:IPR001770|InterPro:IPR015898      C   \n",
       "3  InterPro:IPR001770|InterPro:IPR015898      C   \n",
       "\n",
       "                                                  9  \\\n",
       "2  Guanine nucleotide-binding protein subunit gamma   \n",
       "3  Guanine nucleotide-binding protein subunit gamma   \n",
       "\n",
       "                             10       11          12        13        14   15  \\\n",
       "2  A0A024R161_HUMAN|hCG_1994888  protein  taxon:9606  20170603  InterPro  NaN   \n",
       "3  A0A024R161_HUMAN|hCG_1994888  protein  taxon:9606  20170603  InterPro  NaN   \n",
       "\n",
       "    16  \n",
       "2  NaN  \n",
       "3  NaN  "
      ]
     },
     "execution_count": 19,
     "metadata": {},
     "output_type": "execute_result"
    }
   ],
   "source": [
    "df = pd.read_csv(\"annotations.mapped.gaf\", sep=\"\\t\", comment=\"!\", header=None)\n",
    "df = df.rename(columns={1:\"id\", 4:\"go_id\", 8:'aspect'})\n",
    "df = df.query(\"aspect == 'C'\")\n",
    "df = df.query(\"go_id != 'GO:0005575'\")  # remove 'cellular component'\n",
    "df.head(2)"
   ]
  },
  {
   "cell_type": "code",
   "execution_count": 20,
   "metadata": {
    "collapsed": false,
    "deletable": true,
    "editable": true
   },
   "outputs": [
    {
     "data": {
      "text/plain": [
       "{'GO:0005622', 'GO:0005886', 'GO:0043234'}"
      ]
     },
     "execution_count": 20,
     "metadata": {},
     "output_type": "execute_result"
    }
   ],
   "source": [
    "go_annot = df.groupby(\"id\").agg({'go_id': lambda x: set(x)}).to_dict()['go_id']\n",
    "go_annot['A0A024R161']"
   ]
  },
  {
   "cell_type": "code",
   "execution_count": 21,
   "metadata": {
    "collapsed": false,
    "deletable": true,
    "editable": true
   },
   "outputs": [],
   "source": [
    "#{goa[x].name: x for x in set(df[df['aspect'] == 'C']['go_id'])}"
   ]
  },
  {
   "cell_type": "code",
   "execution_count": 23,
   "metadata": {
    "collapsed": false,
    "deletable": true,
    "editable": true
   },
   "outputs": [],
   "source": [
    "def get_go_count(file):\n",
    "    \"\"\"\n",
    "    version 1: if a proteins has multiple go terms, add spectral count for each term\n",
    "    \"\"\"\n",
    "    p = dict()\n",
    "    d = defaultdict(int)\n",
    "    for locus in dta_select_parser(file, return_reverse=False):\n",
    "        if '|' in locus['name']:\n",
    "            uniprot = locus['name'].split('|')[1]\n",
    "            this_go = go_annot.get(uniprot, [])\n",
    "            p[uniprot] = {'go': \";\".join(this_go), 'q': locus['quantification'], \n",
    "                          'go_name': \";\".join([goa[x].name for x in this_go]), \n",
    "                          'name': locus['loci'][0]['Descriptive Name']}\n",
    "            for go in this_go:\n",
    "                d[go]+=locus['quantification']\n",
    "    d = dict(d)\n",
    "    return d, p\n",
    "\n",
    "def get_go_count2(file):\n",
    "    \"\"\"\n",
    "    version 2: if a protein has multiple go terms, give those go terms the number of spectral counts/# Go terms\n",
    "    \"\"\"\n",
    "    p = dict()\n",
    "    d = defaultdict(int)\n",
    "    for locus in dta_select_parser(file, return_reverse=False):\n",
    "        if '|' in locus['name']:\n",
    "            uniprot = locus['name'].split('|')[1]\n",
    "            this_go = go_annot.get(uniprot, [])\n",
    "            p[uniprot] = {'go': \";\".join(this_go), 'q': locus['quantification'], \n",
    "                          'go_name': \";\".join([goa[x].name for x in this_go]), \n",
    "                          'name': locus['loci'][0]['Descriptive Name']}\n",
    "            for go in this_go:\n",
    "                d[go]+=locus['quantification']/len(this_go)\n",
    "    d = dict(d)\n",
    "    return d, p\n",
    "d,p = get_go_count(files[0])\n",
    "d2,p = get_go_count2(files[0])"
   ]
  },
  {
   "cell_type": "code",
   "execution_count": 24,
   "metadata": {
    "collapsed": true,
    "deletable": true,
    "editable": true
   },
   "outputs": [],
   "source": [
    "def get_membrane_count(d):\n",
    "    # cell wall, plasma membrane\n",
    "    membrane = {'GO:0005618', 'GO:0005886'}\n",
    "    membrane_count = sum(count for go,count in d.items() if go in membrane)\n",
    "    not_membrane_count = sum(count for go,count in d.items() if go not in membrane)\n",
    "    return membrane_count, not_membrane_count"
   ]
  },
  {
   "cell_type": "code",
   "execution_count": 25,
   "metadata": {
    "collapsed": false,
    "deletable": true,
    "editable": true
   },
   "outputs": [
    {
     "name": "stderr",
     "output_type": "stream",
     "text": [
      "100%|██████████| 18/18 [00:03<00:00,  5.02it/s]\n"
     ]
    }
   ],
   "source": [
    "counts = dict()\n",
    "for file in tqdm(files):\n",
    "    d,p = get_go_count2(file)\n",
    "    membrane_count, not_membrane_count = get_membrane_count(d)\n",
    "    counts[file] = (membrane_count, not_membrane_count, np.log(not_membrane_count)-np.log(membrane_count))\n",
    "    pd.DataFrame(p).T.to_csv(file + \"_go_counts.csv\")"
   ]
  },
  {
   "cell_type": "code",
   "execution_count": 26,
   "metadata": {
    "collapsed": false,
    "deletable": true,
    "editable": true
   },
   "outputs": [
    {
     "data": {
      "text/html": [
       "<div>\n",
       "<table border=\"1\" class=\"dataframe\">\n",
       "  <thead>\n",
       "    <tr style=\"text-align: right;\">\n",
       "      <th></th>\n",
       "      <th>cell</th>\n",
       "      <th>files</th>\n",
       "      <th>membrane</th>\n",
       "      <th>method</th>\n",
       "      <th>non-membrane</th>\n",
       "      <th>ratio</th>\n",
       "    </tr>\n",
       "  </thead>\n",
       "  <tbody>\n",
       "    <tr>\n",
       "      <th>1</th>\n",
       "      <td>BS</td>\n",
       "      <td>data/BS/Sonic/BS sonic 4.txt</td>\n",
       "      <td>1262.133333</td>\n",
       "      <td>sonic</td>\n",
       "      <td>14513.866667</td>\n",
       "      <td>2.442301</td>\n",
       "    </tr>\n",
       "    <tr>\n",
       "      <th>7</th>\n",
       "      <td>BS</td>\n",
       "      <td>data/BS/Sonic/BS sonic 2.txt</td>\n",
       "      <td>1474.416667</td>\n",
       "      <td>sonic</td>\n",
       "      <td>15578.583333</td>\n",
       "      <td>2.357635</td>\n",
       "    </tr>\n",
       "    <tr>\n",
       "      <th>10</th>\n",
       "      <td>BS</td>\n",
       "      <td>data/BS/Sonic/BS sonic 3.txt</td>\n",
       "      <td>1222.316667</td>\n",
       "      <td>sonic</td>\n",
       "      <td>13971.683333</td>\n",
       "      <td>2.436285</td>\n",
       "    </tr>\n",
       "    <tr>\n",
       "      <th>2</th>\n",
       "      <td>BS</td>\n",
       "      <td>data/BS/Triflic/BS triflic 1.txt</td>\n",
       "      <td>1112.233333</td>\n",
       "      <td>tri</td>\n",
       "      <td>12265.766667</td>\n",
       "      <td>2.400442</td>\n",
       "    </tr>\n",
       "    <tr>\n",
       "      <th>5</th>\n",
       "      <td>BS</td>\n",
       "      <td>data/BS/Triflic/BS triflic 3.txt</td>\n",
       "      <td>2092.116667</td>\n",
       "      <td>tri</td>\n",
       "      <td>24973.883333</td>\n",
       "      <td>2.479654</td>\n",
       "    </tr>\n",
       "    <tr>\n",
       "      <th>9</th>\n",
       "      <td>BS</td>\n",
       "      <td>data/BS/Triflic/BS triflic 2.txt</td>\n",
       "      <td>1733.883333</td>\n",
       "      <td>tri</td>\n",
       "      <td>21035.116667</td>\n",
       "      <td>2.495830</td>\n",
       "    </tr>\n",
       "    <tr>\n",
       "      <th>0</th>\n",
       "      <td>Jurkat</td>\n",
       "      <td>data/Jurkat/Sonic/Jurkat sonic 1.txt</td>\n",
       "      <td>1076.207822</td>\n",
       "      <td>sonic</td>\n",
       "      <td>20761.792178</td>\n",
       "      <td>2.959671</td>\n",
       "    </tr>\n",
       "    <tr>\n",
       "      <th>4</th>\n",
       "      <td>Jurkat</td>\n",
       "      <td>data/Jurkat/Sonic/Jurkat sonic 8.txt</td>\n",
       "      <td>843.356478</td>\n",
       "      <td>sonic</td>\n",
       "      <td>21610.643522</td>\n",
       "      <td>3.243551</td>\n",
       "    </tr>\n",
       "    <tr>\n",
       "      <th>12</th>\n",
       "      <td>Jurkat</td>\n",
       "      <td>data/Jurkat/Sonic/Jurkat sonic 7.txt</td>\n",
       "      <td>1302.421319</td>\n",
       "      <td>sonic</td>\n",
       "      <td>23534.578681</td>\n",
       "      <td>2.894246</td>\n",
       "    </tr>\n",
       "    <tr>\n",
       "      <th>13</th>\n",
       "      <td>Jurkat</td>\n",
       "      <td>data/Jurkat/Triflic/Jurkat triflic test.txt</td>\n",
       "      <td>335.560515</td>\n",
       "      <td>tri</td>\n",
       "      <td>8279.439485</td>\n",
       "      <td>3.205728</td>\n",
       "    </tr>\n",
       "    <tr>\n",
       "      <th>15</th>\n",
       "      <td>Jurkat</td>\n",
       "      <td>data/Jurkat/Triflic/Jurkat triflic 1.txt</td>\n",
       "      <td>206.272419</td>\n",
       "      <td>tri</td>\n",
       "      <td>4914.727581</td>\n",
       "      <td>3.170794</td>\n",
       "    </tr>\n",
       "    <tr>\n",
       "      <th>17</th>\n",
       "      <td>Jurkat</td>\n",
       "      <td>data/Jurkat/Triflic/Jurkat triflic 2.txt</td>\n",
       "      <td>230.298059</td>\n",
       "      <td>tri</td>\n",
       "      <td>5257.701941</td>\n",
       "      <td>3.128075</td>\n",
       "    </tr>\n",
       "    <tr>\n",
       "      <th>6</th>\n",
       "      <td>PA</td>\n",
       "      <td>data/PA/Sonic/PA sonic 3.txt</td>\n",
       "      <td>636.333333</td>\n",
       "      <td>sonic</td>\n",
       "      <td>17354.666667</td>\n",
       "      <td>3.305894</td>\n",
       "    </tr>\n",
       "    <tr>\n",
       "      <th>8</th>\n",
       "      <td>PA</td>\n",
       "      <td>data/PA/Sonic/PA sonic 4.txt</td>\n",
       "      <td>412.616667</td>\n",
       "      <td>sonic</td>\n",
       "      <td>12046.383333</td>\n",
       "      <td>3.374001</td>\n",
       "    </tr>\n",
       "    <tr>\n",
       "      <th>16</th>\n",
       "      <td>PA</td>\n",
       "      <td>data/PA/Sonic/PA sonic 1.txt</td>\n",
       "      <td>751.250000</td>\n",
       "      <td>sonic</td>\n",
       "      <td>20435.750000</td>\n",
       "      <td>3.303303</td>\n",
       "    </tr>\n",
       "    <tr>\n",
       "      <th>3</th>\n",
       "      <td>PA</td>\n",
       "      <td>data/PA/Triflic/PA triflic 3.txt</td>\n",
       "      <td>1876.566667</td>\n",
       "      <td>tri</td>\n",
       "      <td>14420.433333</td>\n",
       "      <td>2.039202</td>\n",
       "    </tr>\n",
       "    <tr>\n",
       "      <th>11</th>\n",
       "      <td>PA</td>\n",
       "      <td>data/PA/Triflic/PA triflic 4.txt</td>\n",
       "      <td>1672.466667</td>\n",
       "      <td>tri</td>\n",
       "      <td>13673.533333</td>\n",
       "      <td>2.101163</td>\n",
       "    </tr>\n",
       "    <tr>\n",
       "      <th>14</th>\n",
       "      <td>PA</td>\n",
       "      <td>data/PA/Triflic/PA triflic 5.txt</td>\n",
       "      <td>1708.733333</td>\n",
       "      <td>tri</td>\n",
       "      <td>14512.266667</td>\n",
       "      <td>2.139242</td>\n",
       "    </tr>\n",
       "  </tbody>\n",
       "</table>\n",
       "</div>"
      ],
      "text/plain": [
       "      cell                                        files     membrane method  \\\n",
       "1       BS                 data/BS/Sonic/BS sonic 4.txt  1262.133333  sonic   \n",
       "7       BS                 data/BS/Sonic/BS sonic 2.txt  1474.416667  sonic   \n",
       "10      BS                 data/BS/Sonic/BS sonic 3.txt  1222.316667  sonic   \n",
       "2       BS             data/BS/Triflic/BS triflic 1.txt  1112.233333    tri   \n",
       "5       BS             data/BS/Triflic/BS triflic 3.txt  2092.116667    tri   \n",
       "9       BS             data/BS/Triflic/BS triflic 2.txt  1733.883333    tri   \n",
       "0   Jurkat         data/Jurkat/Sonic/Jurkat sonic 1.txt  1076.207822  sonic   \n",
       "4   Jurkat         data/Jurkat/Sonic/Jurkat sonic 8.txt   843.356478  sonic   \n",
       "12  Jurkat         data/Jurkat/Sonic/Jurkat sonic 7.txt  1302.421319  sonic   \n",
       "13  Jurkat  data/Jurkat/Triflic/Jurkat triflic test.txt   335.560515    tri   \n",
       "15  Jurkat     data/Jurkat/Triflic/Jurkat triflic 1.txt   206.272419    tri   \n",
       "17  Jurkat     data/Jurkat/Triflic/Jurkat triflic 2.txt   230.298059    tri   \n",
       "6       PA                 data/PA/Sonic/PA sonic 3.txt   636.333333  sonic   \n",
       "8       PA                 data/PA/Sonic/PA sonic 4.txt   412.616667  sonic   \n",
       "16      PA                 data/PA/Sonic/PA sonic 1.txt   751.250000  sonic   \n",
       "3       PA             data/PA/Triflic/PA triflic 3.txt  1876.566667    tri   \n",
       "11      PA             data/PA/Triflic/PA triflic 4.txt  1672.466667    tri   \n",
       "14      PA             data/PA/Triflic/PA triflic 5.txt  1708.733333    tri   \n",
       "\n",
       "    non-membrane     ratio  \n",
       "1   14513.866667  2.442301  \n",
       "7   15578.583333  2.357635  \n",
       "10  13971.683333  2.436285  \n",
       "2   12265.766667  2.400442  \n",
       "5   24973.883333  2.479654  \n",
       "9   21035.116667  2.495830  \n",
       "0   20761.792178  2.959671  \n",
       "4   21610.643522  3.243551  \n",
       "12  23534.578681  2.894246  \n",
       "13   8279.439485  3.205728  \n",
       "15   4914.727581  3.170794  \n",
       "17   5257.701941  3.128075  \n",
       "6   17354.666667  3.305894  \n",
       "8   12046.383333  3.374001  \n",
       "16  20435.750000  3.303303  \n",
       "3   14420.433333  2.039202  \n",
       "11  13673.533333  2.101163  \n",
       "14  14512.266667  2.139242  "
      ]
     },
     "execution_count": 26,
     "metadata": {},
     "output_type": "execute_result"
    }
   ],
   "source": [
    "df_out = pd.DataFrame({'files': list(counts.keys()),\n",
    " 'membrane': [x[0] for x in counts.values()],\n",
    " 'non-membrane': [x[1] for x in counts.values()],\n",
    " 'ratio': [x[2] for x in counts.values()],\n",
    " 'method': [\"sonic\" if \"sonic\" in file else \"tri\" for file in counts],\n",
    " 'cell': [file.split(\"/\")[1] for file in counts]})\n",
    "df_out = df_out.sort_values([\"cell\", \"method\"])\n",
    "df_out"
   ]
  },
  {
   "cell_type": "code",
   "execution_count": 27,
   "metadata": {
    "collapsed": true,
    "deletable": true,
    "editable": true
   },
   "outputs": [],
   "source": [
    "df_out.to_csv(\"df_out.csv\")"
   ]
  }
 ],
 "metadata": {
  "kernelspec": {
   "display_name": "Python 3",
   "language": "python",
   "name": "python3"
  },
  "language_info": {
   "codemirror_mode": {
    "name": "ipython",
    "version": 3
   },
   "file_extension": ".py",
   "mimetype": "text/x-python",
   "name": "python",
   "nbconvert_exporter": "python",
   "pygments_lexer": "ipython3",
   "version": "3.5.2"
  }
 },
 "nbformat": 4,
 "nbformat_minor": 2
}
