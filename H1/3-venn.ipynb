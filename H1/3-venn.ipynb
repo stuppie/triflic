{
 "cells": [
  {
   "cell_type": "code",
   "execution_count": 1,
   "metadata": {},
   "outputs": [
    {
     "name": "stdout",
     "output_type": "stream",
     "text": [
      "Using matplotlib backend: TkAgg\n",
      "Populating the interactive namespace from numpy and matplotlib\n"
     ]
    }
   ],
   "source": [
    "%pylab\n",
    "%matplotlib inline\n",
    "import pandas as pd\n",
    "from matplotlib_venn import venn3, venn2"
   ]
  },
  {
   "cell_type": "code",
   "execution_count": 2,
   "metadata": {},
   "outputs": [
    {
     "data": {
      "text/html": [
       "<div>\n",
       "<table border=\"1\" class=\"dataframe\">\n",
       "  <thead>\n",
       "    <tr style=\"text-align: right;\">\n",
       "      <th></th>\n",
       "      <th>H1-PelletTriflic-Fl-R1</th>\n",
       "      <th>H1-PelletTriflic-Fl-R2</th>\n",
       "      <th>H1-PelletTriflic-Fl-R3</th>\n",
       "      <th>H1-SonicSupTriflic-V2-R1</th>\n",
       "      <th>H1-SonicSupTriflic-V2-R2</th>\n",
       "      <th>H1-SonicSupTriflic-V2-R3</th>\n",
       "      <th>H1-wholetriflic-R1</th>\n",
       "      <th>H1-wholetriflic-R2</th>\n",
       "      <th>H1-wholetriflic-R3</th>\n",
       "    </tr>\n",
       "  </thead>\n",
       "  <tbody>\n",
       "    <tr>\n",
       "      <th>202956</th>\n",
       "      <td>9</td>\n",
       "      <td>7</td>\n",
       "      <td>6</td>\n",
       "      <td>9</td>\n",
       "      <td>10</td>\n",
       "      <td>11</td>\n",
       "      <td>13</td>\n",
       "      <td>10</td>\n",
       "      <td>11</td>\n",
       "    </tr>\n",
       "    <tr>\n",
       "      <th>209005</th>\n",
       "      <td>32</td>\n",
       "      <td>33</td>\n",
       "      <td>34</td>\n",
       "      <td>15</td>\n",
       "      <td>15</td>\n",
       "      <td>19</td>\n",
       "      <td>25</td>\n",
       "      <td>31</td>\n",
       "      <td>34</td>\n",
       "    </tr>\n",
       "    <tr>\n",
       "      <th>217964</th>\n",
       "      <td>2</td>\n",
       "      <td>2</td>\n",
       "      <td>3</td>\n",
       "      <td>0</td>\n",
       "      <td>0</td>\n",
       "      <td>0</td>\n",
       "      <td>6</td>\n",
       "      <td>5</td>\n",
       "      <td>6</td>\n",
       "    </tr>\n",
       "    <tr>\n",
       "      <th>248190</th>\n",
       "      <td>3</td>\n",
       "      <td>1</td>\n",
       "      <td>3</td>\n",
       "      <td>0</td>\n",
       "      <td>0</td>\n",
       "      <td>0</td>\n",
       "      <td>3</td>\n",
       "      <td>5</td>\n",
       "      <td>5</td>\n",
       "    </tr>\n",
       "    <tr>\n",
       "      <th>251275</th>\n",
       "      <td>8</td>\n",
       "      <td>3</td>\n",
       "      <td>2</td>\n",
       "      <td>0</td>\n",
       "      <td>0</td>\n",
       "      <td>0</td>\n",
       "      <td>3</td>\n",
       "      <td>3</td>\n",
       "      <td>6</td>\n",
       "    </tr>\n",
       "  </tbody>\n",
       "</table>\n",
       "</div>"
      ],
      "text/plain": [
       "        H1-PelletTriflic-Fl-R1  H1-PelletTriflic-Fl-R2  \\\n",
       "202956                       9                       7   \n",
       "209005                      32                      33   \n",
       "217964                       2                       2   \n",
       "248190                       3                       1   \n",
       "251275                       8                       3   \n",
       "\n",
       "        H1-PelletTriflic-Fl-R3  H1-SonicSupTriflic-V2-R1  \\\n",
       "202956                       6                         9   \n",
       "209005                      34                        15   \n",
       "217964                       3                         0   \n",
       "248190                       3                         0   \n",
       "251275                       2                         0   \n",
       "\n",
       "        H1-SonicSupTriflic-V2-R2  H1-SonicSupTriflic-V2-R3  \\\n",
       "202956                        10                        11   \n",
       "209005                        15                        19   \n",
       "217964                         0                         0   \n",
       "248190                         0                         0   \n",
       "251275                         0                         0   \n",
       "\n",
       "        H1-wholetriflic-R1  H1-wholetriflic-R2  H1-wholetriflic-R3  \n",
       "202956                  13                  10                  11  \n",
       "209005                  25                  31                  34  \n",
       "217964                   6                   5                   6  \n",
       "248190                   3                   5                   5  \n",
       "251275                   3                   3                   6  "
      ]
     },
     "execution_count": 2,
     "metadata": {},
     "output_type": "execute_result"
    }
   ],
   "source": [
    "df = pd.read_csv(\"out/df_filt.csv\", index_col=0)\n",
    "df = df[df.sum(1)!=0]  # drop empty rows\n",
    "df.head()"
   ]
  },
  {
   "cell_type": "code",
   "execution_count": 3,
   "metadata": {},
   "outputs": [
    {
     "data": {
      "text/plain": [
       "(8083, 9)"
      ]
     },
     "execution_count": 3,
     "metadata": {},
     "output_type": "execute_result"
    }
   ],
   "source": [
    "df.shape"
   ]
  },
  {
   "cell_type": "code",
   "execution_count": 4,
   "metadata": {},
   "outputs": [
    {
     "data": {
      "text/html": [
       "<div>\n",
       "<table border=\"1\" class=\"dataframe\">\n",
       "  <thead>\n",
       "    <tr style=\"text-align: right;\">\n",
       "      <th></th>\n",
       "      <th>H1-PelletTriflic-Fl-R1</th>\n",
       "      <th>H1-PelletTriflic-Fl-R2</th>\n",
       "      <th>H1-PelletTriflic-Fl-R3</th>\n",
       "      <th>H1-SonicSupTriflic-V2-R1</th>\n",
       "      <th>H1-SonicSupTriflic-V2-R2</th>\n",
       "      <th>H1-SonicSupTriflic-V2-R3</th>\n",
       "      <th>H1-wholetriflic-R1</th>\n",
       "      <th>H1-wholetriflic-R2</th>\n",
       "      <th>H1-wholetriflic-R3</th>\n",
       "      <th>H1-PelletTriflic</th>\n",
       "      <th>H1-SonicSupTriflic</th>\n",
       "      <th>H1-wholetriflic</th>\n",
       "    </tr>\n",
       "  </thead>\n",
       "  <tbody>\n",
       "    <tr>\n",
       "      <th>202956</th>\n",
       "      <td>9</td>\n",
       "      <td>7</td>\n",
       "      <td>6</td>\n",
       "      <td>9</td>\n",
       "      <td>10</td>\n",
       "      <td>11</td>\n",
       "      <td>13</td>\n",
       "      <td>10</td>\n",
       "      <td>11</td>\n",
       "      <td>22</td>\n",
       "      <td>30</td>\n",
       "      <td>34</td>\n",
       "    </tr>\n",
       "    <tr>\n",
       "      <th>209005</th>\n",
       "      <td>32</td>\n",
       "      <td>33</td>\n",
       "      <td>34</td>\n",
       "      <td>15</td>\n",
       "      <td>15</td>\n",
       "      <td>19</td>\n",
       "      <td>25</td>\n",
       "      <td>31</td>\n",
       "      <td>34</td>\n",
       "      <td>99</td>\n",
       "      <td>49</td>\n",
       "      <td>90</td>\n",
       "    </tr>\n",
       "    <tr>\n",
       "      <th>217964</th>\n",
       "      <td>2</td>\n",
       "      <td>2</td>\n",
       "      <td>3</td>\n",
       "      <td>0</td>\n",
       "      <td>0</td>\n",
       "      <td>0</td>\n",
       "      <td>6</td>\n",
       "      <td>5</td>\n",
       "      <td>6</td>\n",
       "      <td>7</td>\n",
       "      <td>0</td>\n",
       "      <td>17</td>\n",
       "    </tr>\n",
       "    <tr>\n",
       "      <th>248190</th>\n",
       "      <td>3</td>\n",
       "      <td>1</td>\n",
       "      <td>3</td>\n",
       "      <td>0</td>\n",
       "      <td>0</td>\n",
       "      <td>0</td>\n",
       "      <td>3</td>\n",
       "      <td>5</td>\n",
       "      <td>5</td>\n",
       "      <td>7</td>\n",
       "      <td>0</td>\n",
       "      <td>13</td>\n",
       "    </tr>\n",
       "    <tr>\n",
       "      <th>251275</th>\n",
       "      <td>8</td>\n",
       "      <td>3</td>\n",
       "      <td>2</td>\n",
       "      <td>0</td>\n",
       "      <td>0</td>\n",
       "      <td>0</td>\n",
       "      <td>3</td>\n",
       "      <td>3</td>\n",
       "      <td>6</td>\n",
       "      <td>13</td>\n",
       "      <td>0</td>\n",
       "      <td>12</td>\n",
       "    </tr>\n",
       "  </tbody>\n",
       "</table>\n",
       "</div>"
      ],
      "text/plain": [
       "        H1-PelletTriflic-Fl-R1  H1-PelletTriflic-Fl-R2  \\\n",
       "202956                       9                       7   \n",
       "209005                      32                      33   \n",
       "217964                       2                       2   \n",
       "248190                       3                       1   \n",
       "251275                       8                       3   \n",
       "\n",
       "        H1-PelletTriflic-Fl-R3  H1-SonicSupTriflic-V2-R1  \\\n",
       "202956                       6                         9   \n",
       "209005                      34                        15   \n",
       "217964                       3                         0   \n",
       "248190                       3                         0   \n",
       "251275                       2                         0   \n",
       "\n",
       "        H1-SonicSupTriflic-V2-R2  H1-SonicSupTriflic-V2-R3  \\\n",
       "202956                        10                        11   \n",
       "209005                        15                        19   \n",
       "217964                         0                         0   \n",
       "248190                         0                         0   \n",
       "251275                         0                         0   \n",
       "\n",
       "        H1-wholetriflic-R1  H1-wholetriflic-R2  H1-wholetriflic-R3  \\\n",
       "202956                  13                  10                  11   \n",
       "209005                  25                  31                  34   \n",
       "217964                   6                   5                   6   \n",
       "248190                   3                   5                   5   \n",
       "251275                   3                   3                   6   \n",
       "\n",
       "        H1-PelletTriflic  H1-SonicSupTriflic  H1-wholetriflic  \n",
       "202956                22                  30               34  \n",
       "209005                99                  49               90  \n",
       "217964                 7                   0               17  \n",
       "248190                 7                   0               13  \n",
       "251275                13                   0               12  "
      ]
     },
     "execution_count": 4,
     "metadata": {},
     "output_type": "execute_result"
    }
   ],
   "source": [
    "# venn where a protein cluster is selected if it is in >=1 sample per group\n",
    "df['H1-PelletTriflic'] = df['H1-PelletTriflic-Fl-R1'] + df['H1-PelletTriflic-Fl-R2'] + df['H1-PelletTriflic-Fl-R3']\n",
    "df['H1-SonicSupTriflic'] = df['H1-SonicSupTriflic-V2-R1'] + df['H1-SonicSupTriflic-V2-R2'] + df['H1-SonicSupTriflic-V2-R3']\n",
    "df['H1-wholetriflic'] = df['H1-wholetriflic-R1'] + df['H1-wholetriflic-R2'] + df['H1-wholetriflic-R3']\n",
    "df.head()"
   ]
  },
  {
   "cell_type": "code",
   "execution_count": 5,
   "metadata": {},
   "outputs": [],
   "source": [
    "pt = set(df[df['H1-PelletTriflic']>0].index)\n",
    "sst = set(df[df['H1-SonicSupTriflic']>0].index)\n",
    "wt = set(df[df['H1-wholetriflic']>0].index)"
   ]
  },
  {
   "cell_type": "code",
   "execution_count": 6,
   "metadata": {},
   "outputs": [
    {
     "data": {
      "image/png": "[encoded data removed]",
      "text/plain": [
       "<matplotlib.figure.Figure at 0x7f2f272b75c0>"
      ]
     },
     "metadata": {},
     "output_type": "display_data"
    }
   ],
   "source": [
    "pylab.figure(figsize=(6,6))\n",
    "ax = pylab.axes()\n",
    "venn3([pt,sst,wt], [\"PelletTriflic\", \"SonicSupTriflic\", \"wholetriflic\"])\n",
    "plt.savefig(\"venn.pdf\")"
   ]
  },
  {
   "cell_type": "code",
   "execution_count": null,
   "metadata": {},
   "outputs": [],
   "source": []
  }
 ],
 "metadata": {
  "kernelspec": {
   "display_name": "Python 3",
   "language": "python",
   "name": "python3"
  },
  "language_info": {
   "codemirror_mode": {
    "name": "ipython",
    "version": 3
   },
   "file_extension": ".py",
   "mimetype": "text/x-python",
   "name": "python",
   "nbconvert_exporter": "python",
   "pygments_lexer": "ipython3",
   "version": "3.5.2"
  }
 },
 "nbformat": 4,
 "nbformat_minor": 2
}
