{
 "cells": [
  {
   "cell_type": "markdown",
   "metadata": {},
   "source": [
    "gseapy analysis of H1 triflic  \n",
    "gsea algorithm: http://software.broadinstitute.org/gsea/doc/GSEAUserGuideFrame.html  \n",
    "gseapy: https://media.readthedocs.org/pdf/gseapy/latest/gseapy.pdf  "
   ]
  },
  {
   "cell_type": "code",
   "execution_count": 1,
   "metadata": {},
   "outputs": [
    {
     "name": "stdout",
     "output_type": "stream",
     "text": [
      "load obo file go-basic.obo\n",
      "go-basic.obo: fmt(1.2) rel(2018-01-12) 49,288 GO Terms\n"
     ]
    }
   ],
   "source": [
    "import sys\n",
    "import os\n",
    "from itertools import chain\n",
    "from collections import defaultdict\n",
    "import numpy as np\n",
    "import pandas as pd\n",
    "%matplotlib inline\n",
    "import matplotlib.pyplot as plt\n",
    "import seaborn as sns\n",
    "pd.set_option('precision', 3)\n",
    "pd.set_option('display.max_colwidth', -1)\n",
    "import gseapy as gp\n",
    "import goatools\n",
    "\n",
    "obodag = goatools.obo_parser.GODag('go-basic.obo')"
   ]
  },
  {
   "cell_type": "code",
   "execution_count": 2,
   "metadata": {},
   "outputs": [],
   "source": [
    "sys.path.insert(0, \"/home/gstupp/projects/metaproteomics\")\n",
    "from metaproteomics import utils\n",
    "#from metaproteomics.analysis import build_loci\n",
    "\n",
    "BASE = 'out/'\n",
    "grouped_loci = utils.load(os.path.join(BASE,\"grouped_loci_filt_annot.pkl.gz\"))"
   ]
  },
  {
   "cell_type": "code",
   "execution_count": 3,
   "metadata": {},
   "outputs": [],
   "source": [
    "def make_go2Gene_map(grouped_loci, ontology='MF'):    \n",
    "\n",
    "    ontology_map = {'MF': 'molecular_function', 'BP': 'biological_process', 'CC': 'cellular_component'}\n",
    "    \n",
    "    out = defaultdict(set)    \n",
    "    for l in grouped_loci:\n",
    "        if 'go' in l.annotations:\n",
    "            for go in l.annotations['go']:\n",
    "                if obodag[go].namespace == ontology_map[ontology]:\n",
    "                    out[go].add(l.cluster_id)\n",
    "                    for parent in obodag[go].get_all_parents():\n",
    "                        if obodag[parent].namespace == ontology_map[ontology]:\n",
    "                            out[parent].add(l.cluster_id)\n",
    "                \n",
    "    return dict(out)\n",
    "\n",
    "def filter_go2gene_map(go_locus):\n",
    "    \n",
    "    # Remove \"very broad\" gene sets. Arbitrary definition: gene sets that emcompass >50% of all IDs\n",
    "    all_ids = set(chain(*go_locus.values()))\n",
    "    go_locus = {key: value for (key, value) in go_locus.items() if len(value) / len(all_ids) <= 0.5}\n",
    "\n",
    "    # Remove terms with less than 5 members: changed from 10 to 5 becasue small #s of proteins compared\n",
    "    # to what you would find wiht genes\n",
    "    go_locus = {key: value for (key, value) in go_locus.items() if len(value) >= 5}\n",
    "\n",
    "    # Remove child terms with identical gene sets as their parents\n",
    "    to_remove = set()\n",
    "    for parent in go_locus.keys():\n",
    "        # If child term has exact same members as parent, remove\n",
    "        child_ids = [x.id for x in obodag[parent].children if x.id in go_locus.keys()]\n",
    "        for child in child_ids:\n",
    "            if go_locus[child] == go_locus[parent]:\n",
    "                to_remove.add(child)\n",
    "    go_locus = {key: value for (key, value) in go_locus.items() if key not in to_remove}\n",
    "\n",
    "    # Remove sibling terms with identical gene sets\n",
    "    to_remove = set()\n",
    "    to_keep = set()\n",
    "    for brother in go_locus.keys():\n",
    "        to_keep.add(brother) # make sure filtered out siblings don't filter out ones we want to keep\n",
    "        for parent in obodag[brother].parents:\n",
    "            siblings = set([y.id for y in parent.children])\n",
    "            if brother in siblings:\n",
    "                siblings.remove(brother)\n",
    "            for sibling in siblings:\n",
    "                if sibling in go_locus.keys() and go_locus[brother] == go_locus[sibling] and not sibling in to_keep:\n",
    "                    to_remove.add(sibling)\n",
    "    go_locus = {key: value for (key, value) in go_locus.items() if key not in to_remove}\n",
    "\n",
    "    return go_locus\n",
    "\n",
    "def gomap_to_csv(go2gene, out_file = 'test.tsv'):\n",
    "\n",
    "    out = \"\"\n",
    "    for term, loci in go2gene.items():\n",
    "        out += \"{}\\t\".format(term)\n",
    "        out += \"{}\\t\".format(obodag[term].name)\n",
    "        out += '\\t'.join(list(map(str,loci)))\n",
    "        out += '\\n'\n",
    "        \n",
    "    with open(out_file, 'w') as fout:\n",
    "        fout.write(out)"
   ]
  },
  {
   "cell_type": "code",
   "execution_count": 4,
   "metadata": {},
   "outputs": [],
   "source": [
    "def run_go_gsea(rank_df, g2g_map, seed, outdir='tmp'):\n",
    "    \"\"\"\n",
    "    A ranked df and go2gene mapping returns the result dataframe for GSEA against all go-Terms\n",
    "    \n",
    "    loci must be grouped such that avg_ratio and p-values are correct for 1 phenotype\n",
    "    see rt_unenr_grouped_loci above for example\n",
    "    \"\"\"\n",
    "    import gseapy as gp\n",
    "        \n",
    "    # save the go 2 gene map, since gseapy doesn't seem to be able to use one already in memory\n",
    "    gomap_to_csv(g2g_map, 'temp.gmt')\n",
    "    \n",
    "    res = gp.prerank(rnk=rank_df, gene_sets='temp.gmt', outdir=outdir, min_size = 5, max_size=500, \n",
    "                     permutation_n = 10000, graph_num = 20, seed=seed)\n",
    "      \n",
    "    def get_go_name(term):\n",
    "        return obodag[term].name\n",
    "    \n",
    "    res['name'] = res.index.map(get_go_name)\n",
    "    \n",
    "    return res.sort_values('nes', ascending=False)\n",
    "\n",
    "def plot_gsea_result(row, rank):\n",
    "    return gp.plot.gsea_plot(rank, row['name'], row.hit_index, row.nes, row.pval, row.fdr, row.rank_ES, phenoPos='Tcell', phenoNeg='RAG')"
   ]
  },
  {
   "cell_type": "code",
   "execution_count": 5,
   "metadata": {},
   "outputs": [
    {
     "name": "stdout",
     "output_type": "stream",
     "text": [
      "Unfiltered: 474\tFiltered: 210\n",
      "Unfiltered: 602\tFiltered: 232\n",
      "Unfiltered: 95\tFiltered: 48\n"
     ]
    }
   ],
   "source": [
    "mf_map = make_go2Gene_map(grouped_loci)\n",
    "mf_map_f = filter_go2gene_map(mf_map)\n",
    "\n",
    "print('Unfiltered: {}\\tFiltered: {}'.format(len(mf_map), len(mf_map_f)))\n",
    "\n",
    "bp_map = make_go2Gene_map(grouped_loci, 'BP')\n",
    "bp_map_f = filter_go2gene_map(bp_map)\n",
    "\n",
    "print('Unfiltered: {}\\tFiltered: {}'.format(len(bp_map), len(bp_map_f)))\n",
    "\n",
    "cc_map = make_go2Gene_map(grouped_loci, 'CC')\n",
    "cc_map_f = filter_go2gene_map(cc_map)\n",
    "\n",
    "print('Unfiltered: {}\\tFiltered: {}'.format(len(cc_map), len(cc_map_f)))"
   ]
  },
  {
   "cell_type": "code",
   "execution_count": 6,
   "metadata": {},
   "outputs": [],
   "source": [
    "out_dir = \"sonic_sup_whole_gsea\"\n",
    "df = pd.read_csv(os.path.join(BASE,\"sonic_sup_v_whole_deseq_results.csv\"))\n",
    "df = df[(df.padj.abs()<=0.2)]\n",
    "df['log2FoldChange'] = -1 * df['log2FoldChange']\n",
    "rank_df = df[['Unnamed: 0', 'log2FoldChange']].rename(columns={'Unnamed: 0': 'gene_name', 'log2FoldChange': 'rank'})\n",
    "rank_df = rank_df.sort_values('rank').reset_index(drop=True)"
   ]
  },
  {
   "cell_type": "code",
   "execution_count": null,
   "metadata": {},
   "outputs": [
    {
     "data": {
      "text/html": [
       "<div>\n",
       "<table border=\"1\" class=\"dataframe\">\n",
       "  <thead>\n",
       "    <tr style=\"text-align: right;\">\n",
       "      <th></th>\n",
       "      <th>gene_name</th>\n",
       "      <th>rank</th>\n",
       "    </tr>\n",
       "  </thead>\n",
       "  <tbody>\n",
       "    <tr>\n",
       "      <th>0</th>\n",
       "      <td>62761516</td>\n",
       "      <td>-9.150</td>\n",
       "    </tr>\n",
       "    <tr>\n",
       "      <th>1</th>\n",
       "      <td>36974013</td>\n",
       "      <td>-8.926</td>\n",
       "    </tr>\n",
       "    <tr>\n",
       "      <th>2</th>\n",
       "      <td>39268506</td>\n",
       "      <td>-8.762</td>\n",
       "    </tr>\n",
       "    <tr>\n",
       "      <th>3</th>\n",
       "      <td>62236100</td>\n",
       "      <td>-8.731</td>\n",
       "    </tr>\n",
       "    <tr>\n",
       "      <th>4</th>\n",
       "      <td>63322719</td>\n",
       "      <td>-8.643</td>\n",
       "    </tr>\n",
       "  </tbody>\n",
       "</table>\n",
       "</div>"
      ],
      "text/plain": [
       "   gene_name   rank\n",
       "0  62761516  -9.150\n",
       "1  36974013  -8.926\n",
       "2  39268506  -8.762\n",
       "3  62236100  -8.731\n",
       "4  63322719  -8.643"
      ]
     },
     "execution_count": 7,
     "metadata": {},
     "output_type": "execute_result"
    }
   ],
   "source": [
    "rank_df.head()"
   ]
  },
  {
   "cell_type": "code",
   "execution_count": null,
   "metadata": {},
   "outputs": [
    {
     "name": "stderr",
     "output_type": "stream",
     "text": [
      "2018-01-18 10:52:31,109 Parsing data files for GSEA.............................\n",
      "/home/gstupp/.local/lib/python3.5/site-packages/numpy/lib/arraysetops.py:395: FutureWarning: elementwise comparison failed; returning scalar instead, but in the future will perform elementwise comparison\n",
      "  mask |= (ar1 == a)\n",
      "2018-01-18 10:52:32,458 0088 gene_sets used for further statistical testing.....\n",
      "2018-01-18 10:52:32,458 Start to run GSEA...Might take a while..................\n"
     ]
    }
   ],
   "source": [
    "mf_res = run_go_gsea(rank_df, mf_map_f, seed=1111, outdir=out_dir)\n",
    "bp_res = run_go_gsea(rank_df, bp_map_f, seed=1111, outdir=out_dir)\n",
    "# cc_res = run_go_gsea(rank_df, cc_map_f, seed=1111, outdir=out_dir)\n",
    "mf_rt = mf_res.query('nes > 0 and pval < 0.05').sort_values('nes', ascending=False)\n",
    "mf_control = mf_res.query('nes < 0 and pval < 0.05').sort_values('nes', ascending=True)\n",
    "bp_rt = bp_res.query('nes > 0 and pval < 0.05').sort_values('nes', ascending=False)\n",
    "bp_control = bp_res.query('nes < 0 and pval < 0.05').sort_values('nes', ascending=True)\n",
    "#cc_rt = cc_res.query('nes > 0 and pval < 0.05').sort_values('nes', ascending=False)\n",
    "#cc_control = cc_res.query('nes < 0 and pval < 0.05').sort_values('nes', ascending=True)"
   ]
  },
  {
   "cell_type": "code",
   "execution_count": null,
   "metadata": {},
   "outputs": [],
   "source": [
    "mf_rt"
   ]
  },
  {
   "cell_type": "code",
   "execution_count": null,
   "metadata": {},
   "outputs": [],
   "source": [
    "mf_control"
   ]
  },
  {
   "cell_type": "code",
   "execution_count": null,
   "metadata": {},
   "outputs": [],
   "source": [
    "bp_rt"
   ]
  },
  {
   "cell_type": "code",
   "execution_count": null,
   "metadata": {},
   "outputs": [],
   "source": [
    "bp_controlrol"
   ]
  },
  {
   "cell_type": "code",
   "execution_count": null,
   "metadata": {},
   "outputs": [],
   "source": []
  }
 ],
 "metadata": {
  "kernelspec": {
   "display_name": "Python 3",
   "language": "python",
   "name": "python3"
  },
  "language_info": {
   "codemirror_mode": {
    "name": "ipython",
    "version": 3
   },
   "file_extension": ".py",
   "mimetype": "text/x-python",
   "name": "python",
   "nbconvert_exporter": "python",
   "pygments_lexer": "ipython3",
   "version": "3.5.2"
  }
 },
 "nbformat": 4,
 "nbformat_minor": 2
}
