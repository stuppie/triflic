{
 "cells": [
  {
   "cell_type": "code",
   "execution_count": 19,
   "metadata": {
    "scrolled": true
   },
   "outputs": [],
   "source": [
    "library(\"DESeq2\")"
   ]
  },
  {
   "cell_type": "code",
   "execution_count": 52,
   "metadata": {},
   "outputs": [
    {
     "data": {
      "text/html": [
       "<table>\n",
       "<thead><tr><th></th><th scope=col>technical</th><th scope=col>sample_type</th><th scope=col>sample_name</th><th scope=col>path</th></tr></thead>\n",
       "<tbody>\n",
       "\t<tr><th scope=row>H1_PelletTriflic_Fl_R1</th><td>1                                                                           </td><td>sonic_pellet                                                                </td><td>H1_PelletTriflic_Fl_R1                                                      </td><td>data/H1_PelletTriflic_FlFusion_5ppm_10ppmfrag/H1_PelletTriflic_Fl_R1.txt    </td></tr>\n",
       "\t<tr><th scope=row>H1_PelletTriflic_Fl_R2</th><td>2                                                                           </td><td>sonic_pellet                                                                </td><td>H1_PelletTriflic_Fl_R2                                                      </td><td>data/H1_PelletTriflic_FlFusion_5ppm_10ppmfrag/H1_PelletTriflic_Fl_R2.txt    </td></tr>\n",
       "\t<tr><th scope=row>H1_PelletTriflic_Fl_R3</th><td>3                                                                           </td><td>sonic_pellet                                                                </td><td>H1_PelletTriflic_Fl_R3                                                      </td><td>data/H1_PelletTriflic_FlFusion_5ppm_10ppmfrag/H1_PelletTriflic_Fl_R3.txt    </td></tr>\n",
       "\t<tr><th scope=row>H1_SonicSupTriflic_V2_R1</th><td>1                                                                           </td><td>sonic_sup                                                                   </td><td>H1_SonicSupTriflic_V2_R1                                                    </td><td>data/H1_SonicSupTriflic_FlFusion_5ppm_10ppmfrag/H1_SonicSupTriflic_V2_R1.txt</td></tr>\n",
       "\t<tr><th scope=row>H1_SonicSupTriflic_V2_R2</th><td>2                                                                           </td><td>sonic_sup                                                                   </td><td>H1_SonicSupTriflic_V2_R2                                                    </td><td>data/H1_SonicSupTriflic_FlFusion_5ppm_10ppmfrag/H1_SonicSupTriflic_V2_R2.txt</td></tr>\n",
       "\t<tr><th scope=row>H1_SonicSupTriflic_V2_R3</th><td>3                                                                           </td><td>sonic_sup                                                                   </td><td>H1_SonicSupTriflic_V2_R3                                                    </td><td>data/H1_SonicSupTriflic_FlFusion_5ppm_10ppmfrag/H1_SonicSupTriflic_V2_R3.txt</td></tr>\n",
       "\t<tr><th scope=row>H1_wholetriflic_R1</th><td>1                                                                           </td><td>whole                                                                       </td><td>H1_wholetriflic_R1                                                          </td><td>data/H1_WholeTriflic_FlFusion_5ppm_10ppmfrag/H1_wholetriflic_R1.txt         </td></tr>\n",
       "\t<tr><th scope=row>H1_wholetriflic_R2</th><td>2                                                                           </td><td>whole                                                                       </td><td>H1_wholetriflic_R2                                                          </td><td>data/H1_WholeTriflic_FlFusion_5ppm_10ppmfrag/H1_wholetriflic_R2.txt         </td></tr>\n",
       "\t<tr><th scope=row>H1_wholetriflic_R3</th><td>3                                                                           </td><td>whole                                                                       </td><td>H1_wholetriflic_R3                                                          </td><td>data/H1_WholeTriflic_FlFusion_5ppm_10ppmfrag/H1_wholetriflic_R3.txt         </td></tr>\n",
       "</tbody>\n",
       "</table>\n"
      ],
      "text/latex": [
       "\\begin{tabular}{r|llll}\n",
       "  & technical & sample\\_type & sample\\_name & path\\\\\n",
       "\\hline\n",
       "\tH1\\_PelletTriflic\\_Fl\\_R1 & 1                                                                                          & sonic\\_pellet                                                                             & H1\\_PelletTriflic\\_Fl\\_R1                                                               & data/H1\\_PelletTriflic\\_FlFusion\\_5ppm\\_10ppmfrag/H1\\_PelletTriflic\\_Fl\\_R1.txt    \\\\\n",
       "\tH1\\_PelletTriflic\\_Fl\\_R2 & 2                                                                                          & sonic\\_pellet                                                                             & H1\\_PelletTriflic\\_Fl\\_R2                                                               & data/H1\\_PelletTriflic\\_FlFusion\\_5ppm\\_10ppmfrag/H1\\_PelletTriflic\\_Fl\\_R2.txt    \\\\\n",
       "\tH1\\_PelletTriflic\\_Fl\\_R3 & 3                                                                                          & sonic\\_pellet                                                                             & H1\\_PelletTriflic\\_Fl\\_R3                                                               & data/H1\\_PelletTriflic\\_FlFusion\\_5ppm\\_10ppmfrag/H1\\_PelletTriflic\\_Fl\\_R3.txt    \\\\\n",
       "\tH1\\_SonicSupTriflic\\_V2\\_R1 & 1                                                                                          & sonic\\_sup                                                                                & H1\\_SonicSupTriflic\\_V2\\_R1                                                             & data/H1\\_SonicSupTriflic\\_FlFusion\\_5ppm\\_10ppmfrag/H1\\_SonicSupTriflic\\_V2\\_R1.txt\\\\\n",
       "\tH1\\_SonicSupTriflic\\_V2\\_R2 & 2                                                                                          & sonic\\_sup                                                                                & H1\\_SonicSupTriflic\\_V2\\_R2                                                             & data/H1\\_SonicSupTriflic\\_FlFusion\\_5ppm\\_10ppmfrag/H1\\_SonicSupTriflic\\_V2\\_R2.txt\\\\\n",
       "\tH1\\_SonicSupTriflic\\_V2\\_R3 & 3                                                                                          & sonic\\_sup                                                                                & H1\\_SonicSupTriflic\\_V2\\_R3                                                             & data/H1\\_SonicSupTriflic\\_FlFusion\\_5ppm\\_10ppmfrag/H1\\_SonicSupTriflic\\_V2\\_R3.txt\\\\\n",
       "\tH1\\_wholetriflic\\_R1 & 1                                                                                        & whole                                                                                    & H1\\_wholetriflic\\_R1                                                                   & data/H1\\_WholeTriflic\\_FlFusion\\_5ppm\\_10ppmfrag/H1\\_wholetriflic\\_R1.txt         \\\\\n",
       "\tH1\\_wholetriflic\\_R2 & 2                                                                                        & whole                                                                                    & H1\\_wholetriflic\\_R2                                                                   & data/H1\\_WholeTriflic\\_FlFusion\\_5ppm\\_10ppmfrag/H1\\_wholetriflic\\_R2.txt         \\\\\n",
       "\tH1\\_wholetriflic\\_R3 & 3                                                                                        & whole                                                                                    & H1\\_wholetriflic\\_R3                                                                   & data/H1\\_WholeTriflic\\_FlFusion\\_5ppm\\_10ppmfrag/H1\\_wholetriflic\\_R3.txt         \\\\\n",
       "\\end{tabular}\n"
      ],
      "text/markdown": [
       "\n",
       "| <!--/--> | technical | sample_type | sample_name | path | \n",
       "|---|---|---|---|---|---|---|---|---|\n",
       "| H1_PelletTriflic_Fl_R1 | 1                                                                            | sonic_pellet                                                                 | H1_PelletTriflic_Fl_R1                                                       | data/H1_PelletTriflic_FlFusion_5ppm_10ppmfrag/H1_PelletTriflic_Fl_R1.txt     | \n",
       "| H1_PelletTriflic_Fl_R2 | 2                                                                            | sonic_pellet                                                                 | H1_PelletTriflic_Fl_R2                                                       | data/H1_PelletTriflic_FlFusion_5ppm_10ppmfrag/H1_PelletTriflic_Fl_R2.txt     | \n",
       "| H1_PelletTriflic_Fl_R3 | 3                                                                            | sonic_pellet                                                                 | H1_PelletTriflic_Fl_R3                                                       | data/H1_PelletTriflic_FlFusion_5ppm_10ppmfrag/H1_PelletTriflic_Fl_R3.txt     | \n",
       "| H1_SonicSupTriflic_V2_R1 | 1                                                                            | sonic_sup                                                                    | H1_SonicSupTriflic_V2_R1                                                     | data/H1_SonicSupTriflic_FlFusion_5ppm_10ppmfrag/H1_SonicSupTriflic_V2_R1.txt | \n",
       "| H1_SonicSupTriflic_V2_R2 | 2                                                                            | sonic_sup                                                                    | H1_SonicSupTriflic_V2_R2                                                     | data/H1_SonicSupTriflic_FlFusion_5ppm_10ppmfrag/H1_SonicSupTriflic_V2_R2.txt | \n",
       "| H1_SonicSupTriflic_V2_R3 | 3                                                                            | sonic_sup                                                                    | H1_SonicSupTriflic_V2_R3                                                     | data/H1_SonicSupTriflic_FlFusion_5ppm_10ppmfrag/H1_SonicSupTriflic_V2_R3.txt | \n",
       "| H1_wholetriflic_R1 | 1                                                                            | whole                                                                        | H1_wholetriflic_R1                                                           | data/H1_WholeTriflic_FlFusion_5ppm_10ppmfrag/H1_wholetriflic_R1.txt          | \n",
       "| H1_wholetriflic_R2 | 2                                                                            | whole                                                                        | H1_wholetriflic_R2                                                           | data/H1_WholeTriflic_FlFusion_5ppm_10ppmfrag/H1_wholetriflic_R2.txt          | \n",
       "| H1_wholetriflic_R3 | 3                                                                            | whole                                                                        | H1_wholetriflic_R3                                                           | data/H1_WholeTriflic_FlFusion_5ppm_10ppmfrag/H1_wholetriflic_R3.txt          | \n",
       "\n",
       "\n"
      ],
      "text/plain": [
       "                         technical sample_type  sample_name             \n",
       "H1_PelletTriflic_Fl_R1   1         sonic_pellet H1_PelletTriflic_Fl_R1  \n",
       "H1_PelletTriflic_Fl_R2   2         sonic_pellet H1_PelletTriflic_Fl_R2  \n",
       "H1_PelletTriflic_Fl_R3   3         sonic_pellet H1_PelletTriflic_Fl_R3  \n",
       "H1_SonicSupTriflic_V2_R1 1         sonic_sup    H1_SonicSupTriflic_V2_R1\n",
       "H1_SonicSupTriflic_V2_R2 2         sonic_sup    H1_SonicSupTriflic_V2_R2\n",
       "H1_SonicSupTriflic_V2_R3 3         sonic_sup    H1_SonicSupTriflic_V2_R3\n",
       "H1_wholetriflic_R1       1         whole        H1_wholetriflic_R1      \n",
       "H1_wholetriflic_R2       2         whole        H1_wholetriflic_R2      \n",
       "H1_wholetriflic_R3       3         whole        H1_wholetriflic_R3      \n",
       "                         path                                                                        \n",
       "H1_PelletTriflic_Fl_R1   data/H1_PelletTriflic_FlFusion_5ppm_10ppmfrag/H1_PelletTriflic_Fl_R1.txt    \n",
       "H1_PelletTriflic_Fl_R2   data/H1_PelletTriflic_FlFusion_5ppm_10ppmfrag/H1_PelletTriflic_Fl_R2.txt    \n",
       "H1_PelletTriflic_Fl_R3   data/H1_PelletTriflic_FlFusion_5ppm_10ppmfrag/H1_PelletTriflic_Fl_R3.txt    \n",
       "H1_SonicSupTriflic_V2_R1 data/H1_SonicSupTriflic_FlFusion_5ppm_10ppmfrag/H1_SonicSupTriflic_V2_R1.txt\n",
       "H1_SonicSupTriflic_V2_R2 data/H1_SonicSupTriflic_FlFusion_5ppm_10ppmfrag/H1_SonicSupTriflic_V2_R2.txt\n",
       "H1_SonicSupTriflic_V2_R3 data/H1_SonicSupTriflic_FlFusion_5ppm_10ppmfrag/H1_SonicSupTriflic_V2_R3.txt\n",
       "H1_wholetriflic_R1       data/H1_WholeTriflic_FlFusion_5ppm_10ppmfrag/H1_wholetriflic_R1.txt         \n",
       "H1_wholetriflic_R2       data/H1_WholeTriflic_FlFusion_5ppm_10ppmfrag/H1_wholetriflic_R2.txt         \n",
       "H1_wholetriflic_R3       data/H1_WholeTriflic_FlFusion_5ppm_10ppmfrag/H1_wholetriflic_R3.txt         "
      ]
     },
     "metadata": {},
     "output_type": "display_data"
    }
   ],
   "source": [
    "meta_path = \"metadata.csv\"\n",
    "sampleTable = read.csv(meta_path, row.names = 1)\n",
    "sampleTable$technical=factor(sampleTable$technical)\n",
    "sampleTable$sample_type=factor(sampleTable$sample_type)\n",
    "sampleTable$sample_type <- relevel(sampleTable$sample_type, ref=\"whole\")\n",
    "sampleTable"
   ]
  },
  {
   "cell_type": "code",
   "execution_count": 53,
   "metadata": {},
   "outputs": [],
   "source": [
    "countData = read.csv(\"out/df_filt.csv\", row.names = 1)\n",
    "colnames(countData) = lapply(colnames(countData), function(x) {gsub(\"\\\\.\", \"_\", x)})\n",
    "sampleTable = sampleTable[colnames(countData),]"
   ]
  },
  {
   "cell_type": "code",
   "execution_count": 57,
   "metadata": {},
   "outputs": [
    {
     "name": "stderr",
     "output_type": "stream",
     "text": [
      "estimating size factors\n",
      "estimating dispersions\n",
      "gene-wise dispersion estimates\n",
      "mean-dispersion relationship\n",
      "-- note: fitType='parametric', but the dispersion trend was not well captured by the\n",
      "   function: y = a/x + b, and a local regression fit was automatically substituted.\n",
      "   specify fitType='local' or 'mean' to avoid this message next time.\n",
      "final dispersion estimates\n",
      "fitting model and testing\n"
     ]
    }
   ],
   "source": [
    "dds = DESeqDataSetFromMatrix(countData, colData = sampleTable, ~ sample_type)\n",
    "dds = DESeq(dds)"
   ]
  },
  {
   "cell_type": "code",
   "execution_count": 60,
   "metadata": {},
   "outputs": [
    {
     "data": {},
     "metadata": {},
     "output_type": "display_data"
    },
    {
     "data": {
      "image/png": "[encoded data removed]",
      "text/plain": [
       "plot without title"
      ]
     },
     "metadata": {},
     "output_type": "display_data"
    }
   ],
   "source": [
    "vsd <- varianceStabilizingTransformation(dds, blind = FALSE)\n",
    "plotPCA(vsd, intgroup=c(\"sample_type\"))"
   ]
  },
  {
   "cell_type": "code",
   "execution_count": 61,
   "metadata": {},
   "outputs": [],
   "source": [
    "# write out normalize, transformed count matrix\n",
    "write.csv(getVarianceStabilizedData(dds), \"out/df_norm_transformed.csv\")"
   ]
  },
  {
   "cell_type": "code",
   "execution_count": 64,
   "metadata": {},
   "outputs": [],
   "source": [
    "## collapse triplicates\n",
    "dds = collapseReplicates(dds, dds$sample_type)\n",
    "sampleTable = colData(dds)"
   ]
  },
  {
   "cell_type": "code",
   "execution_count": 65,
   "metadata": {},
   "outputs": [
    {
     "data": {
      "text/plain": [
       "DataFrame with 3 rows and 5 columns\n",
       "             technical  sample_type              sample_name\n",
       "              <factor>     <factor>                 <factor>\n",
       "whole                1        whole       H1_wholetriflic_R1\n",
       "sonic_pellet         1 sonic_pellet   H1_PelletTriflic_Fl_R1\n",
       "sonic_sup            1    sonic_sup H1_SonicSupTriflic_V2_R1\n",
       "                                                                                     path\n",
       "                                                                                 <factor>\n",
       "whole                 data/H1_WholeTriflic_FlFusion_5ppm_10ppmfrag/H1_wholetriflic_R1.txt\n",
       "sonic_pellet     data/H1_PelletTriflic_FlFusion_5ppm_10ppmfrag/H1_PelletTriflic_Fl_R1.txt\n",
       "sonic_sup    data/H1_SonicSupTriflic_FlFusion_5ppm_10ppmfrag/H1_SonicSupTriflic_V2_R1.txt\n",
       "             sizeFactor\n",
       "              <numeric>\n",
       "whole          0.991460\n",
       "sonic_pellet   1.032664\n",
       "sonic_sup      1.165605"
      ]
     },
     "metadata": {},
     "output_type": "display_data"
    }
   ],
   "source": [
    "sampleTable"
   ]
  }
 ],
 "metadata": {
  "kernelspec": {
   "display_name": "R",
   "language": "R",
   "name": "ir"
  },
  "language_info": {
   "codemirror_mode": "r",
   "file_extension": ".r",
   "mimetype": "text/x-r-source",
   "name": "R",
   "pygments_lexer": "r",
   "version": "3.4.3"
  }
 },
 "nbformat": 4,
 "nbformat_minor": 2
}
