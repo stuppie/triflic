{
 "cells": [
  {
   "cell_type": "code",
   "execution_count": 2,
   "metadata": {
    "scrolled": true
   },
   "outputs": [
    {
     "data": {
      "text/html": [
       "'/home/gstupp/projects/Wolan/ana_extractions/analysis/H1'"
      ],
      "text/latex": [
       "'/home/gstupp/projects/Wolan/ana\\_extractions/analysis/H1'"
      ],
      "text/markdown": [
       "'/home/gstupp/projects/Wolan/ana_extractions/analysis/H1'"
      ],
      "text/plain": [
       "[1] \"/home/gstupp/projects/Wolan/ana_extractions/analysis/H1\""
      ]
     },
     "metadata": {},
     "output_type": "display_data"
    }
   ],
   "source": [
    "library(\"geneplotter\")\n",
    "library(\"ggplot2\")\n",
    "library(\"vsn\")\n",
    "library(\"genefilter\")\n",
    "library(\"DESeq2\")\n",
    "getwd()"
   ]
  },
  {
   "cell_type": "code",
   "execution_count": 3,
   "metadata": {},
   "outputs": [
    {
     "data": {
      "text/html": [
       "<table>\n",
       "<thead><tr><th></th><th scope=col>technical</th><th scope=col>sample_type</th><th scope=col>sample_name</th><th scope=col>path</th></tr></thead>\n",
       "<tbody>\n",
       "\t<tr><th scope=row>H1_PelletTriflic_Fl_R1</th><td>1                                                                           </td><td>sonic_pellet                                                                </td><td>H1_PelletTriflic_Fl                                                         </td><td>data/H1_PelletTriflic_FlFusion_5ppm_10ppmfrag/H1_PelletTriflic_Fl_R1.txt    </td></tr>\n",
       "\t<tr><th scope=row>H1_PelletTriflic_Fl_R2</th><td>2                                                                           </td><td>sonic_pellet                                                                </td><td>H1_PelletTriflic_Fl                                                         </td><td>data/H1_PelletTriflic_FlFusion_5ppm_10ppmfrag/H1_PelletTriflic_Fl_R2.txt    </td></tr>\n",
       "\t<tr><th scope=row>H1_PelletTriflic_Fl_R3</th><td>3                                                                           </td><td>sonic_pellet                                                                </td><td>H1_PelletTriflic_Fl                                                         </td><td>data/H1_PelletTriflic_FlFusion_5ppm_10ppmfrag/H1_PelletTriflic_Fl_R3.txt    </td></tr>\n",
       "\t<tr><th scope=row>H1_SonicSupTriflic_V2_R1</th><td>1                                                                           </td><td>sonic_sup                                                                   </td><td>H1_SonicSupTriflic_V2                                                       </td><td>data/H1_SonicSupTriflic_FlFusion_5ppm_10ppmfrag/H1_SonicSupTriflic_V2_R1.txt</td></tr>\n",
       "\t<tr><th scope=row>H1_SonicSupTriflic_V2_R2</th><td>2                                                                           </td><td>sonic_sup                                                                   </td><td>H1_SonicSupTriflic_V2                                                       </td><td>data/H1_SonicSupTriflic_FlFusion_5ppm_10ppmfrag/H1_SonicSupTriflic_V2_R2.txt</td></tr>\n",
       "\t<tr><th scope=row>H1_SonicSupTriflic_V2_R3</th><td>3                                                                           </td><td>sonic_sup                                                                   </td><td>H1_SonicSupTriflic_V2                                                       </td><td>data/H1_SonicSupTriflic_FlFusion_5ppm_10ppmfrag/H1_SonicSupTriflic_V2_R3.txt</td></tr>\n",
       "\t<tr><th scope=row>H1_wholetriflic_R1</th><td>1                                                                           </td><td>whole                                                                       </td><td>H1_wholetriflic                                                             </td><td>data/H1_WholeTriflic_FlFusion_5ppm_10ppmfrag/H1_wholetriflic_R1.txt         </td></tr>\n",
       "\t<tr><th scope=row>H1_wholetriflic_R2</th><td>2                                                                           </td><td>whole                                                                       </td><td>H1_wholetriflic                                                             </td><td>data/H1_WholeTriflic_FlFusion_5ppm_10ppmfrag/H1_wholetriflic_R2.txt         </td></tr>\n",
       "\t<tr><th scope=row>H1_wholetriflic_R3</th><td>3                                                                           </td><td>whole                                                                       </td><td>H1_wholetriflic                                                             </td><td>data/H1_WholeTriflic_FlFusion_5ppm_10ppmfrag/H1_wholetriflic_R3.txt         </td></tr>\n",
       "</tbody>\n",
       "</table>\n"
      ],
      "text/latex": [
       "\\begin{tabular}{r|llll}\n",
       "  & technical & sample\\_type & sample\\_name & path\\\\\n",
       "\\hline\n",
       "\tH1\\_PelletTriflic\\_Fl\\_R1 & 1                                                                                          & sonic\\_pellet                                                                             & H1\\_PelletTriflic\\_Fl                                                                    & data/H1\\_PelletTriflic\\_FlFusion\\_5ppm\\_10ppmfrag/H1\\_PelletTriflic\\_Fl\\_R1.txt    \\\\\n",
       "\tH1\\_PelletTriflic\\_Fl\\_R2 & 2                                                                                          & sonic\\_pellet                                                                             & H1\\_PelletTriflic\\_Fl                                                                    & data/H1\\_PelletTriflic\\_FlFusion\\_5ppm\\_10ppmfrag/H1\\_PelletTriflic\\_Fl\\_R2.txt    \\\\\n",
       "\tH1\\_PelletTriflic\\_Fl\\_R3 & 3                                                                                          & sonic\\_pellet                                                                             & H1\\_PelletTriflic\\_Fl                                                                    & data/H1\\_PelletTriflic\\_FlFusion\\_5ppm\\_10ppmfrag/H1\\_PelletTriflic\\_Fl\\_R3.txt    \\\\\n",
       "\tH1\\_SonicSupTriflic\\_V2\\_R1 & 1                                                                                          & sonic\\_sup                                                                                & H1\\_SonicSupTriflic\\_V2                                                                  & data/H1\\_SonicSupTriflic\\_FlFusion\\_5ppm\\_10ppmfrag/H1\\_SonicSupTriflic\\_V2\\_R1.txt\\\\\n",
       "\tH1\\_SonicSupTriflic\\_V2\\_R2 & 2                                                                                          & sonic\\_sup                                                                                & H1\\_SonicSupTriflic\\_V2                                                                  & data/H1\\_SonicSupTriflic\\_FlFusion\\_5ppm\\_10ppmfrag/H1\\_SonicSupTriflic\\_V2\\_R2.txt\\\\\n",
       "\tH1\\_SonicSupTriflic\\_V2\\_R3 & 3                                                                                          & sonic\\_sup                                                                                & H1\\_SonicSupTriflic\\_V2                                                                  & data/H1\\_SonicSupTriflic\\_FlFusion\\_5ppm\\_10ppmfrag/H1\\_SonicSupTriflic\\_V2\\_R3.txt\\\\\n",
       "\tH1\\_wholetriflic\\_R1 & 1                                                                                        & whole                                                                                    & H1\\_wholetriflic                                                                        & data/H1\\_WholeTriflic\\_FlFusion\\_5ppm\\_10ppmfrag/H1\\_wholetriflic\\_R1.txt         \\\\\n",
       "\tH1\\_wholetriflic\\_R2 & 2                                                                                        & whole                                                                                    & H1\\_wholetriflic                                                                        & data/H1\\_WholeTriflic\\_FlFusion\\_5ppm\\_10ppmfrag/H1\\_wholetriflic\\_R2.txt         \\\\\n",
       "\tH1\\_wholetriflic\\_R3 & 3                                                                                        & whole                                                                                    & H1\\_wholetriflic                                                                        & data/H1\\_WholeTriflic\\_FlFusion\\_5ppm\\_10ppmfrag/H1\\_wholetriflic\\_R3.txt         \\\\\n",
       "\\end{tabular}\n"
      ],
      "text/markdown": [
       "\n",
       "| <!--/--> | technical | sample_type | sample_name | path | \n",
       "|---|---|---|---|---|---|---|---|---|\n",
       "| H1_PelletTriflic_Fl_R1 | 1                                                                            | sonic_pellet                                                                 | H1_PelletTriflic_Fl                                                          | data/H1_PelletTriflic_FlFusion_5ppm_10ppmfrag/H1_PelletTriflic_Fl_R1.txt     | \n",
       "| H1_PelletTriflic_Fl_R2 | 2                                                                            | sonic_pellet                                                                 | H1_PelletTriflic_Fl                                                          | data/H1_PelletTriflic_FlFusion_5ppm_10ppmfrag/H1_PelletTriflic_Fl_R2.txt     | \n",
       "| H1_PelletTriflic_Fl_R3 | 3                                                                            | sonic_pellet                                                                 | H1_PelletTriflic_Fl                                                          | data/H1_PelletTriflic_FlFusion_5ppm_10ppmfrag/H1_PelletTriflic_Fl_R3.txt     | \n",
       "| H1_SonicSupTriflic_V2_R1 | 1                                                                            | sonic_sup                                                                    | H1_SonicSupTriflic_V2                                                        | data/H1_SonicSupTriflic_FlFusion_5ppm_10ppmfrag/H1_SonicSupTriflic_V2_R1.txt | \n",
       "| H1_SonicSupTriflic_V2_R2 | 2                                                                            | sonic_sup                                                                    | H1_SonicSupTriflic_V2                                                        | data/H1_SonicSupTriflic_FlFusion_5ppm_10ppmfrag/H1_SonicSupTriflic_V2_R2.txt | \n",
       "| H1_SonicSupTriflic_V2_R3 | 3                                                                            | sonic_sup                                                                    | H1_SonicSupTriflic_V2                                                        | data/H1_SonicSupTriflic_FlFusion_5ppm_10ppmfrag/H1_SonicSupTriflic_V2_R3.txt | \n",
       "| H1_wholetriflic_R1 | 1                                                                            | whole                                                                        | H1_wholetriflic                                                              | data/H1_WholeTriflic_FlFusion_5ppm_10ppmfrag/H1_wholetriflic_R1.txt          | \n",
       "| H1_wholetriflic_R2 | 2                                                                            | whole                                                                        | H1_wholetriflic                                                              | data/H1_WholeTriflic_FlFusion_5ppm_10ppmfrag/H1_wholetriflic_R2.txt          | \n",
       "| H1_wholetriflic_R3 | 3                                                                            | whole                                                                        | H1_wholetriflic                                                              | data/H1_WholeTriflic_FlFusion_5ppm_10ppmfrag/H1_wholetriflic_R3.txt          | \n",
       "\n",
       "\n"
      ],
      "text/plain": [
       "                         technical sample_type  sample_name          \n",
       "H1_PelletTriflic_Fl_R1   1         sonic_pellet H1_PelletTriflic_Fl  \n",
       "H1_PelletTriflic_Fl_R2   2         sonic_pellet H1_PelletTriflic_Fl  \n",
       "H1_PelletTriflic_Fl_R3   3         sonic_pellet H1_PelletTriflic_Fl  \n",
       "H1_SonicSupTriflic_V2_R1 1         sonic_sup    H1_SonicSupTriflic_V2\n",
       "H1_SonicSupTriflic_V2_R2 2         sonic_sup    H1_SonicSupTriflic_V2\n",
       "H1_SonicSupTriflic_V2_R3 3         sonic_sup    H1_SonicSupTriflic_V2\n",
       "H1_wholetriflic_R1       1         whole        H1_wholetriflic      \n",
       "H1_wholetriflic_R2       2         whole        H1_wholetriflic      \n",
       "H1_wholetriflic_R3       3         whole        H1_wholetriflic      \n",
       "                         path                                                                        \n",
       "H1_PelletTriflic_Fl_R1   data/H1_PelletTriflic_FlFusion_5ppm_10ppmfrag/H1_PelletTriflic_Fl_R1.txt    \n",
       "H1_PelletTriflic_Fl_R2   data/H1_PelletTriflic_FlFusion_5ppm_10ppmfrag/H1_PelletTriflic_Fl_R2.txt    \n",
       "H1_PelletTriflic_Fl_R3   data/H1_PelletTriflic_FlFusion_5ppm_10ppmfrag/H1_PelletTriflic_Fl_R3.txt    \n",
       "H1_SonicSupTriflic_V2_R1 data/H1_SonicSupTriflic_FlFusion_5ppm_10ppmfrag/H1_SonicSupTriflic_V2_R1.txt\n",
       "H1_SonicSupTriflic_V2_R2 data/H1_SonicSupTriflic_FlFusion_5ppm_10ppmfrag/H1_SonicSupTriflic_V2_R2.txt\n",
       "H1_SonicSupTriflic_V2_R3 data/H1_SonicSupTriflic_FlFusion_5ppm_10ppmfrag/H1_SonicSupTriflic_V2_R3.txt\n",
       "H1_wholetriflic_R1       data/H1_WholeTriflic_FlFusion_5ppm_10ppmfrag/H1_wholetriflic_R1.txt         \n",
       "H1_wholetriflic_R2       data/H1_WholeTriflic_FlFusion_5ppm_10ppmfrag/H1_wholetriflic_R2.txt         \n",
       "H1_wholetriflic_R3       data/H1_WholeTriflic_FlFusion_5ppm_10ppmfrag/H1_wholetriflic_R3.txt         "
      ]
     },
     "metadata": {},
     "output_type": "display_data"
    }
   ],
   "source": [
    "meta_path = \"metadata.csv\"\n",
    "sampleTable = read.csv(meta_path, row.names = 1)\n",
    "sampleTable$technical=factor(sampleTable$technical)\n",
    "sampleTable$sample_type=factor(sampleTable$sample_type)\n",
    "sampleTable$sample_type <- relevel(sampleTable$sample_type, ref=\"whole\")\n",
    "sampleTable"
   ]
  },
  {
   "cell_type": "code",
   "execution_count": 4,
   "metadata": {},
   "outputs": [],
   "source": [
    "countData = read.csv(\"out/df_filt.csv\", row.names = 1)\n",
    "colnames(countData) = lapply(colnames(countData), function(x) {gsub(\"\\\\.\", \"_\", x)})\n",
    "locusTable = read.csv(\"out/locus_df.csv\", row.names = 1)\n",
    "sampleTable = sampleTable[colnames(countData),]"
   ]
  },
  {
   "cell_type": "code",
   "execution_count": 5,
   "metadata": {},
   "outputs": [],
   "source": [
    "dds = DESeqDataSetFromMatrix(countData, colData = sampleTable, ~ sample_type)\n",
    "\n",
    "## collapse replicates\n",
    "#dds = collapseReplicates(dds, dds$sample_name)\n",
    "#sampleTable = colData(dds)"
   ]
  },
  {
   "cell_type": "code",
   "execution_count": 6,
   "metadata": {},
   "outputs": [
    {
     "data": {
      "text/html": [
       "<table>\n",
       "<thead><tr><th></th><th scope=col>H1_PelletTriflic_Fl_R1</th><th scope=col>H1_PelletTriflic_Fl_R2</th><th scope=col>H1_PelletTriflic_Fl_R3</th><th scope=col>H1_SonicSupTriflic_V2_R1</th><th scope=col>H1_SonicSupTriflic_V2_R2</th><th scope=col>H1_SonicSupTriflic_V2_R3</th><th scope=col>H1_wholetriflic_R1</th><th scope=col>H1_wholetriflic_R2</th><th scope=col>H1_wholetriflic_R3</th></tr></thead>\n",
       "<tbody>\n",
       "\t<tr><th scope=row>202956</th><td> 9</td><td> 7</td><td> 6</td><td> 9</td><td>10</td><td>11</td><td>13</td><td>10</td><td>11</td></tr>\n",
       "\t<tr><th scope=row>209005</th><td>32</td><td>33</td><td>34</td><td>15</td><td>15</td><td>19</td><td>25</td><td>31</td><td>34</td></tr>\n",
       "\t<tr><th scope=row>217964</th><td> 2</td><td> 2</td><td> 3</td><td> 0</td><td> 0</td><td> 0</td><td> 6</td><td> 5</td><td> 6</td></tr>\n",
       "\t<tr><th scope=row>248190</th><td> 3</td><td> 1</td><td> 3</td><td> 0</td><td> 0</td><td> 0</td><td> 3</td><td> 5</td><td> 5</td></tr>\n",
       "\t<tr><th scope=row>251275</th><td> 8</td><td> 3</td><td> 2</td><td> 0</td><td> 0</td><td> 0</td><td> 3</td><td> 3</td><td> 6</td></tr>\n",
       "\t<tr><th scope=row>265827</th><td> 5</td><td> 8</td><td>10</td><td> 0</td><td> 0</td><td> 0</td><td> 1</td><td> 0</td><td> 0</td></tr>\n",
       "</tbody>\n",
       "</table>\n"
      ],
      "text/latex": [
       "\\begin{tabular}{r|lllllllll}\n",
       "  & H1\\_PelletTriflic\\_Fl\\_R1 & H1\\_PelletTriflic\\_Fl\\_R2 & H1\\_PelletTriflic\\_Fl\\_R3 & H1\\_SonicSupTriflic\\_V2\\_R1 & H1\\_SonicSupTriflic\\_V2\\_R2 & H1\\_SonicSupTriflic\\_V2\\_R3 & H1\\_wholetriflic\\_R1 & H1\\_wholetriflic\\_R2 & H1\\_wholetriflic\\_R3\\\\\n",
       "\\hline\n",
       "\t202956 &  9 &  7 &  6 &  9 & 10 & 11 & 13 & 10 & 11\\\\\n",
       "\t209005 & 32 & 33 & 34 & 15 & 15 & 19 & 25 & 31 & 34\\\\\n",
       "\t217964 &  2 &  2 &  3 &  0 &  0 &  0 &  6 &  5 &  6\\\\\n",
       "\t248190 &  3 &  1 &  3 &  0 &  0 &  0 &  3 &  5 &  5\\\\\n",
       "\t251275 &  8 &  3 &  2 &  0 &  0 &  0 &  3 &  3 &  6\\\\\n",
       "\t265827 &  5 &  8 & 10 &  0 &  0 &  0 &  1 &  0 &  0\\\\\n",
       "\\end{tabular}\n"
      ],
      "text/markdown": [
       "\n",
       "| <!--/--> | H1_PelletTriflic_Fl_R1 | H1_PelletTriflic_Fl_R2 | H1_PelletTriflic_Fl_R3 | H1_SonicSupTriflic_V2_R1 | H1_SonicSupTriflic_V2_R2 | H1_SonicSupTriflic_V2_R3 | H1_wholetriflic_R1 | H1_wholetriflic_R2 | H1_wholetriflic_R3 | \n",
       "|---|---|---|---|---|---|\n",
       "| 202956 |  9 |  7 |  6 |  9 | 10 | 11 | 13 | 10 | 11 | \n",
       "| 209005 | 32 | 33 | 34 | 15 | 15 | 19 | 25 | 31 | 34 | \n",
       "| 217964 |  2 |  2 |  3 |  0 |  0 |  0 |  6 |  5 |  6 | \n",
       "| 248190 |  3 |  1 |  3 |  0 |  0 |  0 |  3 |  5 |  5 | \n",
       "| 251275 |  8 |  3 |  2 |  0 |  0 |  0 |  3 |  3 |  6 | \n",
       "| 265827 |  5 |  8 | 10 |  0 |  0 |  0 |  1 |  0 |  0 | \n",
       "\n",
       "\n"
      ],
      "text/plain": [
       "       H1_PelletTriflic_Fl_R1 H1_PelletTriflic_Fl_R2 H1_PelletTriflic_Fl_R3\n",
       "202956  9                      7                      6                    \n",
       "209005 32                     33                     34                    \n",
       "217964  2                      2                      3                    \n",
       "248190  3                      1                      3                    \n",
       "251275  8                      3                      2                    \n",
       "265827  5                      8                     10                    \n",
       "       H1_SonicSupTriflic_V2_R1 H1_SonicSupTriflic_V2_R2\n",
       "202956  9                       10                      \n",
       "209005 15                       15                      \n",
       "217964  0                        0                      \n",
       "248190  0                        0                      \n",
       "251275  0                        0                      \n",
       "265827  0                        0                      \n",
       "       H1_SonicSupTriflic_V2_R3 H1_wholetriflic_R1 H1_wholetriflic_R2\n",
       "202956 11                       13                 10                \n",
       "209005 19                       25                 31                \n",
       "217964  0                        6                  5                \n",
       "248190  0                        3                  5                \n",
       "251275  0                        3                  3                \n",
       "265827  0                        1                  0                \n",
       "       H1_wholetriflic_R3\n",
       "202956 11                \n",
       "209005 34                \n",
       "217964  6                \n",
       "248190  5                \n",
       "251275  6                \n",
       "265827  0                "
      ]
     },
     "metadata": {},
     "output_type": "display_data"
    }
   ],
   "source": [
    "head(counts(dds))"
   ]
  },
  {
   "cell_type": "code",
   "execution_count": 7,
   "metadata": {},
   "outputs": [
    {
     "name": "stderr",
     "output_type": "stream",
     "text": [
      "estimating size factors\n",
      "estimating dispersions\n",
      "gene-wise dispersion estimates\n",
      "mean-dispersion relationship\n",
      "-- note: fitType='parametric', but the dispersion trend was not well captured by the\n",
      "   function: y = a/x + b, and a local regression fit was automatically substituted.\n",
      "   specify fitType='local' or 'mean' to avoid this message next time.\n",
      "final dispersion estimates\n",
      "fitting model and testing\n"
     ]
    }
   ],
   "source": [
    "dds = DESeq(dds)"
   ]
  },
  {
   "cell_type": "code",
   "execution_count": 8,
   "metadata": {},
   "outputs": [],
   "source": [
    "#mcols(dds)<-cbind(mcols(dds),locusTable)\n",
    "save(dds, file = \"out/dds\")"
   ]
  },
  {
   "cell_type": "code",
   "execution_count": 9,
   "metadata": {},
   "outputs": [
    {
     "name": "stdout",
     "output_type": "stream",
     "text": [
      "\n",
      "out of 8083 with nonzero total read count\n",
      "adjusted p-value < 0.1\n",
      "LFC > 0 (up)     : 600, 7.4% \n",
      "LFC < 0 (down)   : 458, 5.7% \n",
      "outliers [1]     : 0, 0% \n",
      "low counts [2]   : 0, 0% \n",
      "(mean count < 1)\n",
      "[1] see 'cooksCutoff' argument of ?results\n",
      "[2] see 'independentFiltering' argument of ?results\n",
      "\n"
     ]
    }
   ],
   "source": [
    "res = results(dds, contrast=c(\"sample_type\",\"sonic_pellet\",\"whole\"))\n",
    "summary(res)"
   ]
  },
  {
   "cell_type": "code",
   "execution_count": 10,
   "metadata": {},
   "outputs": [],
   "source": [
    "res = cbind(res, locusTable)\n",
    "resOrdered <- res[order(res$padj),]\n",
    "write.csv(as.data.frame(resOrdered),file=\"out/sonic_pellet_v_whole_deseq_results.csv\")"
   ]
  },
  {
   "cell_type": "code",
   "execution_count": 11,
   "metadata": {},
   "outputs": [
    {
     "name": "stdout",
     "output_type": "stream",
     "text": [
      "\n",
      "out of 8083 with nonzero total read count\n",
      "adjusted p-value < 0.1\n",
      "LFC > 0 (up)     : 1851, 23% \n",
      "LFC < 0 (down)   : 3953, 49% \n",
      "outliers [1]     : 0, 0% \n",
      "low counts [2]   : 313, 3.9% \n",
      "(mean count < 1)\n",
      "[1] see 'cooksCutoff' argument of ?results\n",
      "[2] see 'independentFiltering' argument of ?results\n",
      "\n"
     ]
    }
   ],
   "source": [
    "res = results(dds, contrast=c(\"sample_type\",\"sonic_sup\",\"whole\"))\n",
    "summary(res)"
   ]
  },
  {
   "cell_type": "code",
   "execution_count": 12,
   "metadata": {},
   "outputs": [],
   "source": [
    "res = cbind(res, locusTable)\n",
    "resOrdered <- res[order(res$padj),]\n",
    "write.csv(as.data.frame(resOrdered),file=\"out/sonic_sup_v_whole_deseq_results.csv\")"
   ]
  },
  {
   "cell_type": "code",
   "execution_count": 13,
   "metadata": {},
   "outputs": [
    {
     "name": "stdout",
     "output_type": "stream",
     "text": [
      "\n",
      "out of 8083 with nonzero total read count\n",
      "adjusted p-value < 0.1\n",
      "LFC > 0 (up)     : 1720, 21% \n",
      "LFC < 0 (down)   : 3941, 49% \n",
      "outliers [1]     : 0, 0% \n",
      "low counts [2]   : 313, 3.9% \n",
      "(mean count < 1)\n",
      "[1] see 'cooksCutoff' argument of ?results\n",
      "[2] see 'independentFiltering' argument of ?results\n",
      "\n"
     ]
    }
   ],
   "source": [
    "res = results(dds, contrast=c(\"sample_type\",\"sonic_sup\",\"sonic_pellet\"))\n",
    "summary(res)"
   ]
  },
  {
   "cell_type": "code",
   "execution_count": 14,
   "metadata": {},
   "outputs": [],
   "source": [
    "res = cbind(res, locusTable)\n",
    "resOrdered <- res[order(res$padj),]\n",
    "write.csv(as.data.frame(resOrdered),file=\"out/sonic_sup_v_pellet_deseq_results.csv\")"
   ]
  },
  {
   "cell_type": "code",
   "execution_count": null,
   "metadata": {},
   "outputs": [],
   "source": []
  }
 ],
 "metadata": {
  "kernelspec": {
   "display_name": "R",
   "language": "R",
   "name": "ir"
  },
  "language_info": {
   "codemirror_mode": "r",
   "file_extension": ".r",
   "mimetype": "text/x-r-source",
   "name": "R",
   "pygments_lexer": "r",
   "version": "3.4.3"
  }
 },
 "nbformat": 4,
 "nbformat_minor": 2
}
