{
 "cells": [
  {
   "cell_type": "code",
   "execution_count": 1,
   "metadata": {
    "scrolled": true
   },
   "outputs": [
    {
     "name": "stderr",
     "output_type": "stream",
     "text": [
      "Loading required package: Biobase\n",
      "Loading required package: BiocGenerics\n",
      "Loading required package: parallel\n",
      "\n",
      "Attaching package: ‘BiocGenerics’\n",
      "\n",
      "The following objects are masked from ‘package:parallel’:\n",
      "\n",
      "    clusterApply, clusterApplyLB, clusterCall, clusterEvalQ,\n",
      "    clusterExport, clusterMap, parApply, parCapply, parLapply,\n",
      "    parLapplyLB, parRapply, parSapply, parSapplyLB\n",
      "\n",
      "The following objects are masked from ‘package:stats’:\n",
      "\n",
      "    IQR, mad, sd, var, xtabs\n",
      "\n",
      "The following objects are masked from ‘package:base’:\n",
      "\n",
      "    anyDuplicated, append, as.data.frame, cbind, colMeans, colnames,\n",
      "    colSums, do.call, duplicated, eval, evalq, Filter, Find, get, grep,\n",
      "    grepl, intersect, is.unsorted, lapply, lengths, Map, mapply, match,\n",
      "    mget, order, paste, pmax, pmax.int, pmin, pmin.int, Position, rank,\n",
      "    rbind, Reduce, rowMeans, rownames, rowSums, sapply, setdiff, sort,\n",
      "    table, tapply, union, unique, unsplit, which, which.max, which.min\n",
      "\n",
      "Welcome to Bioconductor\n",
      "\n",
      "    Vignettes contain introductory material; view with\n",
      "    'browseVignettes()'. To cite Bioconductor, see\n",
      "    'citation(\"Biobase\")', and for packages 'citation(\"pkgname\")'.\n",
      "\n",
      "Loading required package: lattice\n",
      "Loading required package: annotate\n",
      "Loading required package: AnnotationDbi\n",
      "Loading required package: stats4\n",
      "Loading required package: IRanges\n",
      "Loading required package: S4Vectors\n",
      "\n",
      "Attaching package: ‘S4Vectors’\n",
      "\n",
      "The following object is masked from ‘package:base’:\n",
      "\n",
      "    expand.grid\n",
      "\n",
      "Loading required package: XML\n",
      "Loading required package: GenomicRanges\n",
      "Loading required package: GenomeInfoDb\n",
      "Loading required package: SummarizedExperiment\n",
      "Loading required package: DelayedArray\n",
      "Loading required package: matrixStats\n",
      "\n",
      "Attaching package: ‘matrixStats’\n",
      "\n",
      "The following objects are masked from ‘package:genefilter’:\n",
      "\n",
      "    rowSds, rowVars\n",
      "\n",
      "The following objects are masked from ‘package:Biobase’:\n",
      "\n",
      "    anyMissing, rowMedians\n",
      "\n",
      "\n",
      "Attaching package: ‘DelayedArray’\n",
      "\n",
      "The following objects are masked from ‘package:matrixStats’:\n",
      "\n",
      "    colMaxs, colMins, colRanges, rowMaxs, rowMins, rowRanges\n",
      "\n",
      "The following object is masked from ‘package:base’:\n",
      "\n",
      "    apply\n",
      "\n"
     ]
    },
    {
     "data": {
      "text/html": [
       "'/home/gstupp/projects/Wolan/ana_extractions/H1'"
      ],
      "text/latex": [
       "'/home/gstupp/projects/Wolan/ana\\_extractions/H1'"
      ],
      "text/markdown": [
       "'/home/gstupp/projects/Wolan/ana_extractions/H1'"
      ],
      "text/plain": [
       "[1] \"/home/gstupp/projects/Wolan/ana_extractions/H1\""
      ]
     },
     "metadata": {},
     "output_type": "display_data"
    }
   ],
   "source": [
    "library(\"geneplotter\")\n",
    "library(\"ggplot2\")\n",
    "library(\"vsn\")\n",
    "library(\"genefilter\")\n",
    "library(\"DESeq2\")\n",
    "getwd()"
   ]
  },
  {
   "cell_type": "code",
   "execution_count": 16,
   "metadata": {},
   "outputs": [
    {
     "data": {
      "text/html": [
       "<table>\n",
       "<thead><tr><th></th><th scope=col>technical</th><th scope=col>sample_type</th><th scope=col>sample_name</th><th scope=col>path</th></tr></thead>\n",
       "<tbody>\n",
       "\t<tr><th scope=row>H1_PelletTriflic_Fl_R1</th><td>1                                                                           </td><td>sonic_pellet                                                                </td><td>H1_PelletTriflic_Fl                                                         </td><td>data/H1_PelletTriflic_FlFusion_5ppm_10ppmfrag/H1_PelletTriflic_Fl_R1.txt    </td></tr>\n",
       "\t<tr><th scope=row>H1_PelletTriflic_Fl_R2</th><td>2                                                                           </td><td>sonic_pellet                                                                </td><td>H1_PelletTriflic_Fl                                                         </td><td>data/H1_PelletTriflic_FlFusion_5ppm_10ppmfrag/H1_PelletTriflic_Fl_R2.txt    </td></tr>\n",
       "\t<tr><th scope=row>H1_PelletTriflic_Fl_R3</th><td>3                                                                           </td><td>sonic_pellet                                                                </td><td>H1_PelletTriflic_Fl                                                         </td><td>data/H1_PelletTriflic_FlFusion_5ppm_10ppmfrag/H1_PelletTriflic_Fl_R3.txt    </td></tr>\n",
       "\t<tr><th scope=row>H1_SonicSupTriflic_V2_R1</th><td>1                                                                           </td><td>sonic_sup                                                                   </td><td>H1_SonicSupTriflic_V2                                                       </td><td>data/H1_SonicSupTriflic_FlFusion_5ppm_10ppmfrag/H1_SonicSupTriflic_V2_R1.txt</td></tr>\n",
       "\t<tr><th scope=row>H1_SonicSupTriflic_V2_R2</th><td>2                                                                           </td><td>sonic_sup                                                                   </td><td>H1_SonicSupTriflic_V2                                                       </td><td>data/H1_SonicSupTriflic_FlFusion_5ppm_10ppmfrag/H1_SonicSupTriflic_V2_R2.txt</td></tr>\n",
       "\t<tr><th scope=row>H1_SonicSupTriflic_V2_R3</th><td>3                                                                           </td><td>sonic_sup                                                                   </td><td>H1_SonicSupTriflic_V2                                                       </td><td>data/H1_SonicSupTriflic_FlFusion_5ppm_10ppmfrag/H1_SonicSupTriflic_V2_R3.txt</td></tr>\n",
       "\t<tr><th scope=row>H1_wholetriflic_R1</th><td>1                                                                           </td><td>whole                                                                       </td><td>H1_wholetriflic                                                             </td><td>data/H1_WholeTriflic_FlFusion_5ppm_10ppmfrag/H1_wholetriflic_R1.txt         </td></tr>\n",
       "\t<tr><th scope=row>H1_wholetriflic_R2</th><td>2                                                                           </td><td>whole                                                                       </td><td>H1_wholetriflic                                                             </td><td>data/H1_WholeTriflic_FlFusion_5ppm_10ppmfrag/H1_wholetriflic_R2.txt         </td></tr>\n",
       "\t<tr><th scope=row>H1_wholetriflic_R3</th><td>3                                                                           </td><td>whole                                                                       </td><td>H1_wholetriflic                                                             </td><td>data/H1_WholeTriflic_FlFusion_5ppm_10ppmfrag/H1_wholetriflic_R3.txt         </td></tr>\n",
       "</tbody>\n",
       "</table>\n"
      ],
      "text/latex": [
       "\\begin{tabular}{r|llll}\n",
       "  & technical & sample\\_type & sample\\_name & path\\\\\n",
       "\\hline\n",
       "\tH1\\_PelletTriflic\\_Fl\\_R1 & 1                                                                                          & sonic\\_pellet                                                                             & H1\\_PelletTriflic\\_Fl                                                                    & data/H1\\_PelletTriflic\\_FlFusion\\_5ppm\\_10ppmfrag/H1\\_PelletTriflic\\_Fl\\_R1.txt    \\\\\n",
       "\tH1\\_PelletTriflic\\_Fl\\_R2 & 2                                                                                          & sonic\\_pellet                                                                             & H1\\_PelletTriflic\\_Fl                                                                    & data/H1\\_PelletTriflic\\_FlFusion\\_5ppm\\_10ppmfrag/H1\\_PelletTriflic\\_Fl\\_R2.txt    \\\\\n",
       "\tH1\\_PelletTriflic\\_Fl\\_R3 & 3                                                                                          & sonic\\_pellet                                                                             & H1\\_PelletTriflic\\_Fl                                                                    & data/H1\\_PelletTriflic\\_FlFusion\\_5ppm\\_10ppmfrag/H1\\_PelletTriflic\\_Fl\\_R3.txt    \\\\\n",
       "\tH1\\_SonicSupTriflic\\_V2\\_R1 & 1                                                                                          & sonic\\_sup                                                                                & H1\\_SonicSupTriflic\\_V2                                                                  & data/H1\\_SonicSupTriflic\\_FlFusion\\_5ppm\\_10ppmfrag/H1\\_SonicSupTriflic\\_V2\\_R1.txt\\\\\n",
       "\tH1\\_SonicSupTriflic\\_V2\\_R2 & 2                                                                                          & sonic\\_sup                                                                                & H1\\_SonicSupTriflic\\_V2                                                                  & data/H1\\_SonicSupTriflic\\_FlFusion\\_5ppm\\_10ppmfrag/H1\\_SonicSupTriflic\\_V2\\_R2.txt\\\\\n",
       "\tH1\\_SonicSupTriflic\\_V2\\_R3 & 3                                                                                          & sonic\\_sup                                                                                & H1\\_SonicSupTriflic\\_V2                                                                  & data/H1\\_SonicSupTriflic\\_FlFusion\\_5ppm\\_10ppmfrag/H1\\_SonicSupTriflic\\_V2\\_R3.txt\\\\\n",
       "\tH1\\_wholetriflic\\_R1 & 1                                                                                        & whole                                                                                    & H1\\_wholetriflic                                                                        & data/H1\\_WholeTriflic\\_FlFusion\\_5ppm\\_10ppmfrag/H1\\_wholetriflic\\_R1.txt         \\\\\n",
       "\tH1\\_wholetriflic\\_R2 & 2                                                                                        & whole                                                                                    & H1\\_wholetriflic                                                                        & data/H1\\_WholeTriflic\\_FlFusion\\_5ppm\\_10ppmfrag/H1\\_wholetriflic\\_R2.txt         \\\\\n",
       "\tH1\\_wholetriflic\\_R3 & 3                                                                                        & whole                                                                                    & H1\\_wholetriflic                                                                        & data/H1\\_WholeTriflic\\_FlFusion\\_5ppm\\_10ppmfrag/H1\\_wholetriflic\\_R3.txt         \\\\\n",
       "\\end{tabular}\n"
      ],
      "text/markdown": [
       "\n",
       "| <!--/--> | technical | sample_type | sample_name | path | \n",
       "|---|---|---|---|---|---|---|---|---|\n",
       "| H1_PelletTriflic_Fl_R1 | 1                                                                            | sonic_pellet                                                                 | H1_PelletTriflic_Fl                                                          | data/H1_PelletTriflic_FlFusion_5ppm_10ppmfrag/H1_PelletTriflic_Fl_R1.txt     | \n",
       "| H1_PelletTriflic_Fl_R2 | 2                                                                            | sonic_pellet                                                                 | H1_PelletTriflic_Fl                                                          | data/H1_PelletTriflic_FlFusion_5ppm_10ppmfrag/H1_PelletTriflic_Fl_R2.txt     | \n",
       "| H1_PelletTriflic_Fl_R3 | 3                                                                            | sonic_pellet                                                                 | H1_PelletTriflic_Fl                                                          | data/H1_PelletTriflic_FlFusion_5ppm_10ppmfrag/H1_PelletTriflic_Fl_R3.txt     | \n",
       "| H1_SonicSupTriflic_V2_R1 | 1                                                                            | sonic_sup                                                                    | H1_SonicSupTriflic_V2                                                        | data/H1_SonicSupTriflic_FlFusion_5ppm_10ppmfrag/H1_SonicSupTriflic_V2_R1.txt | \n",
       "| H1_SonicSupTriflic_V2_R2 | 2                                                                            | sonic_sup                                                                    | H1_SonicSupTriflic_V2                                                        | data/H1_SonicSupTriflic_FlFusion_5ppm_10ppmfrag/H1_SonicSupTriflic_V2_R2.txt | \n",
       "| H1_SonicSupTriflic_V2_R3 | 3                                                                            | sonic_sup                                                                    | H1_SonicSupTriflic_V2                                                        | data/H1_SonicSupTriflic_FlFusion_5ppm_10ppmfrag/H1_SonicSupTriflic_V2_R3.txt | \n",
       "| H1_wholetriflic_R1 | 1                                                                            | whole                                                                        | H1_wholetriflic                                                              | data/H1_WholeTriflic_FlFusion_5ppm_10ppmfrag/H1_wholetriflic_R1.txt          | \n",
       "| H1_wholetriflic_R2 | 2                                                                            | whole                                                                        | H1_wholetriflic                                                              | data/H1_WholeTriflic_FlFusion_5ppm_10ppmfrag/H1_wholetriflic_R2.txt          | \n",
       "| H1_wholetriflic_R3 | 3                                                                            | whole                                                                        | H1_wholetriflic                                                              | data/H1_WholeTriflic_FlFusion_5ppm_10ppmfrag/H1_wholetriflic_R3.txt          | \n",
       "\n",
       "\n"
      ],
      "text/plain": [
       "                         technical sample_type  sample_name          \n",
       "H1_PelletTriflic_Fl_R1   1         sonic_pellet H1_PelletTriflic_Fl  \n",
       "H1_PelletTriflic_Fl_R2   2         sonic_pellet H1_PelletTriflic_Fl  \n",
       "H1_PelletTriflic_Fl_R3   3         sonic_pellet H1_PelletTriflic_Fl  \n",
       "H1_SonicSupTriflic_V2_R1 1         sonic_sup    H1_SonicSupTriflic_V2\n",
       "H1_SonicSupTriflic_V2_R2 2         sonic_sup    H1_SonicSupTriflic_V2\n",
       "H1_SonicSupTriflic_V2_R3 3         sonic_sup    H1_SonicSupTriflic_V2\n",
       "H1_wholetriflic_R1       1         whole        H1_wholetriflic      \n",
       "H1_wholetriflic_R2       2         whole        H1_wholetriflic      \n",
       "H1_wholetriflic_R3       3         whole        H1_wholetriflic      \n",
       "                         path                                                                        \n",
       "H1_PelletTriflic_Fl_R1   data/H1_PelletTriflic_FlFusion_5ppm_10ppmfrag/H1_PelletTriflic_Fl_R1.txt    \n",
       "H1_PelletTriflic_Fl_R2   data/H1_PelletTriflic_FlFusion_5ppm_10ppmfrag/H1_PelletTriflic_Fl_R2.txt    \n",
       "H1_PelletTriflic_Fl_R3   data/H1_PelletTriflic_FlFusion_5ppm_10ppmfrag/H1_PelletTriflic_Fl_R3.txt    \n",
       "H1_SonicSupTriflic_V2_R1 data/H1_SonicSupTriflic_FlFusion_5ppm_10ppmfrag/H1_SonicSupTriflic_V2_R1.txt\n",
       "H1_SonicSupTriflic_V2_R2 data/H1_SonicSupTriflic_FlFusion_5ppm_10ppmfrag/H1_SonicSupTriflic_V2_R2.txt\n",
       "H1_SonicSupTriflic_V2_R3 data/H1_SonicSupTriflic_FlFusion_5ppm_10ppmfrag/H1_SonicSupTriflic_V2_R3.txt\n",
       "H1_wholetriflic_R1       data/H1_WholeTriflic_FlFusion_5ppm_10ppmfrag/H1_wholetriflic_R1.txt         \n",
       "H1_wholetriflic_R2       data/H1_WholeTriflic_FlFusion_5ppm_10ppmfrag/H1_wholetriflic_R2.txt         \n",
       "H1_wholetriflic_R3       data/H1_WholeTriflic_FlFusion_5ppm_10ppmfrag/H1_wholetriflic_R3.txt         "
      ]
     },
     "metadata": {},
     "output_type": "display_data"
    }
   ],
   "source": [
    "meta_path = \"metadata.csv\"\n",
    "sampleTable = read.csv(meta_path, row.names = 1)\n",
    "sampleTable$technical=factor(sampleTable$technical)\n",
    "sampleTable$sample_type=factor(sampleTable$sample_type)\n",
    "sampleTable$sample_type <- relevel(sampleTable$sample_type, ref=\"whole\")\n",
    "sampleTable"
   ]
  },
  {
   "cell_type": "code",
   "execution_count": 17,
   "metadata": {},
   "outputs": [],
   "source": [
    "countData = read.csv(\"out/df_filt.csv\", row.names = 1)\n",
    "colnames(countData) = lapply(colnames(countData), function(x) {gsub(\"\\\\.\", \"_\", x)})\n",
    "locusTable = read.csv(\"out/locus_df.csv\", row.names = 1)\n",
    "sampleTable = sampleTable[colnames(countData),]"
   ]
  },
  {
   "cell_type": "code",
   "execution_count": 18,
   "metadata": {},
   "outputs": [],
   "source": [
    "dds = DESeqDataSetFromMatrix(countData, colData = sampleTable, ~ sample_type)\n",
    "\n",
    "## collapse replicates\n",
    "dds = collapseReplicates(dds, dds$sample_name)\n",
    "sampleTable = colData(dds)"
   ]
  },
  {
   "cell_type": "code",
   "execution_count": 20,
   "metadata": {},
   "outputs": [
    {
     "data": {
      "text/html": [
       "<table>\n",
       "<thead><tr><th></th><th scope=col>H1_PelletTriflic_Fl</th><th scope=col>H1_SonicSupTriflic_V2</th><th scope=col>H1_wholetriflic</th></tr></thead>\n",
       "<tbody>\n",
       "\t<tr><th scope=row>202956</th><td>22</td><td>30</td><td>34</td></tr>\n",
       "\t<tr><th scope=row>209005</th><td>99</td><td>49</td><td>90</td></tr>\n",
       "\t<tr><th scope=row>217964</th><td> 7</td><td> 0</td><td>17</td></tr>\n",
       "\t<tr><th scope=row>248190</th><td> 7</td><td> 0</td><td>13</td></tr>\n",
       "\t<tr><th scope=row>251275</th><td>13</td><td> 0</td><td>12</td></tr>\n",
       "\t<tr><th scope=row>265827</th><td>23</td><td> 0</td><td> 1</td></tr>\n",
       "</tbody>\n",
       "</table>\n"
      ],
      "text/latex": [
       "\\begin{tabular}{r|lll}\n",
       "  & H1\\_PelletTriflic\\_Fl & H1\\_SonicSupTriflic\\_V2 & H1\\_wholetriflic\\\\\n",
       "\\hline\n",
       "\t202956 & 22 & 30 & 34\\\\\n",
       "\t209005 & 99 & 49 & 90\\\\\n",
       "\t217964 &  7 &  0 & 17\\\\\n",
       "\t248190 &  7 &  0 & 13\\\\\n",
       "\t251275 & 13 &  0 & 12\\\\\n",
       "\t265827 & 23 &  0 &  1\\\\\n",
       "\\end{tabular}\n"
      ],
      "text/markdown": [
       "\n",
       "| <!--/--> | H1_PelletTriflic_Fl | H1_SonicSupTriflic_V2 | H1_wholetriflic | \n",
       "|---|---|---|---|---|---|\n",
       "| 202956 | 22 | 30 | 34 | \n",
       "| 209005 | 99 | 49 | 90 | \n",
       "| 217964 |  7 |  0 | 17 | \n",
       "| 248190 |  7 |  0 | 13 | \n",
       "| 251275 | 13 |  0 | 12 | \n",
       "| 265827 | 23 |  0 |  1 | \n",
       "\n",
       "\n"
      ],
      "text/plain": [
       "       H1_PelletTriflic_Fl H1_SonicSupTriflic_V2 H1_wholetriflic\n",
       "202956 22                  30                    34             \n",
       "209005 99                  49                    90             \n",
       "217964  7                   0                    17             \n",
       "248190  7                   0                    13             \n",
       "251275 13                   0                    12             \n",
       "265827 23                   0                     1             "
      ]
     },
     "metadata": {},
     "output_type": "display_data"
    }
   ],
   "source": [
    "head(counts(dds))"
   ]
  },
  {
   "cell_type": "code",
   "execution_count": 21,
   "metadata": {},
   "outputs": [
    {
     "name": "stderr",
     "output_type": "stream",
     "text": [
      "estimating size factors\n",
      "estimating dispersions\n",
      "Warning message in checkForExperimentalReplicates(object, modelMatrix):\n",
      "“same number of samples and coefficients to fit,\n",
      "  estimating dispersion by treating samples as replicates.\n",
      "  please read the ?DESeq section on 'Experiments without replicates'.\n",
      "  in summary: this analysis only potentially useful for data exploration,\n",
      "  accurate differential expression analysis requires replication”gene-wise dispersion estimates\n",
      "mean-dispersion relationship\n",
      "final dispersion estimates\n",
      "fitting model and testing\n"
     ]
    }
   ],
   "source": [
    "dds = DESeq(dds)"
   ]
  },
  {
   "cell_type": "code",
   "execution_count": 22,
   "metadata": {},
   "outputs": [],
   "source": [
    "#mcols(dds)<-cbind(mcols(dds),locusTable)\n",
    "save(dds, file = \"out/dds\")"
   ]
  },
  {
   "cell_type": "code",
   "execution_count": 31,
   "metadata": {},
   "outputs": [
    {
     "name": "stdout",
     "output_type": "stream",
     "text": [
      "\n",
      "out of 8083 with nonzero total read count\n",
      "adjusted p-value < 0.1\n",
      "LFC > 0 (up)     : 0, 0% \n",
      "LFC < 0 (down)   : 0, 0% \n",
      "outliers [1]     : 0, 0% \n",
      "low counts [2]   : 0, 0% \n",
      "(mean count < 2)\n",
      "[1] see 'cooksCutoff' argument of ?results\n",
      "[2] see 'independentFiltering' argument of ?results\n",
      "\n"
     ]
    }
   ],
   "source": [
    "res = results(dds, contrast=c(\"sample_type\",\"sonic_pellet\",\"whole\"))\n",
    "summary(res)"
   ]
  },
  {
   "cell_type": "code",
   "execution_count": 32,
   "metadata": {},
   "outputs": [],
   "source": [
    "res = cbind(res, locusTable)\n",
    "resOrdered <- res[order(res$padj),]\n",
    "write.csv(as.data.frame(resOrdered),file=\"out/sonic_pellet_v_whole_deseq_results.csv\")"
   ]
  },
  {
   "cell_type": "code",
   "execution_count": 33,
   "metadata": {},
   "outputs": [
    {
     "name": "stdout",
     "output_type": "stream",
     "text": [
      "\n",
      "out of 8083 with nonzero total read count\n",
      "adjusted p-value < 0.1\n",
      "LFC > 0 (up)     : 6, 0.074% \n",
      "LFC < 0 (down)   : 63, 0.78% \n",
      "outliers [1]     : 0, 0% \n",
      "low counts [2]   : 7521, 93% \n",
      "(mean count < 78)\n",
      "[1] see 'cooksCutoff' argument of ?results\n",
      "[2] see 'independentFiltering' argument of ?results\n",
      "\n"
     ]
    }
   ],
   "source": [
    "res = results(dds, contrast=c(\"sample_type\",\"sonic_sup\",\"whole\"))\n",
    "summary(res)"
   ]
  },
  {
   "cell_type": "code",
   "execution_count": 34,
   "metadata": {},
   "outputs": [],
   "source": [
    "res = cbind(res, locusTable)\n",
    "resOrdered <- res[order(res$padj),]\n",
    "write.csv(as.data.frame(resOrdered),file=\"out/sonic_sup_v_whole_deseq_results.csv\")"
   ]
  },
  {
   "cell_type": "code",
   "execution_count": 35,
   "metadata": {},
   "outputs": [
    {
     "name": "stdout",
     "output_type": "stream",
     "text": [
      "\n",
      "out of 8083 with nonzero total read count\n",
      "adjusted p-value < 0.1\n",
      "LFC > 0 (up)     : 2, 0.025% \n",
      "LFC < 0 (down)   : 67, 0.83% \n",
      "outliers [1]     : 0, 0% \n",
      "low counts [2]   : 7521, 93% \n",
      "(mean count < 78)\n",
      "[1] see 'cooksCutoff' argument of ?results\n",
      "[2] see 'independentFiltering' argument of ?results\n",
      "\n"
     ]
    }
   ],
   "source": [
    "res = results(dds, contrast=c(\"sample_type\",\"sonic_sup\",\"sonic_pellet\"))\n",
    "summary(res)"
   ]
  },
  {
   "cell_type": "code",
   "execution_count": 36,
   "metadata": {},
   "outputs": [],
   "source": [
    "res = cbind(res, locusTable)\n",
    "resOrdered <- res[order(res$padj),]\n",
    "write.csv(as.data.frame(resOrdered),file=\"out/sonic_sup_v_pellet_deseq_results.csv\")"
   ]
  },
  {
   "cell_type": "code",
   "execution_count": null,
   "metadata": {},
   "outputs": [],
   "source": []
  }
 ],
 "metadata": {
  "kernelspec": {
   "display_name": "R",
   "language": "R",
   "name": "ir"
  },
  "language_info": {
   "codemirror_mode": "r",
   "file_extension": ".r",
   "mimetype": "text/x-r-source",
   "name": "R",
   "pygments_lexer": "r",
   "version": "3.4.3"
  }
 },
 "nbformat": 4,
 "nbformat_minor": 2
}
