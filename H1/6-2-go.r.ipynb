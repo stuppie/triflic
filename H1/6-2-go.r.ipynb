{
 "cells": [
  {
   "cell_type": "code",
   "execution_count": 1,
   "metadata": {},
   "outputs": [
    {
     "data": {
      "text/html": [
       "<table>\n",
       "<thead><tr><th></th><th scope=col>H1.PelletTriflic.Fl.R1</th><th scope=col>H1.PelletTriflic.Fl.R2</th><th scope=col>H1.PelletTriflic.Fl.R3</th><th scope=col>H1.SonicSupTriflic.V2.R1</th><th scope=col>H1.SonicSupTriflic.V2.R2</th><th scope=col>H1.SonicSupTriflic.V2.R3</th><th scope=col>H1.wholetriflic.R1</th><th scope=col>H1.wholetriflic.R2</th><th scope=col>H1.wholetriflic.R3</th></tr></thead>\n",
       "<tbody>\n",
       "\t<tr><th scope=row>ratio</th><td>-0.8689059 </td><td>-0.8593627 </td><td>-0.8607625 </td><td>-0.08644705</td><td>-0.1282588 </td><td>-0.0242013 </td><td>-0.9189617 </td><td>-0.8871657 </td><td>-0.9142281 </td></tr>\n",
       "</tbody>\n",
       "</table>\n"
      ],
      "text/latex": [
       "\\begin{tabular}{r|lllllllll}\n",
       "  & H1.PelletTriflic.Fl.R1 & H1.PelletTriflic.Fl.R2 & H1.PelletTriflic.Fl.R3 & H1.SonicSupTriflic.V2.R1 & H1.SonicSupTriflic.V2.R2 & H1.SonicSupTriflic.V2.R3 & H1.wholetriflic.R1 & H1.wholetriflic.R2 & H1.wholetriflic.R3\\\\\n",
       "\\hline\n",
       "\tratio & -0.8689059  & -0.8593627  & -0.8607625  & -0.08644705 & -0.1282588  & -0.0242013  & -0.9189617  & -0.8871657  & -0.9142281 \\\\\n",
       "\\end{tabular}\n"
      ],
      "text/markdown": [
       "\n",
       "| <!--/--> | H1.PelletTriflic.Fl.R1 | H1.PelletTriflic.Fl.R2 | H1.PelletTriflic.Fl.R3 | H1.SonicSupTriflic.V2.R1 | H1.SonicSupTriflic.V2.R2 | H1.SonicSupTriflic.V2.R3 | H1.wholetriflic.R1 | H1.wholetriflic.R2 | H1.wholetriflic.R3 | \n",
       "|---|\n",
       "| ratio | -0.8689059  | -0.8593627  | -0.8607625  | -0.08644705 | -0.1282588  | -0.0242013  | -0.9189617  | -0.8871657  | -0.9142281  | \n",
       "\n",
       "\n"
      ],
      "text/plain": [
       "      H1.PelletTriflic.Fl.R1 H1.PelletTriflic.Fl.R2 H1.PelletTriflic.Fl.R3\n",
       "ratio -0.8689059             -0.8593627             -0.8607625            \n",
       "      H1.SonicSupTriflic.V2.R1 H1.SonicSupTriflic.V2.R2\n",
       "ratio -0.08644705              -0.1282588              \n",
       "      H1.SonicSupTriflic.V2.R3 H1.wholetriflic.R1 H1.wholetriflic.R2\n",
       "ratio -0.0242013               -0.9189617         -0.8871657        \n",
       "      H1.wholetriflic.R3\n",
       "ratio -0.9142281        "
      ]
     },
     "metadata": {},
     "output_type": "display_data"
    }
   ],
   "source": [
    "out = read.csv(\"membrane_ratio.csv\", row.names=1)[\"ratio\",]\n",
    "out"
   ]
  },
  {
   "cell_type": "code",
   "execution_count": 2,
   "metadata": {},
   "outputs": [
    {
     "data": {
      "text/html": [
       "<table>\n",
       "<thead><tr><th scope=col>out</th><th scope=col>method</th><th scope=col>rep</th></tr></thead>\n",
       "<tbody>\n",
       "\t<tr><td>-0.86890587</td><td>pellet     </td><td>1          </td></tr>\n",
       "\t<tr><td>-0.85936274</td><td>pellet     </td><td>2          </td></tr>\n",
       "\t<tr><td>-0.86076250</td><td>pellet     </td><td>3          </td></tr>\n",
       "\t<tr><td>-0.08644705</td><td>sup        </td><td>1          </td></tr>\n",
       "\t<tr><td>-0.12825881</td><td>sup        </td><td>2          </td></tr>\n",
       "\t<tr><td>-0.02420130</td><td>sup        </td><td>3          </td></tr>\n",
       "\t<tr><td>-0.91896171</td><td>whole      </td><td>1          </td></tr>\n",
       "\t<tr><td>-0.88716569</td><td>whole      </td><td>2          </td></tr>\n",
       "\t<tr><td>-0.91422808</td><td>whole      </td><td>3          </td></tr>\n",
       "</tbody>\n",
       "</table>\n"
      ],
      "text/latex": [
       "\\begin{tabular}{r|lll}\n",
       " out & method & rep\\\\\n",
       "\\hline\n",
       "\t -0.86890587 & pellet      & 1          \\\\\n",
       "\t -0.85936274 & pellet      & 2          \\\\\n",
       "\t -0.86076250 & pellet      & 3          \\\\\n",
       "\t -0.08644705 & sup         & 1          \\\\\n",
       "\t -0.12825881 & sup         & 2          \\\\\n",
       "\t -0.02420130 & sup         & 3          \\\\\n",
       "\t -0.91896171 & whole       & 1          \\\\\n",
       "\t -0.88716569 & whole       & 2          \\\\\n",
       "\t -0.91422808 & whole       & 3          \\\\\n",
       "\\end{tabular}\n"
      ],
      "text/markdown": [
       "\n",
       "out | method | rep | \n",
       "|---|---|---|---|---|---|---|---|---|\n",
       "| -0.86890587 | pellet      | 1           | \n",
       "| -0.85936274 | pellet      | 2           | \n",
       "| -0.86076250 | pellet      | 3           | \n",
       "| -0.08644705 | sup         | 1           | \n",
       "| -0.12825881 | sup         | 2           | \n",
       "| -0.02420130 | sup         | 3           | \n",
       "| -0.91896171 | whole       | 1           | \n",
       "| -0.88716569 | whole       | 2           | \n",
       "| -0.91422808 | whole       | 3           | \n",
       "\n",
       "\n"
      ],
      "text/plain": [
       "  out         method rep\n",
       "1 -0.86890587 pellet 1  \n",
       "2 -0.85936274 pellet 2  \n",
       "3 -0.86076250 pellet 3  \n",
       "4 -0.08644705 sup    1  \n",
       "5 -0.12825881 sup    2  \n",
       "6 -0.02420130 sup    3  \n",
       "7 -0.91896171 whole  1  \n",
       "8 -0.88716569 whole  2  \n",
       "9 -0.91422808 whole  3  "
      ]
     },
     "metadata": {},
     "output_type": "display_data"
    }
   ],
   "source": [
    "df = data.frame(out = as.numeric(out),\n",
    "           method = c(\"pellet\", \"pellet\", \"pellet\", \"sup\", \"sup\", \"sup\", \"whole\", \"whole\", \"whole\"),\n",
    "           rep = c(\"1\", \"2\", \"3\", \"1\", \"2\", \"3\", \"1\", \"2\", \"3\"))\n",
    "df$rep = as.factor(df$rep)\n",
    "df$method = as.factor(df$method)\n",
    "df"
   ]
  },
  {
   "cell_type": "code",
   "execution_count": 3,
   "metadata": {},
   "outputs": [
    {
     "data": {
      "text/plain": [
       "            Df Sum Sq Mean Sq F value   Pr(>F)    \n",
       "method       2 1.2998  0.6499 534.527 1.39e-05 ***\n",
       "rep          2 0.0013  0.0006   0.519     0.63    \n",
       "Residuals    4 0.0049  0.0012                     \n",
       "---\n",
       "Signif. codes:  0 ‘***’ 0.001 ‘**’ 0.01 ‘*’ 0.05 ‘.’ 0.1 ‘ ’ 1"
      ]
     },
     "metadata": {},
     "output_type": "display_data"
    }
   ],
   "source": [
    "summary(aov(out ~ method + rep, df))"
   ]
  },
  {
   "cell_type": "code",
   "execution_count": 4,
   "metadata": {},
   "outputs": [
    {
     "data": {
      "text/plain": [
       "\n",
       "\tPairwise comparisons using t tests with pooled SD \n",
       "\n",
       "data:  df$out and df$method \n",
       "\n",
       "      pellet sup  \n",
       "sup   2e-07  -    \n",
       "whole 0.14   2e-07\n",
       "\n",
       "P value adjustment method: holm "
      ]
     },
     "metadata": {},
     "output_type": "display_data"
    }
   ],
   "source": [
    "pairwise.t.test(df$out, df$method )"
   ]
  },
  {
   "cell_type": "code",
   "execution_count": 2,
   "metadata": {},
   "outputs": [
    {
     "data": {
      "text/html": [
       "<table>\n",
       "<thead><tr><th></th><th scope=col>H1.PelletTriflic.Fl.R1</th><th scope=col>H1.PelletTriflic.Fl.R2</th><th scope=col>H1.PelletTriflic.Fl.R3</th><th scope=col>H1.SonicSupTriflic.V2.R1</th><th scope=col>H1.SonicSupTriflic.V2.R2</th><th scope=col>H1.SonicSupTriflic.V2.R3</th><th scope=col>H1.wholetriflic.R1</th><th scope=col>H1.wholetriflic.R2</th><th scope=col>H1.wholetriflic.R3</th></tr></thead>\n",
       "<tbody>\n",
       "\t<tr><th scope=row>cytoplasm_ratio</th><td>-1.785034</td><td>-1.775075</td><td>-1.746566</td><td>-2.153882</td><td>-2.076268</td><td>-2.216874</td><td>-1.703023</td><td>-1.712905</td><td>-1.738183</td></tr>\n",
       "</tbody>\n",
       "</table>\n"
      ],
      "text/latex": [
       "\\begin{tabular}{r|lllllllll}\n",
       "  & H1.PelletTriflic.Fl.R1 & H1.PelletTriflic.Fl.R2 & H1.PelletTriflic.Fl.R3 & H1.SonicSupTriflic.V2.R1 & H1.SonicSupTriflic.V2.R2 & H1.SonicSupTriflic.V2.R3 & H1.wholetriflic.R1 & H1.wholetriflic.R2 & H1.wholetriflic.R3\\\\\n",
       "\\hline\n",
       "\tcytoplasm\\_ratio & -1.785034 & -1.775075 & -1.746566 & -2.153882 & -2.076268 & -2.216874 & -1.703023 & -1.712905 & -1.738183\\\\\n",
       "\\end{tabular}\n"
      ],
      "text/markdown": [
       "\n",
       "| <!--/--> | H1.PelletTriflic.Fl.R1 | H1.PelletTriflic.Fl.R2 | H1.PelletTriflic.Fl.R3 | H1.SonicSupTriflic.V2.R1 | H1.SonicSupTriflic.V2.R2 | H1.SonicSupTriflic.V2.R3 | H1.wholetriflic.R1 | H1.wholetriflic.R2 | H1.wholetriflic.R3 | \n",
       "|---|\n",
       "| cytoplasm_ratio | -1.785034 | -1.775075 | -1.746566 | -2.153882 | -2.076268 | -2.216874 | -1.703023 | -1.712905 | -1.738183 | \n",
       "\n",
       "\n"
      ],
      "text/plain": [
       "                H1.PelletTriflic.Fl.R1 H1.PelletTriflic.Fl.R2\n",
       "cytoplasm_ratio -1.785034              -1.775075             \n",
       "                H1.PelletTriflic.Fl.R3 H1.SonicSupTriflic.V2.R1\n",
       "cytoplasm_ratio -1.746566              -2.153882               \n",
       "                H1.SonicSupTriflic.V2.R2 H1.SonicSupTriflic.V2.R3\n",
       "cytoplasm_ratio -2.076268                -2.216874               \n",
       "                H1.wholetriflic.R1 H1.wholetriflic.R2 H1.wholetriflic.R3\n",
       "cytoplasm_ratio -1.703023          -1.712905          -1.738183         "
      ]
     },
     "metadata": {},
     "output_type": "display_data"
    }
   ],
   "source": [
    "out = read.csv(\"cytoplasm_ratio.csv\", row.names=1)[\"cytoplasm_ratio\",]\n",
    "out"
   ]
  },
  {
   "cell_type": "code",
   "execution_count": 3,
   "metadata": {},
   "outputs": [
    {
     "data": {
      "text/html": [
       "<table>\n",
       "<thead><tr><th scope=col>out</th><th scope=col>method</th><th scope=col>rep</th></tr></thead>\n",
       "<tbody>\n",
       "\t<tr><td>-1.785034</td><td>pellet   </td><td>1        </td></tr>\n",
       "\t<tr><td>-1.775075</td><td>pellet   </td><td>2        </td></tr>\n",
       "\t<tr><td>-1.746566</td><td>pellet   </td><td>3        </td></tr>\n",
       "\t<tr><td>-2.153882</td><td>sup      </td><td>1        </td></tr>\n",
       "\t<tr><td>-2.076268</td><td>sup      </td><td>2        </td></tr>\n",
       "\t<tr><td>-2.216874</td><td>sup      </td><td>3        </td></tr>\n",
       "\t<tr><td>-1.703023</td><td>whole    </td><td>1        </td></tr>\n",
       "\t<tr><td>-1.712905</td><td>whole    </td><td>2        </td></tr>\n",
       "\t<tr><td>-1.738183</td><td>whole    </td><td>3        </td></tr>\n",
       "</tbody>\n",
       "</table>\n"
      ],
      "text/latex": [
       "\\begin{tabular}{r|lll}\n",
       " out & method & rep\\\\\n",
       "\\hline\n",
       "\t -1.785034 & pellet    & 1        \\\\\n",
       "\t -1.775075 & pellet    & 2        \\\\\n",
       "\t -1.746566 & pellet    & 3        \\\\\n",
       "\t -2.153882 & sup       & 1        \\\\\n",
       "\t -2.076268 & sup       & 2        \\\\\n",
       "\t -2.216874 & sup       & 3        \\\\\n",
       "\t -1.703023 & whole     & 1        \\\\\n",
       "\t -1.712905 & whole     & 2        \\\\\n",
       "\t -1.738183 & whole     & 3        \\\\\n",
       "\\end{tabular}\n"
      ],
      "text/markdown": [
       "\n",
       "out | method | rep | \n",
       "|---|---|---|---|---|---|---|---|---|\n",
       "| -1.785034 | pellet    | 1         | \n",
       "| -1.775075 | pellet    | 2         | \n",
       "| -1.746566 | pellet    | 3         | \n",
       "| -2.153882 | sup       | 1         | \n",
       "| -2.076268 | sup       | 2         | \n",
       "| -2.216874 | sup       | 3         | \n",
       "| -1.703023 | whole     | 1         | \n",
       "| -1.712905 | whole     | 2         | \n",
       "| -1.738183 | whole     | 3         | \n",
       "\n",
       "\n"
      ],
      "text/plain": [
       "  out       method rep\n",
       "1 -1.785034 pellet 1  \n",
       "2 -1.775075 pellet 2  \n",
       "3 -1.746566 pellet 3  \n",
       "4 -2.153882 sup    1  \n",
       "5 -2.076268 sup    2  \n",
       "6 -2.216874 sup    3  \n",
       "7 -1.703023 whole  1  \n",
       "8 -1.712905 whole  2  \n",
       "9 -1.738183 whole  3  "
      ]
     },
     "metadata": {},
     "output_type": "display_data"
    }
   ],
   "source": [
    "df = data.frame(out = as.numeric(out),\n",
    "           method = c(\"pellet\", \"pellet\", \"pellet\", \"sup\", \"sup\", \"sup\", \"whole\", \"whole\", \"whole\"),\n",
    "           rep = c(\"1\", \"2\", \"3\", \"1\", \"2\", \"3\", \"1\", \"2\", \"3\"))\n",
    "df$rep = as.factor(df$rep)\n",
    "df$method = as.factor(df$method)\n",
    "df"
   ]
  },
  {
   "cell_type": "code",
   "execution_count": 4,
   "metadata": {},
   "outputs": [
    {
     "data": {
      "text/plain": [
       "            Df Sum Sq Mean Sq F value  Pr(>F)    \n",
       "method       2 0.3328 0.16641   81.05 0.00058 ***\n",
       "rep          2 0.0032 0.00158    0.77 0.52116    \n",
       "Residuals    4 0.0082 0.00205                    \n",
       "---\n",
       "Signif. codes:  0 ‘***’ 0.001 ‘**’ 0.01 ‘*’ 0.05 ‘.’ 0.1 ‘ ’ 1"
      ]
     },
     "metadata": {},
     "output_type": "display_data"
    }
   ],
   "source": [
    "summary(aov(out ~ method + rep, df))"
   ]
  },
  {
   "cell_type": "code",
   "execution_count": 5,
   "metadata": {},
   "outputs": [
    {
     "data": {
      "text/plain": [
       "\n",
       "\tPairwise comparisons using t tests with pooled SD \n",
       "\n",
       "data:  df$out and df$method \n",
       "\n",
       "      pellet  sup    \n",
       "sup   7.9e-05 -      \n",
       "whole 0.2     5.7e-05\n",
       "\n",
       "P value adjustment method: holm "
      ]
     },
     "metadata": {},
     "output_type": "display_data"
    }
   ],
   "source": [
    "pairwise.t.test(df$out, df$method )"
   ]
  }
 ],
 "metadata": {
  "kernelspec": {
   "display_name": "R",
   "language": "R",
   "name": "ir"
  },
  "language_info": {
   "codemirror_mode": "r",
   "file_extension": ".r",
   "mimetype": "text/x-r-source",
   "name": "R",
   "pygments_lexer": "r",
   "version": "3.4.3"
  }
 },
 "nbformat": 4,
 "nbformat_minor": 2
}
