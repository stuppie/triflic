{
 "cells": [
  {
   "cell_type": "code",
   "execution_count": 37,
   "metadata": {},
   "outputs": [
    {
     "data": {
      "text/html": [
       "<table>\n",
       "<thead><tr><th></th><th scope=col>H1.PelletTriflic.Fl.R1</th><th scope=col>H1.PelletTriflic.Fl.R2</th><th scope=col>H1.PelletTriflic.Fl.R3</th><th scope=col>H1.SonicSupTriflic.V2.R1</th><th scope=col>H1.SonicSupTriflic.V2.R2</th><th scope=col>H1.SonicSupTriflic.V2.R3</th><th scope=col>H1.wholetriflic.R1</th><th scope=col>H1.wholetriflic.R2</th><th scope=col>H1.wholetriflic.R3</th></tr></thead>\n",
       "<tbody>\n",
       "\t<tr><th scope=row>ratio</th><td>-1.219086 </td><td>-1.212372 </td><td>-1.213357 </td><td>-0.7372212</td><td>-0.7592455</td><td>-0.705239 </td><td>-1.254603 </td><td>-1.231976 </td><td>-1.251213 </td></tr>\n",
       "</tbody>\n",
       "</table>\n"
      ],
      "text/latex": [
       "\\begin{tabular}{r|lllllllll}\n",
       "  & H1.PelletTriflic.Fl.R1 & H1.PelletTriflic.Fl.R2 & H1.PelletTriflic.Fl.R3 & H1.SonicSupTriflic.V2.R1 & H1.SonicSupTriflic.V2.R2 & H1.SonicSupTriflic.V2.R3 & H1.wholetriflic.R1 & H1.wholetriflic.R2 & H1.wholetriflic.R3\\\\\n",
       "\\hline\n",
       "\tratio & -1.219086  & -1.212372  & -1.213357  & -0.7372212 & -0.7592455 & -0.705239  & -1.254603  & -1.231976  & -1.251213 \\\\\n",
       "\\end{tabular}\n"
      ],
      "text/markdown": [
       "\n",
       "| <!--/--> | H1.PelletTriflic.Fl.R1 | H1.PelletTriflic.Fl.R2 | H1.PelletTriflic.Fl.R3 | H1.SonicSupTriflic.V2.R1 | H1.SonicSupTriflic.V2.R2 | H1.SonicSupTriflic.V2.R3 | H1.wholetriflic.R1 | H1.wholetriflic.R2 | H1.wholetriflic.R3 | \n",
       "|---|\n",
       "| ratio | -1.219086  | -1.212372  | -1.213357  | -0.7372212 | -0.7592455 | -0.705239  | -1.254603  | -1.231976  | -1.251213  | \n",
       "\n",
       "\n"
      ],
      "text/plain": [
       "      H1.PelletTriflic.Fl.R1 H1.PelletTriflic.Fl.R2 H1.PelletTriflic.Fl.R3\n",
       "ratio -1.219086              -1.212372              -1.213357             \n",
       "      H1.SonicSupTriflic.V2.R1 H1.SonicSupTriflic.V2.R2\n",
       "ratio -0.7372212               -0.7592455              \n",
       "      H1.SonicSupTriflic.V2.R3 H1.wholetriflic.R1 H1.wholetriflic.R2\n",
       "ratio -0.705239                -1.254603          -1.231976         \n",
       "      H1.wholetriflic.R3\n",
       "ratio -1.251213         "
      ]
     },
     "metadata": {},
     "output_type": "display_data"
    }
   ],
   "source": [
    "out = read.csv(\"membrane_ratio.csv\", row.names=1)[\"ratio\",]\n",
    "out"
   ]
  },
  {
   "cell_type": "code",
   "execution_count": 40,
   "metadata": {},
   "outputs": [
    {
     "data": {
      "text/html": [
       "<table>\n",
       "<thead><tr><th scope=col>out</th><th scope=col>method</th><th scope=col>rep</th></tr></thead>\n",
       "<tbody>\n",
       "\t<tr><td>-1.2190859</td><td>pellet    </td><td>1         </td></tr>\n",
       "\t<tr><td>-1.2123723</td><td>pellet    </td><td>2         </td></tr>\n",
       "\t<tr><td>-1.2133567</td><td>pellet    </td><td>3         </td></tr>\n",
       "\t<tr><td>-0.7372212</td><td>sup       </td><td>1         </td></tr>\n",
       "\t<tr><td>-0.7592455</td><td>sup       </td><td>2         </td></tr>\n",
       "\t<tr><td>-0.7052390</td><td>sup       </td><td>3         </td></tr>\n",
       "\t<tr><td>-1.2546025</td><td>whole     </td><td>1         </td></tr>\n",
       "\t<tr><td>-1.2319763</td><td>whole     </td><td>2         </td></tr>\n",
       "\t<tr><td>-1.2512130</td><td>whole     </td><td>3         </td></tr>\n",
       "</tbody>\n",
       "</table>\n"
      ],
      "text/latex": [
       "\\begin{tabular}{r|lll}\n",
       " out & method & rep\\\\\n",
       "\\hline\n",
       "\t -1.2190859 & pellet     & 1         \\\\\n",
       "\t -1.2123723 & pellet     & 2         \\\\\n",
       "\t -1.2133567 & pellet     & 3         \\\\\n",
       "\t -0.7372212 & sup        & 1         \\\\\n",
       "\t -0.7592455 & sup        & 2         \\\\\n",
       "\t -0.7052390 & sup        & 3         \\\\\n",
       "\t -1.2546025 & whole      & 1         \\\\\n",
       "\t -1.2319763 & whole      & 2         \\\\\n",
       "\t -1.2512130 & whole      & 3         \\\\\n",
       "\\end{tabular}\n"
      ],
      "text/markdown": [
       "\n",
       "out | method | rep | \n",
       "|---|---|---|---|---|---|---|---|---|\n",
       "| -1.2190859 | pellet     | 1          | \n",
       "| -1.2123723 | pellet     | 2          | \n",
       "| -1.2133567 | pellet     | 3          | \n",
       "| -0.7372212 | sup        | 1          | \n",
       "| -0.7592455 | sup        | 2          | \n",
       "| -0.7052390 | sup        | 3          | \n",
       "| -1.2546025 | whole      | 1          | \n",
       "| -1.2319763 | whole      | 2          | \n",
       "| -1.2512130 | whole      | 3          | \n",
       "\n",
       "\n"
      ],
      "text/plain": [
       "  out        method rep\n",
       "1 -1.2190859 pellet 1  \n",
       "2 -1.2123723 pellet 2  \n",
       "3 -1.2133567 pellet 3  \n",
       "4 -0.7372212 sup    1  \n",
       "5 -0.7592455 sup    2  \n",
       "6 -0.7052390 sup    3  \n",
       "7 -1.2546025 whole  1  \n",
       "8 -1.2319763 whole  2  \n",
       "9 -1.2512130 whole  3  "
      ]
     },
     "metadata": {},
     "output_type": "display_data"
    }
   ],
   "source": [
    "df = data.frame(out = as.numeric(out),\n",
    "           method = c(\"pellet\", \"pellet\", \"pellet\", \"sup\", \"sup\", \"sup\", \"whole\", \"whole\", \"whole\"),\n",
    "           rep = c(\"1\", \"2\", \"3\", \"1\", \"2\", \"3\", \"1\", \"2\", \"3\"))\n",
    "df$rep = as.factor(df$rep)\n",
    "df$method = as.factor(df$method)\n",
    "df"
   ]
  },
  {
   "cell_type": "code",
   "execution_count": 46,
   "metadata": {},
   "outputs": [
    {
     "data": {
      "text/plain": [
       "            Df Sum Sq Mean Sq F value   Pr(>F)    \n",
       "method       2 0.4945 0.24726 668.951 8.89e-06 ***\n",
       "rep          2 0.0003 0.00016   0.434    0.675    \n",
       "Residuals    4 0.0015 0.00037                     \n",
       "---\n",
       "Signif. codes:  0 ‘***’ 0.001 ‘**’ 0.01 ‘*’ 0.05 ‘.’ 0.1 ‘ ’ 1"
      ]
     },
     "metadata": {},
     "output_type": "display_data"
    }
   ],
   "source": [
    "summary(aov(out ~ method + rep, df))"
   ]
  },
  {
   "cell_type": "code",
   "execution_count": 45,
   "metadata": {},
   "outputs": [
    {
     "data": {
      "text/plain": [
       "\n",
       "\tPairwise comparisons using t tests with pooled SD \n",
       "\n",
       "data:  df$out and df$method \n",
       "\n",
       "      pellet  sup    \n",
       "sup   8.9e-08 -      \n",
       "whole 0.071   8.9e-08\n",
       "\n",
       "P value adjustment method: holm "
      ]
     },
     "metadata": {},
     "output_type": "display_data"
    }
   ],
   "source": [
    "pairwise.t.test(df$out, df$method )"
   ]
  },
  {
   "cell_type": "code",
   "execution_count": null,
   "metadata": {},
   "outputs": [],
   "source": []
  }
 ],
 "metadata": {
  "kernelspec": {
   "display_name": "R",
   "language": "R",
   "name": "ir"
  },
  "language_info": {
   "codemirror_mode": "r",
   "file_extension": ".r",
   "mimetype": "text/x-r-source",
   "name": "R",
   "pygments_lexer": "r",
   "version": "3.4.3"
  }
 },
 "nbformat": 4,
 "nbformat_minor": 2
}
