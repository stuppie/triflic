{
 "cells": [
  {
   "cell_type": "code",
   "execution_count": 1,
   "metadata": {},
   "outputs": [
    {
     "data": {
      "text/html": [
       "<table>\n",
       "<thead><tr><th></th><th scope=col>H1.PelletTriflic.Fl.R1</th><th scope=col>H1.PelletTriflic.Fl.R2</th><th scope=col>H1.PelletTriflic.Fl.R3</th><th scope=col>H1.SonicSupTriflic.V2.R1</th><th scope=col>H1.SonicSupTriflic.V2.R2</th><th scope=col>H1.SonicSupTriflic.V2.R3</th><th scope=col>H1.wholetriflic.R1</th><th scope=col>H1.wholetriflic.R2</th><th scope=col>H1.wholetriflic.R3</th></tr></thead>\n",
       "<tbody>\n",
       "\t<tr><th scope=row>ratio</th><td>-1.219147 </td><td>-1.212433 </td><td>-1.213417 </td><td>-0.7373045</td><td>-0.7593315</td><td>-0.705321 </td><td>-1.254672 </td><td>-1.232046 </td><td>-1.25129  </td></tr>\n",
       "</tbody>\n",
       "</table>\n"
      ],
      "text/latex": [
       "\\begin{tabular}{r|lllllllll}\n",
       "  & H1.PelletTriflic.Fl.R1 & H1.PelletTriflic.Fl.R2 & H1.PelletTriflic.Fl.R3 & H1.SonicSupTriflic.V2.R1 & H1.SonicSupTriflic.V2.R2 & H1.SonicSupTriflic.V2.R3 & H1.wholetriflic.R1 & H1.wholetriflic.R2 & H1.wholetriflic.R3\\\\\n",
       "\\hline\n",
       "\tratio & -1.219147  & -1.212433  & -1.213417  & -0.7373045 & -0.7593315 & -0.705321  & -1.254672  & -1.232046  & -1.25129  \\\\\n",
       "\\end{tabular}\n"
      ],
      "text/markdown": [
       "\n",
       "| <!--/--> | H1.PelletTriflic.Fl.R1 | H1.PelletTriflic.Fl.R2 | H1.PelletTriflic.Fl.R3 | H1.SonicSupTriflic.V2.R1 | H1.SonicSupTriflic.V2.R2 | H1.SonicSupTriflic.V2.R3 | H1.wholetriflic.R1 | H1.wholetriflic.R2 | H1.wholetriflic.R3 | \n",
       "|---|\n",
       "| ratio | -1.219147  | -1.212433  | -1.213417  | -0.7373045 | -0.7593315 | -0.705321  | -1.254672  | -1.232046  | -1.25129   | \n",
       "\n",
       "\n"
      ],
      "text/plain": [
       "      H1.PelletTriflic.Fl.R1 H1.PelletTriflic.Fl.R2 H1.PelletTriflic.Fl.R3\n",
       "ratio -1.219147              -1.212433              -1.213417             \n",
       "      H1.SonicSupTriflic.V2.R1 H1.SonicSupTriflic.V2.R2\n",
       "ratio -0.7373045               -0.7593315              \n",
       "      H1.SonicSupTriflic.V2.R3 H1.wholetriflic.R1 H1.wholetriflic.R2\n",
       "ratio -0.705321                -1.254672          -1.232046         \n",
       "      H1.wholetriflic.R3\n",
       "ratio -1.25129          "
      ]
     },
     "metadata": {},
     "output_type": "display_data"
    }
   ],
   "source": [
    "out = read.csv(\"membrane_ratio.csv\", row.names=1)[\"ratio\",]\n",
    "out"
   ]
  },
  {
   "cell_type": "code",
   "execution_count": 2,
   "metadata": {},
   "outputs": [
    {
     "data": {
      "text/html": [
       "<table>\n",
       "<thead><tr><th scope=col>out</th><th scope=col>method</th><th scope=col>rep</th></tr></thead>\n",
       "<tbody>\n",
       "\t<tr><td>-1.2191473</td><td>pellet    </td><td>1         </td></tr>\n",
       "\t<tr><td>-1.2124335</td><td>pellet    </td><td>2         </td></tr>\n",
       "\t<tr><td>-1.2134171</td><td>pellet    </td><td>3         </td></tr>\n",
       "\t<tr><td>-0.7373045</td><td>sup       </td><td>1         </td></tr>\n",
       "\t<tr><td>-0.7593315</td><td>sup       </td><td>2         </td></tr>\n",
       "\t<tr><td>-0.7053210</td><td>sup       </td><td>3         </td></tr>\n",
       "\t<tr><td>-1.2546715</td><td>whole     </td><td>1         </td></tr>\n",
       "\t<tr><td>-1.2320463</td><td>whole     </td><td>2         </td></tr>\n",
       "\t<tr><td>-1.2512901</td><td>whole     </td><td>3         </td></tr>\n",
       "</tbody>\n",
       "</table>\n"
      ],
      "text/latex": [
       "\\begin{tabular}{r|lll}\n",
       " out & method & rep\\\\\n",
       "\\hline\n",
       "\t -1.2191473 & pellet     & 1         \\\\\n",
       "\t -1.2124335 & pellet     & 2         \\\\\n",
       "\t -1.2134171 & pellet     & 3         \\\\\n",
       "\t -0.7373045 & sup        & 1         \\\\\n",
       "\t -0.7593315 & sup        & 2         \\\\\n",
       "\t -0.7053210 & sup        & 3         \\\\\n",
       "\t -1.2546715 & whole      & 1         \\\\\n",
       "\t -1.2320463 & whole      & 2         \\\\\n",
       "\t -1.2512901 & whole      & 3         \\\\\n",
       "\\end{tabular}\n"
      ],
      "text/markdown": [
       "\n",
       "out | method | rep | \n",
       "|---|---|---|---|---|---|---|---|---|\n",
       "| -1.2191473 | pellet     | 1          | \n",
       "| -1.2124335 | pellet     | 2          | \n",
       "| -1.2134171 | pellet     | 3          | \n",
       "| -0.7373045 | sup        | 1          | \n",
       "| -0.7593315 | sup        | 2          | \n",
       "| -0.7053210 | sup        | 3          | \n",
       "| -1.2546715 | whole      | 1          | \n",
       "| -1.2320463 | whole      | 2          | \n",
       "| -1.2512901 | whole      | 3          | \n",
       "\n",
       "\n"
      ],
      "text/plain": [
       "  out        method rep\n",
       "1 -1.2191473 pellet 1  \n",
       "2 -1.2124335 pellet 2  \n",
       "3 -1.2134171 pellet 3  \n",
       "4 -0.7373045 sup    1  \n",
       "5 -0.7593315 sup    2  \n",
       "6 -0.7053210 sup    3  \n",
       "7 -1.2546715 whole  1  \n",
       "8 -1.2320463 whole  2  \n",
       "9 -1.2512901 whole  3  "
      ]
     },
     "metadata": {},
     "output_type": "display_data"
    }
   ],
   "source": [
    "df = data.frame(out = as.numeric(out),\n",
    "           method = c(\"pellet\", \"pellet\", \"pellet\", \"sup\", \"sup\", \"sup\", \"whole\", \"whole\", \"whole\"),\n",
    "           rep = c(\"1\", \"2\", \"3\", \"1\", \"2\", \"3\", \"1\", \"2\", \"3\"))\n",
    "df$rep = as.factor(df$rep)\n",
    "df$method = as.factor(df$method)\n",
    "df"
   ]
  },
  {
   "cell_type": "code",
   "execution_count": 3,
   "metadata": {},
   "outputs": [
    {
     "data": {
      "text/plain": [
       "            Df Sum Sq Mean Sq F value   Pr(>F)    \n",
       "method       2 0.4945 0.24725 668.750 8.89e-06 ***\n",
       "rep          2 0.0003 0.00016   0.433    0.676    \n",
       "Residuals    4 0.0015 0.00037                     \n",
       "---\n",
       "Signif. codes:  0 ‘***’ 0.001 ‘**’ 0.01 ‘*’ 0.05 ‘.’ 0.1 ‘ ’ 1"
      ]
     },
     "metadata": {},
     "output_type": "display_data"
    }
   ],
   "source": [
    "summary(aov(out ~ method + rep, df))"
   ]
  },
  {
   "cell_type": "code",
   "execution_count": 4,
   "metadata": {},
   "outputs": [
    {
     "data": {
      "text/plain": [
       "\n",
       "\tPairwise comparisons using t tests with pooled SD \n",
       "\n",
       "data:  df$out and df$method \n",
       "\n",
       "      pellet  sup    \n",
       "sup   8.9e-08 -      \n",
       "whole 0.071   8.9e-08\n",
       "\n",
       "P value adjustment method: holm "
      ]
     },
     "metadata": {},
     "output_type": "display_data"
    }
   ],
   "source": [
    "pairwise.t.test(df$out, df$method )"
   ]
  },
  {
   "cell_type": "code",
   "execution_count": 5,
   "metadata": {},
   "outputs": [
    {
     "data": {
      "text/html": [
       "<table>\n",
       "<thead><tr><th></th><th scope=col>H1.PelletTriflic.Fl.R1</th><th scope=col>H1.PelletTriflic.Fl.R2</th><th scope=col>H1.PelletTriflic.Fl.R3</th><th scope=col>H1.SonicSupTriflic.V2.R1</th><th scope=col>H1.SonicSupTriflic.V2.R2</th><th scope=col>H1.SonicSupTriflic.V2.R3</th><th scope=col>H1.wholetriflic.R1</th><th scope=col>H1.wholetriflic.R2</th><th scope=col>H1.wholetriflic.R3</th></tr></thead>\n",
       "<tbody>\n",
       "\t<tr><th scope=row>cytoplasm_ratio</th><td>-1.091936</td><td>-1.081977</td><td>-1.053466</td><td>-1.460822</td><td>-1.383206</td><td>-1.523817</td><td>-1.009929</td><td>-1.019812</td><td>-1.045097</td></tr>\n",
       "</tbody>\n",
       "</table>\n"
      ],
      "text/latex": [
       "\\begin{tabular}{r|lllllllll}\n",
       "  & H1.PelletTriflic.Fl.R1 & H1.PelletTriflic.Fl.R2 & H1.PelletTriflic.Fl.R3 & H1.SonicSupTriflic.V2.R1 & H1.SonicSupTriflic.V2.R2 & H1.SonicSupTriflic.V2.R3 & H1.wholetriflic.R1 & H1.wholetriflic.R2 & H1.wholetriflic.R3\\\\\n",
       "\\hline\n",
       "\tcytoplasm\\_ratio & -1.091936 & -1.081977 & -1.053466 & -1.460822 & -1.383206 & -1.523817 & -1.009929 & -1.019812 & -1.045097\\\\\n",
       "\\end{tabular}\n"
      ],
      "text/markdown": [
       "\n",
       "| <!--/--> | H1.PelletTriflic.Fl.R1 | H1.PelletTriflic.Fl.R2 | H1.PelletTriflic.Fl.R3 | H1.SonicSupTriflic.V2.R1 | H1.SonicSupTriflic.V2.R2 | H1.SonicSupTriflic.V2.R3 | H1.wholetriflic.R1 | H1.wholetriflic.R2 | H1.wholetriflic.R3 | \n",
       "|---|\n",
       "| cytoplasm_ratio | -1.091936 | -1.081977 | -1.053466 | -1.460822 | -1.383206 | -1.523817 | -1.009929 | -1.019812 | -1.045097 | \n",
       "\n",
       "\n"
      ],
      "text/plain": [
       "                H1.PelletTriflic.Fl.R1 H1.PelletTriflic.Fl.R2\n",
       "cytoplasm_ratio -1.091936              -1.081977             \n",
       "                H1.PelletTriflic.Fl.R3 H1.SonicSupTriflic.V2.R1\n",
       "cytoplasm_ratio -1.053466              -1.460822               \n",
       "                H1.SonicSupTriflic.V2.R2 H1.SonicSupTriflic.V2.R3\n",
       "cytoplasm_ratio -1.383206                -1.523817               \n",
       "                H1.wholetriflic.R1 H1.wholetriflic.R2 H1.wholetriflic.R3\n",
       "cytoplasm_ratio -1.009929          -1.019812          -1.045097         "
      ]
     },
     "metadata": {},
     "output_type": "display_data"
    }
   ],
   "source": [
    "out = read.csv(\"cytoplasm_ratio.csv\", row.names=1)[\"cytoplasm_ratio\",]\n",
    "out"
   ]
  },
  {
   "cell_type": "code",
   "execution_count": 6,
   "metadata": {},
   "outputs": [
    {
     "data": {
      "text/html": [
       "<table>\n",
       "<thead><tr><th scope=col>out</th><th scope=col>method</th><th scope=col>rep</th></tr></thead>\n",
       "<tbody>\n",
       "\t<tr><td>-1.091936</td><td>pellet   </td><td>1        </td></tr>\n",
       "\t<tr><td>-1.081977</td><td>pellet   </td><td>2        </td></tr>\n",
       "\t<tr><td>-1.053466</td><td>pellet   </td><td>3        </td></tr>\n",
       "\t<tr><td>-1.460822</td><td>sup      </td><td>1        </td></tr>\n",
       "\t<tr><td>-1.383206</td><td>sup      </td><td>2        </td></tr>\n",
       "\t<tr><td>-1.523817</td><td>sup      </td><td>3        </td></tr>\n",
       "\t<tr><td>-1.009929</td><td>whole    </td><td>1        </td></tr>\n",
       "\t<tr><td>-1.019812</td><td>whole    </td><td>2        </td></tr>\n",
       "\t<tr><td>-1.045097</td><td>whole    </td><td>3        </td></tr>\n",
       "</tbody>\n",
       "</table>\n"
      ],
      "text/latex": [
       "\\begin{tabular}{r|lll}\n",
       " out & method & rep\\\\\n",
       "\\hline\n",
       "\t -1.091936 & pellet    & 1        \\\\\n",
       "\t -1.081977 & pellet    & 2        \\\\\n",
       "\t -1.053466 & pellet    & 3        \\\\\n",
       "\t -1.460822 & sup       & 1        \\\\\n",
       "\t -1.383206 & sup       & 2        \\\\\n",
       "\t -1.523817 & sup       & 3        \\\\\n",
       "\t -1.009929 & whole     & 1        \\\\\n",
       "\t -1.019812 & whole     & 2        \\\\\n",
       "\t -1.045097 & whole     & 3        \\\\\n",
       "\\end{tabular}\n"
      ],
      "text/markdown": [
       "\n",
       "out | method | rep | \n",
       "|---|---|---|---|---|---|---|---|---|\n",
       "| -1.091936 | pellet    | 1         | \n",
       "| -1.081977 | pellet    | 2         | \n",
       "| -1.053466 | pellet    | 3         | \n",
       "| -1.460822 | sup       | 1         | \n",
       "| -1.383206 | sup       | 2         | \n",
       "| -1.523817 | sup       | 3         | \n",
       "| -1.009929 | whole     | 1         | \n",
       "| -1.019812 | whole     | 2         | \n",
       "| -1.045097 | whole     | 3         | \n",
       "\n",
       "\n"
      ],
      "text/plain": [
       "  out       method rep\n",
       "1 -1.091936 pellet 1  \n",
       "2 -1.081977 pellet 2  \n",
       "3 -1.053466 pellet 3  \n",
       "4 -1.460822 sup    1  \n",
       "5 -1.383206 sup    2  \n",
       "6 -1.523817 sup    3  \n",
       "7 -1.009929 whole  1  \n",
       "8 -1.019812 whole  2  \n",
       "9 -1.045097 whole  3  "
      ]
     },
     "metadata": {},
     "output_type": "display_data"
    }
   ],
   "source": [
    "df = data.frame(out = as.numeric(out),\n",
    "           method = c(\"pellet\", \"pellet\", \"pellet\", \"sup\", \"sup\", \"sup\", \"whole\", \"whole\", \"whole\"),\n",
    "           rep = c(\"1\", \"2\", \"3\", \"1\", \"2\", \"3\", \"1\", \"2\", \"3\"))\n",
    "df$rep = as.factor(df$rep)\n",
    "df$method = as.factor(df$method)\n",
    "df"
   ]
  },
  {
   "cell_type": "code",
   "execution_count": 7,
   "metadata": {},
   "outputs": [
    {
     "data": {
      "text/plain": [
       "            Df Sum Sq Mean Sq F value  Pr(>F)    \n",
       "method       2 0.3329 0.16643   81.06 0.00058 ***\n",
       "rep          2 0.0032 0.00158    0.77 0.52115    \n",
       "Residuals    4 0.0082 0.00205                    \n",
       "---\n",
       "Signif. codes:  0 ‘***’ 0.001 ‘**’ 0.01 ‘*’ 0.05 ‘.’ 0.1 ‘ ’ 1"
      ]
     },
     "metadata": {},
     "output_type": "display_data"
    }
   ],
   "source": [
    "summary(aov(out ~ method + rep, df))"
   ]
  },
  {
   "cell_type": "code",
   "execution_count": 8,
   "metadata": {},
   "outputs": [
    {
     "data": {
      "text/plain": [
       "\n",
       "\tPairwise comparisons using t tests with pooled SD \n",
       "\n",
       "data:  df$out and df$method \n",
       "\n",
       "      pellet  sup    \n",
       "sup   7.9e-05 -      \n",
       "whole 0.2     5.7e-05\n",
       "\n",
       "P value adjustment method: holm "
      ]
     },
     "metadata": {},
     "output_type": "display_data"
    }
   ],
   "source": [
    "pairwise.t.test(df$out, df$method )"
   ]
  },
  {
   "cell_type": "code",
   "execution_count": null,
   "metadata": {},
   "outputs": [],
   "source": []
  }
 ],
 "metadata": {
  "kernelspec": {
   "display_name": "R",
   "language": "R",
   "name": "ir"
  },
  "language_info": {
   "codemirror_mode": "r",
   "file_extension": ".r",
   "mimetype": "text/x-r-source",
   "name": "R",
   "pygments_lexer": "r",
   "version": "3.4.3"
  }
 },
 "nbformat": 4,
 "nbformat_minor": 2
}
