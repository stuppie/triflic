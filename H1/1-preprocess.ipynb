{
 "cells": [
  {
   "cell_type": "code",
   "execution_count": 4,
   "metadata": {},
   "outputs": [],
   "source": [
    "import os\n",
    "import sys\n",
    "sys.path.insert(0, \"/home/gstupp/projects/metaproteomics/\")\n",
    "#BASE = os.path.join(os.path.dirname(os.path.realpath(sys.argv[0])), \"..\")\n",
    "BASE = \"/home/gstupp/projects/Wolan/ana_extractions/analysis/H1\"\n",
    "DATA = os.path.join(BASE, \"data\")\n",
    "OUT = os.path.join(BASE, \"out\")\n",
    "\n",
    "from metaproteomics import utils\n",
    "import pandas as pd\n",
    "from itertools import chain\n",
    "import re\n",
    "import shelve\n",
    "from tqdm import tqdm\n",
    "import numpy as np\n",
    "import matplotlib.pyplot as plt\n",
    "from sklearn import preprocessing\n",
    "from collections import Counter\n",
    "from collections import defaultdict\n",
    "\n",
    "from metaproteomics.analysis import build_loci ,functional_analysis\n",
    "from metaproteomics.analysis.DBInfo import DBInfo\n",
    "\n",
    "f = functional_analysis.Functionizer()\n",
    "\n",
    "db_info = DBInfo(\"compil_mgm\")\n",
    "metadata = build_loci.read_metadata(\"metadata.csv\")"
   ]
  },
  {
   "cell_type": "code",
   "execution_count": 7,
   "metadata": {},
   "outputs": [
    {
     "data": {
      "text/html": [
       "<div>\n",
       "<table border=\"1\" class=\"dataframe\">\n",
       "  <thead>\n",
       "    <tr style=\"text-align: right;\">\n",
       "      <th></th>\n",
       "      <th>H1-PelletTriflic-Fl-R1</th>\n",
       "      <th>H1-PelletTriflic-Fl-R2</th>\n",
       "      <th>H1-PelletTriflic-Fl-R3</th>\n",
       "      <th>H1-SonicSupTriflic-V2-R1</th>\n",
       "      <th>H1-SonicSupTriflic-V2-R2</th>\n",
       "      <th>H1-SonicSupTriflic-V2-R3</th>\n",
       "      <th>H1-wholetriflic-R1</th>\n",
       "      <th>H1-wholetriflic-R2</th>\n",
       "      <th>H1-wholetriflic-R3</th>\n",
       "    </tr>\n",
       "  </thead>\n",
       "  <tbody>\n",
       "    <tr>\n",
       "      <th>technical</th>\n",
       "      <td>1</td>\n",
       "      <td>2</td>\n",
       "      <td>3</td>\n",
       "      <td>1</td>\n",
       "      <td>2</td>\n",
       "      <td>3</td>\n",
       "      <td>1</td>\n",
       "      <td>2</td>\n",
       "      <td>3</td>\n",
       "    </tr>\n",
       "    <tr>\n",
       "      <th>sample_type</th>\n",
       "      <td>sonic_pellet</td>\n",
       "      <td>sonic_pellet</td>\n",
       "      <td>sonic_pellet</td>\n",
       "      <td>sonic_sup</td>\n",
       "      <td>sonic_sup</td>\n",
       "      <td>sonic_sup</td>\n",
       "      <td>whole</td>\n",
       "      <td>whole</td>\n",
       "      <td>whole</td>\n",
       "    </tr>\n",
       "    <tr>\n",
       "      <th>sample_name</th>\n",
       "      <td>H1-PelletTriflic-Fl-R1</td>\n",
       "      <td>H1-PelletTriflic-Fl-R2</td>\n",
       "      <td>H1-PelletTriflic-Fl-R3</td>\n",
       "      <td>H1-SonicSupTriflic-V2-R1</td>\n",
       "      <td>H1-SonicSupTriflic-V2-R2</td>\n",
       "      <td>H1-SonicSupTriflic-V2-R3</td>\n",
       "      <td>H1-wholetriflic-R1</td>\n",
       "      <td>H1-wholetriflic-R2</td>\n",
       "      <td>H1-wholetriflic-R3</td>\n",
       "    </tr>\n",
       "    <tr>\n",
       "      <th>path</th>\n",
       "      <td>/home/gstupp/projects/Wolan/ana_extractions/H1...</td>\n",
       "      <td>/home/gstupp/projects/Wolan/ana_extractions/H1...</td>\n",
       "      <td>/home/gstupp/projects/Wolan/ana_extractions/H1...</td>\n",
       "      <td>/home/gstupp/projects/Wolan/ana_extractions/H1...</td>\n",
       "      <td>/home/gstupp/projects/Wolan/ana_extractions/H1...</td>\n",
       "      <td>/home/gstupp/projects/Wolan/ana_extractions/H1...</td>\n",
       "      <td>/home/gstupp/projects/Wolan/ana_extractions/H1...</td>\n",
       "      <td>/home/gstupp/projects/Wolan/ana_extractions/H1...</td>\n",
       "      <td>/home/gstupp/projects/Wolan/ana_extractions/H1...</td>\n",
       "    </tr>\n",
       "  </tbody>\n",
       "</table>\n",
       "</div>"
      ],
      "text/plain": [
       "                                        H1-PelletTriflic-Fl-R1  \\\n",
       "technical                                                    1   \n",
       "sample_type                                       sonic_pellet   \n",
       "sample_name                             H1-PelletTriflic-Fl-R1   \n",
       "path         /home/gstupp/projects/Wolan/ana_extractions/H1...   \n",
       "\n",
       "                                        H1-PelletTriflic-Fl-R2  \\\n",
       "technical                                                    2   \n",
       "sample_type                                       sonic_pellet   \n",
       "sample_name                             H1-PelletTriflic-Fl-R2   \n",
       "path         /home/gstupp/projects/Wolan/ana_extractions/H1...   \n",
       "\n",
       "                                        H1-PelletTriflic-Fl-R3  \\\n",
       "technical                                                    3   \n",
       "sample_type                                       sonic_pellet   \n",
       "sample_name                             H1-PelletTriflic-Fl-R3   \n",
       "path         /home/gstupp/projects/Wolan/ana_extractions/H1...   \n",
       "\n",
       "                                      H1-SonicSupTriflic-V2-R1  \\\n",
       "technical                                                    1   \n",
       "sample_type                                          sonic_sup   \n",
       "sample_name                           H1-SonicSupTriflic-V2-R1   \n",
       "path         /home/gstupp/projects/Wolan/ana_extractions/H1...   \n",
       "\n",
       "                                      H1-SonicSupTriflic-V2-R2  \\\n",
       "technical                                                    2   \n",
       "sample_type                                          sonic_sup   \n",
       "sample_name                           H1-SonicSupTriflic-V2-R2   \n",
       "path         /home/gstupp/projects/Wolan/ana_extractions/H1...   \n",
       "\n",
       "                                      H1-SonicSupTriflic-V2-R3  \\\n",
       "technical                                                    3   \n",
       "sample_type                                          sonic_sup   \n",
       "sample_name                           H1-SonicSupTriflic-V2-R3   \n",
       "path         /home/gstupp/projects/Wolan/ana_extractions/H1...   \n",
       "\n",
       "                                            H1-wholetriflic-R1  \\\n",
       "technical                                                    1   \n",
       "sample_type                                              whole   \n",
       "sample_name                                 H1-wholetriflic-R1   \n",
       "path         /home/gstupp/projects/Wolan/ana_extractions/H1...   \n",
       "\n",
       "                                            H1-wholetriflic-R2  \\\n",
       "technical                                                    2   \n",
       "sample_type                                              whole   \n",
       "sample_name                                 H1-wholetriflic-R2   \n",
       "path         /home/gstupp/projects/Wolan/ana_extractions/H1...   \n",
       "\n",
       "                                            H1-wholetriflic-R3  \n",
       "technical                                                    3  \n",
       "sample_type                                              whole  \n",
       "sample_name                                 H1-wholetriflic-R3  \n",
       "path         /home/gstupp/projects/Wolan/ana_extractions/H1...  "
      ]
     },
     "execution_count": 7,
     "metadata": {},
     "output_type": "execute_result"
    }
   ],
   "source": [
    "metadata"
   ]
  },
  {
   "cell_type": "code",
   "execution_count": 8,
   "metadata": {},
   "outputs": [
    {
     "name": "stderr",
     "output_type": "stream",
     "text": [
      "100%|██████████| 9/9 [01:32<00:00, 10.23s/it]\n"
     ]
    }
   ],
   "source": [
    "#%% Parse samples\n",
    "samples = shelve.open(os.path.join(OUT,\"samples.shelve\"))\n",
    "for sample_name, sample_info in tqdm(list(metadata.iteritems())):\n",
    "    sample = build_loci.Sample(sample_name, sample_info.path, db_info, sample_info)\n",
    "    samples[sample.sample_name] = sample"
   ]
  },
  {
   "cell_type": "code",
   "execution_count": 9,
   "metadata": {},
   "outputs": [],
   "source": [
    "# Build protein clusters for each sample\n",
    "protein_clusters = shelve.open(os.path.join(OUT,\"protein_clusters.shelve\"))\n",
    "for name,sample in samples.items():\n",
    "    protein_clusters[name] = sample.build_protein_clusters()"
   ]
  },
  {
   "cell_type": "code",
   "execution_count": 10,
   "metadata": {},
   "outputs": [
    {
     "name": "stderr",
     "output_type": "stream",
     "text": [
      "load obo file /home/gstupp/projects/metaproteomics/metaproteomics/goatools/go-basic.obo\n",
      "48437 nodes imported\n"
     ]
    }
   ],
   "source": [
    "# generate proteins clusters across all samples\n",
    "sample_pep_quant = {sample.sample_name:sample.pep_quant for sample in samples.values()}\n",
    "grouped_loci = build_loci.group_across_samples(list(chain(*protein_clusters.values())), sample_pep_quant)\n",
    "utils.save(grouped_loci, os.path.join(OUT,\"grouped_loci.pkl.gz\"), force=True)"
   ]
  },
  {
   "cell_type": "code",
   "execution_count": 11,
   "metadata": {},
   "outputs": [],
   "source": [
    "# write out matrix\n",
    "df = build_loci.to_df(grouped_loci, norm=False)\n",
    "df.T.to_csv(os.path.join(OUT,\"df.csv\"))"
   ]
  },
  {
   "cell_type": "code",
   "execution_count": 12,
   "metadata": {},
   "outputs": [
    {
     "data": {
      "text/plain": [
       "(9, 10606)"
      ]
     },
     "execution_count": 12,
     "metadata": {},
     "output_type": "execute_result"
    }
   ],
   "source": [
    "df.shape"
   ]
  },
  {
   "cell_type": "code",
   "execution_count": 13,
   "metadata": {},
   "outputs": [],
   "source": [
    "grouped_loci = utils.load(os.path.join(OUT,\"grouped_loci.pkl.gz\"))"
   ]
  },
  {
   "cell_type": "code",
   "execution_count": 14,
   "metadata": {},
   "outputs": [
    {
     "data": {
      "text/plain": [
       "8083"
      ]
     },
     "execution_count": 14,
     "metadata": {},
     "output_type": "execute_result"
    }
   ],
   "source": [
    "# filter loci, min spectral count of 4 in at least two samples\n",
    "min_quant = 4\n",
    "min_samples = 2\n",
    "grouped_loci = [locus for locus in grouped_loci if len([x for x in locus.quantification.values() if x>=min_quant]) >= min_samples]\n",
    "len(grouped_loci)"
   ]
  },
  {
   "cell_type": "code",
   "execution_count": 15,
   "metadata": {},
   "outputs": [],
   "source": [
    "utils.save(grouped_loci, os.path.join(OUT,\"grouped_loci_filt.pkl.gz\"), force=True)"
   ]
  },
  {
   "cell_type": "code",
   "execution_count": 16,
   "metadata": {},
   "outputs": [
    {
     "data": {
      "text/plain": [
       "(9, 8083)"
      ]
     },
     "execution_count": 16,
     "metadata": {},
     "output_type": "execute_result"
    }
   ],
   "source": [
    "df = build_loci.to_df(grouped_loci, norm=False)\n",
    "df.T.to_csv(os.path.join(OUT,\"df_filt.csv\"))\n",
    "df.shape"
   ]
  },
  {
   "cell_type": "code",
   "execution_count": 17,
   "metadata": {},
   "outputs": [
    {
     "name": "stderr",
     "output_type": "stream",
     "text": [
      "100%|██████████| 8083/8083 [59:31<00:00,  2.26it/s]\n"
     ]
    }
   ],
   "source": [
    "# run functional annotation\n",
    "for locus in tqdm(grouped_loci):\n",
    "    locus.annotate()\n",
    "utils.save(grouped_loci, os.path.join(OUT,\"grouped_loci_filt_annot.pkl.gz\"), force=True)"
   ]
  },
  {
   "cell_type": "code",
   "execution_count": 18,
   "metadata": {},
   "outputs": [],
   "source": [
    "#%% mark as human/mouse and other\n",
    "from metaproteomics.analysis import taxonomy\n",
    "t = taxonomy.Taxonomy(host=\"wl-cmadmin.scripps.edu\")\n",
    "# human or mouse taxids and ancestors (up to the phylum chordata (7711)):\n",
    "chordata = set(t.taxid_to_taxonomy(7711)['lineage'])\n",
    "human = set(t.taxid_to_taxonomy(9606)['lineage']) - chordata\n",
    "mouse = set(t.taxid_to_taxonomy(10090)['lineage']) - chordata\n",
    "human_mouse = human | mouse\n",
    "for locus in grouped_loci:\n",
    "    locus.human_mouse = True if locus.lca in human_mouse else False"
   ]
  },
  {
   "cell_type": "code",
   "execution_count": 19,
   "metadata": {},
   "outputs": [],
   "source": [
    "#%% Build a locus -> metadata table\n",
    "for locus in grouped_loci:\n",
    "    names = [x['d'] for x in locus.prot_info]\n",
    "    gn=set(chain(*[re.findall(\"GN=([^ ]*)\",name) for name in names]))\n",
    "    locus.gn = ','.join(gn) if gn else ''\n",
    "    locus.gn1 = list(gn)[0] if len(gn)==1 else ''\n",
    "locus_df = pd.DataFrame({locus.cluster_id: {'name': locus.name, 'human_mouse': locus.human_mouse, 'lca':locus.lca, 'gn':locus.gn, 'gn1':locus.gn1} for locus in grouped_loci}).T\n",
    "locus_df.to_csv(os.path.join(OUT,\"locus_df.csv\"))"
   ]
  },
  {
   "cell_type": "code",
   "execution_count": 5,
   "metadata": {},
   "outputs": [],
   "source": [
    "grouped_loci = utils.load(os.path.join(OUT,\"grouped_loci_filt_annot.pkl.gz\"))"
   ]
  },
  {
   "cell_type": "code",
   "execution_count": 9,
   "metadata": {},
   "outputs": [],
   "source": [
    "from collections import Counter"
   ]
  },
  {
   "cell_type": "code",
   "execution_count": 11,
   "metadata": {},
   "outputs": [
    {
     "data": {
      "text/plain": [
       "Counter({False: 6018, True: 2065})"
      ]
     },
     "execution_count": 11,
     "metadata": {},
     "output_type": "execute_result"
    }
   ],
   "source": [
    "Counter([len(x.annotations.get('go',[]))==0 for x in grouped_loci])"
   ]
  },
  {
   "cell_type": "code",
   "execution_count": 13,
   "metadata": {},
   "outputs": [
    {
     "data": {
      "text/plain": [
       "2.5749103055796114"
      ]
     },
     "execution_count": 13,
     "metadata": {},
     "output_type": "execute_result"
    }
   ],
   "source": [
    "np.mean([len(x.annotations.get('go',[])) for x in grouped_loci])"
   ]
  }
 ],
 "metadata": {
  "kernelspec": {
   "display_name": "Python 3",
   "language": "python",
   "name": "python3"
  },
  "language_info": {
   "codemirror_mode": {
    "name": "ipython",
    "version": 3
   },
   "file_extension": ".py",
   "mimetype": "text/x-python",
   "name": "python",
   "nbconvert_exporter": "python",
   "pygments_lexer": "ipython3",
   "version": "3.5.2"
  }
 },
 "nbformat": 4,
 "nbformat_minor": 2
}
