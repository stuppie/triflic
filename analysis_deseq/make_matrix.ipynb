{
 "cells": [
  {
   "cell_type": "code",
   "execution_count": 1,
   "metadata": {
    "collapsed": true
   },
   "outputs": [],
   "source": [
    "#make matrix for deseq\n",
    "import sys\n",
    "sys.path.insert(0, \"/home/gstupp/projects/metaproteomics\")"
   ]
  },
  {
   "cell_type": "code",
   "execution_count": 2,
   "metadata": {
    "collapsed": true
   },
   "outputs": [],
   "source": [
    "import os\n",
    "import requests\n",
    "import pandas as pd\n",
    "from tqdm import tqdm\n",
    "from collections import defaultdict, Counter\n",
    "from glob import glob\n",
    "import numpy as np\n",
    "from itertools import chain\n",
    "import pandas as pd\n",
    "import matplotlib\n",
    "matplotlib.rcParams.update({'font.size': 22})"
   ]
  },
  {
   "cell_type": "code",
   "execution_count": 3,
   "metadata": {
    "collapsed": true
   },
   "outputs": [],
   "source": [
    "from metaproteomics.file_processing.blazmass_tools import dta_select_parser, build_pep_quant_dict"
   ]
  },
  {
   "cell_type": "code",
   "execution_count": 4,
   "metadata": {},
   "outputs": [
    {
     "data": {
      "text/plain": [
       "['data/PA/Pellet/PA pellet 2.txt', 'data/PA/Pellet/PA pellet 3.txt']"
      ]
     },
     "execution_count": 4,
     "metadata": {},
     "output_type": "execute_result"
    }
   ],
   "source": [
    "files = glob(\"data/*/*/*.txt\")\n",
    "files[:2]"
   ]
  },
  {
   "cell_type": "code",
   "execution_count": 5,
   "metadata": {},
   "outputs": [
    {
     "data": {
      "text/html": [
       "<div>\n",
       "<table border=\"1\" class=\"dataframe\">\n",
       "  <thead>\n",
       "    <tr style=\"text-align: right;\">\n",
       "      <th></th>\n",
       "      <th>cell</th>\n",
       "      <th>file</th>\n",
       "      <th>method</th>\n",
       "      <th>name</th>\n",
       "      <th>pretty_name</th>\n",
       "    </tr>\n",
       "    <tr>\n",
       "      <th>name</th>\n",
       "      <th></th>\n",
       "      <th></th>\n",
       "      <th></th>\n",
       "      <th></th>\n",
       "      <th></th>\n",
       "    </tr>\n",
       "  </thead>\n",
       "  <tbody>\n",
       "    <tr>\n",
       "      <th>PA_pellet_2</th>\n",
       "      <td>PA</td>\n",
       "      <td>data/PA/Pellet/PA pellet 2.txt</td>\n",
       "      <td>pellet</td>\n",
       "      <td>PA_pellet_2</td>\n",
       "      <td>PA pellet 2</td>\n",
       "    </tr>\n",
       "    <tr>\n",
       "      <th>PA_pellet_3</th>\n",
       "      <td>PA</td>\n",
       "      <td>data/PA/Pellet/PA pellet 3.txt</td>\n",
       "      <td>pellet</td>\n",
       "      <td>PA_pellet_3</td>\n",
       "      <td>PA pellet 3</td>\n",
       "    </tr>\n",
       "    <tr>\n",
       "      <th>PA_pellet_1</th>\n",
       "      <td>PA</td>\n",
       "      <td>data/PA/Pellet/PA pellet 1.txt</td>\n",
       "      <td>pellet</td>\n",
       "      <td>PA_pellet_1</td>\n",
       "      <td>PA pellet 1</td>\n",
       "    </tr>\n",
       "    <tr>\n",
       "      <th>PA_triflic_2</th>\n",
       "      <td>PA</td>\n",
       "      <td>data/PA/Triflic/PA triflic 2.txt</td>\n",
       "      <td>triflic</td>\n",
       "      <td>PA_triflic_2</td>\n",
       "      <td>PA triflic 2</td>\n",
       "    </tr>\n",
       "    <tr>\n",
       "      <th>PA_triflic_3</th>\n",
       "      <td>PA</td>\n",
       "      <td>data/PA/Triflic/PA triflic 3.txt</td>\n",
       "      <td>triflic</td>\n",
       "      <td>PA_triflic_3</td>\n",
       "      <td>PA triflic 3</td>\n",
       "    </tr>\n",
       "  </tbody>\n",
       "</table>\n",
       "</div>"
      ],
      "text/plain": [
       "             cell                              file   method          name  \\\n",
       "name                                                                         \n",
       "PA_pellet_2    PA    data/PA/Pellet/PA pellet 2.txt   pellet   PA_pellet_2   \n",
       "PA_pellet_3    PA    data/PA/Pellet/PA pellet 3.txt   pellet   PA_pellet_3   \n",
       "PA_pellet_1    PA    data/PA/Pellet/PA pellet 1.txt   pellet   PA_pellet_1   \n",
       "PA_triflic_2   PA  data/PA/Triflic/PA triflic 2.txt  triflic  PA_triflic_2   \n",
       "PA_triflic_3   PA  data/PA/Triflic/PA triflic 3.txt  triflic  PA_triflic_3   \n",
       "\n",
       "               pretty_name  \n",
       "name                        \n",
       "PA_pellet_2    PA pellet 2  \n",
       "PA_pellet_3    PA pellet 3  \n",
       "PA_pellet_1    PA pellet 1  \n",
       "PA_triflic_2  PA triflic 2  \n",
       "PA_triflic_3  PA triflic 3  "
      ]
     },
     "execution_count": 5,
     "metadata": {},
     "output_type": "execute_result"
    }
   ],
   "source": [
    "meta = pd.DataFrame([{\"cell\": s.rsplit(\"/\", 1)[-1].split(\" \")[0], \n",
    "  \"method\": s.rsplit(\"/\", 1)[-1].split(\" \")[1],\n",
    "  \"name\": s.rsplit(\"/\", 1)[-1].split(\".\")[0].replace(\" \", \"_\"),\n",
    "  \"pretty_name\": s.rsplit(\"/\", 1)[-1].split(\".\")[0],\n",
    "  \"file\": s } for s in files])\n",
    "meta.index = meta.name\n",
    "meta.to_csv(\"metadata.csv\")\n",
    "meta.head()"
   ]
  },
  {
   "cell_type": "code",
   "execution_count": 6,
   "metadata": {
    "collapsed": true
   },
   "outputs": [],
   "source": [
    "def assign_id(locus):\n",
    "    locus['id'] = locus['name'].split(\"|\")[1] if \"|\" in locus['name'] else locus['name']\n",
    "    return locus"
   ]
  },
  {
   "cell_type": "code",
   "execution_count": 7,
   "metadata": {
    "collapsed": true
   },
   "outputs": [],
   "source": [
    "def pick_descriptive_name(locus):\n",
    "    return locus['loci'][0]['Descriptive Name']"
   ]
  },
  {
   "cell_type": "code",
   "execution_count": 8,
   "metadata": {},
   "outputs": [],
   "source": [
    "uniprot_name = [{x['id']: pick_descriptive_name(assign_id(x)) for x in dta_select_parser(file, return_reverse=False)} for file in files]\n",
    "uniprot_name = { k: v for d in uniprot_name for k, v in d.items() }"
   ]
  },
  {
   "cell_type": "code",
   "execution_count": 9,
   "metadata": {},
   "outputs": [
    {
     "data": {
      "text/html": [
       "<div>\n",
       "<table border=\"1\" class=\"dataframe\">\n",
       "  <thead>\n",
       "    <tr style=\"text-align: right;\">\n",
       "      <th></th>\n",
       "      <th>BS_sonic_1</th>\n",
       "      <th>BS_sonic_2</th>\n",
       "      <th>BS_sonic_3</th>\n",
       "      <th>BS_triflic_1</th>\n",
       "      <th>BS_triflic_2</th>\n",
       "      <th>BS_triflic_3</th>\n",
       "      <th>Jurkat_sonic_1</th>\n",
       "      <th>Jurkat_sonic_2</th>\n",
       "      <th>Jurkat_sonic_3</th>\n",
       "      <th>Jurkat_triflic_1</th>\n",
       "      <th>...</th>\n",
       "      <th>Jurkat_triflic_3</th>\n",
       "      <th>PA_pellet_1</th>\n",
       "      <th>PA_pellet_2</th>\n",
       "      <th>PA_pellet_3</th>\n",
       "      <th>PA_sonic_1</th>\n",
       "      <th>PA_sonic_2</th>\n",
       "      <th>PA_sonic_3</th>\n",
       "      <th>PA_triflic_1</th>\n",
       "      <th>PA_triflic_2</th>\n",
       "      <th>PA_triflic_3</th>\n",
       "    </tr>\n",
       "  </thead>\n",
       "  <tbody>\n",
       "    <tr>\n",
       "      <th>A0A024QZP7</th>\n",
       "      <td>NaN</td>\n",
       "      <td>NaN</td>\n",
       "      <td>NaN</td>\n",
       "      <td>NaN</td>\n",
       "      <td>NaN</td>\n",
       "      <td>NaN</td>\n",
       "      <td>NaN</td>\n",
       "      <td>NaN</td>\n",
       "      <td>6.0</td>\n",
       "      <td>NaN</td>\n",
       "      <td>...</td>\n",
       "      <td>NaN</td>\n",
       "      <td>NaN</td>\n",
       "      <td>NaN</td>\n",
       "      <td>NaN</td>\n",
       "      <td>NaN</td>\n",
       "      <td>NaN</td>\n",
       "      <td>NaN</td>\n",
       "      <td>NaN</td>\n",
       "      <td>NaN</td>\n",
       "      <td>NaN</td>\n",
       "    </tr>\n",
       "    <tr>\n",
       "      <th>A0A024R571</th>\n",
       "      <td>NaN</td>\n",
       "      <td>NaN</td>\n",
       "      <td>NaN</td>\n",
       "      <td>NaN</td>\n",
       "      <td>NaN</td>\n",
       "      <td>NaN</td>\n",
       "      <td>4.0</td>\n",
       "      <td>6.0</td>\n",
       "      <td>6.0</td>\n",
       "      <td>6.0</td>\n",
       "      <td>...</td>\n",
       "      <td>2.0</td>\n",
       "      <td>NaN</td>\n",
       "      <td>NaN</td>\n",
       "      <td>NaN</td>\n",
       "      <td>NaN</td>\n",
       "      <td>NaN</td>\n",
       "      <td>NaN</td>\n",
       "      <td>NaN</td>\n",
       "      <td>NaN</td>\n",
       "      <td>NaN</td>\n",
       "    </tr>\n",
       "    <tr>\n",
       "      <th>A0A075B6E2</th>\n",
       "      <td>NaN</td>\n",
       "      <td>NaN</td>\n",
       "      <td>NaN</td>\n",
       "      <td>NaN</td>\n",
       "      <td>NaN</td>\n",
       "      <td>NaN</td>\n",
       "      <td>NaN</td>\n",
       "      <td>NaN</td>\n",
       "      <td>NaN</td>\n",
       "      <td>4.0</td>\n",
       "      <td>...</td>\n",
       "      <td>NaN</td>\n",
       "      <td>NaN</td>\n",
       "      <td>NaN</td>\n",
       "      <td>NaN</td>\n",
       "      <td>NaN</td>\n",
       "      <td>NaN</td>\n",
       "      <td>NaN</td>\n",
       "      <td>NaN</td>\n",
       "      <td>NaN</td>\n",
       "      <td>NaN</td>\n",
       "    </tr>\n",
       "    <tr>\n",
       "      <th>A0A075B716</th>\n",
       "      <td>NaN</td>\n",
       "      <td>NaN</td>\n",
       "      <td>NaN</td>\n",
       "      <td>NaN</td>\n",
       "      <td>NaN</td>\n",
       "      <td>NaN</td>\n",
       "      <td>NaN</td>\n",
       "      <td>3.0</td>\n",
       "      <td>6.0</td>\n",
       "      <td>5.0</td>\n",
       "      <td>...</td>\n",
       "      <td>NaN</td>\n",
       "      <td>NaN</td>\n",
       "      <td>NaN</td>\n",
       "      <td>NaN</td>\n",
       "      <td>NaN</td>\n",
       "      <td>NaN</td>\n",
       "      <td>NaN</td>\n",
       "      <td>NaN</td>\n",
       "      <td>NaN</td>\n",
       "      <td>NaN</td>\n",
       "    </tr>\n",
       "    <tr>\n",
       "      <th>A0A075B759</th>\n",
       "      <td>NaN</td>\n",
       "      <td>NaN</td>\n",
       "      <td>NaN</td>\n",
       "      <td>NaN</td>\n",
       "      <td>NaN</td>\n",
       "      <td>NaN</td>\n",
       "      <td>2.0</td>\n",
       "      <td>NaN</td>\n",
       "      <td>NaN</td>\n",
       "      <td>NaN</td>\n",
       "      <td>...</td>\n",
       "      <td>NaN</td>\n",
       "      <td>NaN</td>\n",
       "      <td>NaN</td>\n",
       "      <td>NaN</td>\n",
       "      <td>NaN</td>\n",
       "      <td>NaN</td>\n",
       "      <td>NaN</td>\n",
       "      <td>NaN</td>\n",
       "      <td>NaN</td>\n",
       "      <td>NaN</td>\n",
       "    </tr>\n",
       "  </tbody>\n",
       "</table>\n",
       "<p>5 rows × 21 columns</p>\n",
       "</div>"
      ],
      "text/plain": [
       "            BS_sonic_1  BS_sonic_2  BS_sonic_3  BS_triflic_1  BS_triflic_2  \\\n",
       "A0A024QZP7         NaN         NaN         NaN           NaN           NaN   \n",
       "A0A024R571         NaN         NaN         NaN           NaN           NaN   \n",
       "A0A075B6E2         NaN         NaN         NaN           NaN           NaN   \n",
       "A0A075B716         NaN         NaN         NaN           NaN           NaN   \n",
       "A0A075B759         NaN         NaN         NaN           NaN           NaN   \n",
       "\n",
       "            BS_triflic_3  Jurkat_sonic_1  Jurkat_sonic_2  Jurkat_sonic_3  \\\n",
       "A0A024QZP7           NaN             NaN             NaN             6.0   \n",
       "A0A024R571           NaN             4.0             6.0             6.0   \n",
       "A0A075B6E2           NaN             NaN             NaN             NaN   \n",
       "A0A075B716           NaN             NaN             3.0             6.0   \n",
       "A0A075B759           NaN             2.0             NaN             NaN   \n",
       "\n",
       "            Jurkat_triflic_1      ...       Jurkat_triflic_3  PA_pellet_1  \\\n",
       "A0A024QZP7               NaN      ...                    NaN          NaN   \n",
       "A0A024R571               6.0      ...                    2.0          NaN   \n",
       "A0A075B6E2               4.0      ...                    NaN          NaN   \n",
       "A0A075B716               5.0      ...                    NaN          NaN   \n",
       "A0A075B759               NaN      ...                    NaN          NaN   \n",
       "\n",
       "            PA_pellet_2  PA_pellet_3  PA_sonic_1  PA_sonic_2  PA_sonic_3  \\\n",
       "A0A024QZP7          NaN          NaN         NaN         NaN         NaN   \n",
       "A0A024R571          NaN          NaN         NaN         NaN         NaN   \n",
       "A0A075B6E2          NaN          NaN         NaN         NaN         NaN   \n",
       "A0A075B716          NaN          NaN         NaN         NaN         NaN   \n",
       "A0A075B759          NaN          NaN         NaN         NaN         NaN   \n",
       "\n",
       "            PA_triflic_1  PA_triflic_2  PA_triflic_3  \n",
       "A0A024QZP7           NaN           NaN           NaN  \n",
       "A0A024R571           NaN           NaN           NaN  \n",
       "A0A075B6E2           NaN           NaN           NaN  \n",
       "A0A075B716           NaN           NaN           NaN  \n",
       "A0A075B759           NaN           NaN           NaN  \n",
       "\n",
       "[5 rows x 21 columns]"
      ]
     },
     "execution_count": 9,
     "metadata": {},
     "output_type": "execute_result"
    }
   ],
   "source": [
    "df = pd.DataFrame({file.rsplit(\"/\", 1)[-1].split(\".\")[0].replace(\" \", \"_\"): {x['id']: x['quantification'] for x in map(assign_id, dta_select_parser(file, return_reverse=False))} for file in files})\n",
    "df.head()"
   ]
  },
  {
   "cell_type": "code",
   "execution_count": 10,
   "metadata": {
    "collapsed": true
   },
   "outputs": [],
   "source": [
    "df.to_csv(\"X.csv\")"
   ]
  },
  {
   "cell_type": "code",
   "execution_count": 110,
   "metadata": {
    "collapsed": true
   },
   "outputs": [],
   "source": [
    "# run deseq.R with X.csv"
   ]
  },
  {
   "cell_type": "code",
   "execution_count": null,
   "metadata": {
    "collapsed": true
   },
   "outputs": [],
   "source": [
    "### Add a name column and create ranked gene lists for gsea"
   ]
  },
  {
   "cell_type": "code",
   "execution_count": 111,
   "metadata": {},
   "outputs": [
    {
     "data": {
      "text/html": [
       "<div>\n",
       "<table border=\"1\" class=\"dataframe\">\n",
       "  <thead>\n",
       "    <tr style=\"text-align: right;\">\n",
       "      <th></th>\n",
       "      <th>baseMean</th>\n",
       "      <th>log2FoldChange</th>\n",
       "      <th>lfcSE</th>\n",
       "      <th>stat</th>\n",
       "      <th>pvalue</th>\n",
       "      <th>padj</th>\n",
       "      <th>name</th>\n",
       "      <th>hgnc</th>\n",
       "    </tr>\n",
       "  </thead>\n",
       "  <tbody>\n",
       "    <tr>\n",
       "      <th>P80239</th>\n",
       "      <td>747.568119</td>\n",
       "      <td>-4.366531</td>\n",
       "      <td>0.298760</td>\n",
       "      <td>-14.615500</td>\n",
       "      <td>2.237076e-48</td>\n",
       "      <td>2.427227e-45</td>\n",
       "      <td>Alkyl hydroperoxide reductase subunit C OS=Bac...</td>\n",
       "      <td>NaN</td>\n",
       "    </tr>\n",
       "    <tr>\n",
       "      <th>P54375</th>\n",
       "      <td>329.408983</td>\n",
       "      <td>5.712131</td>\n",
       "      <td>0.430566</td>\n",
       "      <td>13.266565</td>\n",
       "      <td>3.617905e-40</td>\n",
       "      <td>1.962714e-37</td>\n",
       "      <td>Superoxide dismutase [Mn] OS=Bacillus subtilis...</td>\n",
       "      <td>NaN</td>\n",
       "    </tr>\n",
       "  </tbody>\n",
       "</table>\n",
       "</div>"
      ],
      "text/plain": [
       "          baseMean  log2FoldChange     lfcSE       stat        pvalue  \\\n",
       "P80239  747.568119       -4.366531  0.298760 -14.615500  2.237076e-48   \n",
       "P54375  329.408983        5.712131  0.430566  13.266565  3.617905e-40   \n",
       "\n",
       "                padj                                               name  hgnc  \n",
       "P80239  2.427227e-45  Alkyl hydroperoxide reductase subunit C OS=Bac...   NaN  \n",
       "P54375  1.962714e-37  Superoxide dismutase [Mn] OS=Bacillus subtilis...   NaN  "
      ]
     },
     "execution_count": 111,
     "metadata": {},
     "output_type": "execute_result"
    }
   ],
   "source": [
    "#*** BS ***\n",
    "bs = pd.read_csv(\"BS_deseq_results.csv\", index_col=0)\n",
    "bs['name'] = bs.index.map(uniprot_name.get)\n",
    "bs.to_csv(\"BS_deseq_results.csv\")\n",
    "bs.head(2)"
   ]
  },
  {
   "cell_type": "code",
   "execution_count": 112,
   "metadata": {
    "collapsed": true
   },
   "outputs": [],
   "source": [
    "# write ranked list for gsea\n",
    "(-1*np.log(bs.padj.dropna())).to_csv(\"bs.rnk\", sep=\"\\t\")\n",
    "# write filtered ranked list\n",
    "(-1*np.log(bs[bs.padj<0.2].padj.dropna())).to_csv(\"bs_filtered.rnk\", sep=\"\\t\")"
   ]
  },
  {
   "cell_type": "code",
   "execution_count": 113,
   "metadata": {},
   "outputs": [
    {
     "data": {
      "text/html": [
       "<div>\n",
       "<table border=\"1\" class=\"dataframe\">\n",
       "  <thead>\n",
       "    <tr style=\"text-align: right;\">\n",
       "      <th></th>\n",
       "      <th>baseMean</th>\n",
       "      <th>log2FoldChange</th>\n",
       "      <th>lfcSE</th>\n",
       "      <th>stat</th>\n",
       "      <th>pvalue</th>\n",
       "      <th>padj</th>\n",
       "      <th>name</th>\n",
       "    </tr>\n",
       "  </thead>\n",
       "  <tbody>\n",
       "    <tr>\n",
       "      <th>Q9HWW1</th>\n",
       "      <td>556.096497</td>\n",
       "      <td>5.233439</td>\n",
       "      <td>0.509147</td>\n",
       "      <td>10.278826</td>\n",
       "      <td>8.779037e-25</td>\n",
       "      <td>9.990544e-22</td>\n",
       "      <td>Outer membrane protein OprG OS=Pseudomonas aer...</td>\n",
       "    </tr>\n",
       "    <tr>\n",
       "      <th>P13794</th>\n",
       "      <td>546.292125</td>\n",
       "      <td>7.082617</td>\n",
       "      <td>0.711011</td>\n",
       "      <td>9.961336</td>\n",
       "      <td>2.250193e-23</td>\n",
       "      <td>1.280360e-20</td>\n",
       "      <td>Outer membrane porin F OS=Pseudomonas aerugino...</td>\n",
       "    </tr>\n",
       "  </tbody>\n",
       "</table>\n",
       "</div>"
      ],
      "text/plain": [
       "          baseMean  log2FoldChange     lfcSE       stat        pvalue  \\\n",
       "Q9HWW1  556.096497        5.233439  0.509147  10.278826  8.779037e-25   \n",
       "P13794  546.292125        7.082617  0.711011   9.961336  2.250193e-23   \n",
       "\n",
       "                padj                                               name  \n",
       "Q9HWW1  9.990544e-22  Outer membrane protein OprG OS=Pseudomonas aer...  \n",
       "P13794  1.280360e-20  Outer membrane porin F OS=Pseudomonas aerugino...  "
      ]
     },
     "execution_count": 113,
     "metadata": {},
     "output_type": "execute_result"
    }
   ],
   "source": [
    "#*** PA ***\n",
    "pa = pd.read_csv(\"PA_deseq_results.csv\", index_col=0)\n",
    "pa['name'] = pa.index.map(uniprot_name.get)\n",
    "pa.to_csv(\"PA_deseq_results.csv\")\n",
    "pa.head(2)"
   ]
  },
  {
   "cell_type": "code",
   "execution_count": 114,
   "metadata": {
    "collapsed": true
   },
   "outputs": [],
   "source": [
    "(-1*np.log(pa.padj.dropna())).to_csv(\"pa.rnk\", sep=\"\\t\")\n",
    "(-1*np.log(pa[pa.padj<0.2].padj.dropna())).to_csv(\"pa_filtered.rnk\", sep=\"\\t\")"
   ]
  },
  {
   "cell_type": "code",
   "execution_count": 115,
   "metadata": {},
   "outputs": [
    {
     "data": {
      "text/html": [
       "<div>\n",
       "<table border=\"1\" class=\"dataframe\">\n",
       "  <thead>\n",
       "    <tr style=\"text-align: right;\">\n",
       "      <th></th>\n",
       "      <th>baseMean</th>\n",
       "      <th>log2FoldChange</th>\n",
       "      <th>lfcSE</th>\n",
       "      <th>stat</th>\n",
       "      <th>pvalue</th>\n",
       "      <th>padj</th>\n",
       "      <th>name</th>\n",
       "    </tr>\n",
       "  </thead>\n",
       "  <tbody>\n",
       "    <tr>\n",
       "      <th>Q7L7L0</th>\n",
       "      <td>14.962841</td>\n",
       "      <td>21.119766</td>\n",
       "      <td>2.63998</td>\n",
       "      <td>7.999971</td>\n",
       "      <td>1.244482e-15</td>\n",
       "      <td>7.529118e-13</td>\n",
       "      <td>Histone H2A type 3 OS=Homo sapiens GN=HIST3H2A...</td>\n",
       "    </tr>\n",
       "    <tr>\n",
       "      <th>Q9BVA1</th>\n",
       "      <td>104.959018</td>\n",
       "      <td>-9.760905</td>\n",
       "      <td>1.89827</td>\n",
       "      <td>-5.142000</td>\n",
       "      <td>2.718287e-07</td>\n",
       "      <td>8.222820e-05</td>\n",
       "      <td>Tubulin beta-2B chain OS=Homo sapiens GN=TUBB2...</td>\n",
       "    </tr>\n",
       "  </tbody>\n",
       "</table>\n",
       "</div>"
      ],
      "text/plain": [
       "          baseMean  log2FoldChange    lfcSE      stat        pvalue  \\\n",
       "Q7L7L0   14.962841       21.119766  2.63998  7.999971  1.244482e-15   \n",
       "Q9BVA1  104.959018       -9.760905  1.89827 -5.142000  2.718287e-07   \n",
       "\n",
       "                padj                                               name  \n",
       "Q7L7L0  7.529118e-13  Histone H2A type 3 OS=Homo sapiens GN=HIST3H2A...  \n",
       "Q9BVA1  8.222820e-05  Tubulin beta-2B chain OS=Homo sapiens GN=TUBB2...  "
      ]
     },
     "execution_count": 115,
     "metadata": {},
     "output_type": "execute_result"
    }
   ],
   "source": [
    "#*** Jurkat ***\n",
    "j = pd.read_csv(\"Jurkat_deseq_results.csv\", index_col=0)\n",
    "j['name'] = j.index.map(uniprot_name.get)\n",
    "j.to_csv(\"Jurkat_deseq_results.csv\")\n",
    "j.head(2)"
   ]
  },
  {
   "cell_type": "code",
   "execution_count": 116,
   "metadata": {
    "collapsed": true
   },
   "outputs": [],
   "source": [
    "(-1*np.log(j.padj.dropna())).to_csv(\"j.rnk\", sep=\"\\t\")\n",
    "(-1*np.log(j[j.padj<0.2].padj.dropna())).to_csv(\"j_filtered.rnk\", sep=\"\\t\")"
   ]
  },
  {
   "cell_type": "code",
   "execution_count": null,
   "metadata": {
    "collapsed": true
   },
   "outputs": [],
   "source": []
  }
 ],
 "metadata": {
  "kernelspec": {
   "display_name": "Python 3",
   "language": "python",
   "name": "python3"
  },
  "language_info": {
   "codemirror_mode": {
    "name": "ipython",
    "version": 3
   },
   "file_extension": ".py",
   "mimetype": "text/x-python",
   "name": "python",
   "nbconvert_exporter": "python",
   "pygments_lexer": "ipython3",
   "version": "3.5.2"
  }
 },
 "nbformat": 4,
 "nbformat_minor": 2
}
