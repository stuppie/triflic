{
 "cells": [
  {
   "cell_type": "code",
   "execution_count": 9,
   "metadata": {
    "collapsed": true
   },
   "outputs": [],
   "source": [
    "import os\n",
    "import requests\n",
    "import pandas as pd\n",
    "from tqdm import tqdm\n",
    "from collections import defaultdict, Counter\n",
    "from glob import glob\n",
    "import numpy as np\n",
    "from itertools import chain\n",
    "import pandas as pd\n",
    "import matplotlib\n",
    "matplotlib.rcParams.update({'font.size': 22})"
   ]
  },
  {
   "cell_type": "code",
   "execution_count": 7,
   "metadata": {},
   "outputs": [
    {
     "data": {
      "text/html": [
       "<div>\n",
       "<table border=\"1\" class=\"dataframe\">\n",
       "  <thead>\n",
       "    <tr style=\"text-align: right;\">\n",
       "      <th></th>\n",
       "      <th>goid</th>\n",
       "      <th>goid2</th>\n",
       "      <th>name</th>\n",
       "      <th>aspect</th>\n",
       "      <th>sdfsD</th>\n",
       "    </tr>\n",
       "  </thead>\n",
       "  <tbody>\n",
       "    <tr>\n",
       "      <th>0</th>\n",
       "      <td>GO:0000001</td>\n",
       "      <td>NaN</td>\n",
       "      <td>mitochondrion inheritance</td>\n",
       "      <td>P</td>\n",
       "      <td>NaN</td>\n",
       "    </tr>\n",
       "    <tr>\n",
       "      <th>1</th>\n",
       "      <td>GO:0000002</td>\n",
       "      <td>NaN</td>\n",
       "      <td>mitochondrial genome maintenance</td>\n",
       "      <td>P</td>\n",
       "      <td>NaN</td>\n",
       "    </tr>\n",
       "    <tr>\n",
       "      <th>2</th>\n",
       "      <td>GO:0000003</td>\n",
       "      <td>GO:0019952 GO:0050876</td>\n",
       "      <td>reproduction</td>\n",
       "      <td>P</td>\n",
       "      <td>NaN</td>\n",
       "    </tr>\n",
       "    <tr>\n",
       "      <th>3</th>\n",
       "      <td>GO:0000005</td>\n",
       "      <td>NaN</td>\n",
       "      <td>ribosomal chaperone activity</td>\n",
       "      <td>F</td>\n",
       "      <td>obs</td>\n",
       "    </tr>\n",
       "    <tr>\n",
       "      <th>4</th>\n",
       "      <td>GO:0000006</td>\n",
       "      <td>NaN</td>\n",
       "      <td>high affinity zinc uptake transmembrane transp...</td>\n",
       "      <td>F</td>\n",
       "      <td>NaN</td>\n",
       "    </tr>\n",
       "  </tbody>\n",
       "</table>\n",
       "</div>"
      ],
      "text/plain": [
       "         goid                  goid2  \\\n",
       "0  GO:0000001                    NaN   \n",
       "1  GO:0000002                    NaN   \n",
       "2  GO:0000003  GO:0019952 GO:0050876   \n",
       "3  GO:0000005                    NaN   \n",
       "4  GO:0000006                    NaN   \n",
       "\n",
       "                                                name aspect sdfsD  \n",
       "0                          mitochondrion inheritance      P   NaN  \n",
       "1                   mitochondrial genome maintenance      P   NaN  \n",
       "2                                       reproduction      P   NaN  \n",
       "3                       ribosomal chaperone activity      F   obs  \n",
       "4  high affinity zinc uptake transmembrane transp...      F   NaN  "
      ]
     },
     "execution_count": 7,
     "metadata": {},
     "output_type": "execute_result"
    }
   ],
   "source": [
    "# get names of go terms from IDs\n",
    "go_df = pd.read_csv(\"http://www.geneontology.org/doc/GO.terms_alt_ids\", comment=\"!\", sep=\"\\t\", \n",
    "                    names=['goid', 'goid2', 'name', 'aspect', 'sdfsD'])\n",
    "go_name = {x.goid: x['name'] for _,x in go_df.iterrows()}\n",
    "go_df.head()"
   ]
  },
  {
   "cell_type": "code",
   "execution_count": 10,
   "metadata": {},
   "outputs": [
    {
     "name": "stdout",
     "output_type": "stream",
     "text": [
      "GO:0009279(cell outer membrane)\thttp://amigo.geneontology.org/amigo/term/GO:0009279\n"
     ]
    }
   ],
   "source": [
    "format_go = lambda go_id: go_id + \"(\" + str(go_name.get(go_id)) + \")\" + \"\\t\" + \"http://amigo.geneontology.org/amigo/term/{}\".format(go_id)\n",
    "print(format_go(\"GO:0009279\"))"
   ]
  },
  {
   "cell_type": "code",
   "execution_count": 47,
   "metadata": {},
   "outputs": [
    {
     "data": {
      "text/plain": [
       "1717"
      ]
     },
     "execution_count": 47,
     "metadata": {},
     "output_type": "execute_result"
    }
   ],
   "source": [
    "# create gene sets using all GO terms (NOT goslim)\n",
    "df = pd.read_csv(\"../my_annotations.gaf\", sep=\"\\t\", comment=\"!\", header=None)\n",
    "df = df.rename(columns={1:\"id\", 2:\"symbol\", 4:\"go_id\", 8:'aspect', 12:\"taxon\"})\n",
    "df = df.query(\"go_id != 'GO:0005575'\")  # remove 'cellular component'\n",
    "len(set(df.go_id))"
   ]
  },
  {
   "cell_type": "code",
   "execution_count": 28,
   "metadata": {},
   "outputs": [],
   "source": [
    "# these are the proteins we observed in our experiments\n",
    "observed_pa = set(pd.read_csv(\"pa.rnk\", names=[\"a\"], sep=\"\\t\").index)\n",
    "observed_bs = set(pd.read_csv(\"bs.rnk\", names=[\"a\"], sep=\"\\t\").index)\n",
    "observed_jurkat = set(pd.read_csv(\"j.rnk\", names=[\"a\"], sep=\"\\t\").index)"
   ]
  },
  {
   "cell_type": "code",
   "execution_count": 21,
   "metadata": {},
   "outputs": [],
   "source": [
    "uniprot_go_bs = defaultdict(set)\n",
    "uniprot_go_pa = defaultdict(set)\n",
    "uniprot_go_jurkat = defaultdict(set)\n",
    "for _,row in df.iterrows():\n",
    "    if row.taxon == \"taxon:9606\":\n",
    "        uniprot_go_jurkat[row.id].add(row.go_id)\n",
    "    elif row.taxon == 'taxon:224308':\n",
    "        uniprot_go_bs[row.id].add(row.go_id)\n",
    "    elif row.taxon == \"taxon:208964\":\n",
    "        uniprot_go_pa[row.id].add(row.go_id)"
   ]
  },
  {
   "cell_type": "code",
   "execution_count": 34,
   "metadata": {},
   "outputs": [
    {
     "name": "stdout",
     "output_type": "stream",
     "text": [
      "5.26446280992\n",
      "0.954305799649\n",
      "1.01935483871\n"
     ]
    }
   ],
   "source": [
    "# the average number of GO terms per protein (using proteins observed in this experiment)\n",
    "print(np.mean([len(uniprot_go_jurkat.get(x,[])) for x in observed_jurkat]))\n",
    "print(np.mean([len(uniprot_go_pa.get(x,[])) for x in observed_pa]))\n",
    "print(np.mean([len(uniprot_go_bs.get(x,[])) for x in observed_bs]))"
   ]
  },
  {
   "cell_type": "code",
   "execution_count": 39,
   "metadata": {},
   "outputs": [
    {
     "name": "stdout",
     "output_type": "stream",
     "text": [
      "0.4413223140495868\n",
      "0.45606326889279436\n",
      "0.46359447004608295\n"
     ]
    }
   ],
   "source": [
    "print(sum([len(uniprot_go_jurkat.get(x,[]))==0 for x in observed_jurkat])/len(observed_jurkat))\n",
    "print(sum([len(uniprot_go_pa.get(x,[]))==0 for x in observed_pa])/len(observed_pa))\n",
    "print(sum([len(uniprot_go_bs.get(x,[]))==0 for x in observed_bs])/len(observed_bs))"
   ]
  },
  {
   "cell_type": "code",
   "execution_count": 12,
   "metadata": {
    "collapsed": true
   },
   "outputs": [],
   "source": [
    "go_uniprot_bs = defaultdict(set)\n",
    "go_uniprot_pa = defaultdict(set)\n",
    "go_uniprot_jurkat = defaultdict(set)\n",
    "for _,row in df.iterrows():\n",
    "    if row.taxon == \"taxon:9606\":\n",
    "        go_uniprot_jurkat[row.go_id].add(row.id)\n",
    "    elif row.taxon == 'taxon:224308':\n",
    "        go_uniprot_bs[row.go_id].add(row.id)\n",
    "    elif row.taxon == \"taxon:208964\":\n",
    "        go_uniprot_pa[row.go_id].add(row.id)"
   ]
  },
  {
   "cell_type": "code",
   "execution_count": 13,
   "metadata": {
    "collapsed": true
   },
   "outputs": [],
   "source": [
    "with open(\"genesets_bs.gmt\", 'w') as f:\n",
    "    for go, uniprots in go_uniprot_bs.items():\n",
    "        print(format_go(go) + \"\\t\" + \"\\t\".join(uniprots), file=f)\n",
    "with open(\"genesets_pa.gmt\", 'w') as f:\n",
    "    for go, uniprots in go_uniprot_pa.items():\n",
    "        print(format_go(go) + \"\\t\" + \"\\t\".join(uniprots), file=f)\n",
    "with open(\"genesets_jurkat.gmt\", 'w') as f:\n",
    "    for go, uniprots in go_uniprot_jurkat.items():\n",
    "        print(format_go(go) + \"\\t\" + \"\\t\".join(uniprots), file=f)"
   ]
  },
  {
   "cell_type": "code",
   "execution_count": 14,
   "metadata": {},
   "outputs": [
    {
     "data": {
      "text/plain": [
       "5"
      ]
     },
     "execution_count": 14,
     "metadata": {},
     "output_type": "execute_result"
    }
   ],
   "source": [
    "# create gene sets using GOslim annotations\n",
    "df = pd.read_csv(\"../annotations.mapped.gaf\", sep=\"\\t\", comment=\"!\", header=None)\n",
    "df = df.rename(columns={1:\"id\", 4:\"go_id\", 8:'aspect', 12:\"taxon\"})\n",
    "df = df.query(\"go_id != 'GO:0005575'\")  # remove 'cellular component'\n",
    "df = df[df.taxon.isin({'taxon:224308', 'taxon:9606', 'taxon:208964' })]\n",
    "len(set(df.go_id))"
   ]
  },
  {
   "cell_type": "code",
   "execution_count": 15,
   "metadata": {
    "collapsed": true
   },
   "outputs": [],
   "source": [
    "go_uniprot_bs = defaultdict(set)\n",
    "go_uniprot_pa = defaultdict(set)\n",
    "go_uniprot_jurkat = defaultdict(set)\n",
    "for _,row in df.iterrows():\n",
    "    if row.taxon == \"taxon:9606\":\n",
    "        go_uniprot_jurkat[row.go_id].add(row.id)\n",
    "    elif row.taxon == 'taxon:224308':\n",
    "        go_uniprot_bs[row.go_id].add(row.id)\n",
    "    elif row.taxon == \"taxon:208964\":\n",
    "        go_uniprot_pa[row.go_id].add(row.id)"
   ]
  },
  {
   "cell_type": "code",
   "execution_count": 16,
   "metadata": {
    "collapsed": true
   },
   "outputs": [],
   "source": [
    "with open(\"genesets_slim_bs.gmt\", 'w') as f:\n",
    "    for go, uniprots in go_uniprot_bs.items():\n",
    "        print(format_go(go) + \"\\t\" + \"\\t\".join(uniprots), file=f)\n",
    "with open(\"genesets_slim_pa.gmt\", 'w') as f:\n",
    "    for go, uniprots in go_uniprot_pa.items():\n",
    "        print(format_go(go) + \"\\t\" + \"\\t\".join(uniprots), file=f)\n",
    "with open(\"genesets_slim_jurkat.gmt\", 'w') as f:\n",
    "    for go, uniprots in go_uniprot_jurkat.items():\n",
    "        print(format_go(go) + \"\\t\" + \"\\t\".join(uniprots), file=f)"
   ]
  },
  {
   "cell_type": "code",
   "execution_count": null,
   "metadata": {
    "collapsed": true
   },
   "outputs": [],
   "source": []
  }
 ],
 "metadata": {
  "kernelspec": {
   "display_name": "Python 3",
   "language": "python",
   "name": "python3"
  },
  "language_info": {
   "codemirror_mode": {
    "name": "ipython",
    "version": 3
   },
   "file_extension": ".py",
   "mimetype": "text/x-python",
   "name": "python",
   "nbconvert_exporter": "python",
   "pygments_lexer": "ipython3",
   "version": "3.5.2"
  }
 },
 "nbformat": 4,
 "nbformat_minor": 2
}
