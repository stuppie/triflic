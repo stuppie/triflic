{
 "cells": [
  {
   "cell_type": "code",
   "execution_count": 2,
   "metadata": {
    "collapsed": true
   },
   "outputs": [],
   "source": [
    "# make gene sets using http://www.go2msig.org/cgi-bin/go2msig.cgi\n",
    "# and then reformat them to use uniprot IDs"
   ]
  },
  {
   "cell_type": "code",
   "execution_count": 3,
   "metadata": {
    "collapsed": true
   },
   "outputs": [],
   "source": [
    "import os\n",
    "import requests\n",
    "import pandas as pd\n",
    "from tqdm import tqdm\n",
    "from collections import defaultdict, Counter\n",
    "from glob import glob\n",
    "import numpy as np\n",
    "from itertools import chain\n",
    "import pandas as pd\n",
    "import matplotlib\n",
    "matplotlib.rcParams.update({'font.size': 22})"
   ]
  },
  {
   "cell_type": "code",
   "execution_count": 5,
   "metadata": {},
   "outputs": [
    {
     "data": {
      "text/html": [
       "<div>\n",
       "<table border=\"1\" class=\"dataframe\">\n",
       "  <thead>\n",
       "    <tr style=\"text-align: right;\">\n",
       "      <th></th>\n",
       "      <th>0</th>\n",
       "      <th>id</th>\n",
       "      <th>symbol</th>\n",
       "      <th>3</th>\n",
       "      <th>go_id</th>\n",
       "      <th>5</th>\n",
       "      <th>6</th>\n",
       "      <th>7</th>\n",
       "      <th>aspect</th>\n",
       "      <th>9</th>\n",
       "      <th>10</th>\n",
       "      <th>11</th>\n",
       "      <th>taxon</th>\n",
       "      <th>13</th>\n",
       "      <th>14</th>\n",
       "      <th>15</th>\n",
       "      <th>16</th>\n",
       "    </tr>\n",
       "  </thead>\n",
       "  <tbody>\n",
       "    <tr>\n",
       "      <th>79988</th>\n",
       "      <td>UniProtKB</td>\n",
       "      <td>P37476</td>\n",
       "      <td>ftsH</td>\n",
       "      <td>NaN</td>\n",
       "      <td>GO:0005886</td>\n",
       "      <td>GO_REF:0000037</td>\n",
       "      <td>IEA</td>\n",
       "      <td>UniProtKB-KW:KW-1003</td>\n",
       "      <td>C</td>\n",
       "      <td>ATP-dependent zinc metalloprotease FtsH</td>\n",
       "      <td>FTSH_BACSU|ftsH|BSU00690</td>\n",
       "      <td>protein</td>\n",
       "      <td>taxon:224308</td>\n",
       "      <td>20170603</td>\n",
       "      <td>UniProt</td>\n",
       "      <td>NaN</td>\n",
       "      <td>NaN</td>\n",
       "    </tr>\n",
       "    <tr>\n",
       "      <th>79989</th>\n",
       "      <td>UniProtKB</td>\n",
       "      <td>P37476</td>\n",
       "      <td>ftsH</td>\n",
       "      <td>NaN</td>\n",
       "      <td>GO:0005886</td>\n",
       "      <td>GO_REF:0000039</td>\n",
       "      <td>IEA</td>\n",
       "      <td>UniProtKB-SubCell:SL-0039</td>\n",
       "      <td>C</td>\n",
       "      <td>ATP-dependent zinc metalloprotease FtsH</td>\n",
       "      <td>FTSH_BACSU|ftsH|BSU00690</td>\n",
       "      <td>protein</td>\n",
       "      <td>taxon:224308</td>\n",
       "      <td>20170603</td>\n",
       "      <td>UniProt</td>\n",
       "      <td>NaN</td>\n",
       "      <td>NaN</td>\n",
       "    </tr>\n",
       "  </tbody>\n",
       "</table>\n",
       "</div>"
      ],
      "text/plain": [
       "               0      id symbol    3       go_id               5    6  \\\n",
       "79988  UniProtKB  P37476   ftsH  NaN  GO:0005886  GO_REF:0000037  IEA   \n",
       "79989  UniProtKB  P37476   ftsH  NaN  GO:0005886  GO_REF:0000039  IEA   \n",
       "\n",
       "                               7 aspect  \\\n",
       "79988       UniProtKB-KW:KW-1003      C   \n",
       "79989  UniProtKB-SubCell:SL-0039      C   \n",
       "\n",
       "                                             9                        10  \\\n",
       "79988  ATP-dependent zinc metalloprotease FtsH  FTSH_BACSU|ftsH|BSU00690   \n",
       "79989  ATP-dependent zinc metalloprotease FtsH  FTSH_BACSU|ftsH|BSU00690   \n",
       "\n",
       "            11         taxon        13       14   15   16  \n",
       "79988  protein  taxon:224308  20170603  UniProt  NaN  NaN  \n",
       "79989  protein  taxon:224308  20170603  UniProt  NaN  NaN  "
      ]
     },
     "execution_count": 5,
     "metadata": {},
     "output_type": "execute_result"
    }
   ],
   "source": [
    "# get go mapping, so we can get the symbol to id mappings\n",
    "df = pd.read_csv(\"../my_annotations.gaf\", sep=\"\\t\", comment=\"!\", header=None)\n",
    "df = df.rename(columns={1:\"id\", 2:\"symbol\", 4:\"go_id\", 8:'aspect', 12:\"taxon\"})\n",
    "df = df.query(\"go_id != 'GO:0005575'\")  # remove 'cellular component'\n",
    "df[df.id == \"P37476\"].head(2)"
   ]
  },
  {
   "cell_type": "code",
   "execution_count": 11,
   "metadata": {},
   "outputs": [],
   "source": [
    "symbol_id_bs = dict()\n",
    "symbol_id_pa = dict()\n",
    "symbol_id_jurkat = dict()\n",
    "for _,row in df.iterrows():\n",
    "    if row.taxon == \"taxon:9606\":\n",
    "        symbol_id_jurkat[row.symbol.upper()] = row.id\n",
    "    elif row.taxon == 'taxon:224308':\n",
    "        symbol_id_bs[row.symbol.upper()] = row.id\n",
    "    elif row.taxon == \"taxon:208964\":\n",
    "        symbol_id_pa[row.symbol.upper()] = row.id"
   ]
  },
  {
   "cell_type": "code",
   "execution_count": 12,
   "metadata": {
    "collapsed": true
   },
   "outputs": [],
   "source": [
    "### http://www.go2msig.org/cgi-bin/go2msig.cgi\n",
    "# settings: Gene association data source: GO database\n",
    "# taxon: 9606, 224308, or 208964\n",
    "# evidence codes: all\n",
    "# Propagate gene associations up ontology hierarchy: True\n",
    "# genesets: CC\n",
    "# Minimum geneset size: 5"
   ]
  },
  {
   "cell_type": "code",
   "execution_count": null,
   "metadata": {
    "collapsed": true
   },
   "outputs": [],
   "source": [
    "\"\"\"\n",
    "/usr/local/bin/go2msig\t-bioannodb 'dbi:mysql:bioannotation_042015'\n",
    "-biouser gouser -biopass amigo -godb 'dbi:mysql:mygo_032015' -gouser gouser\n",
    "-gopass amigo  -mingenes 5 -maxgenes 700 -format gmt -taxid 9606 -geneid\n",
    "symbol -ontology cc -evidence all -termsource cache -cachefile\n",
    "webversion_2015 -assocsource godb\n",
    "\"\"\""
   ]
  },
  {
   "cell_type": "code",
   "execution_count": 13,
   "metadata": {
    "collapsed": true
   },
   "outputs": [],
   "source": [
    "# 9606: http://www.go2msig.org/output/outfilea0e03fb7d3499ede654f8c92b97fed45.gmt\n",
    "# 224308: http://www.go2msig.org/output/outfilebfc1204c3ea99b594c840eedceb430d6.gmt\n",
    "# 208964: http://www.go2msig.org/output/outfile02b916a9faf65700342b9f28755c0acb.gmt"
   ]
  },
  {
   "cell_type": "code",
   "execution_count": 23,
   "metadata": {},
   "outputs": [],
   "source": [
    "# convert IDs to unirpot and rewrite gmt file\n",
    "with open(\"msigdb/224308_uniprot.gmt\", \"w\") as f:\n",
    "    for line in open(\"msigdb/224308.gmt\"):\n",
    "        header = line.strip().split(\"\\t\")[:2]\n",
    "        ids = line.strip().split(\"\\t\")[2:]\n",
    "        symbols = [symbol_id_bs[x] for x in ids if x in symbol_id_bs]\n",
    "        print(\"\\t\".join(header + symbols), file=f)"
   ]
  },
  {
   "cell_type": "code",
   "execution_count": 24,
   "metadata": {
    "collapsed": true
   },
   "outputs": [],
   "source": [
    "with open(\"msigdb/208964_uniprot.gmt\", \"w\") as f:\n",
    "    for line in open(\"msigdb/208964.gmt\"):\n",
    "        header = line.strip().split(\"\\t\")[:2]\n",
    "        ids = line.strip().split(\"\\t\")[2:]\n",
    "        symbols = [symbol_id_pa[x] for x in ids if x in symbol_id_pa]\n",
    "        print(\"\\t\".join(header + symbols), file=f)"
   ]
  },
  {
   "cell_type": "code",
   "execution_count": 25,
   "metadata": {
    "collapsed": true
   },
   "outputs": [],
   "source": [
    "with open(\"msigdb/9606_uniprot.gmt\", \"w\") as f:\n",
    "    for line in open(\"msigdb/9606.gmt\"):\n",
    "        header = line.strip().split(\"\\t\")[:2]\n",
    "        ids = line.strip().split(\"\\t\")[2:]\n",
    "        symbols = [symbol_id_jurkat[x] for x in ids if x in symbol_id_jurkat]\n",
    "        print(\"\\t\".join(header + symbols), file=f)"
   ]
  },
  {
   "cell_type": "code",
   "execution_count": null,
   "metadata": {
    "collapsed": true
   },
   "outputs": [],
   "source": []
  }
 ],
 "metadata": {
  "kernelspec": {
   "display_name": "Python 3",
   "language": "python",
   "name": "python3"
  },
  "language_info": {
   "codemirror_mode": {
    "name": "ipython",
    "version": 3
   },
   "file_extension": ".py",
   "mimetype": "text/x-python",
   "name": "python",
   "nbconvert_exporter": "python",
   "pygments_lexer": "ipython3",
   "version": "3.5.2"
  }
 },
 "nbformat": 4,
 "nbformat_minor": 2
}
