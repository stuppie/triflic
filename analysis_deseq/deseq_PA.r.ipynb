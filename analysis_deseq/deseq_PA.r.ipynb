{
 "cells": [
  {
   "cell_type": "code",
   "execution_count": 1,
   "metadata": {},
   "outputs": [
    {
     "data": {
      "text/plain": [
       "R version 3.4.3 (2017-11-30)\n",
       "Platform: x86_64-pc-linux-gnu (64-bit)\n",
       "Running under: Ubuntu 16.04.3 LTS\n",
       "\n",
       "Matrix products: default\n",
       "BLAS: /usr/lib/libblas/libblas.so.3.6.0\n",
       "LAPACK: /usr/lib/lapack/liblapack.so.3.6.0\n",
       "\n",
       "locale:\n",
       " [1] LC_CTYPE=en_US.UTF-8       LC_NUMERIC=C              \n",
       " [3] LC_TIME=en_US.UTF-8        LC_COLLATE=en_US.UTF-8    \n",
       " [5] LC_MONETARY=en_US.UTF-8    LC_MESSAGES=en_US.UTF-8   \n",
       " [7] LC_PAPER=en_US.UTF-8       LC_NAME=C                 \n",
       " [9] LC_ADDRESS=C               LC_TELEPHONE=C            \n",
       "[11] LC_MEASUREMENT=en_US.UTF-8 LC_IDENTIFICATION=C       \n",
       "\n",
       "attached base packages:\n",
       "[1] stats     graphics  grDevices utils     datasets  methods   base     \n",
       "\n",
       "loaded via a namespace (and not attached):\n",
       " [1] compiler_3.4.3      R6_2.2.2            magrittr_1.5       \n",
       " [4] IRdisplay_0.4.4     pbdZMQ_0.2-6        tools_3.4.3        \n",
       " [7] crayon_1.3.4        uuid_0.1-2          stringi_1.1.6      \n",
       "[10] IRkernel_0.8.6.9000 jsonlite_1.5        stringr_1.2.0      \n",
       "[13] digest_0.6.12       repr_0.12.0         evaluate_0.10.1    "
      ]
     },
     "metadata": {},
     "output_type": "display_data"
    }
   ],
   "source": [
    "sessionInfo()"
   ]
  },
  {
   "cell_type": "code",
   "execution_count": 2,
   "metadata": {},
   "outputs": [
    {
     "name": "stderr",
     "output_type": "stream",
     "text": [
      "Loading required package: S4Vectors\n",
      "Loading required package: stats4\n",
      "Loading required package: BiocGenerics\n",
      "Loading required package: parallel\n",
      "\n",
      "Attaching package: ‘BiocGenerics’\n",
      "\n",
      "The following objects are masked from ‘package:parallel’:\n",
      "\n",
      "    clusterApply, clusterApplyLB, clusterCall, clusterEvalQ,\n",
      "    clusterExport, clusterMap, parApply, parCapply, parLapply,\n",
      "    parLapplyLB, parRapply, parSapply, parSapplyLB\n",
      "\n",
      "The following objects are masked from ‘package:stats’:\n",
      "\n",
      "    IQR, mad, sd, var, xtabs\n",
      "\n",
      "The following objects are masked from ‘package:base’:\n",
      "\n",
      "    anyDuplicated, append, as.data.frame, cbind, colMeans, colnames,\n",
      "    colSums, do.call, duplicated, eval, evalq, Filter, Find, get, grep,\n",
      "    grepl, intersect, is.unsorted, lapply, lengths, Map, mapply, match,\n",
      "    mget, order, paste, pmax, pmax.int, pmin, pmin.int, Position, rank,\n",
      "    rbind, Reduce, rowMeans, rownames, rowSums, sapply, setdiff, sort,\n",
      "    table, tapply, union, unique, unsplit, which, which.max, which.min\n",
      "\n",
      "\n",
      "Attaching package: ‘S4Vectors’\n",
      "\n",
      "The following object is masked from ‘package:base’:\n",
      "\n",
      "    expand.grid\n",
      "\n",
      "Loading required package: IRanges\n",
      "Loading required package: GenomicRanges\n",
      "Loading required package: GenomeInfoDb\n",
      "Loading required package: SummarizedExperiment\n",
      "Loading required package: Biobase\n",
      "Welcome to Bioconductor\n",
      "\n",
      "    Vignettes contain introductory material; view with\n",
      "    'browseVignettes()'. To cite Bioconductor, see\n",
      "    'citation(\"Biobase\")', and for packages 'citation(\"pkgname\")'.\n",
      "\n",
      "Loading required package: DelayedArray\n",
      "Loading required package: matrixStats\n",
      "\n",
      "Attaching package: ‘matrixStats’\n",
      "\n",
      "The following objects are masked from ‘package:Biobase’:\n",
      "\n",
      "    anyMissing, rowMedians\n",
      "\n",
      "\n",
      "Attaching package: ‘DelayedArray’\n",
      "\n",
      "The following objects are masked from ‘package:matrixStats’:\n",
      "\n",
      "    colMaxs, colMins, colRanges, rowMaxs, rowMins, rowRanges\n",
      "\n",
      "The following object is masked from ‘package:base’:\n",
      "\n",
      "    apply\n",
      "\n"
     ]
    }
   ],
   "source": [
    "library(\"DESeq2\")"
   ]
  },
  {
   "cell_type": "code",
   "execution_count": 3,
   "metadata": {},
   "outputs": [],
   "source": [
    "setwd(\"/home/gstupp/projects/Wolan/ana_extractions/analysis/analysis_deseq\")"
   ]
  },
  {
   "cell_type": "code",
   "execution_count": 4,
   "metadata": {},
   "outputs": [],
   "source": [
    "file_path = \"X.csv\"\n",
    "countData = read.csv(file_path, row.names = 1)"
   ]
  },
  {
   "cell_type": "code",
   "execution_count": 5,
   "metadata": {},
   "outputs": [
    {
     "data": {
      "text/html": [
       "<table>\n",
       "<thead><tr><th></th><th scope=col>cell</th><th scope=col>file</th><th scope=col>method</th><th scope=col>name.1</th><th scope=col>pretty_name</th></tr></thead>\n",
       "<tbody>\n",
       "\t<tr><th scope=row>PA_pellet_1</th><td>PA                              </td><td>data/PA/Pellet/PA pellet 1.txt  </td><td>pellet                          </td><td>PA_pellet_1                     </td><td>PA pellet 1                     </td></tr>\n",
       "\t<tr><th scope=row>PA_pellet_2</th><td>PA                              </td><td>data/PA/Pellet/PA pellet 2.txt  </td><td>pellet                          </td><td>PA_pellet_2                     </td><td>PA pellet 2                     </td></tr>\n",
       "\t<tr><th scope=row>PA_pellet_3</th><td>PA                              </td><td>data/PA/Pellet/PA pellet 3.txt  </td><td>pellet                          </td><td>PA_pellet_3                     </td><td>PA pellet 3                     </td></tr>\n",
       "\t<tr><th scope=row>PA_sonic_1</th><td>PA                              </td><td>data/PA/Sonic/PA sonic 1.txt    </td><td>sonic                           </td><td>PA_sonic_1                      </td><td>PA sonic 1                      </td></tr>\n",
       "\t<tr><th scope=row>PA_sonic_2</th><td>PA                              </td><td>data/PA/Sonic/PA sonic 2.txt    </td><td>sonic                           </td><td>PA_sonic_2                      </td><td>PA sonic 2                      </td></tr>\n",
       "\t<tr><th scope=row>PA_sonic_3</th><td>PA                              </td><td>data/PA/Sonic/PA sonic 3.txt    </td><td>sonic                           </td><td>PA_sonic_3                      </td><td>PA sonic 3                      </td></tr>\n",
       "\t<tr><th scope=row>PA_triflic_1</th><td>PA                              </td><td>data/PA/Triflic/PA triflic 1.txt</td><td>triflic                         </td><td>PA_triflic_1                    </td><td>PA triflic 1                    </td></tr>\n",
       "\t<tr><th scope=row>PA_triflic_2</th><td>PA                              </td><td>data/PA/Triflic/PA triflic 2.txt</td><td>triflic                         </td><td>PA_triflic_2                    </td><td>PA triflic 2                    </td></tr>\n",
       "\t<tr><th scope=row>PA_triflic_3</th><td>PA                              </td><td>data/PA/Triflic/PA triflic 3.txt</td><td>triflic                         </td><td>PA_triflic_3                    </td><td>PA triflic 3                    </td></tr>\n",
       "</tbody>\n",
       "</table>\n"
      ],
      "text/latex": [
       "\\begin{tabular}{r|lllll}\n",
       "  & cell & file & method & name.1 & pretty\\_name\\\\\n",
       "\\hline\n",
       "\tPA\\_pellet\\_1 & PA                               & data/PA/Pellet/PA pellet 1.txt   & pellet                           & PA\\_pellet\\_1                  & PA pellet 1                     \\\\\n",
       "\tPA\\_pellet\\_2 & PA                               & data/PA/Pellet/PA pellet 2.txt   & pellet                           & PA\\_pellet\\_2                  & PA pellet 2                     \\\\\n",
       "\tPA\\_pellet\\_3 & PA                               & data/PA/Pellet/PA pellet 3.txt   & pellet                           & PA\\_pellet\\_3                  & PA pellet 3                     \\\\\n",
       "\tPA\\_sonic\\_1 & PA                               & data/PA/Sonic/PA sonic 1.txt     & sonic                            & PA\\_sonic\\_1                   & PA sonic 1                      \\\\\n",
       "\tPA\\_sonic\\_2 & PA                               & data/PA/Sonic/PA sonic 2.txt     & sonic                            & PA\\_sonic\\_2                   & PA sonic 2                      \\\\\n",
       "\tPA\\_sonic\\_3 & PA                               & data/PA/Sonic/PA sonic 3.txt     & sonic                            & PA\\_sonic\\_3                   & PA sonic 3                      \\\\\n",
       "\tPA\\_triflic\\_1 & PA                               & data/PA/Triflic/PA triflic 1.txt & triflic                          & PA\\_triflic\\_1                 & PA triflic 1                    \\\\\n",
       "\tPA\\_triflic\\_2 & PA                               & data/PA/Triflic/PA triflic 2.txt & triflic                          & PA\\_triflic\\_2                 & PA triflic 2                    \\\\\n",
       "\tPA\\_triflic\\_3 & PA                               & data/PA/Triflic/PA triflic 3.txt & triflic                          & PA\\_triflic\\_3                 & PA triflic 3                    \\\\\n",
       "\\end{tabular}\n"
      ],
      "text/markdown": [
       "\n",
       "| <!--/--> | cell | file | method | name.1 | pretty_name | \n",
       "|---|---|---|---|---|---|---|---|---|\n",
       "| PA_pellet_1 | PA                               | data/PA/Pellet/PA pellet 1.txt   | pellet                           | PA_pellet_1                      | PA pellet 1                      | \n",
       "| PA_pellet_2 | PA                               | data/PA/Pellet/PA pellet 2.txt   | pellet                           | PA_pellet_2                      | PA pellet 2                      | \n",
       "| PA_pellet_3 | PA                               | data/PA/Pellet/PA pellet 3.txt   | pellet                           | PA_pellet_3                      | PA pellet 3                      | \n",
       "| PA_sonic_1 | PA                               | data/PA/Sonic/PA sonic 1.txt     | sonic                            | PA_sonic_1                       | PA sonic 1                       | \n",
       "| PA_sonic_2 | PA                               | data/PA/Sonic/PA sonic 2.txt     | sonic                            | PA_sonic_2                       | PA sonic 2                       | \n",
       "| PA_sonic_3 | PA                               | data/PA/Sonic/PA sonic 3.txt     | sonic                            | PA_sonic_3                       | PA sonic 3                       | \n",
       "| PA_triflic_1 | PA                               | data/PA/Triflic/PA triflic 1.txt | triflic                          | PA_triflic_1                     | PA triflic 1                     | \n",
       "| PA_triflic_2 | PA                               | data/PA/Triflic/PA triflic 2.txt | triflic                          | PA_triflic_2                     | PA triflic 2                     | \n",
       "| PA_triflic_3 | PA                               | data/PA/Triflic/PA triflic 3.txt | triflic                          | PA_triflic_3                     | PA triflic 3                     | \n",
       "\n",
       "\n"
      ],
      "text/plain": [
       "             cell file                             method  name.1      \n",
       "PA_pellet_1  PA   data/PA/Pellet/PA pellet 1.txt   pellet  PA_pellet_1 \n",
       "PA_pellet_2  PA   data/PA/Pellet/PA pellet 2.txt   pellet  PA_pellet_2 \n",
       "PA_pellet_3  PA   data/PA/Pellet/PA pellet 3.txt   pellet  PA_pellet_3 \n",
       "PA_sonic_1   PA   data/PA/Sonic/PA sonic 1.txt     sonic   PA_sonic_1  \n",
       "PA_sonic_2   PA   data/PA/Sonic/PA sonic 2.txt     sonic   PA_sonic_2  \n",
       "PA_sonic_3   PA   data/PA/Sonic/PA sonic 3.txt     sonic   PA_sonic_3  \n",
       "PA_triflic_1 PA   data/PA/Triflic/PA triflic 1.txt triflic PA_triflic_1\n",
       "PA_triflic_2 PA   data/PA/Triflic/PA triflic 2.txt triflic PA_triflic_2\n",
       "PA_triflic_3 PA   data/PA/Triflic/PA triflic 3.txt triflic PA_triflic_3\n",
       "             pretty_name \n",
       "PA_pellet_1  PA pellet 1 \n",
       "PA_pellet_2  PA pellet 2 \n",
       "PA_pellet_3  PA pellet 3 \n",
       "PA_sonic_1   PA sonic 1  \n",
       "PA_sonic_2   PA sonic 2  \n",
       "PA_sonic_3   PA sonic 3  \n",
       "PA_triflic_1 PA triflic 1\n",
       "PA_triflic_2 PA triflic 2\n",
       "PA_triflic_3 PA triflic 3"
      ]
     },
     "metadata": {},
     "output_type": "display_data"
    }
   ],
   "source": [
    "meta_path = \"metadata.csv\"\n",
    "sampleTable = read.csv(meta_path, row.names = 1)\n",
    "sampleTable = sampleTable[colnames(countData),]\n",
    "sampleTable$cell = factor(sampleTable$cell)\n",
    "sampleTable$method = factor(sampleTable$method)\n",
    "sampleTable$method <- relevel(sampleTable$method, ref=\"sonic\")\n",
    "sampleTable = sampleTable[sampleTable$cell == \"PA\",]\n",
    "sampleTable"
   ]
  },
  {
   "cell_type": "markdown",
   "metadata": {},
   "source": [
    "## pellet vs sonic"
   ]
  },
  {
   "cell_type": "code",
   "execution_count": 6,
   "metadata": {},
   "outputs": [
    {
     "name": "stderr",
     "output_type": "stream",
     "text": [
      "converting counts to integer mode\n",
      "factor levels were dropped which had no samples\n"
     ]
    },
    {
     "data": {
      "text/html": [
       "<table>\n",
       "<thead><tr><th></th><th scope=col>PA_pellet_1</th><th scope=col>PA_pellet_2</th><th scope=col>PA_pellet_3</th><th scope=col>PA_sonic_1</th><th scope=col>PA_sonic_2</th><th scope=col>PA_sonic_3</th></tr></thead>\n",
       "<tbody>\n",
       "\t<tr><th scope=row>E1JGJ8</th><td> 3</td><td> 0</td><td> 4</td><td> 7</td><td> 2</td><td>0 </td></tr>\n",
       "\t<tr><th scope=row>G3XCT6</th><td>73</td><td>39</td><td>48</td><td>37</td><td>12</td><td>6 </td></tr>\n",
       "</tbody>\n",
       "</table>\n"
      ],
      "text/latex": [
       "\\begin{tabular}{r|llllll}\n",
       "  & PA\\_pellet\\_1 & PA\\_pellet\\_2 & PA\\_pellet\\_3 & PA\\_sonic\\_1 & PA\\_sonic\\_2 & PA\\_sonic\\_3\\\\\n",
       "\\hline\n",
       "\tE1JGJ8 &  3 &  0 &  4 &  7 &  2 & 0 \\\\\n",
       "\tG3XCT6 & 73 & 39 & 48 & 37 & 12 & 6 \\\\\n",
       "\\end{tabular}\n"
      ],
      "text/markdown": [
       "\n",
       "| <!--/--> | PA_pellet_1 | PA_pellet_2 | PA_pellet_3 | PA_sonic_1 | PA_sonic_2 | PA_sonic_3 | \n",
       "|---|---|\n",
       "| E1JGJ8 |  3 |  0 |  4 |  7 |  2 | 0  | \n",
       "| G3XCT6 | 73 | 39 | 48 | 37 | 12 | 6  | \n",
       "\n",
       "\n"
      ],
      "text/plain": [
       "       PA_pellet_1 PA_pellet_2 PA_pellet_3 PA_sonic_1 PA_sonic_2 PA_sonic_3\n",
       "E1JGJ8  3           0           4           7          2         0         \n",
       "G3XCT6 73          39          48          37         12         6         "
      ]
     },
     "metadata": {},
     "output_type": "display_data"
    }
   ],
   "source": [
    "sampleTableX = sampleTable[sampleTable$method %in% c(\"pellet\", \"sonic\"),]\n",
    "sampleTableX$method <- relevel(sampleTableX$method, ref=\"sonic\")\n",
    "X = countData[,sampleTableX$name]\n",
    "X = X[ !apply(X, 1, function(x) all(is.na(x))), ]\n",
    "X[is.na(X)] = 0\n",
    "dds = DESeqDataSetFromMatrix(X, colData = sampleTableX, design = ~ method)\n",
    "dds <- dds[ rowSums(counts(dds)) > 2, ]\n",
    "counts(dds)[0:2,]"
   ]
  },
  {
   "cell_type": "code",
   "execution_count": 7,
   "metadata": {},
   "outputs": [
    {
     "name": "stderr",
     "output_type": "stream",
     "text": [
      "estimating size factors\n",
      "estimating dispersions\n",
      "gene-wise dispersion estimates\n",
      "mean-dispersion relationship\n",
      "final dispersion estimates\n",
      "fitting model and testing\n"
     ]
    },
    {
     "name": "stdout",
     "output_type": "stream",
     "text": [
      "\n",
      "out of 1844 with nonzero total read count\n",
      "adjusted p-value < 0.05\n",
      "LFC > 0 (up)     : 210, 11% \n",
      "LFC < 0 (down)   : 56, 3% \n",
      "outliers [1]     : 0, 0% \n",
      "low counts [2]   : 608, 33% \n",
      "(mean count < 2)\n",
      "[1] see 'cooksCutoff' argument of ?results\n",
      "[2] see 'independentFiltering' argument of ?results\n",
      "\n"
     ]
    }
   ],
   "source": [
    "dds = DESeq(dds)\n",
    "res = results(dds, alpha = .05)\n",
    "summary(res)"
   ]
  },
  {
   "cell_type": "code",
   "execution_count": 8,
   "metadata": {},
   "outputs": [
    {
     "data": {
      "text/plain": [
       "log2 fold change (MLE): method pellet vs sonic \n",
       "Wald test p-value: method pellet vs sonic \n",
       "DataFrame with 10 rows and 6 columns\n",
       "         baseMean log2FoldChange     lfcSE      stat       pvalue         padj\n",
       "        <numeric>      <numeric> <numeric> <numeric>    <numeric>    <numeric>\n",
       "Q9HWW1 1691.88383       7.060183 0.4113823 17.162095 5.103923e-66 6.675932e-63\n",
       "P13794 1508.35968       8.743515 0.6594381 13.259039 3.999907e-40 2.615939e-37\n",
       "Q9I4Z4  336.30225       6.600157 0.5071563 13.014049 1.018023e-38 4.438580e-36\n",
       "Q9I4S1  256.00463       9.029736 0.8673229 10.411042 2.207914e-25 7.219880e-23\n",
       "Q9HU11  173.26571       4.322857 0.4340763  9.958750 2.309478e-23 6.041595e-21\n",
       "P32722  147.94640       7.480720 0.7708200  9.704886 2.873981e-22 6.265279e-20\n",
       "O68822   93.47635       4.784102 0.5172053  9.249908 2.246850e-20 4.198401e-18\n",
       "P00282  278.06677      -3.833872 0.4396448 -8.720385 2.772578e-18 4.533164e-16\n",
       "G3XD89  133.24753       9.007335 1.1096176  8.117513 4.758337e-16 6.915450e-14\n",
       "Q9HUM0   95.66543       6.961726 0.9445979  7.370042 1.705744e-13 2.231113e-11"
      ]
     },
     "metadata": {},
     "output_type": "display_data"
    }
   ],
   "source": [
    "res = results(dds)\n",
    "resOrdered = res[order(res$padj),]\n",
    "write.csv(as.data.frame(resOrdered),file=\"PA_deseq_results_pellet_sonic.csv\")\n",
    "resOrdered[0:10,]"
   ]
  },
  {
   "cell_type": "markdown",
   "metadata": {},
   "source": [
    "## whole (triflic) vs sonic"
   ]
  },
  {
   "cell_type": "code",
   "execution_count": 9,
   "metadata": {},
   "outputs": [
    {
     "name": "stderr",
     "output_type": "stream",
     "text": [
      "converting counts to integer mode\n",
      "factor levels were dropped which had no samples\n"
     ]
    },
    {
     "data": {
      "text/html": [
       "<table>\n",
       "<thead><tr><th></th><th scope=col>PA_sonic_1</th><th scope=col>PA_sonic_2</th><th scope=col>PA_sonic_3</th><th scope=col>PA_triflic_1</th><th scope=col>PA_triflic_2</th><th scope=col>PA_triflic_3</th></tr></thead>\n",
       "<tbody>\n",
       "\t<tr><th scope=row>E1JGJ8</th><td> 7</td><td> 2</td><td>0 </td><td> 0</td><td> 0</td><td> 0</td></tr>\n",
       "\t<tr><th scope=row>G3XCT6</th><td>37</td><td>12</td><td>6 </td><td>13</td><td>35</td><td>18</td></tr>\n",
       "</tbody>\n",
       "</table>\n"
      ],
      "text/latex": [
       "\\begin{tabular}{r|llllll}\n",
       "  & PA\\_sonic\\_1 & PA\\_sonic\\_2 & PA\\_sonic\\_3 & PA\\_triflic\\_1 & PA\\_triflic\\_2 & PA\\_triflic\\_3\\\\\n",
       "\\hline\n",
       "\tE1JGJ8 &  7 &  2 & 0  &  0 &  0 &  0\\\\\n",
       "\tG3XCT6 & 37 & 12 & 6  & 13 & 35 & 18\\\\\n",
       "\\end{tabular}\n"
      ],
      "text/markdown": [
       "\n",
       "| <!--/--> | PA_sonic_1 | PA_sonic_2 | PA_sonic_3 | PA_triflic_1 | PA_triflic_2 | PA_triflic_3 | \n",
       "|---|---|\n",
       "| E1JGJ8 |  7 |  2 | 0  |  0 |  0 |  0 | \n",
       "| G3XCT6 | 37 | 12 | 6  | 13 | 35 | 18 | \n",
       "\n",
       "\n"
      ],
      "text/plain": [
       "       PA_sonic_1 PA_sonic_2 PA_sonic_3 PA_triflic_1 PA_triflic_2 PA_triflic_3\n",
       "E1JGJ8  7          2         0           0            0            0          \n",
       "G3XCT6 37         12         6          13           35           18          "
      ]
     },
     "metadata": {},
     "output_type": "display_data"
    }
   ],
   "source": [
    "sampleTableX = sampleTable[sampleTable$method %in% c(\"triflic\", \"sonic\"),]\n",
    "sampleTableX$method <- relevel(sampleTableX$method, ref=\"sonic\")\n",
    "X = countData[,sampleTableX$name]\n",
    "X = X[ !apply(X, 1, function(x) all(is.na(x))), ]\n",
    "X[is.na(X)] = 0\n",
    "dds = DESeqDataSetFromMatrix(X, colData = sampleTableX, design = ~ method)\n",
    "dds <- dds[ rowSums(counts(dds)) > 2, ]\n",
    "counts(dds)[0:2,]"
   ]
  },
  {
   "cell_type": "code",
   "execution_count": 10,
   "metadata": {},
   "outputs": [
    {
     "name": "stderr",
     "output_type": "stream",
     "text": [
      "estimating size factors\n",
      "estimating dispersions\n",
      "gene-wise dispersion estimates\n",
      "mean-dispersion relationship\n",
      "final dispersion estimates\n",
      "fitting model and testing\n"
     ]
    },
    {
     "name": "stdout",
     "output_type": "stream",
     "text": [
      "\n",
      "out of 1850 with nonzero total read count\n",
      "adjusted p-value < 0.05\n",
      "LFC > 0 (up)     : 65, 3.5% \n",
      "LFC < 0 (down)   : 19, 1% \n",
      "outliers [1]     : 0, 0% \n",
      "low counts [2]   : 789, 43% \n",
      "(mean count < 3)\n",
      "[1] see 'cooksCutoff' argument of ?results\n",
      "[2] see 'independentFiltering' argument of ?results\n",
      "\n"
     ]
    }
   ],
   "source": [
    "dds = DESeq(dds)\n",
    "res = results(dds, alpha = .05)\n",
    "summary(res)"
   ]
  },
  {
   "cell_type": "code",
   "execution_count": 11,
   "metadata": {},
   "outputs": [
    {
     "data": {
      "text/plain": [
       "log2 fold change (MLE): method triflic vs sonic \n",
       "Wald test p-value: method triflic vs sonic \n",
       "DataFrame with 10 rows and 6 columns\n",
       "        baseMean log2FoldChange     lfcSE      stat       pvalue         padj\n",
       "       <numeric>      <numeric> <numeric> <numeric>    <numeric>    <numeric>\n",
       "Q9HWW1 556.09650       5.233479 0.5019778 10.425719 1.892232e-25 2.210127e-22\n",
       "P13794 546.29212       7.079937 0.7299962  9.698594 3.056804e-22 1.785173e-19\n",
       "Q9HVI2 301.44015      11.803715 1.3085240  9.020633 1.870061e-19 7.280771e-17\n",
       "Q9HUM0 147.19566       7.388012 0.8299196  8.902081 5.480929e-19 1.600431e-16\n",
       "Q9I4S1  49.57822       6.484473 0.9757671  6.645512 3.021639e-11 7.058549e-09\n",
       "P32722  32.91916       5.144784 0.9510546  5.409557 6.318070e-08 1.229918e-05\n",
       "G3XD89  28.13764       6.543555 1.2214481  5.357211 8.451630e-08 1.233938e-05\n",
       "Q9I0X7  36.81547       6.147416 1.1458034  5.365158 8.087836e-08 1.233938e-05\n",
       "Q9HVK6  19.52800       7.855018 1.5549107  5.051749 4.377832e-07 5.681453e-05\n",
       "Q9HVH7  14.56343       7.423655 1.5289581  4.855368 1.201632e-06 1.403506e-04"
      ]
     },
     "metadata": {},
     "output_type": "display_data"
    }
   ],
   "source": [
    "res = results(dds)\n",
    "resOrdered = res[order(res$padj),]\n",
    "write.csv(as.data.frame(resOrdered),file=\"PA_deseq_results_triflic_sonic.csv\")\n",
    "resOrdered[0:10,]"
   ]
  },
  {
   "cell_type": "markdown",
   "metadata": {},
   "source": [
    "## Pellet vs. Whole cell (triflic)"
   ]
  },
  {
   "cell_type": "code",
   "execution_count": 12,
   "metadata": {},
   "outputs": [
    {
     "name": "stderr",
     "output_type": "stream",
     "text": [
      "converting counts to integer mode\n",
      "factor levels were dropped which had no samples\n"
     ]
    },
    {
     "data": {
      "text/html": [
       "<table>\n",
       "<thead><tr><th></th><th scope=col>PA_pellet_1</th><th scope=col>PA_pellet_2</th><th scope=col>PA_pellet_3</th><th scope=col>PA_triflic_1</th><th scope=col>PA_triflic_2</th><th scope=col>PA_triflic_3</th></tr></thead>\n",
       "<tbody>\n",
       "\t<tr><th scope=row>E1JGJ8</th><td> 3</td><td> 0</td><td> 4</td><td> 0</td><td> 0</td><td> 0</td></tr>\n",
       "\t<tr><th scope=row>G3XCT6</th><td>73</td><td>39</td><td>48</td><td>13</td><td>35</td><td>18</td></tr>\n",
       "</tbody>\n",
       "</table>\n"
      ],
      "text/latex": [
       "\\begin{tabular}{r|llllll}\n",
       "  & PA\\_pellet\\_1 & PA\\_pellet\\_2 & PA\\_pellet\\_3 & PA\\_triflic\\_1 & PA\\_triflic\\_2 & PA\\_triflic\\_3\\\\\n",
       "\\hline\n",
       "\tE1JGJ8 &  3 &  0 &  4 &  0 &  0 &  0\\\\\n",
       "\tG3XCT6 & 73 & 39 & 48 & 13 & 35 & 18\\\\\n",
       "\\end{tabular}\n"
      ],
      "text/markdown": [
       "\n",
       "| <!--/--> | PA_pellet_1 | PA_pellet_2 | PA_pellet_3 | PA_triflic_1 | PA_triflic_2 | PA_triflic_3 | \n",
       "|---|---|\n",
       "| E1JGJ8 |  3 |  0 |  4 |  0 |  0 |  0 | \n",
       "| G3XCT6 | 73 | 39 | 48 | 13 | 35 | 18 | \n",
       "\n",
       "\n"
      ],
      "text/plain": [
       "       PA_pellet_1 PA_pellet_2 PA_pellet_3 PA_triflic_1 PA_triflic_2\n",
       "E1JGJ8  3           0           4           0            0          \n",
       "G3XCT6 73          39          48          13           35          \n",
       "       PA_triflic_3\n",
       "E1JGJ8  0          \n",
       "G3XCT6 18          "
      ]
     },
     "metadata": {},
     "output_type": "display_data"
    }
   ],
   "source": [
    "sampleTableX = sampleTable[sampleTable$method %in% c(\"pellet\", \"triflic\"),]\n",
    "sampleTableX$method <- relevel(sampleTableX$method, ref=\"triflic\")\n",
    "X = countData[,sampleTableX$name]\n",
    "X = X[ !apply(X, 1, function(x) all(is.na(x))), ]\n",
    "X[is.na(X)] = 0\n",
    "dds = DESeqDataSetFromMatrix(X, colData = sampleTableX, design = ~ method)\n",
    "dds <- dds[ rowSums(counts(dds)) > 2, ]\n",
    "counts(dds)[0:2,]"
   ]
  },
  {
   "cell_type": "code",
   "execution_count": 13,
   "metadata": {},
   "outputs": [
    {
     "name": "stderr",
     "output_type": "stream",
     "text": [
      "estimating size factors\n",
      "estimating dispersions\n",
      "gene-wise dispersion estimates\n",
      "mean-dispersion relationship\n",
      "final dispersion estimates\n",
      "fitting model and testing\n"
     ]
    },
    {
     "name": "stdout",
     "output_type": "stream",
     "text": [
      "\n",
      "out of 1829 with nonzero total read count\n",
      "adjusted p-value < 0.05\n",
      "LFC > 0 (up)     : 51, 2.8% \n",
      "LFC < 0 (down)   : 49, 2.7% \n",
      "outliers [1]     : 0, 0% \n",
      "low counts [2]   : 638, 35% \n",
      "(mean count < 2)\n",
      "[1] see 'cooksCutoff' argument of ?results\n",
      "[2] see 'independentFiltering' argument of ?results\n",
      "\n"
     ]
    }
   ],
   "source": [
    "dds = DESeq(dds)\n",
    "res = results(dds, alpha = .05)\n",
    "summary(res)"
   ]
  },
  {
   "cell_type": "code",
   "execution_count": 14,
   "metadata": {},
   "outputs": [
    {
     "data": {
      "text/plain": [
       "log2 fold change (MLE): method pellet vs triflic \n",
       "Wald test p-value: method pellet vs triflic \n",
       "DataFrame with 10 rows and 6 columns\n",
       "        baseMean log2FoldChange     lfcSE      stat       pvalue         padj\n",
       "       <numeric>      <numeric> <numeric> <numeric>    <numeric>    <numeric>\n",
       "Q9I4Z4 318.38724       3.297906 0.3464151  9.520100 1.730132e-21 1.998302e-18\n",
       "Q9I4S1 264.01571       2.384003 0.3407880  6.995559 2.642031e-12 1.525773e-09\n",
       "P30720 293.02556      -2.938590 0.4434354 -6.626873 3.428716e-11 1.320056e-08\n",
       "P00282 101.52298      -2.434944 0.3740028 -6.510498 7.490215e-11 2.162800e-08\n",
       "P32722 155.72917       2.204065 0.3560058  6.191094 5.974809e-10 1.380181e-07\n",
       "G3XD89 139.16661       2.257997 0.3836707  5.885248 3.974585e-09 7.651077e-07\n",
       "P72151 109.11990      -2.144049 0.3738051 -5.735739 9.708792e-09 1.601951e-06\n",
       "Q9HVI2 286.73314      -3.330942 0.6020935 -5.532267 3.161187e-08 4.563963e-06\n",
       "O68822  96.14928       2.157558 0.4101033  5.261012 1.432645e-07 1.838561e-05\n",
       "P00106  58.44691       2.327562 0.4482719  5.192300 2.077117e-07 2.399071e-05"
      ]
     },
     "metadata": {},
     "output_type": "display_data"
    }
   ],
   "source": [
    "res = results(dds)\n",
    "resOrdered = res[order(res$padj),]\n",
    "write.csv(as.data.frame(resOrdered),file=\"PA_deseq_results_pellet_triflic.csv\")\n",
    "resOrdered[0:10,]"
   ]
  },
  {
   "cell_type": "code",
   "execution_count": null,
   "metadata": {},
   "outputs": [],
   "source": []
  }
 ],
 "metadata": {
  "kernelspec": {
   "display_name": "R",
   "language": "R",
   "name": "ir"
  },
  "language_info": {
   "codemirror_mode": "r",
   "file_extension": ".r",
   "mimetype": "text/x-r-source",
   "name": "R",
   "pygments_lexer": "r",
   "version": "3.4.3"
  }
 },
 "nbformat": 4,
 "nbformat_minor": 2
}
