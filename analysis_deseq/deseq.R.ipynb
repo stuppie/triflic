{
 "cells": [
  {
   "cell_type": "code",
   "execution_count": 1,
   "metadata": {},
   "outputs": [
    {
     "data": {
      "text/plain": [
       "R version 3.4.3 (2017-11-30)\n",
       "Platform: x86_64-pc-linux-gnu (64-bit)\n",
       "Running under: Ubuntu 16.04.2 LTS\n",
       "\n",
       "Matrix products: default\n",
       "BLAS: /usr/lib/libblas/libblas.so.3.6.0\n",
       "LAPACK: /usr/lib/lapack/liblapack.so.3.6.0\n",
       "\n",
       "locale:\n",
       " [1] LC_CTYPE=en_US.UTF-8       LC_NUMERIC=C              \n",
       " [3] LC_TIME=en_US.UTF-8        LC_COLLATE=en_US.UTF-8    \n",
       " [5] LC_MONETARY=en_US.UTF-8    LC_MESSAGES=en_US.UTF-8   \n",
       " [7] LC_PAPER=en_US.UTF-8       LC_NAME=C                 \n",
       " [9] LC_ADDRESS=C               LC_TELEPHONE=C            \n",
       "[11] LC_MEASUREMENT=en_US.UTF-8 LC_IDENTIFICATION=C       \n",
       "\n",
       "attached base packages:\n",
       "[1] stats     graphics  grDevices utils     datasets  methods   base     \n",
       "\n",
       "loaded via a namespace (and not attached):\n",
       " [1] compiler_3.4.3      R6_2.2.2            magrittr_1.5       \n",
       " [4] IRdisplay_0.4.4     pbdZMQ_0.2-6        tools_3.4.3        \n",
       " [7] crayon_1.3.4        uuid_0.1-2          stringi_1.1.6      \n",
       "[10] IRkernel_0.8.6.9000 jsonlite_1.5        stringr_1.2.0      \n",
       "[13] digest_0.6.12       repr_0.12.0         evaluate_0.10.1    "
      ]
     },
     "metadata": {},
     "output_type": "display_data"
    }
   ],
   "source": [
    "sessionInfo()"
   ]
  },
  {
   "cell_type": "code",
   "execution_count": 2,
   "metadata": {},
   "outputs": [
    {
     "name": "stderr",
     "output_type": "stream",
     "text": [
      "Loading required package: S4Vectors\n",
      "Loading required package: stats4\n",
      "Loading required package: BiocGenerics\n",
      "Loading required package: parallel\n",
      "\n",
      "Attaching package: ‘BiocGenerics’\n",
      "\n",
      "The following objects are masked from ‘package:parallel’:\n",
      "\n",
      "    clusterApply, clusterApplyLB, clusterCall, clusterEvalQ,\n",
      "    clusterExport, clusterMap, parApply, parCapply, parLapply,\n",
      "    parLapplyLB, parRapply, parSapply, parSapplyLB\n",
      "\n",
      "The following objects are masked from ‘package:stats’:\n",
      "\n",
      "    IQR, mad, sd, var, xtabs\n",
      "\n",
      "The following objects are masked from ‘package:base’:\n",
      "\n",
      "    anyDuplicated, append, as.data.frame, cbind, colMeans, colnames,\n",
      "    colSums, do.call, duplicated, eval, evalq, Filter, Find, get, grep,\n",
      "    grepl, intersect, is.unsorted, lapply, lengths, Map, mapply, match,\n",
      "    mget, order, paste, pmax, pmax.int, pmin, pmin.int, Position, rank,\n",
      "    rbind, Reduce, rowMeans, rownames, rowSums, sapply, setdiff, sort,\n",
      "    table, tapply, union, unique, unsplit, which, which.max, which.min\n",
      "\n",
      "\n",
      "Attaching package: ‘S4Vectors’\n",
      "\n",
      "The following object is masked from ‘package:base’:\n",
      "\n",
      "    expand.grid\n",
      "\n",
      "Loading required package: IRanges\n",
      "Loading required package: GenomicRanges\n",
      "Loading required package: GenomeInfoDb\n",
      "Loading required package: SummarizedExperiment\n",
      "Loading required package: Biobase\n",
      "Welcome to Bioconductor\n",
      "\n",
      "    Vignettes contain introductory material; view with\n",
      "    'browseVignettes()'. To cite Bioconductor, see\n",
      "    'citation(\"Biobase\")', and for packages 'citation(\"pkgname\")'.\n",
      "\n",
      "Loading required package: DelayedArray\n",
      "Loading required package: matrixStats\n",
      "\n",
      "Attaching package: ‘matrixStats’\n",
      "\n",
      "The following objects are masked from ‘package:Biobase’:\n",
      "\n",
      "    anyMissing, rowMedians\n",
      "\n",
      "\n",
      "Attaching package: ‘DelayedArray’\n",
      "\n",
      "The following objects are masked from ‘package:matrixStats’:\n",
      "\n",
      "    colMaxs, colMins, colRanges, rowMaxs, rowMins, rowRanges\n",
      "\n",
      "The following object is masked from ‘package:base’:\n",
      "\n",
      "    apply\n",
      "\n",
      "Loading required package: lattice\n",
      "Loading required package: annotate\n",
      "Loading required package: AnnotationDbi\n",
      "Loading required package: XML\n",
      "\n",
      "Attaching package: ‘genefilter’\n",
      "\n",
      "The following objects are masked from ‘package:matrixStats’:\n",
      "\n",
      "    rowSds, rowVars\n",
      "\n"
     ]
    }
   ],
   "source": [
    "library(\"DESeq2\")\n",
    "library(\"geneplotter\")\n",
    "library(\"ggplot2\")\n",
    "library(\"vsn\")\n",
    "library(\"genefilter\")"
   ]
  },
  {
   "cell_type": "code",
   "execution_count": 3,
   "metadata": {},
   "outputs": [],
   "source": [
    "setwd(\"/home/gstupp/projects/Wolan/ana_extractions/analysis/analysis_deseq\")"
   ]
  },
  {
   "cell_type": "code",
   "execution_count": 4,
   "metadata": {},
   "outputs": [],
   "source": [
    "file_path = \"X.csv\"\n",
    "countData = read.csv(file_path, row.names = 1)"
   ]
  },
  {
   "cell_type": "code",
   "execution_count": 5,
   "metadata": {},
   "outputs": [
    {
     "data": {
      "text/html": [
       "<table>\n",
       "<thead><tr><th></th><th scope=col>cell</th><th scope=col>file</th><th scope=col>method</th><th scope=col>name.1</th><th scope=col>pretty_name</th></tr></thead>\n",
       "<tbody>\n",
       "\t<tr><th scope=row>BS_sonic_1</th><td>BS                                      </td><td>data/BS/Sonic/BS sonic 1.txt            </td><td>sonic                                   </td><td>BS_sonic_1                              </td><td>BS sonic 1                              </td></tr>\n",
       "\t<tr><th scope=row>BS_sonic_2</th><td>BS                                      </td><td>data/BS/Sonic/BS sonic 2.txt            </td><td>sonic                                   </td><td>BS_sonic_2                              </td><td>BS sonic 2                              </td></tr>\n",
       "\t<tr><th scope=row>BS_sonic_3</th><td>BS                                      </td><td>data/BS/Sonic/BS sonic 3.txt            </td><td>sonic                                   </td><td>BS_sonic_3                              </td><td>BS sonic 3                              </td></tr>\n",
       "\t<tr><th scope=row>BS_triflic_1</th><td>BS                                      </td><td>data/BS/Triflic/BS triflic 1.txt        </td><td>triflic                                 </td><td>BS_triflic_1                            </td><td>BS triflic 1                            </td></tr>\n",
       "\t<tr><th scope=row>BS_triflic_2</th><td>BS                                      </td><td>data/BS/Triflic/BS triflic 2.txt        </td><td>triflic                                 </td><td>BS_triflic_2                            </td><td>BS triflic 2                            </td></tr>\n",
       "\t<tr><th scope=row>BS_triflic_3</th><td>BS                                      </td><td>data/BS/Triflic/BS triflic 3.txt        </td><td>triflic                                 </td><td>BS_triflic_3                            </td><td>BS triflic 3                            </td></tr>\n",
       "\t<tr><th scope=row>Jurkat_sonic_1</th><td>Jurkat                                  </td><td>data/Jurkat/Sonic/Jurkat sonic 1.txt    </td><td>sonic                                   </td><td>Jurkat_sonic_1                          </td><td>Jurkat sonic 1                          </td></tr>\n",
       "\t<tr><th scope=row>Jurkat_sonic_2</th><td>Jurkat                                  </td><td>data/Jurkat/Sonic/Jurkat sonic 2.txt    </td><td>sonic                                   </td><td>Jurkat_sonic_2                          </td><td>Jurkat sonic 2                          </td></tr>\n",
       "\t<tr><th scope=row>Jurkat_sonic_3</th><td>Jurkat                                  </td><td>data/Jurkat/Sonic/Jurkat sonic 3.txt    </td><td>sonic                                   </td><td>Jurkat_sonic_3                          </td><td>Jurkat sonic 3                          </td></tr>\n",
       "\t<tr><th scope=row>Jurkat_triflic_1</th><td>Jurkat                                  </td><td>data/Jurkat/Triflic/Jurkat triflic 1.txt</td><td>triflic                                 </td><td>Jurkat_triflic_1                        </td><td>Jurkat triflic 1                        </td></tr>\n",
       "\t<tr><th scope=row>Jurkat_triflic_2</th><td>Jurkat                                  </td><td>data/Jurkat/Triflic/Jurkat triflic 2.txt</td><td>triflic                                 </td><td>Jurkat_triflic_2                        </td><td>Jurkat triflic 2                        </td></tr>\n",
       "\t<tr><th scope=row>Jurkat_triflic_3</th><td>Jurkat                                  </td><td>data/Jurkat/Triflic/Jurkat triflic 3.txt</td><td>triflic                                 </td><td>Jurkat_triflic_3                        </td><td>Jurkat triflic 3                        </td></tr>\n",
       "\t<tr><th scope=row>PA_sonic_1</th><td>PA                                      </td><td>data/PA/Sonic/PA sonic 1.txt            </td><td>sonic                                   </td><td>PA_sonic_1                              </td><td>PA sonic 1                              </td></tr>\n",
       "\t<tr><th scope=row>PA_sonic_2</th><td>PA                                      </td><td>data/PA/Sonic/PA sonic 2.txt            </td><td>sonic                                   </td><td>PA_sonic_2                              </td><td>PA sonic 2                              </td></tr>\n",
       "\t<tr><th scope=row>PA_sonic_3</th><td>PA                                      </td><td>data/PA/Sonic/PA sonic 3.txt            </td><td>sonic                                   </td><td>PA_sonic_3                              </td><td>PA sonic 3                              </td></tr>\n",
       "\t<tr><th scope=row>PA_triflic_1</th><td>PA                                      </td><td>data/PA/Triflic/PA triflic 1.txt        </td><td>triflic                                 </td><td>PA_triflic_1                            </td><td>PA triflic 1                            </td></tr>\n",
       "\t<tr><th scope=row>PA_triflic_2</th><td>PA                                      </td><td>data/PA/Triflic/PA triflic 2.txt        </td><td>triflic                                 </td><td>PA_triflic_2                            </td><td>PA triflic 2                            </td></tr>\n",
       "\t<tr><th scope=row>PA_triflic_3</th><td>PA                                      </td><td>data/PA/Triflic/PA triflic 3.txt        </td><td>triflic                                 </td><td>PA_triflic_3                            </td><td>PA triflic 3                            </td></tr>\n",
       "</tbody>\n",
       "</table>\n"
      ],
      "text/latex": [
       "\\begin{tabular}{r|lllll}\n",
       "  & cell & file & method & name.1 & pretty\\_name\\\\\n",
       "\\hline\n",
       "\tBS\\_sonic\\_1 & BS                                       & data/BS/Sonic/BS sonic 1.txt             & sonic                                    & BS\\_sonic\\_1                           & BS sonic 1                              \\\\\n",
       "\tBS\\_sonic\\_2 & BS                                       & data/BS/Sonic/BS sonic 2.txt             & sonic                                    & BS\\_sonic\\_2                           & BS sonic 2                              \\\\\n",
       "\tBS\\_sonic\\_3 & BS                                       & data/BS/Sonic/BS sonic 3.txt             & sonic                                    & BS\\_sonic\\_3                           & BS sonic 3                              \\\\\n",
       "\tBS\\_triflic\\_1 & BS                                       & data/BS/Triflic/BS triflic 1.txt         & triflic                                  & BS\\_triflic\\_1                         & BS triflic 1                            \\\\\n",
       "\tBS\\_triflic\\_2 & BS                                       & data/BS/Triflic/BS triflic 2.txt         & triflic                                  & BS\\_triflic\\_2                         & BS triflic 2                            \\\\\n",
       "\tBS\\_triflic\\_3 & BS                                       & data/BS/Triflic/BS triflic 3.txt         & triflic                                  & BS\\_triflic\\_3                         & BS triflic 3                            \\\\\n",
       "\tJurkat\\_sonic\\_1 & Jurkat                                   & data/Jurkat/Sonic/Jurkat sonic 1.txt     & sonic                                    & Jurkat\\_sonic\\_1                       & Jurkat sonic 1                          \\\\\n",
       "\tJurkat\\_sonic\\_2 & Jurkat                                   & data/Jurkat/Sonic/Jurkat sonic 2.txt     & sonic                                    & Jurkat\\_sonic\\_2                       & Jurkat sonic 2                          \\\\\n",
       "\tJurkat\\_sonic\\_3 & Jurkat                                   & data/Jurkat/Sonic/Jurkat sonic 3.txt     & sonic                                    & Jurkat\\_sonic\\_3                       & Jurkat sonic 3                          \\\\\n",
       "\tJurkat\\_triflic\\_1 & Jurkat                                   & data/Jurkat/Triflic/Jurkat triflic 1.txt & triflic                                  & Jurkat\\_triflic\\_1                     & Jurkat triflic 1                        \\\\\n",
       "\tJurkat\\_triflic\\_2 & Jurkat                                   & data/Jurkat/Triflic/Jurkat triflic 2.txt & triflic                                  & Jurkat\\_triflic\\_2                     & Jurkat triflic 2                        \\\\\n",
       "\tJurkat\\_triflic\\_3 & Jurkat                                   & data/Jurkat/Triflic/Jurkat triflic 3.txt & triflic                                  & Jurkat\\_triflic\\_3                     & Jurkat triflic 3                        \\\\\n",
       "\tPA\\_sonic\\_1 & PA                                       & data/PA/Sonic/PA sonic 1.txt             & sonic                                    & PA\\_sonic\\_1                           & PA sonic 1                              \\\\\n",
       "\tPA\\_sonic\\_2 & PA                                       & data/PA/Sonic/PA sonic 2.txt             & sonic                                    & PA\\_sonic\\_2                           & PA sonic 2                              \\\\\n",
       "\tPA\\_sonic\\_3 & PA                                       & data/PA/Sonic/PA sonic 3.txt             & sonic                                    & PA\\_sonic\\_3                           & PA sonic 3                              \\\\\n",
       "\tPA\\_triflic\\_1 & PA                                       & data/PA/Triflic/PA triflic 1.txt         & triflic                                  & PA\\_triflic\\_1                         & PA triflic 1                            \\\\\n",
       "\tPA\\_triflic\\_2 & PA                                       & data/PA/Triflic/PA triflic 2.txt         & triflic                                  & PA\\_triflic\\_2                         & PA triflic 2                            \\\\\n",
       "\tPA\\_triflic\\_3 & PA                                       & data/PA/Triflic/PA triflic 3.txt         & triflic                                  & PA\\_triflic\\_3                         & PA triflic 3                            \\\\\n",
       "\\end{tabular}\n"
      ],
      "text/markdown": [
       "\n",
       "| <!--/--> | cell | file | method | name.1 | pretty_name | \n",
       "|---|---|---|---|---|---|---|---|---|---|---|---|---|---|---|---|---|---|\n",
       "| BS_sonic_1 | BS                                       | data/BS/Sonic/BS sonic 1.txt             | sonic                                    | BS_sonic_1                               | BS sonic 1                               | \n",
       "| BS_sonic_2 | BS                                       | data/BS/Sonic/BS sonic 2.txt             | sonic                                    | BS_sonic_2                               | BS sonic 2                               | \n",
       "| BS_sonic_3 | BS                                       | data/BS/Sonic/BS sonic 3.txt             | sonic                                    | BS_sonic_3                               | BS sonic 3                               | \n",
       "| BS_triflic_1 | BS                                       | data/BS/Triflic/BS triflic 1.txt         | triflic                                  | BS_triflic_1                             | BS triflic 1                             | \n",
       "| BS_triflic_2 | BS                                       | data/BS/Triflic/BS triflic 2.txt         | triflic                                  | BS_triflic_2                             | BS triflic 2                             | \n",
       "| BS_triflic_3 | BS                                       | data/BS/Triflic/BS triflic 3.txt         | triflic                                  | BS_triflic_3                             | BS triflic 3                             | \n",
       "| Jurkat_sonic_1 | Jurkat                                   | data/Jurkat/Sonic/Jurkat sonic 1.txt     | sonic                                    | Jurkat_sonic_1                           | Jurkat sonic 1                           | \n",
       "| Jurkat_sonic_2 | Jurkat                                   | data/Jurkat/Sonic/Jurkat sonic 2.txt     | sonic                                    | Jurkat_sonic_2                           | Jurkat sonic 2                           | \n",
       "| Jurkat_sonic_3 | Jurkat                                   | data/Jurkat/Sonic/Jurkat sonic 3.txt     | sonic                                    | Jurkat_sonic_3                           | Jurkat sonic 3                           | \n",
       "| Jurkat_triflic_1 | Jurkat                                   | data/Jurkat/Triflic/Jurkat triflic 1.txt | triflic                                  | Jurkat_triflic_1                         | Jurkat triflic 1                         | \n",
       "| Jurkat_triflic_2 | Jurkat                                   | data/Jurkat/Triflic/Jurkat triflic 2.txt | triflic                                  | Jurkat_triflic_2                         | Jurkat triflic 2                         | \n",
       "| Jurkat_triflic_3 | Jurkat                                   | data/Jurkat/Triflic/Jurkat triflic 3.txt | triflic                                  | Jurkat_triflic_3                         | Jurkat triflic 3                         | \n",
       "| PA_sonic_1 | PA                                       | data/PA/Sonic/PA sonic 1.txt             | sonic                                    | PA_sonic_1                               | PA sonic 1                               | \n",
       "| PA_sonic_2 | PA                                       | data/PA/Sonic/PA sonic 2.txt             | sonic                                    | PA_sonic_2                               | PA sonic 2                               | \n",
       "| PA_sonic_3 | PA                                       | data/PA/Sonic/PA sonic 3.txt             | sonic                                    | PA_sonic_3                               | PA sonic 3                               | \n",
       "| PA_triflic_1 | PA                                       | data/PA/Triflic/PA triflic 1.txt         | triflic                                  | PA_triflic_1                             | PA triflic 1                             | \n",
       "| PA_triflic_2 | PA                                       | data/PA/Triflic/PA triflic 2.txt         | triflic                                  | PA_triflic_2                             | PA triflic 2                             | \n",
       "| PA_triflic_3 | PA                                       | data/PA/Triflic/PA triflic 3.txt         | triflic                                  | PA_triflic_3                             | PA triflic 3                             | \n",
       "\n",
       "\n"
      ],
      "text/plain": [
       "                 cell   file                                     method \n",
       "BS_sonic_1       BS     data/BS/Sonic/BS sonic 1.txt             sonic  \n",
       "BS_sonic_2       BS     data/BS/Sonic/BS sonic 2.txt             sonic  \n",
       "BS_sonic_3       BS     data/BS/Sonic/BS sonic 3.txt             sonic  \n",
       "BS_triflic_1     BS     data/BS/Triflic/BS triflic 1.txt         triflic\n",
       "BS_triflic_2     BS     data/BS/Triflic/BS triflic 2.txt         triflic\n",
       "BS_triflic_3     BS     data/BS/Triflic/BS triflic 3.txt         triflic\n",
       "Jurkat_sonic_1   Jurkat data/Jurkat/Sonic/Jurkat sonic 1.txt     sonic  \n",
       "Jurkat_sonic_2   Jurkat data/Jurkat/Sonic/Jurkat sonic 2.txt     sonic  \n",
       "Jurkat_sonic_3   Jurkat data/Jurkat/Sonic/Jurkat sonic 3.txt     sonic  \n",
       "Jurkat_triflic_1 Jurkat data/Jurkat/Triflic/Jurkat triflic 1.txt triflic\n",
       "Jurkat_triflic_2 Jurkat data/Jurkat/Triflic/Jurkat triflic 2.txt triflic\n",
       "Jurkat_triflic_3 Jurkat data/Jurkat/Triflic/Jurkat triflic 3.txt triflic\n",
       "PA_sonic_1       PA     data/PA/Sonic/PA sonic 1.txt             sonic  \n",
       "PA_sonic_2       PA     data/PA/Sonic/PA sonic 2.txt             sonic  \n",
       "PA_sonic_3       PA     data/PA/Sonic/PA sonic 3.txt             sonic  \n",
       "PA_triflic_1     PA     data/PA/Triflic/PA triflic 1.txt         triflic\n",
       "PA_triflic_2     PA     data/PA/Triflic/PA triflic 2.txt         triflic\n",
       "PA_triflic_3     PA     data/PA/Triflic/PA triflic 3.txt         triflic\n",
       "                 name.1           pretty_name     \n",
       "BS_sonic_1       BS_sonic_1       BS sonic 1      \n",
       "BS_sonic_2       BS_sonic_2       BS sonic 2      \n",
       "BS_sonic_3       BS_sonic_3       BS sonic 3      \n",
       "BS_triflic_1     BS_triflic_1     BS triflic 1    \n",
       "BS_triflic_2     BS_triflic_2     BS triflic 2    \n",
       "BS_triflic_3     BS_triflic_3     BS triflic 3    \n",
       "Jurkat_sonic_1   Jurkat_sonic_1   Jurkat sonic 1  \n",
       "Jurkat_sonic_2   Jurkat_sonic_2   Jurkat sonic 2  \n",
       "Jurkat_sonic_3   Jurkat_sonic_3   Jurkat sonic 3  \n",
       "Jurkat_triflic_1 Jurkat_triflic_1 Jurkat triflic 1\n",
       "Jurkat_triflic_2 Jurkat_triflic_2 Jurkat triflic 2\n",
       "Jurkat_triflic_3 Jurkat_triflic_3 Jurkat triflic 3\n",
       "PA_sonic_1       PA_sonic_1       PA sonic 1      \n",
       "PA_sonic_2       PA_sonic_2       PA sonic 2      \n",
       "PA_sonic_3       PA_sonic_3       PA sonic 3      \n",
       "PA_triflic_1     PA_triflic_1     PA triflic 1    \n",
       "PA_triflic_2     PA_triflic_2     PA triflic 2    \n",
       "PA_triflic_3     PA_triflic_3     PA triflic 3    "
      ]
     },
     "metadata": {},
     "output_type": "display_data"
    }
   ],
   "source": [
    "meta_path = \"metadata.csv\"\n",
    "sampleTable = read.csv(meta_path, row.names = 1)\n",
    "sampleTable = sampleTable[colnames(countData),]\n",
    "sampleTable$cell = factor(sampleTable$cell)\n",
    "sampleTable$method = factor(sampleTable$method)\n",
    "sampleTable$method <- relevel(sampleTable$method, ref=\"sonic\")\n",
    "sampleTable = sampleTable[!(rownames(sampleTable) %in% c(\"PA_pellet_1\", \"PA_pellet_2\", \"PA_pellet_3\")),]\n",
    "sampleTable"
   ]
  },
  {
   "cell_type": "markdown",
   "metadata": {},
   "source": [
    "## BS"
   ]
  },
  {
   "cell_type": "code",
   "execution_count": 6,
   "metadata": {},
   "outputs": [
    {
     "name": "stderr",
     "output_type": "stream",
     "text": [
      "converting counts to integer mode\n",
      "factor levels were dropped which had no samples\n"
     ]
    },
    {
     "data": {
      "text/html": [
       "<table>\n",
       "<thead><tr><th></th><th scope=col>BS_sonic_1</th><th scope=col>BS_sonic_2</th><th scope=col>BS_sonic_3</th><th scope=col>BS_triflic_1</th><th scope=col>BS_triflic_2</th><th scope=col>BS_triflic_3</th></tr></thead>\n",
       "<tbody>\n",
       "\t<tr><th scope=row>C0H3V2</th><td>4</td><td>7</td><td>5</td><td>0</td><td>3</td><td>4</td></tr>\n",
       "\t<tr><th scope=row>C0H3V3</th><td>6</td><td>6</td><td>9</td><td>0</td><td>0</td><td>0</td></tr>\n",
       "</tbody>\n",
       "</table>\n"
      ],
      "text/latex": [
       "\\begin{tabular}{r|llllll}\n",
       "  & BS\\_sonic\\_1 & BS\\_sonic\\_2 & BS\\_sonic\\_3 & BS\\_triflic\\_1 & BS\\_triflic\\_2 & BS\\_triflic\\_3\\\\\n",
       "\\hline\n",
       "\tC0H3V2 & 4 & 7 & 5 & 0 & 3 & 4\\\\\n",
       "\tC0H3V3 & 6 & 6 & 9 & 0 & 0 & 0\\\\\n",
       "\\end{tabular}\n"
      ],
      "text/markdown": [
       "\n",
       "| <!--/--> | BS_sonic_1 | BS_sonic_2 | BS_sonic_3 | BS_triflic_1 | BS_triflic_2 | BS_triflic_3 | \n",
       "|---|---|\n",
       "| C0H3V2 | 4 | 7 | 5 | 0 | 3 | 4 | \n",
       "| C0H3V3 | 6 | 6 | 9 | 0 | 0 | 0 | \n",
       "\n",
       "\n"
      ],
      "text/plain": [
       "       BS_sonic_1 BS_sonic_2 BS_sonic_3 BS_triflic_1 BS_triflic_2 BS_triflic_3\n",
       "C0H3V2 4          7          5          0            3            4           \n",
       "C0H3V3 6          6          9          0            0            0           "
      ]
     },
     "metadata": {},
     "output_type": "display_data"
    }
   ],
   "source": [
    "sampleTableX = sampleTable[sampleTable$cell==\"BS\",]\n",
    "X = countData[,sampleTableX$name]\n",
    "X = X[ !apply(X, 1, function(x) all(is.na(x))), ]\n",
    "X[is.na(X)] = 0\n",
    "dds = DESeqDataSetFromMatrix(X, colData = sampleTableX, design = ~ method)\n",
    "dds <- dds[ rowSums(counts(dds)) > 2, ]\n",
    "counts(dds)[0:2,]"
   ]
  },
  {
   "cell_type": "code",
   "execution_count": 7,
   "metadata": {},
   "outputs": [
    {
     "name": "stderr",
     "output_type": "stream",
     "text": [
      "estimating size factors\n",
      "estimating dispersions\n",
      "gene-wise dispersion estimates\n",
      "mean-dispersion relationship\n",
      "final dispersion estimates\n",
      "fitting model and testing\n"
     ]
    },
    {
     "name": "stdout",
     "output_type": "stream",
     "text": [
      "\n",
      "out of 1372 with nonzero total read count\n",
      "adjusted p-value < 0.1\n",
      "LFC > 0 (up)     : 264, 19% \n",
      "LFC < 0 (down)   : 228, 17% \n",
      "outliers [1]     : 0, 0% \n",
      "low counts [2]   : 266, 19% \n",
      "(mean count < 1)\n",
      "[1] see 'cooksCutoff' argument of ?results\n",
      "[2] see 'independentFiltering' argument of ?results\n",
      "\n"
     ]
    }
   ],
   "source": [
    "dds = DESeq(dds)\n",
    "res = results(dds)\n",
    "summary(res)"
   ]
  },
  {
   "cell_type": "code",
   "execution_count": 8,
   "metadata": {},
   "outputs": [
    {
     "data": {
      "text/plain": [
       "log2 fold change (MLE): method triflic vs sonic \n",
       "Wald test p-value: method triflic vs sonic \n",
       "DataFrame with 20 rows and 6 columns\n",
       "        baseMean log2FoldChange     lfcSE      stat       pvalue         padj\n",
       "       <numeric>      <numeric> <numeric> <numeric>    <numeric>    <numeric>\n",
       "P80239  747.5681      -4.366607 0.2995649 -14.57650 3.963404e-48 4.383525e-45\n",
       "P54375  329.4090       5.712140 0.4374335  13.05830 5.698257e-39 3.151136e-36\n",
       "P0CI73  174.4533       5.838238 0.4573601  12.76508 2.568842e-37 9.470464e-35\n",
       "P26901  280.4514      -3.304884 0.2700305 -12.23893 1.925572e-34 5.324205e-32\n",
       "P94391  180.9387      -4.243002 0.3568728 -11.88940 1.343752e-32 2.972380e-30\n",
       "...          ...            ...       ...       ...          ...          ...\n",
       "P94550  47.60762      -4.012102 0.5237998 -7.659609 1.865000e-14 1.289181e-12\n",
       "P54542  59.62276      -3.447706 0.4536070 -7.600644 2.946601e-14 1.917024e-12\n",
       "P45745  61.68154       9.307479 1.2447275  7.477523 7.573639e-14 4.408655e-12\n",
       "P54716  48.07323      -4.505608 0.6023636 -7.479880 7.439049e-14 4.408655e-12\n",
       "Q07833  57.75553       9.212779 1.2400127  7.429584 1.089394e-13 6.024350e-12"
      ]
     },
     "metadata": {},
     "output_type": "display_data"
    }
   ],
   "source": [
    "res = results(dds)\n",
    "resOrdered = res[order(res$padj),]\n",
    "write.csv(as.data.frame(resOrdered),file=\"BS_deseq_results.csv\")\n",
    "resOrdered[0:20,]"
   ]
  },
  {
   "cell_type": "code",
   "execution_count": 9,
   "metadata": {},
   "outputs": [
    {
     "data": {
      "text/html": [
       "<dl class=dl-horizontal>\n",
       "\t<dt>BS_sonic_1</dt>\n",
       "\t\t<dd>0.984525262000141</dd>\n",
       "\t<dt>BS_sonic_2</dt>\n",
       "\t\t<dd>0.908681542894914</dd>\n",
       "\t<dt>BS_sonic_3</dt>\n",
       "\t\t<dd>0.943386798070507</dd>\n",
       "\t<dt>BS_triflic_1</dt>\n",
       "\t\t<dd>0.829806782916099</dd>\n",
       "\t<dt>BS_triflic_2</dt>\n",
       "\t\t<dd>1.05971547182675</dd>\n",
       "\t<dt>BS_triflic_3</dt>\n",
       "\t\t<dd>1.36769839847087</dd>\n",
       "</dl>\n"
      ],
      "text/latex": [
       "\\begin{description*}\n",
       "\\item[BS\\textbackslash{}\\_sonic\\textbackslash{}\\_1] 0.984525262000141\n",
       "\\item[BS\\textbackslash{}\\_sonic\\textbackslash{}\\_2] 0.908681542894914\n",
       "\\item[BS\\textbackslash{}\\_sonic\\textbackslash{}\\_3] 0.943386798070507\n",
       "\\item[BS\\textbackslash{}\\_triflic\\textbackslash{}\\_1] 0.829806782916099\n",
       "\\item[BS\\textbackslash{}\\_triflic\\textbackslash{}\\_2] 1.05971547182675\n",
       "\\item[BS\\textbackslash{}\\_triflic\\textbackslash{}\\_3] 1.36769839847087\n",
       "\\end{description*}\n"
      ],
      "text/markdown": [
       "BS_sonic_1\n",
       ":   0.984525262000141BS_sonic_2\n",
       ":   0.908681542894914BS_sonic_3\n",
       ":   0.943386798070507BS_triflic_1\n",
       ":   0.829806782916099BS_triflic_2\n",
       ":   1.05971547182675BS_triflic_3\n",
       ":   1.36769839847087\n",
       "\n"
      ],
      "text/plain": [
       "  BS_sonic_1   BS_sonic_2   BS_sonic_3 BS_triflic_1 BS_triflic_2 BS_triflic_3 \n",
       "   0.9845253    0.9086815    0.9433868    0.8298068    1.0597155    1.3676984 "
      ]
     },
     "metadata": {},
     "output_type": "display_data"
    }
   ],
   "source": [
    "sizeFactors(dds)"
   ]
  },
  {
   "cell_type": "code",
   "execution_count": 10,
   "metadata": {},
   "outputs": [],
   "source": [
    "write.csv(counts(dds, normalized=TRUE), \"X_bs_normalized.csv\")"
   ]
  },
  {
   "cell_type": "markdown",
   "metadata": {},
   "source": [
    "## Jurkat"
   ]
  },
  {
   "cell_type": "code",
   "execution_count": 16,
   "metadata": {},
   "outputs": [
    {
     "name": "stderr",
     "output_type": "stream",
     "text": [
      "converting counts to integer mode\n",
      "factor levels were dropped which had no samples\n"
     ]
    },
    {
     "data": {
      "text/html": [
       "<table>\n",
       "<thead><tr><th></th><th scope=col>Jurkat_sonic_1</th><th scope=col>Jurkat_sonic_2</th><th scope=col>Jurkat_sonic_3</th><th scope=col>Jurkat_triflic_1</th><th scope=col>Jurkat_triflic_2</th><th scope=col>Jurkat_triflic_3</th></tr></thead>\n",
       "<tbody>\n",
       "\t<tr><th scope=row>A0A024QZP7</th><td>24</td><td>3 </td><td>6 </td><td>12</td><td>10</td><td>27</td></tr>\n",
       "\t<tr><th scope=row>A0A024R216</th><td> 0</td><td>0 </td><td>6 </td><td> 0</td><td> 0</td><td> 6</td></tr>\n",
       "</tbody>\n",
       "</table>\n"
      ],
      "text/latex": [
       "\\begin{tabular}{r|llllll}\n",
       "  & Jurkat\\_sonic\\_1 & Jurkat\\_sonic\\_2 & Jurkat\\_sonic\\_3 & Jurkat\\_triflic\\_1 & Jurkat\\_triflic\\_2 & Jurkat\\_triflic\\_3\\\\\n",
       "\\hline\n",
       "\tA0A024QZP7 & 24 & 3  & 6  & 12 & 10 & 27\\\\\n",
       "\tA0A024R216 &  0 & 0  & 6  &  0 &  0 &  6\\\\\n",
       "\\end{tabular}\n"
      ],
      "text/markdown": [
       "\n",
       "| <!--/--> | Jurkat_sonic_1 | Jurkat_sonic_2 | Jurkat_sonic_3 | Jurkat_triflic_1 | Jurkat_triflic_2 | Jurkat_triflic_3 | \n",
       "|---|---|\n",
       "| A0A024QZP7 | 24 | 3  | 6  | 12 | 10 | 27 | \n",
       "| A0A024R216 |  0 | 0  | 6  |  0 |  0 |  6 | \n",
       "\n",
       "\n"
      ],
      "text/plain": [
       "           Jurkat_sonic_1 Jurkat_sonic_2 Jurkat_sonic_3 Jurkat_triflic_1\n",
       "A0A024QZP7 24             3              6              12              \n",
       "A0A024R216  0             0              6               0              \n",
       "           Jurkat_triflic_2 Jurkat_triflic_3\n",
       "A0A024QZP7 10               27              \n",
       "A0A024R216  0                6              "
      ]
     },
     "metadata": {},
     "output_type": "display_data"
    }
   ],
   "source": [
    "sampleTableX = sampleTable[sampleTable$cell==\"Jurkat\",]\n",
    "X = countData[,sampleTableX$name]\n",
    "X = X[ !apply(X, 1, function(x) all(is.na(x))), ]\n",
    "X[is.na(X)] = 0\n",
    "dds = DESeqDataSetFromMatrix(X, colData = sampleTableX, design = ~ method)\n",
    "dds <- dds[ rowSums(counts(dds)) > 2, ]\n",
    "counts(dds)[0:2,]"
   ]
  },
  {
   "cell_type": "code",
   "execution_count": 17,
   "metadata": {},
   "outputs": [
    {
     "name": "stderr",
     "output_type": "stream",
     "text": [
      "estimating size factors\n",
      "estimating dispersions\n",
      "gene-wise dispersion estimates\n",
      "mean-dispersion relationship\n",
      "final dispersion estimates\n",
      "fitting model and testing\n"
     ]
    },
    {
     "name": "stdout",
     "output_type": "stream",
     "text": [
      "\n",
      "out of 5272 with nonzero total read count\n",
      "adjusted p-value < 0.1\n",
      "LFC > 0 (up)     : 23, 0.44% \n",
      "LFC < 0 (down)   : 48, 0.91% \n",
      "outliers [1]     : 3, 0.057% \n",
      "low counts [2]   : 3066, 58% \n",
      "(mean count < 2)\n",
      "[1] see 'cooksCutoff' argument of ?results\n",
      "[2] see 'independentFiltering' argument of ?results\n",
      "\n"
     ]
    }
   ],
   "source": [
    "dds = DESeq(dds)\n",
    "res = results(dds)\n",
    "summary(res)"
   ]
  },
  {
   "cell_type": "code",
   "execution_count": 18,
   "metadata": {},
   "outputs": [
    {
     "data": {
      "text/plain": [
       "log2 fold change (MLE): method triflic vs sonic \n",
       "Wald test p-value: method triflic vs sonic \n",
       "DataFrame with 20 rows and 6 columns\n",
       "        baseMean log2FoldChange     lfcSE      stat       pvalue         padj\n",
       "       <numeric>      <numeric> <numeric> <numeric>    <numeric>    <numeric>\n",
       "H3BR70 226.09501      -3.799501 0.6992692 -5.433531 5.524981e-08 0.0001217153\n",
       "B4DNK4 286.15842      -3.439163 0.6913746 -4.974385 6.545502e-07 0.0007209870\n",
       "Q9UII2  24.40724      -7.667422 1.5904925 -4.820785 1.429945e-06 0.0010500564\n",
       "M0QY96  24.48991       5.146161 1.1247024  4.575576 4.749116e-06 0.0026155757\n",
       "M0R2I7  25.25797       4.262155 0.9641867  4.420467 9.848793e-06 0.0043393780\n",
       "...          ...            ...       ...       ...          ...          ...\n",
       "P09104 111.74183      -2.889324 0.7956442 -3.631428 0.0002818575   0.03880826\n",
       "M0QYM7  69.18233      -3.504917 0.9869576 -3.551233 0.0003834308   0.04968812\n",
       "E9PK25  77.41391      -3.100875 0.8966799 -3.458174 0.0005438493   0.05457674\n",
       "E9PQB7  73.06275      -3.172494 0.9162287 -3.462556 0.0005350701   0.05457674\n",
       "G3V1A4  77.29913      -3.098480 0.8966054 -3.455790 0.0005486829   0.05457674"
      ]
     },
     "metadata": {},
     "output_type": "display_data"
    }
   ],
   "source": [
    "res = results(dds)\n",
    "resOrdered = res[order(res$padj),]\n",
    "write.csv(as.data.frame(resOrdered),file=\"Jurkat_deseq_results.csv\")\n",
    "resOrdered[0:20,]"
   ]
  },
  {
   "cell_type": "code",
   "execution_count": 19,
   "metadata": {},
   "outputs": [
    {
     "data": {
      "text/html": [
       "<dl class=dl-horizontal>\n",
       "\t<dt>Jurkat_sonic_1</dt>\n",
       "\t\t<dd>1.60648682573463</dd>\n",
       "\t<dt>Jurkat_sonic_2</dt>\n",
       "\t\t<dd>1.05086255950056</dd>\n",
       "\t<dt>Jurkat_sonic_3</dt>\n",
       "\t\t<dd>1.45206805389009</dd>\n",
       "\t<dt>Jurkat_triflic_1</dt>\n",
       "\t\t<dd>0.745952676223425</dd>\n",
       "\t<dt>Jurkat_triflic_2</dt>\n",
       "\t\t<dd>0.699125736853923</dd>\n",
       "\t<dt>Jurkat_triflic_3</dt>\n",
       "\t\t<dd>0.858348874170367</dd>\n",
       "</dl>\n"
      ],
      "text/latex": [
       "\\begin{description*}\n",
       "\\item[Jurkat\\textbackslash{}\\_sonic\\textbackslash{}\\_1] 1.60648682573463\n",
       "\\item[Jurkat\\textbackslash{}\\_sonic\\textbackslash{}\\_2] 1.05086255950056\n",
       "\\item[Jurkat\\textbackslash{}\\_sonic\\textbackslash{}\\_3] 1.45206805389009\n",
       "\\item[Jurkat\\textbackslash{}\\_triflic\\textbackslash{}\\_1] 0.745952676223425\n",
       "\\item[Jurkat\\textbackslash{}\\_triflic\\textbackslash{}\\_2] 0.699125736853923\n",
       "\\item[Jurkat\\textbackslash{}\\_triflic\\textbackslash{}\\_3] 0.858348874170367\n",
       "\\end{description*}\n"
      ],
      "text/markdown": [
       "Jurkat_sonic_1\n",
       ":   1.60648682573463Jurkat_sonic_2\n",
       ":   1.05086255950056Jurkat_sonic_3\n",
       ":   1.45206805389009Jurkat_triflic_1\n",
       ":   0.745952676223425Jurkat_triflic_2\n",
       ":   0.699125736853923Jurkat_triflic_3\n",
       ":   0.858348874170367\n",
       "\n"
      ],
      "text/plain": [
       "  Jurkat_sonic_1   Jurkat_sonic_2   Jurkat_sonic_3 Jurkat_triflic_1 \n",
       "       1.6064868        1.0508626        1.4520681        0.7459527 \n",
       "Jurkat_triflic_2 Jurkat_triflic_3 \n",
       "       0.6991257        0.8583489 "
      ]
     },
     "metadata": {},
     "output_type": "display_data"
    }
   ],
   "source": [
    "sizeFactors(dds)"
   ]
  },
  {
   "cell_type": "code",
   "execution_count": 20,
   "metadata": {},
   "outputs": [
    {
     "data": {
      "text/html": [
       "<table>\n",
       "<thead><tr><th></th><th scope=col>Jurkat_sonic_1</th><th scope=col>Jurkat_sonic_2</th><th scope=col>Jurkat_sonic_3</th><th scope=col>Jurkat_triflic_1</th><th scope=col>Jurkat_triflic_2</th><th scope=col>Jurkat_triflic_3</th></tr></thead>\n",
       "<tbody>\n",
       "\t<tr><th scope=row>A0A024QZP7</th><td>14.939432</td><td> 2.854798</td><td>4.132038 </td><td>16.086811</td><td>14.303579</td><td>31.455741</td></tr>\n",
       "\t<tr><th scope=row>A0A024R216</th><td> 0.000000</td><td> 0.000000</td><td>4.132038 </td><td> 0.000000</td><td> 0.000000</td><td> 6.990165</td></tr>\n",
       "\t<tr><th scope=row>A0A024R341</th><td> 0.000000</td><td> 0.000000</td><td>4.132038 </td><td> 0.000000</td><td> 0.000000</td><td> 0.000000</td></tr>\n",
       "\t<tr><th scope=row>A0A024R4M0</th><td> 3.734858</td><td> 1.903198</td><td>8.952748 </td><td>26.811352</td><td> 5.721431</td><td> 3.495082</td></tr>\n",
       "\t<tr><th scope=row>A0A024R571</th><td> 2.489905</td><td> 5.709595</td><td>4.132038 </td><td> 8.043406</td><td> 7.151789</td><td> 2.330055</td></tr>\n",
       "\t<tr><th scope=row>A0A024RA52</th><td> 4.979811</td><td>12.370790</td><td>3.443365 </td><td> 9.383973</td><td> 5.721431</td><td> 3.495082</td></tr>\n",
       "</tbody>\n",
       "</table>\n"
      ],
      "text/latex": [
       "\\begin{tabular}{r|llllll}\n",
       "  & Jurkat\\_sonic\\_1 & Jurkat\\_sonic\\_2 & Jurkat\\_sonic\\_3 & Jurkat\\_triflic\\_1 & Jurkat\\_triflic\\_2 & Jurkat\\_triflic\\_3\\\\\n",
       "\\hline\n",
       "\tA0A024QZP7 & 14.939432 &  2.854798 & 4.132038  & 16.086811 & 14.303579 & 31.455741\\\\\n",
       "\tA0A024R216 &  0.000000 &  0.000000 & 4.132038  &  0.000000 &  0.000000 &  6.990165\\\\\n",
       "\tA0A024R341 &  0.000000 &  0.000000 & 4.132038  &  0.000000 &  0.000000 &  0.000000\\\\\n",
       "\tA0A024R4M0 &  3.734858 &  1.903198 & 8.952748  & 26.811352 &  5.721431 &  3.495082\\\\\n",
       "\tA0A024R571 &  2.489905 &  5.709595 & 4.132038  &  8.043406 &  7.151789 &  2.330055\\\\\n",
       "\tA0A024RA52 &  4.979811 & 12.370790 & 3.443365  &  9.383973 &  5.721431 &  3.495082\\\\\n",
       "\\end{tabular}\n"
      ],
      "text/markdown": [
       "\n",
       "| <!--/--> | Jurkat_sonic_1 | Jurkat_sonic_2 | Jurkat_sonic_3 | Jurkat_triflic_1 | Jurkat_triflic_2 | Jurkat_triflic_3 | \n",
       "|---|---|---|---|---|---|\n",
       "| A0A024QZP7 | 14.939432 |  2.854798 | 4.132038  | 16.086811 | 14.303579 | 31.455741 | \n",
       "| A0A024R216 |  0.000000 |  0.000000 | 4.132038  |  0.000000 |  0.000000 |  6.990165 | \n",
       "| A0A024R341 |  0.000000 |  0.000000 | 4.132038  |  0.000000 |  0.000000 |  0.000000 | \n",
       "| A0A024R4M0 |  3.734858 |  1.903198 | 8.952748  | 26.811352 |  5.721431 |  3.495082 | \n",
       "| A0A024R571 |  2.489905 |  5.709595 | 4.132038  |  8.043406 |  7.151789 |  2.330055 | \n",
       "| A0A024RA52 |  4.979811 | 12.370790 | 3.443365  |  9.383973 |  5.721431 |  3.495082 | \n",
       "\n",
       "\n"
      ],
      "text/plain": [
       "           Jurkat_sonic_1 Jurkat_sonic_2 Jurkat_sonic_3 Jurkat_triflic_1\n",
       "A0A024QZP7 14.939432       2.854798      4.132038       16.086811       \n",
       "A0A024R216  0.000000       0.000000      4.132038        0.000000       \n",
       "A0A024R341  0.000000       0.000000      4.132038        0.000000       \n",
       "A0A024R4M0  3.734858       1.903198      8.952748       26.811352       \n",
       "A0A024R571  2.489905       5.709595      4.132038        8.043406       \n",
       "A0A024RA52  4.979811      12.370790      3.443365        9.383973       \n",
       "           Jurkat_triflic_2 Jurkat_triflic_3\n",
       "A0A024QZP7 14.303579        31.455741       \n",
       "A0A024R216  0.000000         6.990165       \n",
       "A0A024R341  0.000000         0.000000       \n",
       "A0A024R4M0  5.721431         3.495082       \n",
       "A0A024R571  7.151789         2.330055       \n",
       "A0A024RA52  5.721431         3.495082       "
      ]
     },
     "metadata": {},
     "output_type": "display_data"
    }
   ],
   "source": [
    "head(counts(dds, normalized=TRUE))"
   ]
  },
  {
   "cell_type": "code",
   "execution_count": 21,
   "metadata": {},
   "outputs": [
    {
     "data": {
      "text/html": [
       "<table>\n",
       "<thead><tr><th></th><th scope=col>Jurkat_sonic_1</th><th scope=col>Jurkat_sonic_2</th><th scope=col>Jurkat_sonic_3</th><th scope=col>Jurkat_triflic_1</th><th scope=col>Jurkat_triflic_2</th><th scope=col>Jurkat_triflic_3</th></tr></thead>\n",
       "<tbody>\n",
       "\t<tr><th scope=row>A0A024QZP7</th><td>24</td><td> 3</td><td> 6</td><td>12</td><td>10</td><td>27</td></tr>\n",
       "\t<tr><th scope=row>A0A024R216</th><td> 0</td><td> 0</td><td> 6</td><td> 0</td><td> 0</td><td> 6</td></tr>\n",
       "\t<tr><th scope=row>A0A024R341</th><td> 0</td><td> 0</td><td> 6</td><td> 0</td><td> 0</td><td> 0</td></tr>\n",
       "\t<tr><th scope=row>A0A024R4M0</th><td> 6</td><td> 2</td><td>13</td><td>20</td><td> 4</td><td> 3</td></tr>\n",
       "\t<tr><th scope=row>A0A024R571</th><td> 4</td><td> 6</td><td> 6</td><td> 6</td><td> 5</td><td> 2</td></tr>\n",
       "\t<tr><th scope=row>A0A024RA52</th><td> 8</td><td>13</td><td> 5</td><td> 7</td><td> 4</td><td> 3</td></tr>\n",
       "</tbody>\n",
       "</table>\n"
      ],
      "text/latex": [
       "\\begin{tabular}{r|llllll}\n",
       "  & Jurkat\\_sonic\\_1 & Jurkat\\_sonic\\_2 & Jurkat\\_sonic\\_3 & Jurkat\\_triflic\\_1 & Jurkat\\_triflic\\_2 & Jurkat\\_triflic\\_3\\\\\n",
       "\\hline\n",
       "\tA0A024QZP7 & 24 &  3 &  6 & 12 & 10 & 27\\\\\n",
       "\tA0A024R216 &  0 &  0 &  6 &  0 &  0 &  6\\\\\n",
       "\tA0A024R341 &  0 &  0 &  6 &  0 &  0 &  0\\\\\n",
       "\tA0A024R4M0 &  6 &  2 & 13 & 20 &  4 &  3\\\\\n",
       "\tA0A024R571 &  4 &  6 &  6 &  6 &  5 &  2\\\\\n",
       "\tA0A024RA52 &  8 & 13 &  5 &  7 &  4 &  3\\\\\n",
       "\\end{tabular}\n"
      ],
      "text/markdown": [
       "\n",
       "| <!--/--> | Jurkat_sonic_1 | Jurkat_sonic_2 | Jurkat_sonic_3 | Jurkat_triflic_1 | Jurkat_triflic_2 | Jurkat_triflic_3 | \n",
       "|---|---|---|---|---|---|\n",
       "| A0A024QZP7 | 24 |  3 |  6 | 12 | 10 | 27 | \n",
       "| A0A024R216 |  0 |  0 |  6 |  0 |  0 |  6 | \n",
       "| A0A024R341 |  0 |  0 |  6 |  0 |  0 |  0 | \n",
       "| A0A024R4M0 |  6 |  2 | 13 | 20 |  4 |  3 | \n",
       "| A0A024R571 |  4 |  6 |  6 |  6 |  5 |  2 | \n",
       "| A0A024RA52 |  8 | 13 |  5 |  7 |  4 |  3 | \n",
       "\n",
       "\n"
      ],
      "text/plain": [
       "           Jurkat_sonic_1 Jurkat_sonic_2 Jurkat_sonic_3 Jurkat_triflic_1\n",
       "A0A024QZP7 24              3              6             12              \n",
       "A0A024R216  0              0              6              0              \n",
       "A0A024R341  0              0              6              0              \n",
       "A0A024R4M0  6              2             13             20              \n",
       "A0A024R571  4              6              6              6              \n",
       "A0A024RA52  8             13              5              7              \n",
       "           Jurkat_triflic_2 Jurkat_triflic_3\n",
       "A0A024QZP7 10               27              \n",
       "A0A024R216  0                6              \n",
       "A0A024R341  0                0              \n",
       "A0A024R4M0  4                3              \n",
       "A0A024R571  5                2              \n",
       "A0A024RA52  4                3              "
      ]
     },
     "metadata": {},
     "output_type": "display_data"
    }
   ],
   "source": [
    "head(counts(dds))"
   ]
  },
  {
   "cell_type": "code",
   "execution_count": 22,
   "metadata": {},
   "outputs": [],
   "source": [
    "write.csv(counts(dds, normalized=TRUE), \"X_jurkat_normalized.csv\")"
   ]
  }
 ],
 "metadata": {
  "kernelspec": {
   "display_name": "R",
   "language": "R",
   "name": "ir"
  },
  "language_info": {
   "codemirror_mode": "r",
   "file_extension": ".r",
   "mimetype": "text/x-r-source",
   "name": "R",
   "pygments_lexer": "r",
   "version": "3.4.3"
  }
 },
 "nbformat": 4,
 "nbformat_minor": 2
}
