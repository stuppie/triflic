{
 "cells": [
  {
   "cell_type": "code",
   "execution_count": 1,
   "metadata": {},
   "outputs": [
    {
     "name": "stderr",
     "output_type": "stream",
     "text": [
      "Loading required package: S4Vectors\n",
      "Loading required package: stats4\n",
      "Loading required package: BiocGenerics\n",
      "Loading required package: parallel\n",
      "\n",
      "Attaching package: ‘BiocGenerics’\n",
      "\n",
      "The following objects are masked from ‘package:parallel’:\n",
      "\n",
      "    clusterApply, clusterApplyLB, clusterCall, clusterEvalQ,\n",
      "    clusterExport, clusterMap, parApply, parCapply, parLapply,\n",
      "    parLapplyLB, parRapply, parSapply, parSapplyLB\n",
      "\n",
      "The following objects are masked from ‘package:stats’:\n",
      "\n",
      "    IQR, mad, sd, var, xtabs\n",
      "\n",
      "The following objects are masked from ‘package:base’:\n",
      "\n",
      "    anyDuplicated, append, as.data.frame, cbind, colMeans, colnames,\n",
      "    colSums, do.call, duplicated, eval, evalq, Filter, Find, get, grep,\n",
      "    grepl, intersect, is.unsorted, lapply, lengths, Map, mapply, match,\n",
      "    mget, order, paste, pmax, pmax.int, pmin, pmin.int, Position, rank,\n",
      "    rbind, Reduce, rowMeans, rownames, rowSums, sapply, setdiff, sort,\n",
      "    table, tapply, union, unique, unsplit, which, which.max, which.min\n",
      "\n",
      "\n",
      "Attaching package: ‘S4Vectors’\n",
      "\n",
      "The following object is masked from ‘package:base’:\n",
      "\n",
      "    expand.grid\n",
      "\n",
      "Loading required package: IRanges\n",
      "Loading required package: GenomicRanges\n",
      "Loading required package: GenomeInfoDb\n",
      "Loading required package: SummarizedExperiment\n",
      "Loading required package: Biobase\n",
      "Welcome to Bioconductor\n",
      "\n",
      "    Vignettes contain introductory material; view with\n",
      "    'browseVignettes()'. To cite Bioconductor, see\n",
      "    'citation(\"Biobase\")', and for packages 'citation(\"pkgname\")'.\n",
      "\n",
      "Loading required package: DelayedArray\n",
      "Loading required package: matrixStats\n",
      "\n",
      "Attaching package: ‘matrixStats’\n",
      "\n",
      "The following objects are masked from ‘package:Biobase’:\n",
      "\n",
      "    anyMissing, rowMedians\n",
      "\n",
      "\n",
      "Attaching package: ‘DelayedArray’\n",
      "\n",
      "The following objects are masked from ‘package:matrixStats’:\n",
      "\n",
      "    colMaxs, colMins, colRanges, rowMaxs, rowMins, rowRanges\n",
      "\n",
      "The following object is masked from ‘package:base’:\n",
      "\n",
      "    apply\n",
      "\n",
      "Loading required package: lattice\n",
      "Loading required package: annotate\n",
      "Loading required package: AnnotationDbi\n",
      "Loading required package: XML\n",
      "\n",
      "Attaching package: ‘genefilter’\n",
      "\n",
      "The following objects are masked from ‘package:matrixStats’:\n",
      "\n",
      "    rowSds, rowVars\n",
      "\n"
     ]
    }
   ],
   "source": [
    "library(\"DESeq2\")\n",
    "library(\"geneplotter\")\n",
    "library(\"ggplot2\")\n",
    "library(\"vsn\")\n",
    "library(\"genefilter\")"
   ]
  },
  {
   "cell_type": "code",
   "execution_count": 2,
   "metadata": {
    "collapsed": true
   },
   "outputs": [],
   "source": [
    "setwd(\"/home/gstupp/projects/Wolan/ana_extractions/analysis/analysis_deseq\")"
   ]
  },
  {
   "cell_type": "code",
   "execution_count": 3,
   "metadata": {
    "collapsed": true
   },
   "outputs": [],
   "source": [
    "file_path = \"X.csv\"\n",
    "countData = read.csv(file_path, row.names = 1)"
   ]
  },
  {
   "cell_type": "code",
   "execution_count": 4,
   "metadata": {},
   "outputs": [
    {
     "data": {
      "text/html": [
       "<table>\n",
       "<thead><tr><th></th><th scope=col>cell</th><th scope=col>file</th><th scope=col>method</th><th scope=col>name.1</th><th scope=col>pretty_name</th></tr></thead>\n",
       "<tbody>\n",
       "\t<tr><th scope=row>BS_sonic_1</th><td>BS                                      </td><td>data/BS/Sonic/BS sonic 1.txt            </td><td>sonic                                   </td><td>BS_sonic_1                              </td><td>BS sonic 1                              </td></tr>\n",
       "\t<tr><th scope=row>BS_sonic_2</th><td>BS                                      </td><td>data/BS/Sonic/BS sonic 2.txt            </td><td>sonic                                   </td><td>BS_sonic_2                              </td><td>BS sonic 2                              </td></tr>\n",
       "\t<tr><th scope=row>BS_sonic_3</th><td>BS                                      </td><td>data/BS/Sonic/BS sonic 3.txt            </td><td>sonic                                   </td><td>BS_sonic_3                              </td><td>BS sonic 3                              </td></tr>\n",
       "\t<tr><th scope=row>BS_triflic_1</th><td>BS                                      </td><td>data/BS/Triflic/BS triflic 1.txt        </td><td>triflic                                 </td><td>BS_triflic_1                            </td><td>BS triflic 1                            </td></tr>\n",
       "\t<tr><th scope=row>BS_triflic_2</th><td>BS                                      </td><td>data/BS/Triflic/BS triflic 2.txt        </td><td>triflic                                 </td><td>BS_triflic_2                            </td><td>BS triflic 2                            </td></tr>\n",
       "\t<tr><th scope=row>BS_triflic_3</th><td>BS                                      </td><td>data/BS/Triflic/BS triflic 3.txt        </td><td>triflic                                 </td><td>BS_triflic_3                            </td><td>BS triflic 3                            </td></tr>\n",
       "\t<tr><th scope=row>Jurkat_sonic_1</th><td>Jurkat                                  </td><td>data/Jurkat/Sonic/Jurkat sonic 1.txt    </td><td>sonic                                   </td><td>Jurkat_sonic_1                          </td><td>Jurkat sonic 1                          </td></tr>\n",
       "\t<tr><th scope=row>Jurkat_sonic_2</th><td>Jurkat                                  </td><td>data/Jurkat/Sonic/Jurkat sonic 2.txt    </td><td>sonic                                   </td><td>Jurkat_sonic_2                          </td><td>Jurkat sonic 2                          </td></tr>\n",
       "\t<tr><th scope=row>Jurkat_sonic_3</th><td>Jurkat                                  </td><td>data/Jurkat/Sonic/Jurkat sonic 3.txt    </td><td>sonic                                   </td><td>Jurkat_sonic_3                          </td><td>Jurkat sonic 3                          </td></tr>\n",
       "\t<tr><th scope=row>Jurkat_triflic_1</th><td>Jurkat                                  </td><td>data/Jurkat/Triflic/Jurkat triflic 1.txt</td><td>triflic                                 </td><td>Jurkat_triflic_1                        </td><td>Jurkat triflic 1                        </td></tr>\n",
       "\t<tr><th scope=row>Jurkat_triflic_2</th><td>Jurkat                                  </td><td>data/Jurkat/Triflic/Jurkat triflic 2.txt</td><td>triflic                                 </td><td>Jurkat_triflic_2                        </td><td>Jurkat triflic 2                        </td></tr>\n",
       "\t<tr><th scope=row>Jurkat_triflic_3</th><td>Jurkat                                  </td><td>data/Jurkat/Triflic/Jurkat triflic 3.txt</td><td>triflic                                 </td><td>Jurkat_triflic_3                        </td><td>Jurkat triflic 3                        </td></tr>\n",
       "\t<tr><th scope=row>PA_sonic_1</th><td>PA                                      </td><td>data/PA/Sonic/PA sonic 1.txt            </td><td>sonic                                   </td><td>PA_sonic_1                              </td><td>PA sonic 1                              </td></tr>\n",
       "\t<tr><th scope=row>PA_sonic_2</th><td>PA                                      </td><td>data/PA/Sonic/PA sonic 2.txt            </td><td>sonic                                   </td><td>PA_sonic_2                              </td><td>PA sonic 2                              </td></tr>\n",
       "\t<tr><th scope=row>PA_sonic_3</th><td>PA                                      </td><td>data/PA/Sonic/PA sonic 3.txt            </td><td>sonic                                   </td><td>PA_sonic_3                              </td><td>PA sonic 3                              </td></tr>\n",
       "\t<tr><th scope=row>PA_triflic_1</th><td>PA                                      </td><td>data/PA/Triflic/PA triflic 1.txt        </td><td>triflic                                 </td><td>PA_triflic_1                            </td><td>PA triflic 1                            </td></tr>\n",
       "\t<tr><th scope=row>PA_triflic_2</th><td>PA                                      </td><td>data/PA/Triflic/PA triflic 2.txt        </td><td>triflic                                 </td><td>PA_triflic_2                            </td><td>PA triflic 2                            </td></tr>\n",
       "\t<tr><th scope=row>PA_triflic_3</th><td>PA                                      </td><td>data/PA/Triflic/PA triflic 3.txt        </td><td>triflic                                 </td><td>PA_triflic_3                            </td><td>PA triflic 3                            </td></tr>\n",
       "</tbody>\n",
       "</table>\n"
      ],
      "text/latex": [
       "\\begin{tabular}{r|lllll}\n",
       "  & cell & file & method & name.1 & pretty\\_name\\\\\n",
       "\\hline\n",
       "\tBS\\_sonic\\_1 & BS                                       & data/BS/Sonic/BS sonic 1.txt             & sonic                                    & BS\\_sonic\\_1                           & BS sonic 1                              \\\\\n",
       "\tBS\\_sonic\\_2 & BS                                       & data/BS/Sonic/BS sonic 2.txt             & sonic                                    & BS\\_sonic\\_2                           & BS sonic 2                              \\\\\n",
       "\tBS\\_sonic\\_3 & BS                                       & data/BS/Sonic/BS sonic 3.txt             & sonic                                    & BS\\_sonic\\_3                           & BS sonic 3                              \\\\\n",
       "\tBS\\_triflic\\_1 & BS                                       & data/BS/Triflic/BS triflic 1.txt         & triflic                                  & BS\\_triflic\\_1                         & BS triflic 1                            \\\\\n",
       "\tBS\\_triflic\\_2 & BS                                       & data/BS/Triflic/BS triflic 2.txt         & triflic                                  & BS\\_triflic\\_2                         & BS triflic 2                            \\\\\n",
       "\tBS\\_triflic\\_3 & BS                                       & data/BS/Triflic/BS triflic 3.txt         & triflic                                  & BS\\_triflic\\_3                         & BS triflic 3                            \\\\\n",
       "\tJurkat\\_sonic\\_1 & Jurkat                                   & data/Jurkat/Sonic/Jurkat sonic 1.txt     & sonic                                    & Jurkat\\_sonic\\_1                       & Jurkat sonic 1                          \\\\\n",
       "\tJurkat\\_sonic\\_2 & Jurkat                                   & data/Jurkat/Sonic/Jurkat sonic 2.txt     & sonic                                    & Jurkat\\_sonic\\_2                       & Jurkat sonic 2                          \\\\\n",
       "\tJurkat\\_sonic\\_3 & Jurkat                                   & data/Jurkat/Sonic/Jurkat sonic 3.txt     & sonic                                    & Jurkat\\_sonic\\_3                       & Jurkat sonic 3                          \\\\\n",
       "\tJurkat\\_triflic\\_1 & Jurkat                                   & data/Jurkat/Triflic/Jurkat triflic 1.txt & triflic                                  & Jurkat\\_triflic\\_1                     & Jurkat triflic 1                        \\\\\n",
       "\tJurkat\\_triflic\\_2 & Jurkat                                   & data/Jurkat/Triflic/Jurkat triflic 2.txt & triflic                                  & Jurkat\\_triflic\\_2                     & Jurkat triflic 2                        \\\\\n",
       "\tJurkat\\_triflic\\_3 & Jurkat                                   & data/Jurkat/Triflic/Jurkat triflic 3.txt & triflic                                  & Jurkat\\_triflic\\_3                     & Jurkat triflic 3                        \\\\\n",
       "\tPA\\_sonic\\_1 & PA                                       & data/PA/Sonic/PA sonic 1.txt             & sonic                                    & PA\\_sonic\\_1                           & PA sonic 1                              \\\\\n",
       "\tPA\\_sonic\\_2 & PA                                       & data/PA/Sonic/PA sonic 2.txt             & sonic                                    & PA\\_sonic\\_2                           & PA sonic 2                              \\\\\n",
       "\tPA\\_sonic\\_3 & PA                                       & data/PA/Sonic/PA sonic 3.txt             & sonic                                    & PA\\_sonic\\_3                           & PA sonic 3                              \\\\\n",
       "\tPA\\_triflic\\_1 & PA                                       & data/PA/Triflic/PA triflic 1.txt         & triflic                                  & PA\\_triflic\\_1                         & PA triflic 1                            \\\\\n",
       "\tPA\\_triflic\\_2 & PA                                       & data/PA/Triflic/PA triflic 2.txt         & triflic                                  & PA\\_triflic\\_2                         & PA triflic 2                            \\\\\n",
       "\tPA\\_triflic\\_3 & PA                                       & data/PA/Triflic/PA triflic 3.txt         & triflic                                  & PA\\_triflic\\_3                         & PA triflic 3                            \\\\\n",
       "\\end{tabular}\n"
      ],
      "text/markdown": [
       "\n",
       "| <!--/--> | cell | file | method | name.1 | pretty_name | \n",
       "|---|---|---|---|---|---|---|---|---|---|---|---|---|---|---|---|---|---|\n",
       "| BS_sonic_1 | BS                                       | data/BS/Sonic/BS sonic 1.txt             | sonic                                    | BS_sonic_1                               | BS sonic 1                               | \n",
       "| BS_sonic_2 | BS                                       | data/BS/Sonic/BS sonic 2.txt             | sonic                                    | BS_sonic_2                               | BS sonic 2                               | \n",
       "| BS_sonic_3 | BS                                       | data/BS/Sonic/BS sonic 3.txt             | sonic                                    | BS_sonic_3                               | BS sonic 3                               | \n",
       "| BS_triflic_1 | BS                                       | data/BS/Triflic/BS triflic 1.txt         | triflic                                  | BS_triflic_1                             | BS triflic 1                             | \n",
       "| BS_triflic_2 | BS                                       | data/BS/Triflic/BS triflic 2.txt         | triflic                                  | BS_triflic_2                             | BS triflic 2                             | \n",
       "| BS_triflic_3 | BS                                       | data/BS/Triflic/BS triflic 3.txt         | triflic                                  | BS_triflic_3                             | BS triflic 3                             | \n",
       "| Jurkat_sonic_1 | Jurkat                                   | data/Jurkat/Sonic/Jurkat sonic 1.txt     | sonic                                    | Jurkat_sonic_1                           | Jurkat sonic 1                           | \n",
       "| Jurkat_sonic_2 | Jurkat                                   | data/Jurkat/Sonic/Jurkat sonic 2.txt     | sonic                                    | Jurkat_sonic_2                           | Jurkat sonic 2                           | \n",
       "| Jurkat_sonic_3 | Jurkat                                   | data/Jurkat/Sonic/Jurkat sonic 3.txt     | sonic                                    | Jurkat_sonic_3                           | Jurkat sonic 3                           | \n",
       "| Jurkat_triflic_1 | Jurkat                                   | data/Jurkat/Triflic/Jurkat triflic 1.txt | triflic                                  | Jurkat_triflic_1                         | Jurkat triflic 1                         | \n",
       "| Jurkat_triflic_2 | Jurkat                                   | data/Jurkat/Triflic/Jurkat triflic 2.txt | triflic                                  | Jurkat_triflic_2                         | Jurkat triflic 2                         | \n",
       "| Jurkat_triflic_3 | Jurkat                                   | data/Jurkat/Triflic/Jurkat triflic 3.txt | triflic                                  | Jurkat_triflic_3                         | Jurkat triflic 3                         | \n",
       "| PA_sonic_1 | PA                                       | data/PA/Sonic/PA sonic 1.txt             | sonic                                    | PA_sonic_1                               | PA sonic 1                               | \n",
       "| PA_sonic_2 | PA                                       | data/PA/Sonic/PA sonic 2.txt             | sonic                                    | PA_sonic_2                               | PA sonic 2                               | \n",
       "| PA_sonic_3 | PA                                       | data/PA/Sonic/PA sonic 3.txt             | sonic                                    | PA_sonic_3                               | PA sonic 3                               | \n",
       "| PA_triflic_1 | PA                                       | data/PA/Triflic/PA triflic 1.txt         | triflic                                  | PA_triflic_1                             | PA triflic 1                             | \n",
       "| PA_triflic_2 | PA                                       | data/PA/Triflic/PA triflic 2.txt         | triflic                                  | PA_triflic_2                             | PA triflic 2                             | \n",
       "| PA_triflic_3 | PA                                       | data/PA/Triflic/PA triflic 3.txt         | triflic                                  | PA_triflic_3                             | PA triflic 3                             | \n",
       "\n",
       "\n"
      ],
      "text/plain": [
       "                 cell   file                                     method \n",
       "BS_sonic_1       BS     data/BS/Sonic/BS sonic 1.txt             sonic  \n",
       "BS_sonic_2       BS     data/BS/Sonic/BS sonic 2.txt             sonic  \n",
       "BS_sonic_3       BS     data/BS/Sonic/BS sonic 3.txt             sonic  \n",
       "BS_triflic_1     BS     data/BS/Triflic/BS triflic 1.txt         triflic\n",
       "BS_triflic_2     BS     data/BS/Triflic/BS triflic 2.txt         triflic\n",
       "BS_triflic_3     BS     data/BS/Triflic/BS triflic 3.txt         triflic\n",
       "Jurkat_sonic_1   Jurkat data/Jurkat/Sonic/Jurkat sonic 1.txt     sonic  \n",
       "Jurkat_sonic_2   Jurkat data/Jurkat/Sonic/Jurkat sonic 2.txt     sonic  \n",
       "Jurkat_sonic_3   Jurkat data/Jurkat/Sonic/Jurkat sonic 3.txt     sonic  \n",
       "Jurkat_triflic_1 Jurkat data/Jurkat/Triflic/Jurkat triflic 1.txt triflic\n",
       "Jurkat_triflic_2 Jurkat data/Jurkat/Triflic/Jurkat triflic 2.txt triflic\n",
       "Jurkat_triflic_3 Jurkat data/Jurkat/Triflic/Jurkat triflic 3.txt triflic\n",
       "PA_sonic_1       PA     data/PA/Sonic/PA sonic 1.txt             sonic  \n",
       "PA_sonic_2       PA     data/PA/Sonic/PA sonic 2.txt             sonic  \n",
       "PA_sonic_3       PA     data/PA/Sonic/PA sonic 3.txt             sonic  \n",
       "PA_triflic_1     PA     data/PA/Triflic/PA triflic 1.txt         triflic\n",
       "PA_triflic_2     PA     data/PA/Triflic/PA triflic 2.txt         triflic\n",
       "PA_triflic_3     PA     data/PA/Triflic/PA triflic 3.txt         triflic\n",
       "                 name.1           pretty_name     \n",
       "BS_sonic_1       BS_sonic_1       BS sonic 1      \n",
       "BS_sonic_2       BS_sonic_2       BS sonic 2      \n",
       "BS_sonic_3       BS_sonic_3       BS sonic 3      \n",
       "BS_triflic_1     BS_triflic_1     BS triflic 1    \n",
       "BS_triflic_2     BS_triflic_2     BS triflic 2    \n",
       "BS_triflic_3     BS_triflic_3     BS triflic 3    \n",
       "Jurkat_sonic_1   Jurkat_sonic_1   Jurkat sonic 1  \n",
       "Jurkat_sonic_2   Jurkat_sonic_2   Jurkat sonic 2  \n",
       "Jurkat_sonic_3   Jurkat_sonic_3   Jurkat sonic 3  \n",
       "Jurkat_triflic_1 Jurkat_triflic_1 Jurkat triflic 1\n",
       "Jurkat_triflic_2 Jurkat_triflic_2 Jurkat triflic 2\n",
       "Jurkat_triflic_3 Jurkat_triflic_3 Jurkat triflic 3\n",
       "PA_sonic_1       PA_sonic_1       PA sonic 1      \n",
       "PA_sonic_2       PA_sonic_2       PA sonic 2      \n",
       "PA_sonic_3       PA_sonic_3       PA sonic 3      \n",
       "PA_triflic_1     PA_triflic_1     PA triflic 1    \n",
       "PA_triflic_2     PA_triflic_2     PA triflic 2    \n",
       "PA_triflic_3     PA_triflic_3     PA triflic 3    "
      ]
     },
     "metadata": {},
     "output_type": "display_data"
    }
   ],
   "source": [
    "meta_path = \"metadata.csv\"\n",
    "sampleTable = read.csv(meta_path, row.names = 1)\n",
    "sampleTable = sampleTable[colnames(countData),]\n",
    "sampleTable$cell = factor(sampleTable$cell)\n",
    "sampleTable$method = factor(sampleTable$method)\n",
    "sampleTable$method <- relevel(sampleTable$method, ref=\"triflic\")\n",
    "sampleTable = sampleTable[!(rownames(sampleTable) %in% c(\"PA_pellet_1\", \"PA_pellet_2\", \"PA_pellet_3\")),]\n",
    "sampleTable"
   ]
  },
  {
   "cell_type": "markdown",
   "metadata": {},
   "source": [
    "## BS"
   ]
  },
  {
   "cell_type": "code",
   "execution_count": 5,
   "metadata": {},
   "outputs": [
    {
     "name": "stderr",
     "output_type": "stream",
     "text": [
      "converting counts to integer mode\n",
      "factor levels were dropped which had no samples\n"
     ]
    },
    {
     "data": {
      "text/html": [
       "<table>\n",
       "<thead><tr><th></th><th scope=col>BS_sonic_1</th><th scope=col>BS_sonic_2</th><th scope=col>BS_sonic_3</th><th scope=col>BS_triflic_1</th><th scope=col>BS_triflic_2</th><th scope=col>BS_triflic_3</th></tr></thead>\n",
       "<tbody>\n",
       "\t<tr><th scope=row>C0H3V2</th><td>4</td><td>7</td><td>5</td><td>0</td><td>3</td><td>4</td></tr>\n",
       "\t<tr><th scope=row>C0H3V3</th><td>6</td><td>6</td><td>9</td><td>0</td><td>0</td><td>0</td></tr>\n",
       "</tbody>\n",
       "</table>\n"
      ],
      "text/latex": [
       "\\begin{tabular}{r|llllll}\n",
       "  & BS\\_sonic\\_1 & BS\\_sonic\\_2 & BS\\_sonic\\_3 & BS\\_triflic\\_1 & BS\\_triflic\\_2 & BS\\_triflic\\_3\\\\\n",
       "\\hline\n",
       "\tC0H3V2 & 4 & 7 & 5 & 0 & 3 & 4\\\\\n",
       "\tC0H3V3 & 6 & 6 & 9 & 0 & 0 & 0\\\\\n",
       "\\end{tabular}\n"
      ],
      "text/markdown": [
       "\n",
       "| <!--/--> | BS_sonic_1 | BS_sonic_2 | BS_sonic_3 | BS_triflic_1 | BS_triflic_2 | BS_triflic_3 | \n",
       "|---|---|\n",
       "| C0H3V2 | 4 | 7 | 5 | 0 | 3 | 4 | \n",
       "| C0H3V3 | 6 | 6 | 9 | 0 | 0 | 0 | \n",
       "\n",
       "\n"
      ],
      "text/plain": [
       "       BS_sonic_1 BS_sonic_2 BS_sonic_3 BS_triflic_1 BS_triflic_2 BS_triflic_3\n",
       "C0H3V2 4          7          5          0            3            4           \n",
       "C0H3V3 6          6          9          0            0            0           "
      ]
     },
     "metadata": {},
     "output_type": "display_data"
    }
   ],
   "source": [
    "sampleTableX = sampleTable[sampleTable$cell==\"BS\",]\n",
    "X = countData[,sampleTableX$name]\n",
    "X = X[ !apply(X, 1, function(x) all(is.na(x))), ]\n",
    "X[is.na(X)] = 0\n",
    "dds = DESeqDataSetFromMatrix(X, colData = sampleTableX, design = ~ method)\n",
    "dds <- dds[ rowSums(counts(dds)) > 1, ]\n",
    "counts(dds)[0:2,]"
   ]
  },
  {
   "cell_type": "code",
   "execution_count": 6,
   "metadata": {},
   "outputs": [
    {
     "name": "stderr",
     "output_type": "stream",
     "text": [
      "estimating size factors\n",
      "estimating dispersions\n",
      "gene-wise dispersion estimates\n",
      "mean-dispersion relationship\n",
      "final dispersion estimates\n",
      "fitting model and testing\n"
     ]
    },
    {
     "name": "stdout",
     "output_type": "stream",
     "text": [
      "\n",
      "out of 1490 with nonzero total read count\n",
      "adjusted p-value < 0.05\n",
      "LFC > 0 (up)     : 184, 12% \n",
      "LFC < 0 (down)   : 213, 14% \n",
      "outliers [1]     : 0, 0% \n",
      "low counts [2]   : 462, 31% \n",
      "(mean count < 2)\n",
      "[1] see 'cooksCutoff' argument of ?results\n",
      "[2] see 'independentFiltering' argument of ?results\n",
      "\n"
     ]
    }
   ],
   "source": [
    "dds = DESeq(dds)\n",
    "res = results(dds, alpha=0.05)\n",
    "summary(res)"
   ]
  },
  {
   "cell_type": "code",
   "execution_count": 7,
   "metadata": {},
   "outputs": [
    {
     "data": {
      "text/plain": [
       "log2 fold change (MLE): method sonic vs triflic \n",
       "Wald test p-value: method sonic vs triflic \n",
       "DataFrame with 20 rows and 6 columns\n",
       "        baseMean log2FoldChange     lfcSE      stat       pvalue         padj\n",
       "       <numeric>      <numeric> <numeric> <numeric>    <numeric>    <numeric>\n",
       "P80239  747.5681       4.366532 0.2987603  14.61550 2.236998e-48 2.427142e-45\n",
       "P54375  329.4090      -5.712130 0.4305659 -13.26656 3.618028e-40 1.962780e-37\n",
       "P0CI73  174.4533      -5.838118 0.4605166 -12.67732 7.898288e-37 2.856547e-34\n",
       "P26901  280.4514       3.304183 0.2784145  11.86786 1.738671e-32 4.716144e-30\n",
       "P94391  180.9387       4.242991 0.3594748  11.80331 3.752764e-32 8.143498e-30\n",
       "...          ...            ...       ...       ...          ...          ...\n",
       "P94550  47.60762       4.011827 0.5316912  7.545408 4.508736e-14 3.057487e-12\n",
       "P54542  59.62276       3.447174 0.4605396  7.485075 7.150626e-14 4.563782e-12\n",
       "P45745  61.68154      -9.307488 1.2457836 -7.471192 7.947178e-14 4.655357e-12\n",
       "P54716  48.07323       4.505897 0.6033736  7.467839 8.152238e-14 4.655357e-12\n",
       "Q07833  57.75553      -9.212790 1.2424994 -7.414724 1.218785e-13 6.611908e-12"
      ]
     },
     "metadata": {},
     "output_type": "display_data"
    }
   ],
   "source": [
    "res = results(dds)\n",
    "resOrdered = res[order(res$padj),]\n",
    "write.csv(as.data.frame(resOrdered),file=\"BS_deseq_results.csv\")\n",
    "resOrdered[0:20,]"
   ]
  },
  {
   "cell_type": "markdown",
   "metadata": {},
   "source": [
    "## PA"
   ]
  },
  {
   "cell_type": "code",
   "execution_count": 8,
   "metadata": {},
   "outputs": [
    {
     "name": "stderr",
     "output_type": "stream",
     "text": [
      "converting counts to integer mode\n",
      "factor levels were dropped which had no samples\n"
     ]
    },
    {
     "data": {
      "text/html": [
       "<table>\n",
       "<thead><tr><th></th><th scope=col>PA_sonic_1</th><th scope=col>PA_sonic_2</th><th scope=col>PA_sonic_3</th><th scope=col>PA_triflic_1</th><th scope=col>PA_triflic_2</th><th scope=col>PA_triflic_3</th></tr></thead>\n",
       "<tbody>\n",
       "\t<tr><th scope=row>E1JGJ8</th><td> 7</td><td> 2</td><td>0 </td><td> 0</td><td> 0</td><td> 0</td></tr>\n",
       "\t<tr><th scope=row>G3XCT6</th><td>37</td><td>12</td><td>6 </td><td>13</td><td>35</td><td>18</td></tr>\n",
       "</tbody>\n",
       "</table>\n"
      ],
      "text/latex": [
       "\\begin{tabular}{r|llllll}\n",
       "  & PA\\_sonic\\_1 & PA\\_sonic\\_2 & PA\\_sonic\\_3 & PA\\_triflic\\_1 & PA\\_triflic\\_2 & PA\\_triflic\\_3\\\\\n",
       "\\hline\n",
       "\tE1JGJ8 &  7 &  2 & 0  &  0 &  0 &  0\\\\\n",
       "\tG3XCT6 & 37 & 12 & 6  & 13 & 35 & 18\\\\\n",
       "\\end{tabular}\n"
      ],
      "text/markdown": [
       "\n",
       "| <!--/--> | PA_sonic_1 | PA_sonic_2 | PA_sonic_3 | PA_triflic_1 | PA_triflic_2 | PA_triflic_3 | \n",
       "|---|---|\n",
       "| E1JGJ8 |  7 |  2 | 0  |  0 |  0 |  0 | \n",
       "| G3XCT6 | 37 | 12 | 6  | 13 | 35 | 18 | \n",
       "\n",
       "\n"
      ],
      "text/plain": [
       "       PA_sonic_1 PA_sonic_2 PA_sonic_3 PA_triflic_1 PA_triflic_2 PA_triflic_3\n",
       "E1JGJ8  7          2         0           0            0            0          \n",
       "G3XCT6 37         12         6          13           35           18          "
      ]
     },
     "metadata": {},
     "output_type": "display_data"
    }
   ],
   "source": [
    "sampleTableX = sampleTable[sampleTable$cell==\"PA\",]\n",
    "X = countData[,sampleTableX$name]\n",
    "X = X[ !apply(X, 1, function(x) all(is.na(x))), ]\n",
    "X[is.na(X)] = 0\n",
    "dds = DESeqDataSetFromMatrix(X, colData = sampleTableX, design = ~ method)\n",
    "dds <- dds[ rowSums(counts(dds)) > 1, ]\n",
    "counts(dds)[0:2,]"
   ]
  },
  {
   "cell_type": "code",
   "execution_count": 9,
   "metadata": {},
   "outputs": [
    {
     "name": "stderr",
     "output_type": "stream",
     "text": [
      "estimating size factors\n",
      "estimating dispersions\n",
      "gene-wise dispersion estimates\n",
      "mean-dispersion relationship\n",
      "final dispersion estimates\n",
      "fitting model and testing\n"
     ]
    },
    {
     "name": "stdout",
     "output_type": "stream",
     "text": [
      "\n",
      "out of 2054 with nonzero total read count\n",
      "adjusted p-value < 0.05\n",
      "LFC > 0 (up)     : 19, 0.93% \n",
      "LFC < 0 (down)   : 65, 3.2% \n",
      "outliers [1]     : 0, 0% \n",
      "low counts [2]   : 1035, 50% \n",
      "(mean count < 3)\n",
      "[1] see 'cooksCutoff' argument of ?results\n",
      "[2] see 'independentFiltering' argument of ?results\n",
      "\n"
     ]
    }
   ],
   "source": [
    "dds = DESeq(dds)\n",
    "res = results(dds, alpha=0.05)\n",
    "summary(res)"
   ]
  },
  {
   "cell_type": "code",
   "execution_count": 10,
   "metadata": {},
   "outputs": [
    {
     "data": {
      "text/plain": [
       "log2 fold change (MLE): method sonic vs triflic \n",
       "Wald test p-value: method sonic vs triflic \n",
       "DataFrame with 20 rows and 6 columns\n",
       "         baseMean log2FoldChange     lfcSE       stat       pvalue         padj\n",
       "        <numeric>      <numeric> <numeric>  <numeric>    <numeric>    <numeric>\n",
       "Q9HWW1  556.09650      -5.233437 0.5091475 -10.278822 8.779375e-25 9.990929e-22\n",
       "P13794  546.29212      -7.082614 0.7110108  -9.961331 2.250297e-23 1.280419e-20\n",
       "Q9HVI2  301.44015     -11.803714 1.3073315  -9.028861 1.734677e-19 6.580210e-17\n",
       "Q9HUM0  147.19566      -7.388025 0.8303335  -8.897659 5.703681e-19 1.622697e-16\n",
       "Q9I4S1   49.57822      -6.486841 0.9827601  -6.600635 4.094003e-11 9.317950e-09\n",
       "...           ...            ...       ...        ...          ...          ...\n",
       "P25254   9.496732      -6.818542 1.5720956  -4.337231 1.442890e-05  0.001026255\n",
       "O82851 228.254988      -2.531163 0.5983835  -4.230001 2.336906e-05  0.001564352\n",
       "Q9HU56 118.489780      -2.949748 0.7092333  -4.159066 3.195515e-05  0.002020276\n",
       "P04739  24.064768      -4.979042 1.2091346  -4.117856 3.824141e-05  0.002101156\n",
       "Q51466   8.839430      -6.718681 1.6244581  -4.135952 3.534856e-05  0.002101156"
      ]
     },
     "metadata": {},
     "output_type": "display_data"
    }
   ],
   "source": [
    "res = results(dds)\n",
    "resOrdered = res[order(res$padj),]\n",
    "write.csv(as.data.frame(resOrdered),file=\"PA_deseq_results.csv\")\n",
    "resOrdered[0:20,]"
   ]
  },
  {
   "cell_type": "markdown",
   "metadata": {},
   "source": [
    "## Jurkat"
   ]
  },
  {
   "cell_type": "code",
   "execution_count": 11,
   "metadata": {},
   "outputs": [
    {
     "name": "stderr",
     "output_type": "stream",
     "text": [
      "converting counts to integer mode\n",
      "factor levels were dropped which had no samples\n"
     ]
    },
    {
     "data": {
      "text/html": [
       "<table>\n",
       "<thead><tr><th></th><th scope=col>Jurkat_sonic_1</th><th scope=col>Jurkat_sonic_2</th><th scope=col>Jurkat_sonic_3</th><th scope=col>Jurkat_triflic_1</th><th scope=col>Jurkat_triflic_2</th><th scope=col>Jurkat_triflic_3</th></tr></thead>\n",
       "<tbody>\n",
       "\t<tr><th scope=row>A0A024QZP7</th><td>0</td><td>0</td><td>6</td><td>0</td><td>0</td><td>0</td></tr>\n",
       "\t<tr><th scope=row>A0A024R571</th><td>4</td><td>6</td><td>6</td><td>6</td><td>5</td><td>2</td></tr>\n",
       "</tbody>\n",
       "</table>\n"
      ],
      "text/latex": [
       "\\begin{tabular}{r|llllll}\n",
       "  & Jurkat\\_sonic\\_1 & Jurkat\\_sonic\\_2 & Jurkat\\_sonic\\_3 & Jurkat\\_triflic\\_1 & Jurkat\\_triflic\\_2 & Jurkat\\_triflic\\_3\\\\\n",
       "\\hline\n",
       "\tA0A024QZP7 & 0 & 0 & 6 & 0 & 0 & 0\\\\\n",
       "\tA0A024R571 & 4 & 6 & 6 & 6 & 5 & 2\\\\\n",
       "\\end{tabular}\n"
      ],
      "text/markdown": [
       "\n",
       "| <!--/--> | Jurkat_sonic_1 | Jurkat_sonic_2 | Jurkat_sonic_3 | Jurkat_triflic_1 | Jurkat_triflic_2 | Jurkat_triflic_3 | \n",
       "|---|---|\n",
       "| A0A024QZP7 | 0 | 0 | 6 | 0 | 0 | 0 | \n",
       "| A0A024R571 | 4 | 6 | 6 | 6 | 5 | 2 | \n",
       "\n",
       "\n"
      ],
      "text/plain": [
       "           Jurkat_sonic_1 Jurkat_sonic_2 Jurkat_sonic_3 Jurkat_triflic_1\n",
       "A0A024QZP7 0              0              6              0               \n",
       "A0A024R571 4              6              6              6               \n",
       "           Jurkat_triflic_2 Jurkat_triflic_3\n",
       "A0A024QZP7 0                0               \n",
       "A0A024R571 5                2               "
      ]
     },
     "metadata": {},
     "output_type": "display_data"
    }
   ],
   "source": [
    "sampleTableX = sampleTable[sampleTable$cell==\"Jurkat\",]\n",
    "X = countData[,sampleTableX$name]\n",
    "X = X[ !apply(X, 1, function(x) all(is.na(x))), ]\n",
    "X[is.na(X)] = 0\n",
    "dds = DESeqDataSetFromMatrix(X, colData = sampleTableX, design = ~ method)\n",
    "dds <- dds[ rowSums(counts(dds)) > 1, ]\n",
    "counts(dds)[0:2,]"
   ]
  },
  {
   "cell_type": "code",
   "execution_count": 12,
   "metadata": {},
   "outputs": [
    {
     "name": "stderr",
     "output_type": "stream",
     "text": [
      "estimating size factors\n",
      "estimating dispersions\n",
      "gene-wise dispersion estimates\n",
      "mean-dispersion relationship\n",
      "final dispersion estimates\n",
      "fitting model and testing\n"
     ]
    },
    {
     "name": "stdout",
     "output_type": "stream",
     "text": [
      "\n",
      "out of 3762 with nonzero total read count\n",
      "adjusted p-value < 0.05\n",
      "LFC > 0 (up)     : 3, 0.08% \n",
      "LFC < 0 (down)   : 1, 0.027% \n",
      "outliers [1]     : 21, 0.56% \n",
      "low counts [2]   : 0, 0% \n",
      "(mean count < 0)\n",
      "[1] see 'cooksCutoff' argument of ?results\n",
      "[2] see 'independentFiltering' argument of ?results\n",
      "\n"
     ]
    }
   ],
   "source": [
    "dds = DESeq(dds)\n",
    "res = results(dds, alpha=0.05)\n",
    "summary(res)"
   ]
  },
  {
   "cell_type": "code",
   "execution_count": 13,
   "metadata": {},
   "outputs": [
    {
     "data": {
      "text/plain": [
       "log2 fold change (MLE): method sonic vs triflic \n",
       "Wald test p-value: method sonic vs triflic \n",
       "DataFrame with 20 rows and 6 columns\n",
       "         baseMean log2FoldChange     lfcSE      stat       pvalue         padj\n",
       "        <numeric>      <numeric> <numeric> <numeric>    <numeric>    <numeric>\n",
       "Q7L7L0   14.96284     -21.884964  2.639984 -8.289810 1.134298e-16 6.862504e-14\n",
       "Q9BVA1  104.95902       9.760908  1.898267  5.142009 2.718158e-07 8.222428e-05\n",
       "E9PQB7   66.68883       9.106474  1.966885  4.629896 3.658494e-06 7.377963e-04\n",
       "P04075   44.71724       8.529568  1.920425  4.441500 8.933395e-06 1.351176e-03\n",
       "F5GWF6   12.16857      -7.478031  1.995232 -3.747950 1.782855e-04 1.797712e-02\n",
       "...           ...            ...       ...       ...          ...          ...\n",
       "M0R2I7  25.463798      -4.306831  1.497472 -2.876068  0.004026629    0.1595431\n",
       "Q02750   7.892063       6.023803  2.114806  2.848395  0.004394037    0.1595431\n",
       "Q13011   7.205527       5.894681  2.093610  2.815559  0.004869253    0.1636610\n",
       "E5RG95  11.546624       6.575081  2.355781  2.791041  0.005253886    0.1672948\n",
       "B4DNK4 287.912261       3.425268  1.258101  2.722570  0.006477624    0.1866173"
      ]
     },
     "metadata": {},
     "output_type": "display_data"
    }
   ],
   "source": [
    "res = results(dds)\n",
    "resOrdered = res[order(res$padj),]\n",
    "write.csv(as.data.frame(resOrdered),file=\"Jurkat_deseq_results.csv\")\n",
    "resOrdered[0:20,]"
   ]
  }
 ],
 "metadata": {
  "kernelspec": {
   "display_name": "R",
   "language": "R",
   "name": "ir"
  },
  "language_info": {
   "codemirror_mode": "r",
   "file_extension": ".r",
   "mimetype": "text/x-r-source",
   "name": "R",
   "pygments_lexer": "r",
   "version": "3.4.0"
  }
 },
 "nbformat": 4,
 "nbformat_minor": 2
}
