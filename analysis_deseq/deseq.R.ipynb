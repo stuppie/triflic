{
 "cells": [
  {
   "cell_type": "code",
   "execution_count": 1,
   "metadata": {},
   "outputs": [
    {
     "name": "stderr",
     "output_type": "stream",
     "text": [
      "Loading required package: S4Vectors\n",
      "Loading required package: stats4\n",
      "Loading required package: BiocGenerics\n",
      "Loading required package: parallel\n",
      "\n",
      "Attaching package: ‘BiocGenerics’\n",
      "\n",
      "The following objects are masked from ‘package:parallel’:\n",
      "\n",
      "    clusterApply, clusterApplyLB, clusterCall, clusterEvalQ,\n",
      "    clusterExport, clusterMap, parApply, parCapply, parLapply,\n",
      "    parLapplyLB, parRapply, parSapply, parSapplyLB\n",
      "\n",
      "The following objects are masked from ‘package:stats’:\n",
      "\n",
      "    IQR, mad, sd, var, xtabs\n",
      "\n",
      "The following objects are masked from ‘package:base’:\n",
      "\n",
      "    anyDuplicated, append, as.data.frame, cbind, colMeans, colnames,\n",
      "    colSums, do.call, duplicated, eval, evalq, Filter, Find, get, grep,\n",
      "    grepl, intersect, is.unsorted, lapply, lengths, Map, mapply, match,\n",
      "    mget, order, paste, pmax, pmax.int, pmin, pmin.int, Position, rank,\n",
      "    rbind, Reduce, rowMeans, rownames, rowSums, sapply, setdiff, sort,\n",
      "    table, tapply, union, unique, unsplit, which, which.max, which.min\n",
      "\n",
      "\n",
      "Attaching package: ‘S4Vectors’\n",
      "\n",
      "The following object is masked from ‘package:base’:\n",
      "\n",
      "    expand.grid\n",
      "\n",
      "Loading required package: IRanges\n",
      "Loading required package: GenomicRanges\n",
      "Loading required package: GenomeInfoDb\n",
      "Loading required package: SummarizedExperiment\n",
      "Loading required package: Biobase\n",
      "Welcome to Bioconductor\n",
      "\n",
      "    Vignettes contain introductory material; view with\n",
      "    'browseVignettes()'. To cite Bioconductor, see\n",
      "    'citation(\"Biobase\")', and for packages 'citation(\"pkgname\")'.\n",
      "\n",
      "Loading required package: DelayedArray\n",
      "Loading required package: matrixStats\n",
      "\n",
      "Attaching package: ‘matrixStats’\n",
      "\n",
      "The following objects are masked from ‘package:Biobase’:\n",
      "\n",
      "    anyMissing, rowMedians\n",
      "\n",
      "\n",
      "Attaching package: ‘DelayedArray’\n",
      "\n",
      "The following objects are masked from ‘package:matrixStats’:\n",
      "\n",
      "    colMaxs, colMins, colRanges, rowMaxs, rowMins, rowRanges\n",
      "\n",
      "The following object is masked from ‘package:base’:\n",
      "\n",
      "    apply\n",
      "\n",
      "Loading required package: lattice\n",
      "Loading required package: annotate\n",
      "Loading required package: AnnotationDbi\n",
      "Loading required package: XML\n",
      "\n",
      "Attaching package: ‘genefilter’\n",
      "\n",
      "The following objects are masked from ‘package:matrixStats’:\n",
      "\n",
      "    rowSds, rowVars\n",
      "\n"
     ]
    }
   ],
   "source": [
    "library(\"DESeq2\")\n",
    "library(\"geneplotter\")\n",
    "library(\"ggplot2\")\n",
    "library(\"vsn\")\n",
    "library(\"genefilter\")"
   ]
  },
  {
   "cell_type": "code",
   "execution_count": 2,
   "metadata": {
    "collapsed": true
   },
   "outputs": [],
   "source": [
    "setwd(\"/home/gstupp/projects/Wolan/ana_extractions/analysis/analysis_deseq\")"
   ]
  },
  {
   "cell_type": "code",
   "execution_count": 3,
   "metadata": {
    "collapsed": true
   },
   "outputs": [],
   "source": [
    "file_path = \"X.csv\"\n",
    "countData = read.csv(file_path, row.names = 1)"
   ]
  },
  {
   "cell_type": "code",
   "execution_count": 4,
   "metadata": {},
   "outputs": [
    {
     "data": {
      "text/html": [
       "<table>\n",
       "<thead><tr><th></th><th scope=col>cell</th><th scope=col>file</th><th scope=col>method</th><th scope=col>name.1</th><th scope=col>pretty_name</th></tr></thead>\n",
       "<tbody>\n",
       "\t<tr><th scope=row>BS_sonic_1</th><td>BS                                      </td><td>data/BS/Sonic/BS sonic 1.txt            </td><td>sonic                                   </td><td>BS_sonic_1                              </td><td>BS sonic 1                              </td></tr>\n",
       "\t<tr><th scope=row>BS_sonic_2</th><td>BS                                      </td><td>data/BS/Sonic/BS sonic 2.txt            </td><td>sonic                                   </td><td>BS_sonic_2                              </td><td>BS sonic 2                              </td></tr>\n",
       "\t<tr><th scope=row>BS_sonic_3</th><td>BS                                      </td><td>data/BS/Sonic/BS sonic 3.txt            </td><td>sonic                                   </td><td>BS_sonic_3                              </td><td>BS sonic 3                              </td></tr>\n",
       "\t<tr><th scope=row>BS_triflic_1</th><td>BS                                      </td><td>data/BS/Triflic/BS triflic 1.txt        </td><td>triflic                                 </td><td>BS_triflic_1                            </td><td>BS triflic 1                            </td></tr>\n",
       "\t<tr><th scope=row>BS_triflic_2</th><td>BS                                      </td><td>data/BS/Triflic/BS triflic 2.txt        </td><td>triflic                                 </td><td>BS_triflic_2                            </td><td>BS triflic 2                            </td></tr>\n",
       "\t<tr><th scope=row>BS_triflic_3</th><td>BS                                      </td><td>data/BS/Triflic/BS triflic 3.txt        </td><td>triflic                                 </td><td>BS_triflic_3                            </td><td>BS triflic 3                            </td></tr>\n",
       "\t<tr><th scope=row>Jurkat_sonic_1</th><td>Jurkat                                  </td><td>data/Jurkat/Sonic/Jurkat sonic 1.txt    </td><td>sonic                                   </td><td>Jurkat_sonic_1                          </td><td>Jurkat sonic 1                          </td></tr>\n",
       "\t<tr><th scope=row>Jurkat_sonic_2</th><td>Jurkat                                  </td><td>data/Jurkat/Sonic/Jurkat sonic 2.txt    </td><td>sonic                                   </td><td>Jurkat_sonic_2                          </td><td>Jurkat sonic 2                          </td></tr>\n",
       "\t<tr><th scope=row>Jurkat_sonic_3</th><td>Jurkat                                  </td><td>data/Jurkat/Sonic/Jurkat sonic 3.txt    </td><td>sonic                                   </td><td>Jurkat_sonic_3                          </td><td>Jurkat sonic 3                          </td></tr>\n",
       "\t<tr><th scope=row>Jurkat_triflic_1</th><td>Jurkat                                  </td><td>data/Jurkat/Triflic/Jurkat triflic 1.txt</td><td>triflic                                 </td><td>Jurkat_triflic_1                        </td><td>Jurkat triflic 1                        </td></tr>\n",
       "\t<tr><th scope=row>Jurkat_triflic_2</th><td>Jurkat                                  </td><td>data/Jurkat/Triflic/Jurkat triflic 2.txt</td><td>triflic                                 </td><td>Jurkat_triflic_2                        </td><td>Jurkat triflic 2                        </td></tr>\n",
       "\t<tr><th scope=row>Jurkat_triflic_3</th><td>Jurkat                                  </td><td>data/Jurkat/Triflic/Jurkat triflic 3.txt</td><td>triflic                                 </td><td>Jurkat_triflic_3                        </td><td>Jurkat triflic 3                        </td></tr>\n",
       "\t<tr><th scope=row>PA_sonic_1</th><td>PA                                      </td><td>data/PA/Sonic/PA sonic 1.txt            </td><td>sonic                                   </td><td>PA_sonic_1                              </td><td>PA sonic 1                              </td></tr>\n",
       "\t<tr><th scope=row>PA_sonic_2</th><td>PA                                      </td><td>data/PA/Sonic/PA sonic 2.txt            </td><td>sonic                                   </td><td>PA_sonic_2                              </td><td>PA sonic 2                              </td></tr>\n",
       "\t<tr><th scope=row>PA_sonic_3</th><td>PA                                      </td><td>data/PA/Sonic/PA sonic 3.txt            </td><td>sonic                                   </td><td>PA_sonic_3                              </td><td>PA sonic 3                              </td></tr>\n",
       "\t<tr><th scope=row>PA_triflic_1</th><td>PA                                      </td><td>data/PA/Triflic/PA triflic 1.txt        </td><td>triflic                                 </td><td>PA_triflic_1                            </td><td>PA triflic 1                            </td></tr>\n",
       "\t<tr><th scope=row>PA_triflic_2</th><td>PA                                      </td><td>data/PA/Triflic/PA triflic 2.txt        </td><td>triflic                                 </td><td>PA_triflic_2                            </td><td>PA triflic 2                            </td></tr>\n",
       "\t<tr><th scope=row>PA_triflic_3</th><td>PA                                      </td><td>data/PA/Triflic/PA triflic 3.txt        </td><td>triflic                                 </td><td>PA_triflic_3                            </td><td>PA triflic 3                            </td></tr>\n",
       "</tbody>\n",
       "</table>\n"
      ],
      "text/latex": [
       "\\begin{tabular}{r|lllll}\n",
       "  & cell & file & method & name.1 & pretty\\_name\\\\\n",
       "\\hline\n",
       "\tBS\\_sonic\\_1 & BS                                       & data/BS/Sonic/BS sonic 1.txt             & sonic                                    & BS\\_sonic\\_1                           & BS sonic 1                              \\\\\n",
       "\tBS\\_sonic\\_2 & BS                                       & data/BS/Sonic/BS sonic 2.txt             & sonic                                    & BS\\_sonic\\_2                           & BS sonic 2                              \\\\\n",
       "\tBS\\_sonic\\_3 & BS                                       & data/BS/Sonic/BS sonic 3.txt             & sonic                                    & BS\\_sonic\\_3                           & BS sonic 3                              \\\\\n",
       "\tBS\\_triflic\\_1 & BS                                       & data/BS/Triflic/BS triflic 1.txt         & triflic                                  & BS\\_triflic\\_1                         & BS triflic 1                            \\\\\n",
       "\tBS\\_triflic\\_2 & BS                                       & data/BS/Triflic/BS triflic 2.txt         & triflic                                  & BS\\_triflic\\_2                         & BS triflic 2                            \\\\\n",
       "\tBS\\_triflic\\_3 & BS                                       & data/BS/Triflic/BS triflic 3.txt         & triflic                                  & BS\\_triflic\\_3                         & BS triflic 3                            \\\\\n",
       "\tJurkat\\_sonic\\_1 & Jurkat                                   & data/Jurkat/Sonic/Jurkat sonic 1.txt     & sonic                                    & Jurkat\\_sonic\\_1                       & Jurkat sonic 1                          \\\\\n",
       "\tJurkat\\_sonic\\_2 & Jurkat                                   & data/Jurkat/Sonic/Jurkat sonic 2.txt     & sonic                                    & Jurkat\\_sonic\\_2                       & Jurkat sonic 2                          \\\\\n",
       "\tJurkat\\_sonic\\_3 & Jurkat                                   & data/Jurkat/Sonic/Jurkat sonic 3.txt     & sonic                                    & Jurkat\\_sonic\\_3                       & Jurkat sonic 3                          \\\\\n",
       "\tJurkat\\_triflic\\_1 & Jurkat                                   & data/Jurkat/Triflic/Jurkat triflic 1.txt & triflic                                  & Jurkat\\_triflic\\_1                     & Jurkat triflic 1                        \\\\\n",
       "\tJurkat\\_triflic\\_2 & Jurkat                                   & data/Jurkat/Triflic/Jurkat triflic 2.txt & triflic                                  & Jurkat\\_triflic\\_2                     & Jurkat triflic 2                        \\\\\n",
       "\tJurkat\\_triflic\\_3 & Jurkat                                   & data/Jurkat/Triflic/Jurkat triflic 3.txt & triflic                                  & Jurkat\\_triflic\\_3                     & Jurkat triflic 3                        \\\\\n",
       "\tPA\\_sonic\\_1 & PA                                       & data/PA/Sonic/PA sonic 1.txt             & sonic                                    & PA\\_sonic\\_1                           & PA sonic 1                              \\\\\n",
       "\tPA\\_sonic\\_2 & PA                                       & data/PA/Sonic/PA sonic 2.txt             & sonic                                    & PA\\_sonic\\_2                           & PA sonic 2                              \\\\\n",
       "\tPA\\_sonic\\_3 & PA                                       & data/PA/Sonic/PA sonic 3.txt             & sonic                                    & PA\\_sonic\\_3                           & PA sonic 3                              \\\\\n",
       "\tPA\\_triflic\\_1 & PA                                       & data/PA/Triflic/PA triflic 1.txt         & triflic                                  & PA\\_triflic\\_1                         & PA triflic 1                            \\\\\n",
       "\tPA\\_triflic\\_2 & PA                                       & data/PA/Triflic/PA triflic 2.txt         & triflic                                  & PA\\_triflic\\_2                         & PA triflic 2                            \\\\\n",
       "\tPA\\_triflic\\_3 & PA                                       & data/PA/Triflic/PA triflic 3.txt         & triflic                                  & PA\\_triflic\\_3                         & PA triflic 3                            \\\\\n",
       "\\end{tabular}\n"
      ],
      "text/markdown": [
       "\n",
       "| <!--/--> | cell | file | method | name.1 | pretty_name | \n",
       "|---|---|---|---|---|---|---|---|---|---|---|---|---|---|---|---|---|---|\n",
       "| BS_sonic_1 | BS                                       | data/BS/Sonic/BS sonic 1.txt             | sonic                                    | BS_sonic_1                               | BS sonic 1                               | \n",
       "| BS_sonic_2 | BS                                       | data/BS/Sonic/BS sonic 2.txt             | sonic                                    | BS_sonic_2                               | BS sonic 2                               | \n",
       "| BS_sonic_3 | BS                                       | data/BS/Sonic/BS sonic 3.txt             | sonic                                    | BS_sonic_3                               | BS sonic 3                               | \n",
       "| BS_triflic_1 | BS                                       | data/BS/Triflic/BS triflic 1.txt         | triflic                                  | BS_triflic_1                             | BS triflic 1                             | \n",
       "| BS_triflic_2 | BS                                       | data/BS/Triflic/BS triflic 2.txt         | triflic                                  | BS_triflic_2                             | BS triflic 2                             | \n",
       "| BS_triflic_3 | BS                                       | data/BS/Triflic/BS triflic 3.txt         | triflic                                  | BS_triflic_3                             | BS triflic 3                             | \n",
       "| Jurkat_sonic_1 | Jurkat                                   | data/Jurkat/Sonic/Jurkat sonic 1.txt     | sonic                                    | Jurkat_sonic_1                           | Jurkat sonic 1                           | \n",
       "| Jurkat_sonic_2 | Jurkat                                   | data/Jurkat/Sonic/Jurkat sonic 2.txt     | sonic                                    | Jurkat_sonic_2                           | Jurkat sonic 2                           | \n",
       "| Jurkat_sonic_3 | Jurkat                                   | data/Jurkat/Sonic/Jurkat sonic 3.txt     | sonic                                    | Jurkat_sonic_3                           | Jurkat sonic 3                           | \n",
       "| Jurkat_triflic_1 | Jurkat                                   | data/Jurkat/Triflic/Jurkat triflic 1.txt | triflic                                  | Jurkat_triflic_1                         | Jurkat triflic 1                         | \n",
       "| Jurkat_triflic_2 | Jurkat                                   | data/Jurkat/Triflic/Jurkat triflic 2.txt | triflic                                  | Jurkat_triflic_2                         | Jurkat triflic 2                         | \n",
       "| Jurkat_triflic_3 | Jurkat                                   | data/Jurkat/Triflic/Jurkat triflic 3.txt | triflic                                  | Jurkat_triflic_3                         | Jurkat triflic 3                         | \n",
       "| PA_sonic_1 | PA                                       | data/PA/Sonic/PA sonic 1.txt             | sonic                                    | PA_sonic_1                               | PA sonic 1                               | \n",
       "| PA_sonic_2 | PA                                       | data/PA/Sonic/PA sonic 2.txt             | sonic                                    | PA_sonic_2                               | PA sonic 2                               | \n",
       "| PA_sonic_3 | PA                                       | data/PA/Sonic/PA sonic 3.txt             | sonic                                    | PA_sonic_3                               | PA sonic 3                               | \n",
       "| PA_triflic_1 | PA                                       | data/PA/Triflic/PA triflic 1.txt         | triflic                                  | PA_triflic_1                             | PA triflic 1                             | \n",
       "| PA_triflic_2 | PA                                       | data/PA/Triflic/PA triflic 2.txt         | triflic                                  | PA_triflic_2                             | PA triflic 2                             | \n",
       "| PA_triflic_3 | PA                                       | data/PA/Triflic/PA triflic 3.txt         | triflic                                  | PA_triflic_3                             | PA triflic 3                             | \n",
       "\n",
       "\n"
      ],
      "text/plain": [
       "                 cell   file                                     method \n",
       "BS_sonic_1       BS     data/BS/Sonic/BS sonic 1.txt             sonic  \n",
       "BS_sonic_2       BS     data/BS/Sonic/BS sonic 2.txt             sonic  \n",
       "BS_sonic_3       BS     data/BS/Sonic/BS sonic 3.txt             sonic  \n",
       "BS_triflic_1     BS     data/BS/Triflic/BS triflic 1.txt         triflic\n",
       "BS_triflic_2     BS     data/BS/Triflic/BS triflic 2.txt         triflic\n",
       "BS_triflic_3     BS     data/BS/Triflic/BS triflic 3.txt         triflic\n",
       "Jurkat_sonic_1   Jurkat data/Jurkat/Sonic/Jurkat sonic 1.txt     sonic  \n",
       "Jurkat_sonic_2   Jurkat data/Jurkat/Sonic/Jurkat sonic 2.txt     sonic  \n",
       "Jurkat_sonic_3   Jurkat data/Jurkat/Sonic/Jurkat sonic 3.txt     sonic  \n",
       "Jurkat_triflic_1 Jurkat data/Jurkat/Triflic/Jurkat triflic 1.txt triflic\n",
       "Jurkat_triflic_2 Jurkat data/Jurkat/Triflic/Jurkat triflic 2.txt triflic\n",
       "Jurkat_triflic_3 Jurkat data/Jurkat/Triflic/Jurkat triflic 3.txt triflic\n",
       "PA_sonic_1       PA     data/PA/Sonic/PA sonic 1.txt             sonic  \n",
       "PA_sonic_2       PA     data/PA/Sonic/PA sonic 2.txt             sonic  \n",
       "PA_sonic_3       PA     data/PA/Sonic/PA sonic 3.txt             sonic  \n",
       "PA_triflic_1     PA     data/PA/Triflic/PA triflic 1.txt         triflic\n",
       "PA_triflic_2     PA     data/PA/Triflic/PA triflic 2.txt         triflic\n",
       "PA_triflic_3     PA     data/PA/Triflic/PA triflic 3.txt         triflic\n",
       "                 name.1           pretty_name     \n",
       "BS_sonic_1       BS_sonic_1       BS sonic 1      \n",
       "BS_sonic_2       BS_sonic_2       BS sonic 2      \n",
       "BS_sonic_3       BS_sonic_3       BS sonic 3      \n",
       "BS_triflic_1     BS_triflic_1     BS triflic 1    \n",
       "BS_triflic_2     BS_triflic_2     BS triflic 2    \n",
       "BS_triflic_3     BS_triflic_3     BS triflic 3    \n",
       "Jurkat_sonic_1   Jurkat_sonic_1   Jurkat sonic 1  \n",
       "Jurkat_sonic_2   Jurkat_sonic_2   Jurkat sonic 2  \n",
       "Jurkat_sonic_3   Jurkat_sonic_3   Jurkat sonic 3  \n",
       "Jurkat_triflic_1 Jurkat_triflic_1 Jurkat triflic 1\n",
       "Jurkat_triflic_2 Jurkat_triflic_2 Jurkat triflic 2\n",
       "Jurkat_triflic_3 Jurkat_triflic_3 Jurkat triflic 3\n",
       "PA_sonic_1       PA_sonic_1       PA sonic 1      \n",
       "PA_sonic_2       PA_sonic_2       PA sonic 2      \n",
       "PA_sonic_3       PA_sonic_3       PA sonic 3      \n",
       "PA_triflic_1     PA_triflic_1     PA triflic 1    \n",
       "PA_triflic_2     PA_triflic_2     PA triflic 2    \n",
       "PA_triflic_3     PA_triflic_3     PA triflic 3    "
      ]
     },
     "metadata": {},
     "output_type": "display_data"
    }
   ],
   "source": [
    "meta_path = \"metadata.csv\"\n",
    "sampleTable = read.csv(meta_path, row.names = 1)\n",
    "sampleTable = sampleTable[colnames(countData),]\n",
    "sampleTable$cell = factor(sampleTable$cell)\n",
    "sampleTable$method = factor(sampleTable$method)\n",
    "sampleTable$method <- relevel(sampleTable$method, ref=\"sonic\")\n",
    "sampleTable = sampleTable[!(rownames(sampleTable) %in% c(\"PA_pellet_1\", \"PA_pellet_2\", \"PA_pellet_3\")),]\n",
    "sampleTable"
   ]
  },
  {
   "cell_type": "markdown",
   "metadata": {},
   "source": [
    "## BS"
   ]
  },
  {
   "cell_type": "code",
   "execution_count": 5,
   "metadata": {},
   "outputs": [
    {
     "name": "stderr",
     "output_type": "stream",
     "text": [
      "converting counts to integer mode\n",
      "factor levels were dropped which had no samples\n"
     ]
    },
    {
     "data": {
      "text/html": [
       "<table>\n",
       "<thead><tr><th></th><th scope=col>BS_sonic_1</th><th scope=col>BS_sonic_2</th><th scope=col>BS_sonic_3</th><th scope=col>BS_triflic_1</th><th scope=col>BS_triflic_2</th><th scope=col>BS_triflic_3</th></tr></thead>\n",
       "<tbody>\n",
       "\t<tr><th scope=row>C0H3V2</th><td>4</td><td>7</td><td>5</td><td>0</td><td>3</td><td>4</td></tr>\n",
       "\t<tr><th scope=row>C0H3V3</th><td>6</td><td>6</td><td>9</td><td>0</td><td>0</td><td>0</td></tr>\n",
       "</tbody>\n",
       "</table>\n"
      ],
      "text/latex": [
       "\\begin{tabular}{r|llllll}\n",
       "  & BS\\_sonic\\_1 & BS\\_sonic\\_2 & BS\\_sonic\\_3 & BS\\_triflic\\_1 & BS\\_triflic\\_2 & BS\\_triflic\\_3\\\\\n",
       "\\hline\n",
       "\tC0H3V2 & 4 & 7 & 5 & 0 & 3 & 4\\\\\n",
       "\tC0H3V3 & 6 & 6 & 9 & 0 & 0 & 0\\\\\n",
       "\\end{tabular}\n"
      ],
      "text/markdown": [
       "\n",
       "| <!--/--> | BS_sonic_1 | BS_sonic_2 | BS_sonic_3 | BS_triflic_1 | BS_triflic_2 | BS_triflic_3 | \n",
       "|---|---|\n",
       "| C0H3V2 | 4 | 7 | 5 | 0 | 3 | 4 | \n",
       "| C0H3V3 | 6 | 6 | 9 | 0 | 0 | 0 | \n",
       "\n",
       "\n"
      ],
      "text/plain": [
       "       BS_sonic_1 BS_sonic_2 BS_sonic_3 BS_triflic_1 BS_triflic_2 BS_triflic_3\n",
       "C0H3V2 4          7          5          0            3            4           \n",
       "C0H3V3 6          6          9          0            0            0           "
      ]
     },
     "metadata": {},
     "output_type": "display_data"
    }
   ],
   "source": [
    "sampleTableX = sampleTable[sampleTable$cell==\"BS\",]\n",
    "X = countData[,sampleTableX$name]\n",
    "X = X[ !apply(X, 1, function(x) all(is.na(x))), ]\n",
    "X[is.na(X)] = 0\n",
    "dds = DESeqDataSetFromMatrix(X, colData = sampleTableX, design = ~ method)\n",
    "dds <- dds[ rowSums(counts(dds)) > 1, ]\n",
    "counts(dds)[0:2,]"
   ]
  },
  {
   "cell_type": "code",
   "execution_count": 6,
   "metadata": {},
   "outputs": [
    {
     "name": "stderr",
     "output_type": "stream",
     "text": [
      "estimating size factors\n",
      "estimating dispersions\n",
      "gene-wise dispersion estimates\n",
      "mean-dispersion relationship\n",
      "final dispersion estimates\n",
      "fitting model and testing\n"
     ]
    },
    {
     "name": "stdout",
     "output_type": "stream",
     "text": [
      "\n",
      "out of 1490 with nonzero total read count\n",
      "adjusted p-value < 0.05\n",
      "LFC > 0 (up)     : 213, 14% \n",
      "LFC < 0 (down)   : 184, 12% \n",
      "outliers [1]     : 0, 0% \n",
      "low counts [2]   : 462, 31% \n",
      "(mean count < 2)\n",
      "[1] see 'cooksCutoff' argument of ?results\n",
      "[2] see 'independentFiltering' argument of ?results\n",
      "\n"
     ]
    }
   ],
   "source": [
    "dds = DESeq(dds)\n",
    "res = results(dds, alpha=0.05)\n",
    "summary(res)"
   ]
  },
  {
   "cell_type": "code",
   "execution_count": 7,
   "metadata": {},
   "outputs": [
    {
     "data": {
      "text/plain": [
       "log2 fold change (MLE): method triflic vs sonic \n",
       "Wald test p-value: method triflic vs sonic \n",
       "DataFrame with 20 rows and 6 columns\n",
       "        baseMean log2FoldChange     lfcSE      stat       pvalue         padj\n",
       "       <numeric>      <numeric> <numeric> <numeric>    <numeric>    <numeric>\n",
       "P80239  747.5681      -4.366531 0.2987603 -14.61550 2.237076e-48 2.427227e-45\n",
       "P54375  329.4090       5.712131 0.4305659  13.26656 3.617905e-40 1.962714e-37\n",
       "P0CI73  174.4533       5.838119 0.4605166  12.67733 7.898064e-37 2.856466e-34\n",
       "P26901  280.4514      -3.304182 0.2784145 -11.86785 1.738711e-32 4.716255e-30\n",
       "P94391  180.9387      -4.242990 0.3594748 -11.80330 3.752858e-32 8.143702e-30\n",
       "...          ...            ...       ...       ...          ...          ...\n",
       "P94550  47.60762      -4.011826 0.5316913 -7.545406 4.508816e-14 3.057541e-12\n",
       "P54542  59.62276      -3.447173 0.4605396 -7.485073 7.150748e-14 4.563860e-12\n",
       "P45745  61.68154       9.307485 1.2457819  7.471200 7.946694e-14 4.655448e-12\n",
       "P54716  48.07323      -4.505896 0.6033737 -7.467837 8.152398e-14 4.655448e-12\n",
       "Q07833  57.75553       9.212787 1.2424976  7.414732 1.218712e-13 6.611513e-12"
      ]
     },
     "metadata": {},
     "output_type": "display_data"
    }
   ],
   "source": [
    "res = results(dds)\n",
    "resOrdered = res[order(res$padj),]\n",
    "write.csv(as.data.frame(resOrdered),file=\"BS_deseq_results.csv\")\n",
    "resOrdered[0:20,]"
   ]
  },
  {
   "cell_type": "markdown",
   "metadata": {},
   "source": [
    "## PA"
   ]
  },
  {
   "cell_type": "code",
   "execution_count": 8,
   "metadata": {},
   "outputs": [
    {
     "name": "stderr",
     "output_type": "stream",
     "text": [
      "converting counts to integer mode\n",
      "factor levels were dropped which had no samples\n"
     ]
    },
    {
     "data": {
      "text/html": [
       "<table>\n",
       "<thead><tr><th></th><th scope=col>PA_sonic_1</th><th scope=col>PA_sonic_2</th><th scope=col>PA_sonic_3</th><th scope=col>PA_triflic_1</th><th scope=col>PA_triflic_2</th><th scope=col>PA_triflic_3</th></tr></thead>\n",
       "<tbody>\n",
       "\t<tr><th scope=row>E1JGJ8</th><td> 7</td><td> 2</td><td>0 </td><td> 0</td><td> 0</td><td> 0</td></tr>\n",
       "\t<tr><th scope=row>G3XCT6</th><td>37</td><td>12</td><td>6 </td><td>13</td><td>35</td><td>18</td></tr>\n",
       "</tbody>\n",
       "</table>\n"
      ],
      "text/latex": [
       "\\begin{tabular}{r|llllll}\n",
       "  & PA\\_sonic\\_1 & PA\\_sonic\\_2 & PA\\_sonic\\_3 & PA\\_triflic\\_1 & PA\\_triflic\\_2 & PA\\_triflic\\_3\\\\\n",
       "\\hline\n",
       "\tE1JGJ8 &  7 &  2 & 0  &  0 &  0 &  0\\\\\n",
       "\tG3XCT6 & 37 & 12 & 6  & 13 & 35 & 18\\\\\n",
       "\\end{tabular}\n"
      ],
      "text/markdown": [
       "\n",
       "| <!--/--> | PA_sonic_1 | PA_sonic_2 | PA_sonic_3 | PA_triflic_1 | PA_triflic_2 | PA_triflic_3 | \n",
       "|---|---|\n",
       "| E1JGJ8 |  7 |  2 | 0  |  0 |  0 |  0 | \n",
       "| G3XCT6 | 37 | 12 | 6  | 13 | 35 | 18 | \n",
       "\n",
       "\n"
      ],
      "text/plain": [
       "       PA_sonic_1 PA_sonic_2 PA_sonic_3 PA_triflic_1 PA_triflic_2 PA_triflic_3\n",
       "E1JGJ8  7          2         0           0            0            0          \n",
       "G3XCT6 37         12         6          13           35           18          "
      ]
     },
     "metadata": {},
     "output_type": "display_data"
    }
   ],
   "source": [
    "sampleTableX = sampleTable[sampleTable$cell==\"PA\",]\n",
    "X = countData[,sampleTableX$name]\n",
    "X = X[ !apply(X, 1, function(x) all(is.na(x))), ]\n",
    "X[is.na(X)] = 0\n",
    "dds = DESeqDataSetFromMatrix(X, colData = sampleTableX, design = ~ method)\n",
    "dds <- dds[ rowSums(counts(dds)) > 1, ]\n",
    "counts(dds)[0:2,]"
   ]
  },
  {
   "cell_type": "code",
   "execution_count": 9,
   "metadata": {},
   "outputs": [
    {
     "name": "stderr",
     "output_type": "stream",
     "text": [
      "estimating size factors\n",
      "estimating dispersions\n",
      "gene-wise dispersion estimates\n",
      "mean-dispersion relationship\n",
      "final dispersion estimates\n",
      "fitting model and testing\n"
     ]
    },
    {
     "name": "stdout",
     "output_type": "stream",
     "text": [
      "\n",
      "out of 2054 with nonzero total read count\n",
      "adjusted p-value < 0.05\n",
      "LFC > 0 (up)     : 65, 3.2% \n",
      "LFC < 0 (down)   : 19, 0.93% \n",
      "outliers [1]     : 0, 0% \n",
      "low counts [2]   : 1035, 50% \n",
      "(mean count < 3)\n",
      "[1] see 'cooksCutoff' argument of ?results\n",
      "[2] see 'independentFiltering' argument of ?results\n",
      "\n"
     ]
    }
   ],
   "source": [
    "dds = DESeq(dds)\n",
    "res = results(dds, alpha=0.05)\n",
    "summary(res)"
   ]
  },
  {
   "cell_type": "code",
   "execution_count": 10,
   "metadata": {},
   "outputs": [
    {
     "data": {
      "text/plain": [
       "log2 fold change (MLE): method triflic vs sonic \n",
       "Wald test p-value: method triflic vs sonic \n",
       "DataFrame with 20 rows and 6 columns\n",
       "         baseMean log2FoldChange     lfcSE      stat       pvalue         padj\n",
       "        <numeric>      <numeric> <numeric> <numeric>    <numeric>    <numeric>\n",
       "Q9HWW1  556.09650       5.233439 0.5091475 10.278826 8.779037e-25 9.990544e-22\n",
       "P13794  546.29212       7.082617 0.7110107  9.961336 2.250193e-23 1.280360e-20\n",
       "Q9HVI2  301.44015      11.803712 1.3073297  9.028872 1.734509e-19 6.579571e-17\n",
       "Q9HUM0  147.19566       7.388026 0.8303333  8.897664 5.703441e-19 1.622629e-16\n",
       "Q9I4S1   49.57822       6.486842 0.9827596  6.600640 4.093863e-11 9.317632e-09\n",
       "...           ...            ...       ...       ...          ...          ...\n",
       "P25254   9.496732       6.818539 1.5720935  4.337235 1.442861e-05  0.001026235\n",
       "O82851 228.254988       2.531165 0.5983835  4.230005 2.336861e-05  0.001564322\n",
       "Q9HU56 118.489780       2.949751 0.7092333  4.159070 3.195454e-05  0.002020237\n",
       "P04739  24.064768       4.979045 1.2091342  4.117860 3.824068e-05  0.002101121\n",
       "Q51466   8.839430       6.718679 1.6244559  4.135956 3.534792e-05  0.002101121"
      ]
     },
     "metadata": {},
     "output_type": "display_data"
    }
   ],
   "source": [
    "res = results(dds)\n",
    "resOrdered = res[order(res$padj),]\n",
    "write.csv(as.data.frame(resOrdered),file=\"PA_deseq_results.csv\")\n",
    "resOrdered[0:20,]"
   ]
  },
  {
   "cell_type": "markdown",
   "metadata": {},
   "source": [
    "## Jurkat"
   ]
  },
  {
   "cell_type": "code",
   "execution_count": 11,
   "metadata": {},
   "outputs": [
    {
     "name": "stderr",
     "output_type": "stream",
     "text": [
      "converting counts to integer mode\n",
      "factor levels were dropped which had no samples\n"
     ]
    },
    {
     "data": {
      "text/html": [
       "<table>\n",
       "<thead><tr><th></th><th scope=col>Jurkat_sonic_1</th><th scope=col>Jurkat_sonic_2</th><th scope=col>Jurkat_sonic_3</th><th scope=col>Jurkat_triflic_1</th><th scope=col>Jurkat_triflic_2</th><th scope=col>Jurkat_triflic_3</th></tr></thead>\n",
       "<tbody>\n",
       "\t<tr><th scope=row>A0A024QZP7</th><td>0</td><td>0</td><td>6</td><td>0</td><td>0</td><td>0</td></tr>\n",
       "\t<tr><th scope=row>A0A024R571</th><td>4</td><td>6</td><td>6</td><td>6</td><td>5</td><td>2</td></tr>\n",
       "</tbody>\n",
       "</table>\n"
      ],
      "text/latex": [
       "\\begin{tabular}{r|llllll}\n",
       "  & Jurkat\\_sonic\\_1 & Jurkat\\_sonic\\_2 & Jurkat\\_sonic\\_3 & Jurkat\\_triflic\\_1 & Jurkat\\_triflic\\_2 & Jurkat\\_triflic\\_3\\\\\n",
       "\\hline\n",
       "\tA0A024QZP7 & 0 & 0 & 6 & 0 & 0 & 0\\\\\n",
       "\tA0A024R571 & 4 & 6 & 6 & 6 & 5 & 2\\\\\n",
       "\\end{tabular}\n"
      ],
      "text/markdown": [
       "\n",
       "| <!--/--> | Jurkat_sonic_1 | Jurkat_sonic_2 | Jurkat_sonic_3 | Jurkat_triflic_1 | Jurkat_triflic_2 | Jurkat_triflic_3 | \n",
       "|---|---|\n",
       "| A0A024QZP7 | 0 | 0 | 6 | 0 | 0 | 0 | \n",
       "| A0A024R571 | 4 | 6 | 6 | 6 | 5 | 2 | \n",
       "\n",
       "\n"
      ],
      "text/plain": [
       "           Jurkat_sonic_1 Jurkat_sonic_2 Jurkat_sonic_3 Jurkat_triflic_1\n",
       "A0A024QZP7 0              0              6              0               \n",
       "A0A024R571 4              6              6              6               \n",
       "           Jurkat_triflic_2 Jurkat_triflic_3\n",
       "A0A024QZP7 0                0               \n",
       "A0A024R571 5                2               "
      ]
     },
     "metadata": {},
     "output_type": "display_data"
    }
   ],
   "source": [
    "sampleTableX = sampleTable[sampleTable$cell==\"Jurkat\",]\n",
    "X = countData[,sampleTableX$name]\n",
    "X = X[ !apply(X, 1, function(x) all(is.na(x))), ]\n",
    "X[is.na(X)] = 0\n",
    "dds = DESeqDataSetFromMatrix(X, colData = sampleTableX, design = ~ method)\n",
    "dds <- dds[ rowSums(counts(dds)) > 1, ]\n",
    "counts(dds)[0:2,]"
   ]
  },
  {
   "cell_type": "code",
   "execution_count": 12,
   "metadata": {},
   "outputs": [
    {
     "name": "stderr",
     "output_type": "stream",
     "text": [
      "estimating size factors\n",
      "estimating dispersions\n",
      "gene-wise dispersion estimates\n",
      "mean-dispersion relationship\n",
      "final dispersion estimates\n",
      "fitting model and testing\n"
     ]
    },
    {
     "name": "stdout",
     "output_type": "stream",
     "text": [
      "\n",
      "out of 3762 with nonzero total read count\n",
      "adjusted p-value < 0.05\n",
      "LFC > 0 (up)     : 1, 0.027% \n",
      "LFC < 0 (down)   : 3, 0.08% \n",
      "outliers [1]     : 21, 0.56% \n",
      "low counts [2]   : 0, 0% \n",
      "(mean count < 0)\n",
      "[1] see 'cooksCutoff' argument of ?results\n",
      "[2] see 'independentFiltering' argument of ?results\n",
      "\n"
     ]
    }
   ],
   "source": [
    "dds = DESeq(dds)\n",
    "res = results(dds, alpha=0.05)\n",
    "summary(res)"
   ]
  },
  {
   "cell_type": "code",
   "execution_count": 13,
   "metadata": {},
   "outputs": [
    {
     "data": {
      "text/plain": [
       "log2 fold change (MLE): method triflic vs sonic \n",
       "Wald test p-value: method triflic vs sonic \n",
       "DataFrame with 20 rows and 6 columns\n",
       "         baseMean log2FoldChange     lfcSE      stat       pvalue         padj\n",
       "        <numeric>      <numeric> <numeric> <numeric>    <numeric>    <numeric>\n",
       "Q7L7L0   14.96284      21.119766  2.639980  7.999971 1.244482e-15 7.529118e-13\n",
       "Q9BVA1  104.95902      -9.760905  1.898270 -5.142000 2.718287e-07 8.222820e-05\n",
       "E9PQB7   66.68883      -9.106470  1.966888 -4.629888 3.658638e-06 7.378254e-04\n",
       "P04075   44.71724      -8.529565  1.920428 -4.441493 8.933700e-06 1.351222e-03\n",
       "F5GWF6   12.16857       7.478029  1.995229  3.747955 1.782824e-04 1.797681e-02\n",
       "...           ...            ...       ...       ...          ...          ...\n",
       "M0R2I7  25.463798       4.306838  1.497472  2.876073  0.004026561    0.1595409\n",
       "Q02750   7.892063      -6.023802  2.114809 -2.848391  0.004394092    0.1595409\n",
       "Q13011   7.205527      -5.894681  2.093613 -2.815555  0.004869311    0.1636629\n",
       "E5RG95  11.546624      -6.575079  2.355784 -2.791036  0.005253965    0.1672973\n",
       "B4DNK4 287.912261      -3.425256  1.258101 -2.722561  0.006477805    0.1866225"
      ]
     },
     "metadata": {},
     "output_type": "display_data"
    }
   ],
   "source": [
    "res = results(dds)\n",
    "resOrdered = res[order(res$padj),]\n",
    "write.csv(as.data.frame(resOrdered),file=\"Jurkat_deseq_results.csv\")\n",
    "resOrdered[0:20,]"
   ]
  }
 ],
 "metadata": {
  "kernelspec": {
   "display_name": "R",
   "language": "R",
   "name": "ir"
  },
  "language_info": {
   "codemirror_mode": "r",
   "file_extension": ".r",
   "mimetype": "text/x-r-source",
   "name": "R",
   "pygments_lexer": "r",
   "version": "3.4.0"
  }
 },
 "nbformat": 4,
 "nbformat_minor": 2
}
