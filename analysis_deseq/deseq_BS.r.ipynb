{
 "cells": [
  {
   "cell_type": "code",
   "execution_count": 1,
   "metadata": {},
   "outputs": [
    {
     "data": {
      "text/plain": [
       "R version 3.4.3 (2017-11-30)\n",
       "Platform: x86_64-pc-linux-gnu (64-bit)\n",
       "Running under: Ubuntu 16.04.3 LTS\n",
       "\n",
       "Matrix products: default\n",
       "BLAS: /usr/lib/libblas/libblas.so.3.6.0\n",
       "LAPACK: /usr/lib/lapack/liblapack.so.3.6.0\n",
       "\n",
       "locale:\n",
       " [1] LC_CTYPE=en_US.UTF-8       LC_NUMERIC=C              \n",
       " [3] LC_TIME=en_US.UTF-8        LC_COLLATE=en_US.UTF-8    \n",
       " [5] LC_MONETARY=en_US.UTF-8    LC_MESSAGES=en_US.UTF-8   \n",
       " [7] LC_PAPER=en_US.UTF-8       LC_NAME=C                 \n",
       " [9] LC_ADDRESS=C               LC_TELEPHONE=C            \n",
       "[11] LC_MEASUREMENT=en_US.UTF-8 LC_IDENTIFICATION=C       \n",
       "\n",
       "attached base packages:\n",
       "[1] stats     graphics  grDevices utils     datasets  methods   base     \n",
       "\n",
       "loaded via a namespace (and not attached):\n",
       " [1] compiler_3.4.3      R6_2.2.2            magrittr_1.5       \n",
       " [4] IRdisplay_0.4.4     pbdZMQ_0.2-6        tools_3.4.3        \n",
       " [7] crayon_1.3.4        uuid_0.1-2          stringi_1.1.6      \n",
       "[10] IRkernel_0.8.6.9000 jsonlite_1.5        stringr_1.2.0      \n",
       "[13] digest_0.6.12       repr_0.12.0         evaluate_0.10.1    "
      ]
     },
     "metadata": {},
     "output_type": "display_data"
    }
   ],
   "source": [
    "sessionInfo()"
   ]
  },
  {
   "cell_type": "code",
   "execution_count": 2,
   "metadata": {},
   "outputs": [
    {
     "name": "stderr",
     "output_type": "stream",
     "text": [
      "Loading required package: S4Vectors\n",
      "Loading required package: stats4\n",
      "Loading required package: BiocGenerics\n",
      "Loading required package: parallel\n",
      "\n",
      "Attaching package: ‘BiocGenerics’\n",
      "\n",
      "The following objects are masked from ‘package:parallel’:\n",
      "\n",
      "    clusterApply, clusterApplyLB, clusterCall, clusterEvalQ,\n",
      "    clusterExport, clusterMap, parApply, parCapply, parLapply,\n",
      "    parLapplyLB, parRapply, parSapply, parSapplyLB\n",
      "\n",
      "The following objects are masked from ‘package:stats’:\n",
      "\n",
      "    IQR, mad, sd, var, xtabs\n",
      "\n",
      "The following objects are masked from ‘package:base’:\n",
      "\n",
      "    anyDuplicated, append, as.data.frame, cbind, colMeans, colnames,\n",
      "    colSums, do.call, duplicated, eval, evalq, Filter, Find, get, grep,\n",
      "    grepl, intersect, is.unsorted, lapply, lengths, Map, mapply, match,\n",
      "    mget, order, paste, pmax, pmax.int, pmin, pmin.int, Position, rank,\n",
      "    rbind, Reduce, rowMeans, rownames, rowSums, sapply, setdiff, sort,\n",
      "    table, tapply, union, unique, unsplit, which, which.max, which.min\n",
      "\n",
      "\n",
      "Attaching package: ‘S4Vectors’\n",
      "\n",
      "The following object is masked from ‘package:base’:\n",
      "\n",
      "    expand.grid\n",
      "\n",
      "Loading required package: IRanges\n",
      "Loading required package: GenomicRanges\n",
      "Loading required package: GenomeInfoDb\n",
      "Loading required package: SummarizedExperiment\n",
      "Loading required package: Biobase\n",
      "Welcome to Bioconductor\n",
      "\n",
      "    Vignettes contain introductory material; view with\n",
      "    'browseVignettes()'. To cite Bioconductor, see\n",
      "    'citation(\"Biobase\")', and for packages 'citation(\"pkgname\")'.\n",
      "\n",
      "Loading required package: DelayedArray\n",
      "Loading required package: matrixStats\n",
      "\n",
      "Attaching package: ‘matrixStats’\n",
      "\n",
      "The following objects are masked from ‘package:Biobase’:\n",
      "\n",
      "    anyMissing, rowMedians\n",
      "\n",
      "\n",
      "Attaching package: ‘DelayedArray’\n",
      "\n",
      "The following objects are masked from ‘package:matrixStats’:\n",
      "\n",
      "    colMaxs, colMins, colRanges, rowMaxs, rowMins, rowRanges\n",
      "\n",
      "The following object is masked from ‘package:base’:\n",
      "\n",
      "    apply\n",
      "\n"
     ]
    }
   ],
   "source": [
    "library(\"DESeq2\")"
   ]
  },
  {
   "cell_type": "code",
   "execution_count": 3,
   "metadata": {},
   "outputs": [],
   "source": [
    "setwd(\"/home/gstupp/projects/Wolan/ana_extractions/analysis/analysis_deseq\")"
   ]
  },
  {
   "cell_type": "code",
   "execution_count": 4,
   "metadata": {},
   "outputs": [],
   "source": [
    "file_path = \"X.csv\"\n",
    "countData = read.csv(file_path, row.names = 1)"
   ]
  },
  {
   "cell_type": "code",
   "execution_count": 5,
   "metadata": {},
   "outputs": [
    {
     "data": {
      "text/html": [
       "<table>\n",
       "<thead><tr><th></th><th scope=col>cell</th><th scope=col>file</th><th scope=col>method</th><th scope=col>name.1</th><th scope=col>pretty_name</th></tr></thead>\n",
       "<tbody>\n",
       "\t<tr><th scope=row>BS_pellet_1</th><td>BS                              </td><td>data/BS/Pellet/BS pellet 1.txt  </td><td>pellet                          </td><td>BS_pellet_1                     </td><td>BS pellet 1                     </td></tr>\n",
       "\t<tr><th scope=row>BS_pellet_2</th><td>BS                              </td><td>data/BS/Pellet/BS pellet 2.txt  </td><td>pellet                          </td><td>BS_pellet_2                     </td><td>BS pellet 2                     </td></tr>\n",
       "\t<tr><th scope=row>BS_pellet_3</th><td>BS                              </td><td>data/BS/Pellet/BS pellet 3.txt  </td><td>pellet                          </td><td>BS_pellet_3                     </td><td>BS pellet 3                     </td></tr>\n",
       "\t<tr><th scope=row>BS_sonic_1</th><td>BS                              </td><td>data/BS/Sonic/BS sonic 1.txt    </td><td>sonic                           </td><td>BS_sonic_1                      </td><td>BS sonic 1                      </td></tr>\n",
       "\t<tr><th scope=row>BS_sonic_2</th><td>BS                              </td><td>data/BS/Sonic/BS sonic 2.txt    </td><td>sonic                           </td><td>BS_sonic_2                      </td><td>BS sonic 2                      </td></tr>\n",
       "\t<tr><th scope=row>BS_sonic_3</th><td>BS                              </td><td>data/BS/Sonic/BS sonic 3.txt    </td><td>sonic                           </td><td>BS_sonic_3                      </td><td>BS sonic 3                      </td></tr>\n",
       "\t<tr><th scope=row>BS_triflic_1</th><td>BS                              </td><td>data/BS/Triflic/BS triflic 1.txt</td><td>triflic                         </td><td>BS_triflic_1                    </td><td>BS triflic 1                    </td></tr>\n",
       "\t<tr><th scope=row>BS_triflic_2</th><td>BS                              </td><td>data/BS/Triflic/BS triflic 2.txt</td><td>triflic                         </td><td>BS_triflic_2                    </td><td>BS triflic 2                    </td></tr>\n",
       "\t<tr><th scope=row>BS_triflic_3</th><td>BS                              </td><td>data/BS/Triflic/BS triflic 3.txt</td><td>triflic                         </td><td>BS_triflic_3                    </td><td>BS triflic 3                    </td></tr>\n",
       "</tbody>\n",
       "</table>\n"
      ],
      "text/latex": [
       "\\begin{tabular}{r|lllll}\n",
       "  & cell & file & method & name.1 & pretty\\_name\\\\\n",
       "\\hline\n",
       "\tBS\\_pellet\\_1 & BS                               & data/BS/Pellet/BS pellet 1.txt   & pellet                           & BS\\_pellet\\_1                  & BS pellet 1                     \\\\\n",
       "\tBS\\_pellet\\_2 & BS                               & data/BS/Pellet/BS pellet 2.txt   & pellet                           & BS\\_pellet\\_2                  & BS pellet 2                     \\\\\n",
       "\tBS\\_pellet\\_3 & BS                               & data/BS/Pellet/BS pellet 3.txt   & pellet                           & BS\\_pellet\\_3                  & BS pellet 3                     \\\\\n",
       "\tBS\\_sonic\\_1 & BS                               & data/BS/Sonic/BS sonic 1.txt     & sonic                            & BS\\_sonic\\_1                   & BS sonic 1                      \\\\\n",
       "\tBS\\_sonic\\_2 & BS                               & data/BS/Sonic/BS sonic 2.txt     & sonic                            & BS\\_sonic\\_2                   & BS sonic 2                      \\\\\n",
       "\tBS\\_sonic\\_3 & BS                               & data/BS/Sonic/BS sonic 3.txt     & sonic                            & BS\\_sonic\\_3                   & BS sonic 3                      \\\\\n",
       "\tBS\\_triflic\\_1 & BS                               & data/BS/Triflic/BS triflic 1.txt & triflic                          & BS\\_triflic\\_1                 & BS triflic 1                    \\\\\n",
       "\tBS\\_triflic\\_2 & BS                               & data/BS/Triflic/BS triflic 2.txt & triflic                          & BS\\_triflic\\_2                 & BS triflic 2                    \\\\\n",
       "\tBS\\_triflic\\_3 & BS                               & data/BS/Triflic/BS triflic 3.txt & triflic                          & BS\\_triflic\\_3                 & BS triflic 3                    \\\\\n",
       "\\end{tabular}\n"
      ],
      "text/markdown": [
       "\n",
       "| <!--/--> | cell | file | method | name.1 | pretty_name | \n",
       "|---|---|---|---|---|---|---|---|---|\n",
       "| BS_pellet_1 | BS                               | data/BS/Pellet/BS pellet 1.txt   | pellet                           | BS_pellet_1                      | BS pellet 1                      | \n",
       "| BS_pellet_2 | BS                               | data/BS/Pellet/BS pellet 2.txt   | pellet                           | BS_pellet_2                      | BS pellet 2                      | \n",
       "| BS_pellet_3 | BS                               | data/BS/Pellet/BS pellet 3.txt   | pellet                           | BS_pellet_3                      | BS pellet 3                      | \n",
       "| BS_sonic_1 | BS                               | data/BS/Sonic/BS sonic 1.txt     | sonic                            | BS_sonic_1                       | BS sonic 1                       | \n",
       "| BS_sonic_2 | BS                               | data/BS/Sonic/BS sonic 2.txt     | sonic                            | BS_sonic_2                       | BS sonic 2                       | \n",
       "| BS_sonic_3 | BS                               | data/BS/Sonic/BS sonic 3.txt     | sonic                            | BS_sonic_3                       | BS sonic 3                       | \n",
       "| BS_triflic_1 | BS                               | data/BS/Triflic/BS triflic 1.txt | triflic                          | BS_triflic_1                     | BS triflic 1                     | \n",
       "| BS_triflic_2 | BS                               | data/BS/Triflic/BS triflic 2.txt | triflic                          | BS_triflic_2                     | BS triflic 2                     | \n",
       "| BS_triflic_3 | BS                               | data/BS/Triflic/BS triflic 3.txt | triflic                          | BS_triflic_3                     | BS triflic 3                     | \n",
       "\n",
       "\n"
      ],
      "text/plain": [
       "             cell file                             method  name.1      \n",
       "BS_pellet_1  BS   data/BS/Pellet/BS pellet 1.txt   pellet  BS_pellet_1 \n",
       "BS_pellet_2  BS   data/BS/Pellet/BS pellet 2.txt   pellet  BS_pellet_2 \n",
       "BS_pellet_3  BS   data/BS/Pellet/BS pellet 3.txt   pellet  BS_pellet_3 \n",
       "BS_sonic_1   BS   data/BS/Sonic/BS sonic 1.txt     sonic   BS_sonic_1  \n",
       "BS_sonic_2   BS   data/BS/Sonic/BS sonic 2.txt     sonic   BS_sonic_2  \n",
       "BS_sonic_3   BS   data/BS/Sonic/BS sonic 3.txt     sonic   BS_sonic_3  \n",
       "BS_triflic_1 BS   data/BS/Triflic/BS triflic 1.txt triflic BS_triflic_1\n",
       "BS_triflic_2 BS   data/BS/Triflic/BS triflic 2.txt triflic BS_triflic_2\n",
       "BS_triflic_3 BS   data/BS/Triflic/BS triflic 3.txt triflic BS_triflic_3\n",
       "             pretty_name \n",
       "BS_pellet_1  BS pellet 1 \n",
       "BS_pellet_2  BS pellet 2 \n",
       "BS_pellet_3  BS pellet 3 \n",
       "BS_sonic_1   BS sonic 1  \n",
       "BS_sonic_2   BS sonic 2  \n",
       "BS_sonic_3   BS sonic 3  \n",
       "BS_triflic_1 BS triflic 1\n",
       "BS_triflic_2 BS triflic 2\n",
       "BS_triflic_3 BS triflic 3"
      ]
     },
     "metadata": {},
     "output_type": "display_data"
    }
   ],
   "source": [
    "meta_path = \"metadata.csv\"\n",
    "sampleTable = read.csv(meta_path, row.names = 1)\n",
    "sampleTable = sampleTable[colnames(countData),]\n",
    "sampleTable$cell = factor(sampleTable$cell)\n",
    "sampleTable$method = factor(sampleTable$method)\n",
    "sampleTable$method <- relevel(sampleTable$method, ref=\"sonic\")\n",
    "sampleTable = sampleTable[sampleTable$cell == \"BS\",]\n",
    "sampleTable"
   ]
  },
  {
   "cell_type": "markdown",
   "metadata": {},
   "source": [
    "## pellet vs sonic"
   ]
  },
  {
   "cell_type": "code",
   "execution_count": 6,
   "metadata": {},
   "outputs": [
    {
     "name": "stderr",
     "output_type": "stream",
     "text": [
      "converting counts to integer mode\n",
      "factor levels were dropped which had no samples\n"
     ]
    },
    {
     "data": {
      "text/html": [
       "<table>\n",
       "<thead><tr><th></th><th scope=col>BS_pellet_1</th><th scope=col>BS_pellet_2</th><th scope=col>BS_pellet_3</th><th scope=col>BS_sonic_1</th><th scope=col>BS_sonic_2</th><th scope=col>BS_sonic_3</th></tr></thead>\n",
       "<tbody>\n",
       "\t<tr><th scope=row>C0H3V2</th><td>7</td><td>6</td><td>0</td><td>4</td><td>7</td><td>5</td></tr>\n",
       "\t<tr><th scope=row>C0H3V3</th><td>0</td><td>0</td><td>0</td><td>6</td><td>6</td><td>9</td></tr>\n",
       "</tbody>\n",
       "</table>\n"
      ],
      "text/latex": [
       "\\begin{tabular}{r|llllll}\n",
       "  & BS\\_pellet\\_1 & BS\\_pellet\\_2 & BS\\_pellet\\_3 & BS\\_sonic\\_1 & BS\\_sonic\\_2 & BS\\_sonic\\_3\\\\\n",
       "\\hline\n",
       "\tC0H3V2 & 7 & 6 & 0 & 4 & 7 & 5\\\\\n",
       "\tC0H3V3 & 0 & 0 & 0 & 6 & 6 & 9\\\\\n",
       "\\end{tabular}\n"
      ],
      "text/markdown": [
       "\n",
       "| <!--/--> | BS_pellet_1 | BS_pellet_2 | BS_pellet_3 | BS_sonic_1 | BS_sonic_2 | BS_sonic_3 | \n",
       "|---|---|\n",
       "| C0H3V2 | 7 | 6 | 0 | 4 | 7 | 5 | \n",
       "| C0H3V3 | 0 | 0 | 0 | 6 | 6 | 9 | \n",
       "\n",
       "\n"
      ],
      "text/plain": [
       "       BS_pellet_1 BS_pellet_2 BS_pellet_3 BS_sonic_1 BS_sonic_2 BS_sonic_3\n",
       "C0H3V2 7           6           0           4          7          5         \n",
       "C0H3V3 0           0           0           6          6          9         "
      ]
     },
     "metadata": {},
     "output_type": "display_data"
    }
   ],
   "source": [
    "sampleTableX = sampleTable[sampleTable$method %in% c(\"pellet\", \"sonic\"),]\n",
    "sampleTableX$method <- relevel(sampleTableX$method, ref=\"sonic\")\n",
    "X = countData[,sampleTableX$name]\n",
    "X = X[ !apply(X, 1, function(x) all(is.na(x))), ]\n",
    "X[is.na(X)] = 0\n",
    "dds = DESeqDataSetFromMatrix(X, colData = sampleTableX, design = ~ method)\n",
    "dds <- dds[ rowSums(counts(dds)) > 2, ]\n",
    "counts(dds)[0:2,]"
   ]
  },
  {
   "cell_type": "code",
   "execution_count": 7,
   "metadata": {},
   "outputs": [
    {
     "name": "stderr",
     "output_type": "stream",
     "text": [
      "estimating size factors\n",
      "estimating dispersions\n",
      "gene-wise dispersion estimates\n",
      "mean-dispersion relationship\n",
      "final dispersion estimates\n",
      "fitting model and testing\n"
     ]
    },
    {
     "name": "stdout",
     "output_type": "stream",
     "text": [
      "\n",
      "out of 1343 with nonzero total read count\n",
      "adjusted p-value < 0.05\n",
      "LFC > 0 (up)     : 230, 17% \n",
      "LFC < 0 (down)   : 281, 21% \n",
      "outliers [1]     : 1, 0.074% \n",
      "low counts [2]   : 313, 23% \n",
      "(mean count < 2)\n",
      "[1] see 'cooksCutoff' argument of ?results\n",
      "[2] see 'independentFiltering' argument of ?results\n",
      "\n"
     ]
    }
   ],
   "source": [
    "dds = DESeq(dds)\n",
    "res = results(dds, alpha = .05)\n",
    "summary(res)"
   ]
  },
  {
   "cell_type": "code",
   "execution_count": 8,
   "metadata": {},
   "outputs": [
    {
     "data": {
      "text/plain": [
       "log2 fold change (MLE): method pellet vs sonic \n",
       "Wald test p-value: method pellet vs sonic \n",
       "DataFrame with 10 rows and 6 columns\n",
       "         baseMean log2FoldChange     lfcSE       stat       pvalue         padj\n",
       "        <numeric>      <numeric> <numeric>  <numeric>    <numeric>    <numeric>\n",
       "P0CI73 1016.87614       8.287335 0.5165420  16.043873 6.309428e-58 7.148582e-55\n",
       "P80239  784.88138      -5.571691 0.4826964 -11.542850 8.022272e-31 4.544617e-28\n",
       "P26901  286.77461      -4.577485 0.4093435 -11.182505 4.966767e-29 1.875782e-26\n",
       "P94391  188.81702      -5.561682 0.5128413 -10.844841 2.110014e-27 5.976613e-25\n",
       "P37877  643.54919       5.014317 0.4834979  10.370918 3.362787e-25 7.620075e-23\n",
       "P21472  197.54342       6.415380 0.6806517   9.425349 4.286789e-21 8.094887e-19\n",
       "O31629  147.11204      -7.974936 0.8707598  -9.158594 5.257802e-20 8.510129e-18\n",
       "P54484  336.97508      11.643915 1.3360740   8.715023 2.906996e-18 4.117033e-16\n",
       "P40924  622.55961       3.954160 0.4583640   8.626681 6.315827e-18 7.950924e-16\n",
       "P54531   92.74637      -6.709464 0.7810964  -8.589803 8.711867e-18 9.870546e-16"
      ]
     },
     "metadata": {},
     "output_type": "display_data"
    }
   ],
   "source": [
    "res = results(dds)\n",
    "resOrdered = res[order(res$padj),]\n",
    "write.csv(as.data.frame(resOrdered),file=\"BS_deseq_results_pellet_sonic.csv\")\n",
    "resOrdered[0:10,]"
   ]
  },
  {
   "cell_type": "markdown",
   "metadata": {},
   "source": [
    "## whole (triflic) vs sonic"
   ]
  },
  {
   "cell_type": "code",
   "execution_count": 9,
   "metadata": {},
   "outputs": [
    {
     "name": "stderr",
     "output_type": "stream",
     "text": [
      "converting counts to integer mode\n",
      "factor levels were dropped which had no samples\n"
     ]
    },
    {
     "data": {
      "text/html": [
       "<table>\n",
       "<thead><tr><th></th><th scope=col>BS_sonic_1</th><th scope=col>BS_sonic_2</th><th scope=col>BS_sonic_3</th><th scope=col>BS_triflic_1</th><th scope=col>BS_triflic_2</th><th scope=col>BS_triflic_3</th></tr></thead>\n",
       "<tbody>\n",
       "\t<tr><th scope=row>C0H3V2</th><td>4</td><td>7</td><td>5</td><td>0</td><td>3</td><td>4</td></tr>\n",
       "\t<tr><th scope=row>C0H3V3</th><td>6</td><td>6</td><td>9</td><td>0</td><td>0</td><td>0</td></tr>\n",
       "</tbody>\n",
       "</table>\n"
      ],
      "text/latex": [
       "\\begin{tabular}{r|llllll}\n",
       "  & BS\\_sonic\\_1 & BS\\_sonic\\_2 & BS\\_sonic\\_3 & BS\\_triflic\\_1 & BS\\_triflic\\_2 & BS\\_triflic\\_3\\\\\n",
       "\\hline\n",
       "\tC0H3V2 & 4 & 7 & 5 & 0 & 3 & 4\\\\\n",
       "\tC0H3V3 & 6 & 6 & 9 & 0 & 0 & 0\\\\\n",
       "\\end{tabular}\n"
      ],
      "text/markdown": [
       "\n",
       "| <!--/--> | BS_sonic_1 | BS_sonic_2 | BS_sonic_3 | BS_triflic_1 | BS_triflic_2 | BS_triflic_3 | \n",
       "|---|---|\n",
       "| C0H3V2 | 4 | 7 | 5 | 0 | 3 | 4 | \n",
       "| C0H3V3 | 6 | 6 | 9 | 0 | 0 | 0 | \n",
       "\n",
       "\n"
      ],
      "text/plain": [
       "       BS_sonic_1 BS_sonic_2 BS_sonic_3 BS_triflic_1 BS_triflic_2 BS_triflic_3\n",
       "C0H3V2 4          7          5          0            3            4           \n",
       "C0H3V3 6          6          9          0            0            0           "
      ]
     },
     "metadata": {},
     "output_type": "display_data"
    }
   ],
   "source": [
    "sampleTableX = sampleTable[sampleTable$method %in% c(\"triflic\", \"sonic\"),]\n",
    "sampleTableX$method <- relevel(sampleTableX$method, ref=\"sonic\")\n",
    "X = countData[,sampleTableX$name]\n",
    "X = X[ !apply(X, 1, function(x) all(is.na(x))), ]\n",
    "X[is.na(X)] = 0\n",
    "dds = DESeqDataSetFromMatrix(X, colData = sampleTableX, design = ~ method)\n",
    "dds <- dds[ rowSums(counts(dds)) > 2, ]\n",
    "counts(dds)[0:2,]"
   ]
  },
  {
   "cell_type": "code",
   "execution_count": 10,
   "metadata": {},
   "outputs": [
    {
     "name": "stderr",
     "output_type": "stream",
     "text": [
      "estimating size factors\n",
      "estimating dispersions\n",
      "gene-wise dispersion estimates\n",
      "mean-dispersion relationship\n",
      "final dispersion estimates\n",
      "fitting model and testing\n"
     ]
    },
    {
     "name": "stdout",
     "output_type": "stream",
     "text": [
      "\n",
      "out of 1372 with nonzero total read count\n",
      "adjusted p-value < 0.05\n",
      "LFC > 0 (up)     : 218, 16% \n",
      "LFC < 0 (down)   : 184, 13% \n",
      "outliers [1]     : 0, 0% \n",
      "low counts [2]   : 372, 27% \n",
      "(mean count < 2)\n",
      "[1] see 'cooksCutoff' argument of ?results\n",
      "[2] see 'independentFiltering' argument of ?results\n",
      "\n"
     ]
    }
   ],
   "source": [
    "dds = DESeq(dds)\n",
    "res = results(dds, alpha = .05)\n",
    "summary(res)"
   ]
  },
  {
   "cell_type": "code",
   "execution_count": 11,
   "metadata": {},
   "outputs": [
    {
     "data": {
      "text/plain": [
       "log2 fold change (MLE): method triflic vs sonic \n",
       "Wald test p-value: method triflic vs sonic \n",
       "DataFrame with 10 rows and 6 columns\n",
       "        baseMean log2FoldChange     lfcSE       stat       pvalue         padj\n",
       "       <numeric>      <numeric> <numeric>  <numeric>    <numeric>    <numeric>\n",
       "P80239 747.56812      -4.366607 0.2995649 -14.576497 3.963404e-48 4.383525e-45\n",
       "P54375 329.40898       5.712140 0.4374335  13.058305 5.698257e-39 3.151136e-36\n",
       "P0CI73 174.45328       5.838238 0.4573601  12.765081 2.568842e-37 9.470464e-35\n",
       "P26901 280.45142      -3.304884 0.2700305 -12.238929 1.925572e-34 5.324205e-32\n",
       "P94391 180.93869      -4.243002 0.3568728 -11.889396 1.343752e-32 2.972380e-30\n",
       "O31629 142.02418      -4.250859 0.3890345 -10.926688 8.592760e-28 1.583932e-25\n",
       "P71011 137.71276       3.392503 0.3266211  10.386665 2.851509e-25 4.505385e-23\n",
       "P36945  74.15080      -4.524877 0.5200450  -8.700934 3.291646e-18 4.550700e-16\n",
       "P40332  68.16917      -4.822504 0.5731659  -8.413801 3.969325e-17 4.877860e-15\n",
       "O34926 117.39226      10.237622 1.2211379   8.383674 5.130073e-17 5.673861e-15"
      ]
     },
     "metadata": {},
     "output_type": "display_data"
    }
   ],
   "source": [
    "res = results(dds)\n",
    "resOrdered = res[order(res$padj),]\n",
    "write.csv(as.data.frame(resOrdered),file=\"BS_deseq_results_triflic_sonic.csv\")\n",
    "resOrdered[0:10,]"
   ]
  },
  {
   "cell_type": "markdown",
   "metadata": {},
   "source": [
    "## Pellet vs. Whole cell (triflic)"
   ]
  },
  {
   "cell_type": "code",
   "execution_count": 12,
   "metadata": {},
   "outputs": [
    {
     "name": "stderr",
     "output_type": "stream",
     "text": [
      "converting counts to integer mode\n",
      "factor levels were dropped which had no samples\n"
     ]
    },
    {
     "data": {
      "text/html": [
       "<table>\n",
       "<thead><tr><th></th><th scope=col>BS_pellet_1</th><th scope=col>BS_pellet_2</th><th scope=col>BS_pellet_3</th><th scope=col>BS_triflic_1</th><th scope=col>BS_triflic_2</th><th scope=col>BS_triflic_3</th></tr></thead>\n",
       "<tbody>\n",
       "\t<tr><th scope=row>C0H3V2</th><td>7</td><td>6</td><td>0</td><td>0</td><td>3</td><td>4</td></tr>\n",
       "\t<tr><th scope=row>C0H3Y1</th><td>0</td><td>2</td><td>0</td><td>2</td><td>0</td><td>4</td></tr>\n",
       "</tbody>\n",
       "</table>\n"
      ],
      "text/latex": [
       "\\begin{tabular}{r|llllll}\n",
       "  & BS\\_pellet\\_1 & BS\\_pellet\\_2 & BS\\_pellet\\_3 & BS\\_triflic\\_1 & BS\\_triflic\\_2 & BS\\_triflic\\_3\\\\\n",
       "\\hline\n",
       "\tC0H3V2 & 7 & 6 & 0 & 0 & 3 & 4\\\\\n",
       "\tC0H3Y1 & 0 & 2 & 0 & 2 & 0 & 4\\\\\n",
       "\\end{tabular}\n"
      ],
      "text/markdown": [
       "\n",
       "| <!--/--> | BS_pellet_1 | BS_pellet_2 | BS_pellet_3 | BS_triflic_1 | BS_triflic_2 | BS_triflic_3 | \n",
       "|---|---|\n",
       "| C0H3V2 | 7 | 6 | 0 | 0 | 3 | 4 | \n",
       "| C0H3Y1 | 0 | 2 | 0 | 2 | 0 | 4 | \n",
       "\n",
       "\n"
      ],
      "text/plain": [
       "       BS_pellet_1 BS_pellet_2 BS_pellet_3 BS_triflic_1 BS_triflic_2\n",
       "C0H3V2 7           6           0           0            3           \n",
       "C0H3Y1 0           2           0           2            0           \n",
       "       BS_triflic_3\n",
       "C0H3V2 4           \n",
       "C0H3Y1 4           "
      ]
     },
     "metadata": {},
     "output_type": "display_data"
    }
   ],
   "source": [
    "sampleTableX = sampleTable[sampleTable$method %in% c(\"pellet\", \"triflic\"),]\n",
    "sampleTableX$method <- relevel(sampleTableX$method, ref=\"triflic\")\n",
    "X = countData[,sampleTableX$name]\n",
    "X = X[ !apply(X, 1, function(x) all(is.na(x))), ]\n",
    "X[is.na(X)] = 0\n",
    "dds = DESeqDataSetFromMatrix(X, colData = sampleTableX, design = ~ method)\n",
    "dds <- dds[ rowSums(counts(dds)) > 2, ]\n",
    "counts(dds)[0:2,]"
   ]
  },
  {
   "cell_type": "code",
   "execution_count": 13,
   "metadata": {},
   "outputs": [
    {
     "name": "stderr",
     "output_type": "stream",
     "text": [
      "estimating size factors\n",
      "estimating dispersions\n",
      "gene-wise dispersion estimates\n",
      "mean-dispersion relationship\n",
      "final dispersion estimates\n",
      "fitting model and testing\n"
     ]
    },
    {
     "name": "stdout",
     "output_type": "stream",
     "text": [
      "\n",
      "out of 1299 with nonzero total read count\n",
      "adjusted p-value < 0.05\n",
      "LFC > 0 (up)     : 57, 4.4% \n",
      "LFC < 0 (down)   : 50, 3.8% \n",
      "outliers [1]     : 1, 0.077% \n",
      "low counts [2]   : 479, 37% \n",
      "(mean count < 3)\n",
      "[1] see 'cooksCutoff' argument of ?results\n",
      "[2] see 'independentFiltering' argument of ?results\n",
      "\n"
     ]
    }
   ],
   "source": [
    "dds = DESeq(dds)\n",
    "res = results(dds, alpha = .05)\n",
    "summary(res)"
   ]
  },
  {
   "cell_type": "code",
   "execution_count": 14,
   "metadata": {},
   "outputs": [
    {
     "data": {
      "text/plain": [
       "log2 fold change (MLE): method pellet vs triflic \n",
       "Wald test p-value: method pellet vs triflic \n",
       "DataFrame with 10 rows and 6 columns\n",
       "         baseMean log2FoldChange     lfcSE      stat       pvalue         padj\n",
       "        <numeric>      <numeric> <numeric> <numeric>    <numeric>    <numeric>\n",
       "P0CI73 1309.28428       2.606562 0.3679103  7.084775 1.392708e-12 1.281291e-09\n",
       "P37877  760.39567       3.381229 0.4864470  6.950869 3.630433e-12 1.669999e-09\n",
       "P21472  222.45513       4.766075 0.6925537  6.881885 5.906571e-12 1.811348e-09\n",
       "P54484  399.66360       3.799919 0.6308814  6.023190 1.710129e-09 3.933296e-07\n",
       "O32028  190.33441       3.239593 0.6234571  5.196177 2.034286e-07 3.743086e-05\n",
       "P39646   54.39517      -2.846921 0.5539291 -5.139504 2.754647e-07 4.223792e-05\n",
       "P39751   92.34581       2.227227 0.4637449  4.802698 1.565418e-06 2.012324e-04\n",
       "P70965  285.49752       2.338043 0.4890938  4.780356 1.749847e-06 2.012324e-04\n",
       "P39912  273.86010       2.451613 0.5198214  4.716260 2.402194e-06 2.455576e-04\n",
       "P39148  356.50149       2.121164 0.4628761  4.582574 4.592879e-06 4.225449e-04"
      ]
     },
     "metadata": {},
     "output_type": "display_data"
    }
   ],
   "source": [
    "res = results(dds)\n",
    "resOrdered = res[order(res$padj),]\n",
    "write.csv(as.data.frame(resOrdered),file=\"BS_deseq_results_pellet_triflic.csv\")\n",
    "resOrdered[0:10,]"
   ]
  }
 ],
 "metadata": {
  "kernelspec": {
   "display_name": "R",
   "language": "R",
   "name": "ir"
  },
  "language_info": {
   "codemirror_mode": "r",
   "file_extension": ".r",
   "mimetype": "text/x-r-source",
   "name": "R",
   "pygments_lexer": "r",
   "version": "3.4.3"
  }
 },
 "nbformat": 4,
 "nbformat_minor": 2
}
